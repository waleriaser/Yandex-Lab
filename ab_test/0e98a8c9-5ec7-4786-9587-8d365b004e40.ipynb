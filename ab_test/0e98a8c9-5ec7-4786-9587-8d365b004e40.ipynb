{
 "cells": [
  {
   "cell_type": "markdown",
   "metadata": {},
   "source": [
    "**Цель работы:** Приоритизировать гипотезы для увеличения выручки, запустить A/B-тест и проанализировать результаты.\n",
    "\n",
    "Описание данных:\n",
    "\n",
    "Файл /datasets/hypothesis.csv\n",
    "1. Hypothesis — краткое описание гипотезы\n",
    "2. Reach — охват пользователей по 10-балльной шкале\n",
    "3. Impact — влияние на пользователей по 10-балльной шкале\n",
    "4. Confidence — уверенность в гипотезе по 10-балльной шкале\n",
    "5. Efforts — затраты ресурсов на проверку гипотезы по 10-балльной шкале. Чем больше значение Efforts, тем дороже проверка гипотезы.\n",
    "\n",
    "Файл /datasets/orders.csv\n",
    "1. transactionId — идентификатор заказа\n",
    "2. visitorId — идентификатор пользователя, совершившего заказ\n",
    "3. date — дата, когда был совершён заказ\n",
    "4. revenue — выручка заказа\n",
    "5. group — группа A/B-теста, в которую попал заказ\n",
    "\n",
    "Файл /datasets/visitors.csv\n",
    "1. date — дата\n",
    "2. group — группа A/B-теста\n",
    "3. visitors — количество пользователей в указанную дату в указанной группе A/B-теста\n",
    "\n",
    "**План работы:**\n",
    "\n",
    "1. Открываем файл с данными и изучаем общую информацию\n",
    "2. Подготавливаем данные\n",
    "3. Приоритизируем гипотезы\n",
    "4. Проводим анализ А/В теста:\n",
    "- построим график кумулятивной выручки по группам;\n",
    "- построим график кумулятивного среднего чека по группам;\n",
    "- построим график относительного изменения кумулятивного среднего чека группы B к группе A; \n",
    "- построим график кумулятивного среднего количества заказов на посетителя по группам;\n",
    "- построим график относительного изменения кумулятивного среднего количества заказов на посетителя группы B к группе A;\n",
    "- построим точечный график количества заказов по пользователям;\n",
    "- посчитаем 95-й и 99-й перцентили количества заказов на пользователя;\n",
    "- построим точечный график стоимостей заказов;\n",
    "- посчитаем 95-й и 99-й перцентили стоимости заказов;\n",
    "- посчитаем статистическую значимость различий в среднем количестве заказов на посетителя между группами по «сырым» данным; \n",
    "- посчитаем статистическую значимость различий в среднем чеке заказа между группами по «сырым» данным; \n",
    "- посчитаем статистическую значимость различий в среднем количестве заказов на посетителя между группами по «очищенным» данным;\n",
    "- посчитаем статистическую значимость различий в среднем чеке заказа между группами по «очищенным» данным;\n",
    "5. Примем решение по результатам теста: остановить или продолжить тест;\n",
    "6. Пишем общий вывод по проделаной работе"
   ]
  },
  {
   "cell_type": "markdown",
   "metadata": {},
   "source": [
    "### Загрузка данных и подготовка их к анализу"
   ]
  },
  {
   "cell_type": "markdown",
   "metadata": {},
   "source": [
    "Первым шагом загружаем данные, изучаем их и выполняем предобработку"
   ]
  },
  {
   "cell_type": "code",
   "execution_count": 1,
   "metadata": {},
   "outputs": [],
   "source": [
    "import pandas as pd\n",
    "import scipy.stats as stats\n",
    "import numpy as np\n",
    "from datetime import date, datetime, timedelta\n",
    "import matplotlib.pyplot as plt\n",
    "import seaborn as sb\n",
    "import datetime\n",
    "import math"
   ]
  },
  {
   "cell_type": "code",
   "execution_count": 2,
   "metadata": {},
   "outputs": [
    {
     "data": {
      "text/html": [
       "<div>\n",
       "<style scoped>\n",
       "    .dataframe tbody tr th:only-of-type {\n",
       "        vertical-align: middle;\n",
       "    }\n",
       "\n",
       "    .dataframe tbody tr th {\n",
       "        vertical-align: top;\n",
       "    }\n",
       "\n",
       "    .dataframe thead th {\n",
       "        text-align: right;\n",
       "    }\n",
       "</style>\n",
       "<table border=\"1\" class=\"dataframe\">\n",
       "  <thead>\n",
       "    <tr style=\"text-align: right;\">\n",
       "      <th></th>\n",
       "      <th>Hypothesis</th>\n",
       "      <th>Reach</th>\n",
       "      <th>Impact</th>\n",
       "      <th>Confidence</th>\n",
       "      <th>Efforts</th>\n",
       "    </tr>\n",
       "  </thead>\n",
       "  <tbody>\n",
       "    <tr>\n",
       "      <th>0</th>\n",
       "      <td>Добавить два новых канала привлечения трафика,...</td>\n",
       "      <td>3</td>\n",
       "      <td>10</td>\n",
       "      <td>8</td>\n",
       "      <td>6</td>\n",
       "    </tr>\n",
       "    <tr>\n",
       "      <th>1</th>\n",
       "      <td>Запустить собственную службу доставки, что сок...</td>\n",
       "      <td>2</td>\n",
       "      <td>5</td>\n",
       "      <td>4</td>\n",
       "      <td>10</td>\n",
       "    </tr>\n",
       "    <tr>\n",
       "      <th>2</th>\n",
       "      <td>Добавить блоки рекомендаций товаров на сайт ин...</td>\n",
       "      <td>8</td>\n",
       "      <td>3</td>\n",
       "      <td>7</td>\n",
       "      <td>3</td>\n",
       "    </tr>\n",
       "    <tr>\n",
       "      <th>3</th>\n",
       "      <td>Изменить структура категорий, что увеличит кон...</td>\n",
       "      <td>8</td>\n",
       "      <td>3</td>\n",
       "      <td>3</td>\n",
       "      <td>8</td>\n",
       "    </tr>\n",
       "    <tr>\n",
       "      <th>4</th>\n",
       "      <td>Изменить цвет фона главной страницы, чтобы уве...</td>\n",
       "      <td>3</td>\n",
       "      <td>1</td>\n",
       "      <td>1</td>\n",
       "      <td>1</td>\n",
       "    </tr>\n",
       "  </tbody>\n",
       "</table>\n",
       "</div>"
      ],
      "text/plain": [
       "                                          Hypothesis  Reach  Impact  \\\n",
       "0  Добавить два новых канала привлечения трафика,...      3      10   \n",
       "1  Запустить собственную службу доставки, что сок...      2       5   \n",
       "2  Добавить блоки рекомендаций товаров на сайт ин...      8       3   \n",
       "3  Изменить структура категорий, что увеличит кон...      8       3   \n",
       "4  Изменить цвет фона главной страницы, чтобы уве...      3       1   \n",
       "\n",
       "   Confidence  Efforts  \n",
       "0           8        6  \n",
       "1           4       10  \n",
       "2           7        3  \n",
       "3           3        8  \n",
       "4           1        1  "
      ]
     },
     "execution_count": 2,
     "metadata": {},
     "output_type": "execute_result"
    }
   ],
   "source": [
    "try:\n",
    "    hypothesis = pd.read_csv('hypothesis.csv')\n",
    "    orders = pd.read_csv('orders.csv')\n",
    "    visitors = pd.read_csv('visitors.csv')\n",
    "except:\n",
    "    hypothesis = pd.read_csv('/datasets/hypothesis.csv')\n",
    "    orders = pd.read_csv('/datasets/orders.csv')\n",
    "    visitors = pd.read_csv('/datasets/visitors.csv')\n",
    "#выводим и просмариваем первые строки датафрейма hypothesis\n",
    "hypothesis.head()"
   ]
  },
  {
   "cell_type": "code",
   "execution_count": 3,
   "metadata": {},
   "outputs": [
    {
     "name": "stdout",
     "output_type": "stream",
     "text": [
      "<class 'pandas.core.frame.DataFrame'>\n",
      "RangeIndex: 9 entries, 0 to 8\n",
      "Data columns (total 5 columns):\n",
      " #   Column      Non-Null Count  Dtype \n",
      "---  ------      --------------  ----- \n",
      " 0   Hypothesis  9 non-null      object\n",
      " 1   Reach       9 non-null      int64 \n",
      " 2   Impact      9 non-null      int64 \n",
      " 3   Confidence  9 non-null      int64 \n",
      " 4   Efforts     9 non-null      int64 \n",
      "dtypes: int64(4), object(1)\n",
      "memory usage: 488.0+ bytes\n"
     ]
    }
   ],
   "source": [
    "#просматриваем информацию о файле, какой у каждого столбца тип данных\n",
    "hypothesis.info()"
   ]
  },
  {
   "cell_type": "code",
   "execution_count": 4,
   "metadata": {},
   "outputs": [
    {
     "data": {
      "text/plain": [
       "0"
      ]
     },
     "execution_count": 4,
     "metadata": {},
     "output_type": "execute_result"
    }
   ],
   "source": [
    "#проверяем наличие явных дубликатов\n",
    "hypothesis.duplicated().sum()"
   ]
  },
  {
   "cell_type": "code",
   "execution_count": 5,
   "metadata": {},
   "outputs": [
    {
     "data": {
      "text/plain": [
       "Hypothesis    0\n",
       "Reach         0\n",
       "Impact        0\n",
       "Confidence    0\n",
       "Efforts       0\n",
       "dtype: int64"
      ]
     },
     "execution_count": 5,
     "metadata": {},
     "output_type": "execute_result"
    }
   ],
   "source": [
    "#считаем количество пустых значений\n",
    "hypothesis.isna().sum()"
   ]
  },
  {
   "cell_type": "markdown",
   "metadata": {},
   "source": [
    "Все данные проверены, дубликатов нет, пустых значений нет, тип данных верный - можно идти дальше и проанализировать по такому же принципу датафрейм orders."
   ]
  },
  {
   "cell_type": "code",
   "execution_count": 6,
   "metadata": {},
   "outputs": [
    {
     "data": {
      "text/html": [
       "<div>\n",
       "<style scoped>\n",
       "    .dataframe tbody tr th:only-of-type {\n",
       "        vertical-align: middle;\n",
       "    }\n",
       "\n",
       "    .dataframe tbody tr th {\n",
       "        vertical-align: top;\n",
       "    }\n",
       "\n",
       "    .dataframe thead th {\n",
       "        text-align: right;\n",
       "    }\n",
       "</style>\n",
       "<table border=\"1\" class=\"dataframe\">\n",
       "  <thead>\n",
       "    <tr style=\"text-align: right;\">\n",
       "      <th></th>\n",
       "      <th>transactionId</th>\n",
       "      <th>visitorId</th>\n",
       "      <th>date</th>\n",
       "      <th>revenue</th>\n",
       "      <th>group</th>\n",
       "    </tr>\n",
       "  </thead>\n",
       "  <tbody>\n",
       "    <tr>\n",
       "      <th>0</th>\n",
       "      <td>3667963787</td>\n",
       "      <td>3312258926</td>\n",
       "      <td>2019-08-15</td>\n",
       "      <td>1650</td>\n",
       "      <td>B</td>\n",
       "    </tr>\n",
       "    <tr>\n",
       "      <th>1</th>\n",
       "      <td>2804400009</td>\n",
       "      <td>3642806036</td>\n",
       "      <td>2019-08-15</td>\n",
       "      <td>730</td>\n",
       "      <td>B</td>\n",
       "    </tr>\n",
       "    <tr>\n",
       "      <th>2</th>\n",
       "      <td>2961555356</td>\n",
       "      <td>4069496402</td>\n",
       "      <td>2019-08-15</td>\n",
       "      <td>400</td>\n",
       "      <td>A</td>\n",
       "    </tr>\n",
       "    <tr>\n",
       "      <th>3</th>\n",
       "      <td>3797467345</td>\n",
       "      <td>1196621759</td>\n",
       "      <td>2019-08-15</td>\n",
       "      <td>9759</td>\n",
       "      <td>B</td>\n",
       "    </tr>\n",
       "    <tr>\n",
       "      <th>4</th>\n",
       "      <td>2282983706</td>\n",
       "      <td>2322279887</td>\n",
       "      <td>2019-08-15</td>\n",
       "      <td>2308</td>\n",
       "      <td>B</td>\n",
       "    </tr>\n",
       "  </tbody>\n",
       "</table>\n",
       "</div>"
      ],
      "text/plain": [
       "   transactionId   visitorId        date  revenue group\n",
       "0     3667963787  3312258926  2019-08-15     1650     B\n",
       "1     2804400009  3642806036  2019-08-15      730     B\n",
       "2     2961555356  4069496402  2019-08-15      400     A\n",
       "3     3797467345  1196621759  2019-08-15     9759     B\n",
       "4     2282983706  2322279887  2019-08-15     2308     B"
      ]
     },
     "execution_count": 6,
     "metadata": {},
     "output_type": "execute_result"
    }
   ],
   "source": [
    "#выводим и просмариваем первые строки датафрейма orders\n",
    "orders.head()"
   ]
  },
  {
   "cell_type": "code",
   "execution_count": 7,
   "metadata": {},
   "outputs": [
    {
     "name": "stdout",
     "output_type": "stream",
     "text": [
      "<class 'pandas.core.frame.DataFrame'>\n",
      "RangeIndex: 1197 entries, 0 to 1196\n",
      "Data columns (total 5 columns):\n",
      " #   Column         Non-Null Count  Dtype \n",
      "---  ------         --------------  ----- \n",
      " 0   transactionId  1197 non-null   int64 \n",
      " 1   visitorId      1197 non-null   int64 \n",
      " 2   date           1197 non-null   object\n",
      " 3   revenue        1197 non-null   int64 \n",
      " 4   group          1197 non-null   object\n",
      "dtypes: int64(3), object(2)\n",
      "memory usage: 46.9+ KB\n"
     ]
    }
   ],
   "source": [
    "#просматриваем информацию о файле, какой у каждого столбца тип данных\n",
    "orders.info()"
   ]
  },
  {
   "cell_type": "code",
   "execution_count": 8,
   "metadata": {},
   "outputs": [
    {
     "name": "stdout",
     "output_type": "stream",
     "text": [
      "<class 'pandas.core.frame.DataFrame'>\n",
      "RangeIndex: 1197 entries, 0 to 1196\n",
      "Data columns (total 5 columns):\n",
      " #   Column         Non-Null Count  Dtype         \n",
      "---  ------         --------------  -----         \n",
      " 0   transactionId  1197 non-null   int64         \n",
      " 1   visitorId      1197 non-null   int64         \n",
      " 2   date           1197 non-null   datetime64[ns]\n",
      " 3   revenue        1197 non-null   int64         \n",
      " 4   group          1197 non-null   object        \n",
      "dtypes: datetime64[ns](1), int64(3), object(1)\n",
      "memory usage: 46.9+ KB\n"
     ]
    }
   ],
   "source": [
    "#преобразуем данные столбца date к нужному типу данных\n",
    "orders['date'] = pd.to_datetime(orders['date'])\n",
    "#просматриваем информацию вновь\n",
    "orders.info()"
   ]
  },
  {
   "cell_type": "code",
   "execution_count": 9,
   "metadata": {},
   "outputs": [
    {
     "data": {
      "text/plain": [
       "0"
      ]
     },
     "execution_count": 9,
     "metadata": {},
     "output_type": "execute_result"
    }
   ],
   "source": [
    "#проверяем наличие явных дубликатов\n",
    "orders.duplicated().sum()"
   ]
  },
  {
   "cell_type": "code",
   "execution_count": 10,
   "metadata": {},
   "outputs": [
    {
     "data": {
      "text/plain": [
       "transactionId    0\n",
       "visitorId        0\n",
       "date             0\n",
       "revenue          0\n",
       "group            0\n",
       "dtype: int64"
      ]
     },
     "execution_count": 10,
     "metadata": {},
     "output_type": "execute_result"
    }
   ],
   "source": [
    "#считаем количество пустых значений\n",
    "orders.isna().sum()"
   ]
  },
  {
   "cell_type": "markdown",
   "metadata": {},
   "source": [
    "Все данные проверены, дубликатов нет, пустых значений нет, тип данных изменили на верный - можно идти дальше и проанализировать по такому же принципу датафрейм visitors."
   ]
  },
  {
   "cell_type": "code",
   "execution_count": 11,
   "metadata": {},
   "outputs": [
    {
     "data": {
      "text/html": [
       "<div>\n",
       "<style scoped>\n",
       "    .dataframe tbody tr th:only-of-type {\n",
       "        vertical-align: middle;\n",
       "    }\n",
       "\n",
       "    .dataframe tbody tr th {\n",
       "        vertical-align: top;\n",
       "    }\n",
       "\n",
       "    .dataframe thead th {\n",
       "        text-align: right;\n",
       "    }\n",
       "</style>\n",
       "<table border=\"1\" class=\"dataframe\">\n",
       "  <thead>\n",
       "    <tr style=\"text-align: right;\">\n",
       "      <th></th>\n",
       "      <th>date</th>\n",
       "      <th>group</th>\n",
       "      <th>visitors</th>\n",
       "    </tr>\n",
       "  </thead>\n",
       "  <tbody>\n",
       "    <tr>\n",
       "      <th>0</th>\n",
       "      <td>2019-08-01</td>\n",
       "      <td>A</td>\n",
       "      <td>719</td>\n",
       "    </tr>\n",
       "    <tr>\n",
       "      <th>1</th>\n",
       "      <td>2019-08-02</td>\n",
       "      <td>A</td>\n",
       "      <td>619</td>\n",
       "    </tr>\n",
       "    <tr>\n",
       "      <th>2</th>\n",
       "      <td>2019-08-03</td>\n",
       "      <td>A</td>\n",
       "      <td>507</td>\n",
       "    </tr>\n",
       "    <tr>\n",
       "      <th>3</th>\n",
       "      <td>2019-08-04</td>\n",
       "      <td>A</td>\n",
       "      <td>717</td>\n",
       "    </tr>\n",
       "    <tr>\n",
       "      <th>4</th>\n",
       "      <td>2019-08-05</td>\n",
       "      <td>A</td>\n",
       "      <td>756</td>\n",
       "    </tr>\n",
       "  </tbody>\n",
       "</table>\n",
       "</div>"
      ],
      "text/plain": [
       "         date group  visitors\n",
       "0  2019-08-01     A       719\n",
       "1  2019-08-02     A       619\n",
       "2  2019-08-03     A       507\n",
       "3  2019-08-04     A       717\n",
       "4  2019-08-05     A       756"
      ]
     },
     "execution_count": 11,
     "metadata": {},
     "output_type": "execute_result"
    }
   ],
   "source": [
    "#выводим и просмариваем первые строки датафрейма visitors\n",
    "visitors.head()"
   ]
  },
  {
   "cell_type": "code",
   "execution_count": 12,
   "metadata": {},
   "outputs": [
    {
     "name": "stdout",
     "output_type": "stream",
     "text": [
      "<class 'pandas.core.frame.DataFrame'>\n",
      "RangeIndex: 62 entries, 0 to 61\n",
      "Data columns (total 3 columns):\n",
      " #   Column    Non-Null Count  Dtype \n",
      "---  ------    --------------  ----- \n",
      " 0   date      62 non-null     object\n",
      " 1   group     62 non-null     object\n",
      " 2   visitors  62 non-null     int64 \n",
      "dtypes: int64(1), object(2)\n",
      "memory usage: 1.6+ KB\n"
     ]
    }
   ],
   "source": [
    "#просматриваем информацию о файле, какой у каждого столбца тип данных\n",
    "visitors.info()"
   ]
  },
  {
   "cell_type": "code",
   "execution_count": 13,
   "metadata": {},
   "outputs": [
    {
     "name": "stdout",
     "output_type": "stream",
     "text": [
      "<class 'pandas.core.frame.DataFrame'>\n",
      "RangeIndex: 62 entries, 0 to 61\n",
      "Data columns (total 3 columns):\n",
      " #   Column    Non-Null Count  Dtype         \n",
      "---  ------    --------------  -----         \n",
      " 0   date      62 non-null     datetime64[ns]\n",
      " 1   group     62 non-null     object        \n",
      " 2   visitors  62 non-null     int64         \n",
      "dtypes: datetime64[ns](1), int64(1), object(1)\n",
      "memory usage: 1.6+ KB\n"
     ]
    }
   ],
   "source": [
    "#преобразуем данные столбца date к нужному типу данных\n",
    "visitors['date'] = pd.to_datetime(visitors['date'])\n",
    "#просматриваем информацию вновь\n",
    "visitors.info()"
   ]
  },
  {
   "cell_type": "code",
   "execution_count": 14,
   "metadata": {},
   "outputs": [
    {
     "data": {
      "text/plain": [
       "0"
      ]
     },
     "execution_count": 14,
     "metadata": {},
     "output_type": "execute_result"
    }
   ],
   "source": [
    "#проверяем наличие явных дубликатов\n",
    "visitors.duplicated().sum()"
   ]
  },
  {
   "cell_type": "code",
   "execution_count": 15,
   "metadata": {},
   "outputs": [
    {
     "data": {
      "text/plain": [
       "date        0\n",
       "group       0\n",
       "visitors    0\n",
       "dtype: int64"
      ]
     },
     "execution_count": 15,
     "metadata": {},
     "output_type": "execute_result"
    }
   ],
   "source": [
    "#считаем количество пустых значений\n",
    "visitors.isna().sum()"
   ]
  },
  {
   "cell_type": "markdown",
   "metadata": {},
   "source": [
    "Все данные проверены, дубликатов нет, пустых значений нет, тип данных изменили на верный.\n",
    "\n",
    "Далее можно приступать к следующему шагу - приоритизации гипотез"
   ]
  },
  {
   "cell_type": "markdown",
   "metadata": {},
   "source": [
    "### Приоритизация гипотез\n",
    "\n",
    "- Применим фреймворк ICE для приоритизации гипотез. Отсортируем их по убыванию приоритета.\n",
    "- Применим фреймворк RICE для приоритизации гипотез. Отсортируем их по убыванию приоритета.\n",
    "- Укажем, как изменилась приоритизация гипотез при применении RICE вместо ICE. Объясним, почему так произошло."
   ]
  },
  {
   "cell_type": "code",
   "execution_count": 16,
   "metadata": {},
   "outputs": [
    {
     "data": {
      "text/html": [
       "<div>\n",
       "<style scoped>\n",
       "    .dataframe tbody tr th:only-of-type {\n",
       "        vertical-align: middle;\n",
       "    }\n",
       "\n",
       "    .dataframe tbody tr th {\n",
       "        vertical-align: top;\n",
       "    }\n",
       "\n",
       "    .dataframe thead th {\n",
       "        text-align: right;\n",
       "    }\n",
       "</style>\n",
       "<table border=\"1\" class=\"dataframe\">\n",
       "  <thead>\n",
       "    <tr style=\"text-align: right;\">\n",
       "      <th></th>\n",
       "      <th>Hypothesis</th>\n",
       "      <th>Reach</th>\n",
       "      <th>Impact</th>\n",
       "      <th>Confidence</th>\n",
       "      <th>Efforts</th>\n",
       "    </tr>\n",
       "  </thead>\n",
       "  <tbody>\n",
       "    <tr>\n",
       "      <th>0</th>\n",
       "      <td>Добавить два новых канала привлечения трафика,...</td>\n",
       "      <td>3</td>\n",
       "      <td>10</td>\n",
       "      <td>8</td>\n",
       "      <td>6</td>\n",
       "    </tr>\n",
       "    <tr>\n",
       "      <th>1</th>\n",
       "      <td>Запустить собственную службу доставки, что сок...</td>\n",
       "      <td>2</td>\n",
       "      <td>5</td>\n",
       "      <td>4</td>\n",
       "      <td>10</td>\n",
       "    </tr>\n",
       "    <tr>\n",
       "      <th>2</th>\n",
       "      <td>Добавить блоки рекомендаций товаров на сайт ин...</td>\n",
       "      <td>8</td>\n",
       "      <td>3</td>\n",
       "      <td>7</td>\n",
       "      <td>3</td>\n",
       "    </tr>\n",
       "    <tr>\n",
       "      <th>3</th>\n",
       "      <td>Изменить структура категорий, что увеличит кон...</td>\n",
       "      <td>8</td>\n",
       "      <td>3</td>\n",
       "      <td>3</td>\n",
       "      <td>8</td>\n",
       "    </tr>\n",
       "    <tr>\n",
       "      <th>4</th>\n",
       "      <td>Изменить цвет фона главной страницы, чтобы уве...</td>\n",
       "      <td>3</td>\n",
       "      <td>1</td>\n",
       "      <td>1</td>\n",
       "      <td>1</td>\n",
       "    </tr>\n",
       "    <tr>\n",
       "      <th>5</th>\n",
       "      <td>Добавить страницу отзывов клиентов о магазине,...</td>\n",
       "      <td>3</td>\n",
       "      <td>2</td>\n",
       "      <td>2</td>\n",
       "      <td>3</td>\n",
       "    </tr>\n",
       "    <tr>\n",
       "      <th>6</th>\n",
       "      <td>Показать на главной странице баннеры с актуаль...</td>\n",
       "      <td>5</td>\n",
       "      <td>3</td>\n",
       "      <td>8</td>\n",
       "      <td>3</td>\n",
       "    </tr>\n",
       "    <tr>\n",
       "      <th>7</th>\n",
       "      <td>Добавить форму подписки на все основные страни...</td>\n",
       "      <td>10</td>\n",
       "      <td>7</td>\n",
       "      <td>8</td>\n",
       "      <td>5</td>\n",
       "    </tr>\n",
       "    <tr>\n",
       "      <th>8</th>\n",
       "      <td>Запустить акцию, дающую скидку на товар в день...</td>\n",
       "      <td>1</td>\n",
       "      <td>9</td>\n",
       "      <td>9</td>\n",
       "      <td>5</td>\n",
       "    </tr>\n",
       "  </tbody>\n",
       "</table>\n",
       "</div>"
      ],
      "text/plain": [
       "                                          Hypothesis  Reach  Impact  \\\n",
       "0  Добавить два новых канала привлечения трафика,...      3      10   \n",
       "1  Запустить собственную службу доставки, что сок...      2       5   \n",
       "2  Добавить блоки рекомендаций товаров на сайт ин...      8       3   \n",
       "3  Изменить структура категорий, что увеличит кон...      8       3   \n",
       "4  Изменить цвет фона главной страницы, чтобы уве...      3       1   \n",
       "5  Добавить страницу отзывов клиентов о магазине,...      3       2   \n",
       "6  Показать на главной странице баннеры с актуаль...      5       3   \n",
       "7  Добавить форму подписки на все основные страни...     10       7   \n",
       "8  Запустить акцию, дающую скидку на товар в день...      1       9   \n",
       "\n",
       "   Confidence  Efforts  \n",
       "0           8        6  \n",
       "1           4       10  \n",
       "2           7        3  \n",
       "3           3        8  \n",
       "4           1        1  \n",
       "5           2        3  \n",
       "6           8        3  \n",
       "7           8        5  \n",
       "8           9        5  "
      ]
     },
     "execution_count": 16,
     "metadata": {},
     "output_type": "execute_result"
    }
   ],
   "source": [
    "#выводем для просмотра весь датафрейм hypothesis, с которым будем далее работать\n",
    "hypothesis"
   ]
  },
  {
   "cell_type": "code",
   "execution_count": 17,
   "metadata": {},
   "outputs": [
    {
     "data": {
      "text/html": [
       "<div>\n",
       "<style scoped>\n",
       "    .dataframe tbody tr th:only-of-type {\n",
       "        vertical-align: middle;\n",
       "    }\n",
       "\n",
       "    .dataframe tbody tr th {\n",
       "        vertical-align: top;\n",
       "    }\n",
       "\n",
       "    .dataframe thead th {\n",
       "        text-align: right;\n",
       "    }\n",
       "</style>\n",
       "<table border=\"1\" class=\"dataframe\">\n",
       "  <thead>\n",
       "    <tr style=\"text-align: right;\">\n",
       "      <th></th>\n",
       "      <th>Hypothesis</th>\n",
       "      <th>Reach</th>\n",
       "      <th>Impact</th>\n",
       "      <th>Confidence</th>\n",
       "      <th>Efforts</th>\n",
       "      <th>ICE</th>\n",
       "    </tr>\n",
       "  </thead>\n",
       "  <tbody>\n",
       "    <tr>\n",
       "      <th>8</th>\n",
       "      <td>Запустить акцию, дающую скидку на товар в день...</td>\n",
       "      <td>1</td>\n",
       "      <td>9</td>\n",
       "      <td>9</td>\n",
       "      <td>5</td>\n",
       "      <td>16.20</td>\n",
       "    </tr>\n",
       "    <tr>\n",
       "      <th>0</th>\n",
       "      <td>Добавить два новых канала привлечения трафика,...</td>\n",
       "      <td>3</td>\n",
       "      <td>10</td>\n",
       "      <td>8</td>\n",
       "      <td>6</td>\n",
       "      <td>13.33</td>\n",
       "    </tr>\n",
       "    <tr>\n",
       "      <th>7</th>\n",
       "      <td>Добавить форму подписки на все основные страни...</td>\n",
       "      <td>10</td>\n",
       "      <td>7</td>\n",
       "      <td>8</td>\n",
       "      <td>5</td>\n",
       "      <td>11.20</td>\n",
       "    </tr>\n",
       "    <tr>\n",
       "      <th>6</th>\n",
       "      <td>Показать на главной странице баннеры с актуаль...</td>\n",
       "      <td>5</td>\n",
       "      <td>3</td>\n",
       "      <td>8</td>\n",
       "      <td>3</td>\n",
       "      <td>8.00</td>\n",
       "    </tr>\n",
       "    <tr>\n",
       "      <th>2</th>\n",
       "      <td>Добавить блоки рекомендаций товаров на сайт ин...</td>\n",
       "      <td>8</td>\n",
       "      <td>3</td>\n",
       "      <td>7</td>\n",
       "      <td>3</td>\n",
       "      <td>7.00</td>\n",
       "    </tr>\n",
       "    <tr>\n",
       "      <th>1</th>\n",
       "      <td>Запустить собственную службу доставки, что сок...</td>\n",
       "      <td>2</td>\n",
       "      <td>5</td>\n",
       "      <td>4</td>\n",
       "      <td>10</td>\n",
       "      <td>2.00</td>\n",
       "    </tr>\n",
       "    <tr>\n",
       "      <th>5</th>\n",
       "      <td>Добавить страницу отзывов клиентов о магазине,...</td>\n",
       "      <td>3</td>\n",
       "      <td>2</td>\n",
       "      <td>2</td>\n",
       "      <td>3</td>\n",
       "      <td>1.33</td>\n",
       "    </tr>\n",
       "    <tr>\n",
       "      <th>3</th>\n",
       "      <td>Изменить структура категорий, что увеличит кон...</td>\n",
       "      <td>8</td>\n",
       "      <td>3</td>\n",
       "      <td>3</td>\n",
       "      <td>8</td>\n",
       "      <td>1.12</td>\n",
       "    </tr>\n",
       "    <tr>\n",
       "      <th>4</th>\n",
       "      <td>Изменить цвет фона главной страницы, чтобы уве...</td>\n",
       "      <td>3</td>\n",
       "      <td>1</td>\n",
       "      <td>1</td>\n",
       "      <td>1</td>\n",
       "      <td>1.00</td>\n",
       "    </tr>\n",
       "  </tbody>\n",
       "</table>\n",
       "</div>"
      ],
      "text/plain": [
       "                                          Hypothesis  Reach  Impact  \\\n",
       "8  Запустить акцию, дающую скидку на товар в день...      1       9   \n",
       "0  Добавить два новых канала привлечения трафика,...      3      10   \n",
       "7  Добавить форму подписки на все основные страни...     10       7   \n",
       "6  Показать на главной странице баннеры с актуаль...      5       3   \n",
       "2  Добавить блоки рекомендаций товаров на сайт ин...      8       3   \n",
       "1  Запустить собственную службу доставки, что сок...      2       5   \n",
       "5  Добавить страницу отзывов клиентов о магазине,...      3       2   \n",
       "3  Изменить структура категорий, что увеличит кон...      8       3   \n",
       "4  Изменить цвет фона главной страницы, чтобы уве...      3       1   \n",
       "\n",
       "   Confidence  Efforts    ICE  \n",
       "8           9        5  16.20  \n",
       "0           8        6  13.33  \n",
       "7           8        5  11.20  \n",
       "6           8        3   8.00  \n",
       "2           7        3   7.00  \n",
       "1           4       10   2.00  \n",
       "5           2        3   1.33  \n",
       "3           3        8   1.12  \n",
       "4           1        1   1.00  "
      ]
     },
     "execution_count": 17,
     "metadata": {},
     "output_type": "execute_result"
    }
   ],
   "source": [
    "#создадим новый столбец ICE\n",
    "hypothesis['ICE'] = ((hypothesis['Impact'] * hypothesis['Confidence']) / hypothesis['Efforts']).round(2)\n",
    "#выводем отсортированный датафрейм для просмотра\n",
    "hypothesis.sort_values(by='ICE', ascending=False)"
   ]
  },
  {
   "cell_type": "code",
   "execution_count": 18,
   "metadata": {},
   "outputs": [
    {
     "data": {
      "text/html": [
       "<div>\n",
       "<style scoped>\n",
       "    .dataframe tbody tr th:only-of-type {\n",
       "        vertical-align: middle;\n",
       "    }\n",
       "\n",
       "    .dataframe tbody tr th {\n",
       "        vertical-align: top;\n",
       "    }\n",
       "\n",
       "    .dataframe thead th {\n",
       "        text-align: right;\n",
       "    }\n",
       "</style>\n",
       "<table border=\"1\" class=\"dataframe\">\n",
       "  <thead>\n",
       "    <tr style=\"text-align: right;\">\n",
       "      <th></th>\n",
       "      <th>Hypothesis</th>\n",
       "      <th>Reach</th>\n",
       "      <th>Impact</th>\n",
       "      <th>Confidence</th>\n",
       "      <th>Efforts</th>\n",
       "      <th>ICE</th>\n",
       "      <th>RICE</th>\n",
       "    </tr>\n",
       "  </thead>\n",
       "  <tbody>\n",
       "    <tr>\n",
       "      <th>7</th>\n",
       "      <td>Добавить форму подписки на все основные страницы, чтобы собрать базу клиентов для email-рассылок</td>\n",
       "      <td>10</td>\n",
       "      <td>7</td>\n",
       "      <td>8</td>\n",
       "      <td>5</td>\n",
       "      <td>11.20</td>\n",
       "      <td>112.0</td>\n",
       "    </tr>\n",
       "    <tr>\n",
       "      <th>2</th>\n",
       "      <td>Добавить блоки рекомендаций товаров на сайт интернет магазина, чтобы повысить конверсию и средний чек заказа</td>\n",
       "      <td>8</td>\n",
       "      <td>3</td>\n",
       "      <td>7</td>\n",
       "      <td>3</td>\n",
       "      <td>7.00</td>\n",
       "      <td>56.0</td>\n",
       "    </tr>\n",
       "    <tr>\n",
       "      <th>0</th>\n",
       "      <td>Добавить два новых канала привлечения трафика, что позволит привлекать на 30% больше пользователей</td>\n",
       "      <td>3</td>\n",
       "      <td>10</td>\n",
       "      <td>8</td>\n",
       "      <td>6</td>\n",
       "      <td>13.33</td>\n",
       "      <td>40.0</td>\n",
       "    </tr>\n",
       "    <tr>\n",
       "      <th>6</th>\n",
       "      <td>Показать на главной странице баннеры с актуальными акциями и распродажами, чтобы увеличить конверсию</td>\n",
       "      <td>5</td>\n",
       "      <td>3</td>\n",
       "      <td>8</td>\n",
       "      <td>3</td>\n",
       "      <td>8.00</td>\n",
       "      <td>40.0</td>\n",
       "    </tr>\n",
       "    <tr>\n",
       "      <th>8</th>\n",
       "      <td>Запустить акцию, дающую скидку на товар в день рождения</td>\n",
       "      <td>1</td>\n",
       "      <td>9</td>\n",
       "      <td>9</td>\n",
       "      <td>5</td>\n",
       "      <td>16.20</td>\n",
       "      <td>16.2</td>\n",
       "    </tr>\n",
       "    <tr>\n",
       "      <th>3</th>\n",
       "      <td>Изменить структура категорий, что увеличит конверсию, т.к. пользователи быстрее найдут нужный товар</td>\n",
       "      <td>8</td>\n",
       "      <td>3</td>\n",
       "      <td>3</td>\n",
       "      <td>8</td>\n",
       "      <td>1.12</td>\n",
       "      <td>9.0</td>\n",
       "    </tr>\n",
       "    <tr>\n",
       "      <th>1</th>\n",
       "      <td>Запустить собственную службу доставки, что сократит срок доставки заказов</td>\n",
       "      <td>2</td>\n",
       "      <td>5</td>\n",
       "      <td>4</td>\n",
       "      <td>10</td>\n",
       "      <td>2.00</td>\n",
       "      <td>4.0</td>\n",
       "    </tr>\n",
       "    <tr>\n",
       "      <th>5</th>\n",
       "      <td>Добавить страницу отзывов клиентов о магазине, что позволит увеличить количество заказов</td>\n",
       "      <td>3</td>\n",
       "      <td>2</td>\n",
       "      <td>2</td>\n",
       "      <td>3</td>\n",
       "      <td>1.33</td>\n",
       "      <td>4.0</td>\n",
       "    </tr>\n",
       "    <tr>\n",
       "      <th>4</th>\n",
       "      <td>Изменить цвет фона главной страницы, чтобы увеличить вовлеченность пользователей</td>\n",
       "      <td>3</td>\n",
       "      <td>1</td>\n",
       "      <td>1</td>\n",
       "      <td>1</td>\n",
       "      <td>1.00</td>\n",
       "      <td>3.0</td>\n",
       "    </tr>\n",
       "  </tbody>\n",
       "</table>\n",
       "</div>"
      ],
      "text/plain": [
       "                                                                                                     Hypothesis  \\\n",
       "7              Добавить форму подписки на все основные страницы, чтобы собрать базу клиентов для email-рассылок   \n",
       "2  Добавить блоки рекомендаций товаров на сайт интернет магазина, чтобы повысить конверсию и средний чек заказа   \n",
       "0            Добавить два новых канала привлечения трафика, что позволит привлекать на 30% больше пользователей   \n",
       "6          Показать на главной странице баннеры с актуальными акциями и распродажами, чтобы увеличить конверсию   \n",
       "8                                                       Запустить акцию, дающую скидку на товар в день рождения   \n",
       "3           Изменить структура категорий, что увеличит конверсию, т.к. пользователи быстрее найдут нужный товар   \n",
       "1                                     Запустить собственную службу доставки, что сократит срок доставки заказов   \n",
       "5                      Добавить страницу отзывов клиентов о магазине, что позволит увеличить количество заказов   \n",
       "4                              Изменить цвет фона главной страницы, чтобы увеличить вовлеченность пользователей   \n",
       "\n",
       "   Reach  Impact  Confidence  Efforts    ICE   RICE  \n",
       "7     10       7           8        5  11.20  112.0  \n",
       "2      8       3           7        3   7.00   56.0  \n",
       "0      3      10           8        6  13.33   40.0  \n",
       "6      5       3           8        3   8.00   40.0  \n",
       "8      1       9           9        5  16.20   16.2  \n",
       "3      8       3           3        8   1.12    9.0  \n",
       "1      2       5           4       10   2.00    4.0  \n",
       "5      3       2           2        3   1.33    4.0  \n",
       "4      3       1           1        1   1.00    3.0  "
      ]
     },
     "execution_count": 18,
     "metadata": {},
     "output_type": "execute_result"
    }
   ],
   "source": [
    "#создадим новый столбец RICE\n",
    "hypothesis['RICE'] = ((hypothesis['Reach'] * hypothesis['Impact'] * hypothesis['Confidence']) / hypothesis['Efforts']).round(2)\n",
    "#выводем отсортированный датафрейм для просмотра\n",
    "pd.options.display.max_colwidth = 120\n",
    "hypothesis.sort_values(by = 'RICE', ascending = False)"
   ]
  },
  {
   "cell_type": "markdown",
   "metadata": {},
   "source": [
    "**По полученным данным видно, что приоритизация гипотез при применении ICE и RICE - меняется. При ICE лидерами становятся гипотезы 8, 0 и 7; при RICE - 7, 2 и 0 - гипотеза 8 \"полетела\" вниз, в то время как 2 гипотеза поднялась. Это связано с тем, что в RICE мы дополнительно учитываем параметр Reach (скольких пользователей затронет изменение, которое вы хотите внести) - в гипотезе 8 он составляет всего 1, а во 2 целых 8**\n",
    "\n",
    "Далее переходим к следующему шагу - анализу A/B-теста"
   ]
  },
  {
   "cell_type": "markdown",
   "metadata": {},
   "source": [
    "### Анализ А/В теста\n",
    "- построим график кумулятивной выручки по группам\n",
    "- построим график кумулятивного среднего чека по группам;\n",
    "- построим график относительного изменения кумулятивного среднего чека группы B к группе A; \n",
    "- построим график кумулятивного среднего количества заказов на посетителя по группам;\n",
    "- построим график относительного изменения кумулятивного среднего количества заказов на посетителя группы B к группе A;\n",
    "- построим точечный график количества заказов по пользователям;\n",
    "- посчитаем 95-й и 99-й перцентили количества заказов на пользователя;\n",
    "- построим точечный график стоимостей заказов;\n",
    "- посчитаем 95-й и 99-й перцентили стоимости заказов;\n",
    "- посчитаем статистическую значимость различий в среднем количестве заказов на посетителя между группами по «сырым» данным; \n",
    "- посчитаем статистическую значимость различий в среднем чеке заказа между группами по «сырым» данным; \n",
    "- посчитаем статистическую значимость различий в среднем количестве заказов на посетителя между группами по «очищенным» данным;\n",
    "- посчитаем статистическую значимость различий в среднем чеке заказа между группами по «очищенным» данным;"
   ]
  },
  {
   "cell_type": "markdown",
   "metadata": {},
   "source": [
    "**1. Построим график кумулятивной выручки по группам**"
   ]
  },
  {
   "cell_type": "code",
   "execution_count": 19,
   "metadata": {},
   "outputs": [],
   "source": [
    "#создаем массив уникальных пар значений дат и групп теста\n",
    "datesGroups = orders[['date','group']].drop_duplicates()\n",
    "#получаем агрегированные кумулятивные по дням данные о заказах \n",
    "ordersAggregated = datesGroups.apply(lambda x: orders[np.logical_and(orders['date'] <= x['date'], orders['group'] == x['group'])].agg({'date' : 'max', 'group' : 'max', 'transactionId' : 'nunique', 'visitorId' : 'nunique', 'revenue' : 'sum'}), axis = 1).sort_values(by = ['date','group'])\n",
    "#получаем агрегированные кумулятивные по дням данные о посетителях интернет-магазина \n",
    "visitorsAggregated = datesGroups.apply(lambda x: visitors[np.logical_and(visitors['date'] <= x['date'], visitors['group'] == x['group'])].agg({'date' : 'max', 'group' : 'max', 'visitors' : 'sum'}), axis = 1).sort_values(by = ['date','group'])\n",
    "#объединяем кумулятивные данные в одной таблице и присваиваем ее столбцам понятные названия\n",
    "cumulativeData = ordersAggregated.merge(visitorsAggregated, left_on = ['date', 'group'], right_on = ['date', 'group'])\n",
    "cumulativeData.columns = ['date', 'group', 'orders', 'buyers', 'revenue', 'visitors']"
   ]
  },
  {
   "cell_type": "code",
   "execution_count": 20,
   "metadata": {},
   "outputs": [
    {
     "data": {
      "image/png": "[encoded data removed]",
      "text/plain": [
       "<Figure size 1440x360 with 1 Axes>"
      ]
     },
     "metadata": {
      "needs_background": "light"
     },
     "output_type": "display_data"
    }
   ],
   "source": [
    "#датафрейм с кумулятивным количеством заказов и кумулятивной выручкой по дням в группе А\n",
    "cumulativeRevenueA = cumulativeData[cumulativeData['group'] == 'A'][['date','revenue', 'orders']]\n",
    "#датафрейм с кумулятивным количеством заказов и кумулятивной выручкой по дням в группе B\n",
    "cumulativeRevenueB = cumulativeData[cumulativeData['group'] == 'B'][['date','revenue', 'orders']]\n",
    "plt.figure(figsize = (20,5))\n",
    "#cтроим график выручки группы А\n",
    "plt.plot(cumulativeRevenueA['date'], cumulativeRevenueA['revenue'], label = 'Группа A')\n",
    "#cтроим график выручки группы B\n",
    "plt.plot(cumulativeRevenueB['date'], cumulativeRevenueB['revenue'], label = 'Группа В')\n",
    "plt.title('Кумулятивная выручка по группам')\n",
    "plt.grid()\n",
    "plt.legend();"
   ]
  },
  {
   "cell_type": "markdown",
   "metadata": {},
   "source": [
    "Выручка почти равномерно увеличивается в течение всего теста. Хороший знак.\n",
    "Однако график выручки группы В в одной точке (примерно от 18-19.08.2019) резко вырос. Это может сигнализировать о всплесках числа заказов, либо о появлении очень дорогих заказов в выборке."
   ]
  },
  {
   "cell_type": "code",
   "execution_count": 21,
   "metadata": {},
   "outputs": [
    {
     "data": {
      "text/html": [
       "<div>\n",
       "<style scoped>\n",
       "    .dataframe tbody tr th:only-of-type {\n",
       "        vertical-align: middle;\n",
       "    }\n",
       "\n",
       "    .dataframe tbody tr th {\n",
       "        vertical-align: top;\n",
       "    }\n",
       "\n",
       "    .dataframe thead th {\n",
       "        text-align: right;\n",
       "    }\n",
       "</style>\n",
       "<table border=\"1\" class=\"dataframe\">\n",
       "  <thead>\n",
       "    <tr style=\"text-align: right;\">\n",
       "      <th></th>\n",
       "      <th>transactionId</th>\n",
       "      <th>visitorId</th>\n",
       "      <th>date</th>\n",
       "      <th>revenue</th>\n",
       "      <th>group</th>\n",
       "    </tr>\n",
       "  </thead>\n",
       "  <tbody>\n",
       "    <tr>\n",
       "      <th>318</th>\n",
       "      <td>3412626998</td>\n",
       "      <td>3282099314</td>\n",
       "      <td>2019-08-19</td>\n",
       "      <td>11985</td>\n",
       "      <td>A</td>\n",
       "    </tr>\n",
       "    <tr>\n",
       "      <th>366</th>\n",
       "      <td>2037051350</td>\n",
       "      <td>1957949546</td>\n",
       "      <td>2019-08-19</td>\n",
       "      <td>16770</td>\n",
       "      <td>A</td>\n",
       "    </tr>\n",
       "    <tr>\n",
       "      <th>367</th>\n",
       "      <td>1033377712</td>\n",
       "      <td>3860669668</td>\n",
       "      <td>2019-08-19</td>\n",
       "      <td>3990</td>\n",
       "      <td>B</td>\n",
       "    </tr>\n",
       "    <tr>\n",
       "      <th>368</th>\n",
       "      <td>3268879337</td>\n",
       "      <td>2536252163</td>\n",
       "      <td>2019-08-19</td>\n",
       "      <td>20026</td>\n",
       "      <td>B</td>\n",
       "    </tr>\n",
       "    <tr>\n",
       "      <th>421</th>\n",
       "      <td>3765974140</td>\n",
       "      <td>1357170471</td>\n",
       "      <td>2019-08-19</td>\n",
       "      <td>31680</td>\n",
       "      <td>A</td>\n",
       "    </tr>\n",
       "    <tr>\n",
       "      <th>422</th>\n",
       "      <td>181836088</td>\n",
       "      <td>3528043184</td>\n",
       "      <td>2019-08-19</td>\n",
       "      <td>9490</td>\n",
       "      <td>A</td>\n",
       "    </tr>\n",
       "    <tr>\n",
       "      <th>423</th>\n",
       "      <td>4161654914</td>\n",
       "      <td>990904712</td>\n",
       "      <td>2019-08-19</td>\n",
       "      <td>11249</td>\n",
       "      <td>B</td>\n",
       "    </tr>\n",
       "    <tr>\n",
       "      <th>425</th>\n",
       "      <td>590470918</td>\n",
       "      <td>1920142716</td>\n",
       "      <td>2019-08-19</td>\n",
       "      <td>1294500</td>\n",
       "      <td>B</td>\n",
       "    </tr>\n",
       "    <tr>\n",
       "      <th>428</th>\n",
       "      <td>791532781</td>\n",
       "      <td>4079050915</td>\n",
       "      <td>2019-08-19</td>\n",
       "      <td>4930</td>\n",
       "      <td>A</td>\n",
       "    </tr>\n",
       "    <tr>\n",
       "      <th>460</th>\n",
       "      <td>141445646</td>\n",
       "      <td>3017378493</td>\n",
       "      <td>2019-08-19</td>\n",
       "      <td>3190</td>\n",
       "      <td>A</td>\n",
       "    </tr>\n",
       "    <tr>\n",
       "      <th>461</th>\n",
       "      <td>2683113224</td>\n",
       "      <td>154576532</td>\n",
       "      <td>2019-08-19</td>\n",
       "      <td>26550</td>\n",
       "      <td>B</td>\n",
       "    </tr>\n",
       "    <tr>\n",
       "      <th>462</th>\n",
       "      <td>2661837070</td>\n",
       "      <td>3819243527</td>\n",
       "      <td>2019-08-19</td>\n",
       "      <td>9232</td>\n",
       "      <td>A</td>\n",
       "    </tr>\n",
       "    <tr>\n",
       "      <th>463</th>\n",
       "      <td>4170537404</td>\n",
       "      <td>290022471</td>\n",
       "      <td>2019-08-19</td>\n",
       "      <td>16480</td>\n",
       "      <td>B</td>\n",
       "    </tr>\n",
       "    <tr>\n",
       "      <th>523</th>\n",
       "      <td>1739748874</td>\n",
       "      <td>522292794</td>\n",
       "      <td>2019-08-19</td>\n",
       "      <td>4880</td>\n",
       "      <td>B</td>\n",
       "    </tr>\n",
       "    <tr>\n",
       "      <th>524</th>\n",
       "      <td>3487214061</td>\n",
       "      <td>2776274025</td>\n",
       "      <td>2019-08-19</td>\n",
       "      <td>6590</td>\n",
       "      <td>A</td>\n",
       "    </tr>\n",
       "    <tr>\n",
       "      <th>525</th>\n",
       "      <td>3031564664</td>\n",
       "      <td>393266494</td>\n",
       "      <td>2019-08-19</td>\n",
       "      <td>21550</td>\n",
       "      <td>A</td>\n",
       "    </tr>\n",
       "    <tr>\n",
       "      <th>527</th>\n",
       "      <td>1570513684</td>\n",
       "      <td>2837914161</td>\n",
       "      <td>2019-08-19</td>\n",
       "      <td>33405</td>\n",
       "      <td>B</td>\n",
       "    </tr>\n",
       "    <tr>\n",
       "      <th>529</th>\n",
       "      <td>90109939</td>\n",
       "      <td>2075769885</td>\n",
       "      <td>2019-08-19</td>\n",
       "      <td>3525</td>\n",
       "      <td>B</td>\n",
       "    </tr>\n",
       "    <tr>\n",
       "      <th>530</th>\n",
       "      <td>3970235543</td>\n",
       "      <td>2912540959</td>\n",
       "      <td>2019-08-19</td>\n",
       "      <td>43990</td>\n",
       "      <td>A</td>\n",
       "    </tr>\n",
       "    <tr>\n",
       "      <th>531</th>\n",
       "      <td>4016435970</td>\n",
       "      <td>4017075195</td>\n",
       "      <td>2019-08-19</td>\n",
       "      <td>13390</td>\n",
       "      <td>A</td>\n",
       "    </tr>\n",
       "  </tbody>\n",
       "</table>\n",
       "</div>"
      ],
      "text/plain": [
       "     transactionId   visitorId       date  revenue group\n",
       "318     3412626998  3282099314 2019-08-19    11985     A\n",
       "366     2037051350  1957949546 2019-08-19    16770     A\n",
       "367     1033377712  3860669668 2019-08-19     3990     B\n",
       "368     3268879337  2536252163 2019-08-19    20026     B\n",
       "421     3765974140  1357170471 2019-08-19    31680     A\n",
       "422      181836088  3528043184 2019-08-19     9490     A\n",
       "423     4161654914   990904712 2019-08-19    11249     B\n",
       "425      590470918  1920142716 2019-08-19  1294500     B\n",
       "428      791532781  4079050915 2019-08-19     4930     A\n",
       "460      141445646  3017378493 2019-08-19     3190     A\n",
       "461     2683113224   154576532 2019-08-19    26550     B\n",
       "462     2661837070  3819243527 2019-08-19     9232     A\n",
       "463     4170537404   290022471 2019-08-19    16480     B\n",
       "523     1739748874   522292794 2019-08-19     4880     B\n",
       "524     3487214061  2776274025 2019-08-19     6590     A\n",
       "525     3031564664   393266494 2019-08-19    21550     A\n",
       "527     1570513684  2837914161 2019-08-19    33405     B\n",
       "529       90109939  2075769885 2019-08-19     3525     B\n",
       "530     3970235543  2912540959 2019-08-19    43990     A\n",
       "531     4016435970  4017075195 2019-08-19    13390     A"
      ]
     },
     "execution_count": 21,
     "metadata": {},
     "output_type": "execute_result"
    }
   ],
   "source": [
    "#находим медианное значение выручки заказа\n",
    "orders_median = orders['revenue'].median()\n",
    "#создаем новую переменную, в которую входят данные только за 19.08.2019\n",
    "orders_new = orders[orders['date'] == '2019-08-19']\n",
    "#выведем только те записи, что больше медианы, чтобы найти возможный выброс\n",
    "orders_new = orders_new[orders_new['revenue'] > orders_median]\n",
    "orders_new"
   ]
  },
  {
   "cell_type": "markdown",
   "metadata": {},
   "source": [
    "Видим, что 19.08.2019 был один заказ на 1.3 млн рублей - можно посчитать его за выброс."
   ]
  },
  {
   "cell_type": "markdown",
   "metadata": {},
   "source": [
    "<div class=\"alert alert-block alert-success\">\n",
    "\n",
    "    \n",
    "### Комментарий от ревьюера v_1\n",
    "\n",
    "👍🏻\n",
    "    \n",
    "Но слишком большая таблица, стоило фильтровать не по медиане\n",
    "    \n",
    "</div>"
   ]
  },
  {
   "cell_type": "markdown",
   "metadata": {},
   "source": [
    "**2. Построим график кумулятивного среднего чека по группам**"
   ]
  },
  {
   "cell_type": "markdown",
   "metadata": {},
   "source": [
    "Построим графики среднего чека по группам — разделим кумулятивную выручку на кумулятивное число заказов:"
   ]
  },
  {
   "cell_type": "code",
   "execution_count": 22,
   "metadata": {},
   "outputs": [
    {
     "data": {
      "image/png": "[encoded data removed]",
      "text/plain": [
       "<Figure size 1440x360 with 1 Axes>"
      ]
     },
     "metadata": {
      "needs_background": "light"
     },
     "output_type": "display_data"
    }
   ],
   "source": [
    "plt.figure(figsize = (20,5))\n",
    "plt.plot(cumulativeRevenueA['date'], cumulativeRevenueA['revenue']/cumulativeRevenueA['orders'], label = 'Группа A')\n",
    "plt.plot(cumulativeRevenueB['date'], cumulativeRevenueB['revenue']/cumulativeRevenueB['orders'], label = 'Группа B')\n",
    "plt.title('Кумулятивное среднего чека по группам')\n",
    "plt.grid()\n",
    "plt.legend();"
   ]
  },
  {
   "cell_type": "markdown",
   "metadata": {},
   "source": [
    "По графику видно все то же влияние заказа группы В от 19.08.2019 года в размере 1.3 млн - график резко взлетел вверх - далее, однако, средний чек начал снижаться.\n",
    "\n",
    "По группе А можно также заметить резкое повышение среднего чека от 13.08.2019 года - далее стабилизируется и находится на примерно одном уровне, но все же средний чек группы А находится ниже, чем у группы В."
   ]
  },
  {
   "cell_type": "markdown",
   "metadata": {},
   "source": [
    "**3. Построим график относительного изменения кумулятивного среднего чека группы B к группе A**"
   ]
  },
  {
   "cell_type": "code",
   "execution_count": 23,
   "metadata": {},
   "outputs": [
    {
     "data": {
      "image/png": "[encoded data removed]",
      "text/plain": [
       "<Figure size 1440x360 with 1 Axes>"
      ]
     },
     "metadata": {
      "needs_background": "light"
     },
     "output_type": "display_data"
    }
   ],
   "source": [
    "#собираем данные в одном датафрейме\n",
    "mergedCumulativeRevenue = cumulativeRevenueA.merge(cumulativeRevenueB, left_on = 'date', right_on = 'date', how = 'left', suffixes = ['A', 'B'])\n",
    "#cтроим отношение средних чеков\n",
    "plt.figure(figsize = (20,5))\n",
    "plt.plot(mergedCumulativeRevenue['date'], (mergedCumulativeRevenue['revenueB'] / mergedCumulativeRevenue['ordersB']) / (mergedCumulativeRevenue['revenueA'] / mergedCumulativeRevenue['ordersA']) - 1)\n",
    "#добавляем ось X\n",
    "plt.axhline(y = 0, color = 'black', linestyle = '--')\n",
    "plt.title('Изменение кумулятивного среднего чека группы B к группе A')\n",
    "plt.grid()"
   ]
  },
  {
   "cell_type": "markdown",
   "metadata": {},
   "source": [
    "По данному графику также видно влияние крупного заказа от 19.08.2019 - график резко летит вверх\n",
    "\n",
    "Средний чек группы В был на протяжении всего времени теста выше, чем у группы А, кроме 12-14.08.2019 - где произошло резкое падение с таким же резким подъемом далее. По конец теста средний чек группы В начал постепенно снижаться."
   ]
  },
  {
   "cell_type": "markdown",
   "metadata": {},
   "source": [
    "**4. Построим график кумулятивного среднего количества заказов на посетителя по группам**"
   ]
  },
  {
   "cell_type": "code",
   "execution_count": 24,
   "metadata": {},
   "outputs": [
    {
     "data": {
      "image/png": "[encoded data removed]",
      "text/plain": [
       "<Figure size 1440x360 with 1 Axes>"
      ]
     },
     "metadata": {
      "needs_background": "light"
     },
     "output_type": "display_data"
    }
   ],
   "source": [
    "#датафрейм с кумулятивным количеством заказов и кумулятивным количеством посетителей по дням в группе А\n",
    "cumulativeVisitorsA = cumulativeData[cumulativeData['group'] == 'A'][['date','visitors', 'orders']]\n",
    "#датафрейм с кумулятивным количеством заказов и кумулятивным количеством посетителей по дням в группе B\n",
    "cumulativeVisitorsB = cumulativeData[cumulativeData['group'] == 'B'][['date','visitors', 'orders']]\n",
    "plt.figure(figsize = (20,5))\n",
    "#cтроим график группы А\n",
    "plt.plot(cumulativeVisitorsA['date'], cumulativeVisitorsA['orders'] / cumulativeVisitorsA['visitors'].unique(), label = 'Группа A')\n",
    "#cтроим график группы B\n",
    "plt.plot(cumulativeVisitorsB['date'], cumulativeVisitorsB['orders'] / cumulativeVisitorsB['visitors'].unique(), label = 'Группа B')\n",
    "plt.title('Кумулятивное среднего количества заказов на посетителя по группам')\n",
    "plt.grid()\n",
    "plt.legend();"
   ]
  },
  {
   "cell_type": "markdown",
   "metadata": {},
   "source": [
    "Количество заказов группы В, уже с 6.08.2019, стабильно больше заказов группы А и так до самого завершения теста."
   ]
  },
  {
   "cell_type": "markdown",
   "metadata": {},
   "source": [
    "**5. Построим график относительного изменения кумулятивного среднего количества заказов на посетителя группы B к группе A**"
   ]
  },
  {
   "cell_type": "code",
   "execution_count": 25,
   "metadata": {},
   "outputs": [
    {
     "data": {
      "image/png": "[encoded data removed]",
      "text/plain": [
       "<Figure size 1440x360 with 1 Axes>"
      ]
     },
     "metadata": {
      "needs_background": "light"
     },
     "output_type": "display_data"
    }
   ],
   "source": [
    "#собираем данные в одном датафрейме\n",
    "mergedCumulativeVisitors = cumulativeVisitorsA.merge(cumulativeVisitorsB, left_on = 'date', right_on = 'date', how = 'left', suffixes = ['A', 'B'])\n",
    "#cтроим отношение средних чеков\n",
    "plt.figure(figsize = (20,5))\n",
    "plt.plot(mergedCumulativeVisitors['date'], (mergedCumulativeVisitors['ordersB'] / mergedCumulativeVisitors['visitorsB']) / (mergedCumulativeVisitors['ordersA'] / mergedCumulativeVisitors['visitorsA']) - 1)\n",
    "#добавляем ось X\n",
    "plt.axhline(y = 0, color = 'black', linestyle = '--')\n",
    "plt.title('Относительное изменение кумулятивного среднего количества заказов на посетителя группы B к группе A')\n",
    "plt.grid();"
   ]
  },
  {
   "cell_type": "markdown",
   "metadata": {},
   "source": [
    "Первое время от начала теста (1 и 3-6.08.2019) среднее количество заказов на посетителя группы А было выше, чем у группы В, однако далее произошел резкий подъем количества заказов и на таком (примерно одинаковом) уровне продержалось на всем протяжении оставшегося время проведения теста."
   ]
  },
  {
   "cell_type": "markdown",
   "metadata": {},
   "source": [
    "**6. Построим точечный график количества заказов по пользователям**"
   ]
  },
  {
   "cell_type": "code",
   "execution_count": 26,
   "metadata": {},
   "outputs": [
    {
     "data": {
      "image/png": "[encoded data removed]",
      "text/plain": [
       "<Figure size 1440x360 with 1 Axes>"
      ]
     },
     "metadata": {
      "needs_background": "light"
     },
     "output_type": "display_data"
    }
   ],
   "source": [
    "ordersByUsers = (\n",
    "    orders.groupby('visitorId', as_index = False)\n",
    "    .agg({'transactionId': 'nunique'})\n",
    ")\n",
    "plt.figure(figsize = (20,5))\n",
    "plt.grid()\n",
    "ordersByUsers.columns = ['userId', 'orders']\n",
    "x_values = pd.Series(range(0, len(ordersByUsers)))\n",
    "plt.title('Количество заказов по пользователям')\n",
    "plt.scatter(x_values, ordersByUsers['orders']);"
   ]
  },
  {
   "cell_type": "markdown",
   "metadata": {},
   "source": [
    "Наибольшее число тех пользователей, кто совершил 1 заказ - также достаточно часто совершали и 2 заказа, однако 3 и более встречаются редко - и можно считать это аномалиями (свыше 3)."
   ]
  },
  {
   "cell_type": "markdown",
   "metadata": {},
   "source": [
    "**7. Посчитаем 95-й и 99-й перцентили количества заказов на пользователя**"
   ]
  },
  {
   "cell_type": "code",
   "execution_count": 27,
   "metadata": {},
   "outputs": [
    {
     "name": "stdout",
     "output_type": "stream",
     "text": [
      "95-й и 99-й перцентили количества заказов на пользователя равны [2. 4.]\n"
     ]
    }
   ],
   "source": [
    "percentile_95_order = round(np.percentile(ordersByUsers['orders'], 95))\n",
    "print('95-й и 99-й перцентили количества заказов на пользователя равны', np.percentile(ordersByUsers['orders'], [95, 99]))"
   ]
  },
  {
   "cell_type": "markdown",
   "metadata": {},
   "source": [
    "Не более 5% пользователей оформляли больше чем 2 заказов. И не более 1% пользователей заказывали более 4 раз - следовательно, что выше 2 заказов - это аномалия. "
   ]
  },
  {
   "cell_type": "markdown",
   "metadata": {},
   "source": [
    "**8. Построим точечный график стоимостей заказов**"
   ]
  },
  {
   "cell_type": "code",
   "execution_count": 28,
   "metadata": {},
   "outputs": [
    {
     "data": {
      "image/png": "[encoded data removed]",
      "text/plain": [
       "<Figure size 1440x360 with 1 Axes>"
      ]
     },
     "metadata": {
      "needs_background": "light"
     },
     "output_type": "display_data"
    }
   ],
   "source": [
    "x_values = pd.Series(range(0,len(orders['revenue'])))\n",
    "plt.figure(figsize = (20,5))\n",
    "plt.grid()\n",
    "plt.title('Стоимость заказов')\n",
    "plt.scatter(x_values, orders['revenue']);"
   ]
  },
  {
   "cell_type": "markdown",
   "metadata": {},
   "source": [
    "На графике видно тот самый заказ на 1.3 млн - аномалия.\n",
    "\n",
    "Данный график достаточно плохо прочитать, нужно построить более точный график - до 200.000 - где видна вторая возможная аномалия."
   ]
  },
  {
   "cell_type": "code",
   "execution_count": 29,
   "metadata": {},
   "outputs": [
    {
     "data": {
      "image/png": "[encoded data removed]",
      "text/plain": [
       "<Figure size 1440x360 with 1 Axes>"
      ]
     },
     "metadata": {
      "needs_background": "light"
     },
     "output_type": "display_data"
    }
   ],
   "source": [
    "revenue_new = orders[orders['revenue'] <= 200000]['revenue']\n",
    "x_values = pd.Series(range(0,len(revenue_new)))\n",
    "plt.figure(figsize = (20,5))\n",
    "plt.grid()\n",
    "plt.title('Стоимость заказов')\n",
    "plt.scatter(x_values, revenue_new);"
   ]
  },
  {
   "cell_type": "markdown",
   "metadata": {},
   "source": [
    "По графику видно, что большиноство пользователей оформляют заказы на сумму до 40.000"
   ]
  },
  {
   "cell_type": "markdown",
   "metadata": {},
   "source": [
    "**9. Посчитаем 95-й и 99-й перцентили стоимости заказов**"
   ]
  },
  {
   "cell_type": "code",
   "execution_count": 30,
   "metadata": {},
   "outputs": [
    {
     "name": "stdout",
     "output_type": "stream",
     "text": [
      "95-й и 99-й перцентили стоимости заказов равны [28000.  58233.2]\n"
     ]
    }
   ],
   "source": [
    "percentile_95_revenue = round(np.percentile(orders['revenue'], 95))\n",
    "print('95-й и 99-й перцентили стоимости заказов равны', np.percentile(orders['revenue'], [95, 99]))"
   ]
  },
  {
   "cell_type": "markdown",
   "metadata": {},
   "source": [
    "Не более 5% пользователей оформляли заказы более чем на 28.000. И не более 1% пользователей заказывали на сумму свыше 58.234 - следовательно, что выше суммы в 28.000 примем за аномалию."
   ]
  },
  {
   "cell_type": "markdown",
   "metadata": {},
   "source": [
    "**10. Посчитаем статистическую значимость различий в среднем количестве заказов на посетителя между группами по «сырым» данным**"
   ]
  },
  {
   "cell_type": "markdown",
   "metadata": {},
   "source": [
    "- Нулевая гипотеза - статистически значимых различий в среднем количестве заказов между группами нет\n",
    "- Альтернативная гипотеза - статистически значимых различий в среднем количестве заказов между группами есть\n",
    "\n",
    "Уровень значимости alpha = 0.05"
   ]
  },
  {
   "cell_type": "code",
   "execution_count": 31,
   "metadata": {},
   "outputs": [],
   "source": [
    "#cоздадим переменные ordersByUsersA и ordersByUsersB со столбцами ['visitorId', 'orders'].\n",
    "#В них для пользователей, которые заказывали хотя бы 1 раз, укажем число совершённых заказов. \n",
    "ordersByUsersA = (\n",
    "    orders[orders['group'] == 'A']\n",
    "    .groupby('visitorId', as_index=False)\n",
    "    .agg({'transactionId': pd.Series.nunique})\n",
    ")\n",
    "ordersByUsersA.columns = ['visitorId', 'orders']\n",
    "\n",
    "ordersByUsersB = (\n",
    "    orders[orders['group'] == 'B']\n",
    "    .groupby('visitorId', as_index=False)\n",
    "    .agg({'transactionId': pd.Series.nunique})\n",
    ")\n",
    "ordersByUsersB.columns = ['visitorId', 'orders']\n",
    "\n",
    "visitorsADaily = visitors[visitors['group'] == 'A'][['date', 'visitors']]\n",
    "visitorsADaily.columns = ['date', 'visitorsPerDateA']\n",
    "visitorsBDaily = visitors[visitors['group'] == 'B'][['date', 'visitors']]\n",
    "visitorsBDaily.columns = ['date', 'visitorsPerDateB']"
   ]
  },
  {
   "cell_type": "code",
   "execution_count": 32,
   "metadata": {},
   "outputs": [
    {
     "name": "stdout",
     "output_type": "stream",
     "text": [
      "p-value 0.017\n",
      "относительный показатель 0.138\n"
     ]
    }
   ],
   "source": [
    "sampleA = pd.concat(\n",
    "    [\n",
    "        ordersByUsersA['orders'],\n",
    "        pd.Series(\n",
    "            0,\n",
    "            index = np.arange(\n",
    "                visitorsADaily['visitorsPerDateA'].sum() - len(ordersByUsersA['orders'])\n",
    "            ),\n",
    "            name = 'orders',\n",
    "        ),\n",
    "    ],\n",
    "    axis = 0,\n",
    ")\n",
    "\n",
    "sampleB = pd.concat(\n",
    "    [\n",
    "        ordersByUsersB['orders'],\n",
    "        pd.Series(\n",
    "            0,\n",
    "            index = np.arange(\n",
    "                visitorsBDaily['visitorsPerDateB'].sum() - len(ordersByUsersB['orders'])\n",
    "            ),\n",
    "            name = 'orders',\n",
    "        ),\n",
    "    ],\n",
    "    axis = 0,\n",
    ")\n",
    "\n",
    "print('p-value', '{0:.3f}'.format(stats.mannwhitneyu(sampleA, sampleB)[1]))\n",
    "print('относительный показатель', '{0:.3f}'.format(sampleB.mean() / sampleA.mean() - 1))"
   ]
  },
  {
   "cell_type": "markdown",
   "metadata": {},
   "source": [
    "P-value меньше alpha = 0.05. Значит гипотезу о том, что статистически значимых различий в среднем количестве заказов между группами нет, отвергаем. По «сырым» данным наблюдается статистически значимая разница в среднем количестве заказов на посетителя между группами A и B. Среднее количество заказов на посетителя группы B значительно выше показателей группы A (около 14%)."
   ]
  },
  {
   "cell_type": "markdown",
   "metadata": {},
   "source": [
    "**11. Посчитаем статистическую значимость различий в среднем чеке заказа между группами по «сырым» данным**"
   ]
  },
  {
   "cell_type": "markdown",
   "metadata": {},
   "source": [
    "- Нулевая гипотеза - статистически значимых различий в среднем чеке заказа между группами нет\n",
    "- Альтернативная гипотеза - статистически значимых различий в чеке заказа между группами есть"
   ]
  },
  {
   "cell_type": "code",
   "execution_count": 33,
   "metadata": {},
   "outputs": [
    {
     "name": "stdout",
     "output_type": "stream",
     "text": [
      "p-value 0.729\n",
      "относительный показатель 0.259\n"
     ]
    }
   ],
   "source": [
    "print('p-value', '{0:.3f}'.format(stats.mannwhitneyu(orders[orders['group']=='A']['revenue'], orders[orders['group']=='B']['revenue'])[1]))\n",
    "print('относительный показатель', '{0:.3f}'.format(orders[orders['group']=='B']['revenue'].mean()/orders[orders['group']=='A']['revenue'].mean()-1)) "
   ]
  },
  {
   "cell_type": "markdown",
   "metadata": {},
   "source": [
    "P-value значительно больше 0.05. Значит, причин отрицать нулевую гипотезу о том, что в среднем чеке есть различия, нет. Впрочем, средний чек группы B значительно выше среднего чека группы A (около 26%)."
   ]
  },
  {
   "cell_type": "markdown",
   "metadata": {},
   "source": [
    "**12. Посчитаем статистическую значимость различий в среднем количестве заказов на посетителя между группами по «очищенным» данным**"
   ]
  },
  {
   "cell_type": "markdown",
   "metadata": {},
   "source": [
    "Примем за аномальных пользователей тех, кто совершил от 2 заказов или совершил заказ дороже 28 000 рублей. Так мы уберём 5% пользователей с наибольшим числом заказов и от 1% до 5% пользователей с дорогими заказами. Сделаем срезы пользователей с числом заказов больше 2 — usersWithManyOrders и пользователей, совершивших заказы дороже 28 000 — usersWithExpensiveOrders. Объединим их в таблице abnormalUsers. "
   ]
  },
  {
   "cell_type": "code",
   "execution_count": 34,
   "metadata": {},
   "outputs": [
    {
     "name": "stdout",
     "output_type": "stream",
     "text": [
      "1099    148427295\n",
      "18      199603092\n",
      "928     204675465\n",
      "23      237748145\n",
      "37      249864742\n",
      "Name: visitorId, dtype: int64\n",
      "74\n"
     ]
    }
   ],
   "source": [
    "usersWithManyOrders = pd.concat(\n",
    "    [\n",
    "        ordersByUsersA[ordersByUsersA['orders'] > percentile_95_order]['visitorId'],\n",
    "        ordersByUsersB[ordersByUsersB['orders'] > percentile_95_order]['visitorId'],\n",
    "    ],\n",
    "    axis=0,\n",
    ")\n",
    "usersWithExpensiveOrders = orders[orders['revenue'] > percentile_95_revenue]['visitorId']\n",
    "abnormalUsers = (\n",
    "    pd.concat([usersWithManyOrders, usersWithExpensiveOrders], axis = 0)\n",
    "    .drop_duplicates()\n",
    "    .sort_values()\n",
    ")\n",
    "print(abnormalUsers.head(5))\n",
    "print(abnormalUsers.shape[0]) "
   ]
  },
  {
   "cell_type": "markdown",
   "metadata": {},
   "source": [
    "Всего 74 аномальных пользователей. \n",
    "\n",
    "Узнаем, как их действия повлияли на результаты теста. Посчитаем статистическую значимость различий в среднем количестве заказов между группами теста по очищенным данным. Сначала подготовим выборки количества заказов по пользователям по группам теста:"
   ]
  },
  {
   "cell_type": "code",
   "execution_count": 35,
   "metadata": {},
   "outputs": [],
   "source": [
    "sampleAFiltered = pd.concat(\n",
    "    [\n",
    "        ordersByUsersA[\n",
    "            np.logical_not(ordersByUsersA['visitorId'].isin(abnormalUsers))\n",
    "        ]['orders'],\n",
    "        pd.Series(\n",
    "            0,\n",
    "            index=np.arange(\n",
    "                visitorsADaily['visitorsPerDateA'].sum() - len(ordersByUsersA['orders'])\n",
    "            ),\n",
    "            name='orders',\n",
    "        ),\n",
    "    ],\n",
    "    axis=0,\n",
    ")\n",
    "\n",
    "sampleBFiltered = pd.concat(\n",
    "    [\n",
    "        ordersByUsersB[\n",
    "            np.logical_not(ordersByUsersB['visitorId'].isin(abnormalUsers))\n",
    "        ]['orders'],\n",
    "        pd.Series(\n",
    "            0,\n",
    "            index=np.arange(\n",
    "                visitorsBDaily['visitorsPerDateB'].sum() - len(ordersByUsersB['orders'])\n",
    "            ),\n",
    "            name='orders',\n",
    "        ),\n",
    "    ],\n",
    "    axis=0,\n",
    ") "
   ]
  },
  {
   "cell_type": "code",
   "execution_count": 36,
   "metadata": {},
   "outputs": [
    {
     "name": "stdout",
     "output_type": "stream",
     "text": [
      "p-value 0.013\n",
      "относительный показатель 0.173\n"
     ]
    }
   ],
   "source": [
    "#применим статистический критерий Манна-Уитни к полученным выборкам\n",
    "print('p-value', '{0:.3f}'.format(stats.mannwhitneyu(sampleAFiltered, sampleBFiltered)[1]))\n",
    "print('относительный показатель', '{0:.3f}'.format(sampleBFiltered.mean() / sampleAFiltered.mean()-1)) "
   ]
  },
  {
   "cell_type": "markdown",
   "metadata": {},
   "source": [
    "Результаты по среднему количеству заказов практически не изменились - по «очищенным» данным различия в конверсии групп A и B есть. Результаты группы В также опережают результаты группы А на 17% (по \"сырым\" данным на 14%)"
   ]
  },
  {
   "cell_type": "markdown",
   "metadata": {},
   "source": [
    "**13. Посчитаем статистическую значимость различий в среднем чеке заказа между группами по «очищенным» данным**"
   ]
  },
  {
   "cell_type": "code",
   "execution_count": 37,
   "metadata": {},
   "outputs": [
    {
     "name": "stdout",
     "output_type": "stream",
     "text": [
      "p-value 0.738\n",
      "относительный показатель -0.020\n"
     ]
    }
   ],
   "source": [
    "print('p-value',\n",
    "    '{0:.3f}'.format(\n",
    "        stats.mannwhitneyu(\n",
    "            orders[\n",
    "                np.logical_and(\n",
    "                    orders['group'] == 'A',\n",
    "                    np.logical_not(orders['visitorId'].isin(abnormalUsers)),\n",
    "                )\n",
    "            ]['revenue'],\n",
    "            orders[\n",
    "                np.logical_and(\n",
    "                    orders['group'] == 'B',\n",
    "                    np.logical_not(orders['visitorId'].isin(abnormalUsers)),\n",
    "                )\n",
    "            ]['revenue']\n",
    "        )[1]\n",
    "    )\n",
    ")\n",
    "\n",
    "print('относительный показатель',\n",
    "    '{0:.3f}'.format(\n",
    "        orders[\n",
    "            np.logical_and(\n",
    "                orders['group'] == 'B',\n",
    "                np.logical_not(orders['visitorId'].isin(abnormalUsers)),\n",
    "            )\n",
    "        ]['revenue'].mean()\n",
    "        / orders[\n",
    "            np.logical_and(\n",
    "                orders['group'] == 'A',\n",
    "                np.logical_not(orders['visitorId'].isin(abnormalUsers)),\n",
    "            )\n",
    "        ]['revenue'].mean()\n",
    "        - 1\n",
    "    )\n",
    ") "
   ]
  },
  {
   "cell_type": "markdown",
   "metadata": {},
   "source": [
    "P-value практически не увеличился, но разница между сегментами сократилась с 26% до 2% - средний чек группы B оказался незначительно ниже среднего чека группы A.\n",
    "\n",
    "Нулевую гипотезу не отвергаем."
   ]
  },
  {
   "cell_type": "markdown",
   "metadata": {},
   "source": [
    "**14. Примем решение по результатам теста**"
   ]
  },
  {
   "cell_type": "markdown",
   "metadata": {},
   "source": [
    "\n",
    "- И по \"сырым\" и по \"очищенным\" данным различия в среднем количестве заказов на посетителя групп A и B есть - результаты группы \"B\" выше результатов группы \"A\" на 17% по \"очищенным\" и 14% по \"сырым\" данным - **результат в пользу группы В**\n",
    "- По \"сырым\" данным различия в среднем чеке посетителей групп A и B также есть - результаты группы \"B\" выше результатов группы \"A\" на 26%, в то время как по \"очищенным\" группа А выигрывает всего на 2% группу В - все это из-за аномально крупного заказа в 1.3 млн - но даже по такой результату можно говориить об отсутствии статистически значимых различий - **результат в пользу группы В**\n",
    "- Кумулятивные метрики по выручке почти все время лидировали в группе B - **результат в пользу группы В**\n",
    "\n",
    "**По проведенному анализу приходим к выводу, что тест можно остановить и зафиксировать победу группы В - она достаточно эффективнее группы А.**"
   ]
  },
  {
   "cell_type": "code",
   "execution_count": null,
   "metadata": {},
   "outputs": [],
   "source": []
  }
 ],
 "metadata": {
  "ExecuteTimeLog": [
   {
    "duration": 208,
    "start_time": "2023-05-23T14:07:24.780Z"
   },
   {
    "duration": 3,
    "start_time": "2023-05-23T14:08:55.140Z"
   },
   {
    "duration": 1835,
    "start_time": "2023-05-23T14:14:31.709Z"
   },
   {
    "duration": 12,
    "start_time": "2023-05-23T14:15:00.661Z"
   },
   {
    "duration": 6,
    "start_time": "2023-05-23T14:15:21.785Z"
   },
   {
    "duration": 6,
    "start_time": "2023-05-23T14:15:37.340Z"
   },
   {
    "duration": 7,
    "start_time": "2023-05-23T14:16:40.539Z"
   },
   {
    "duration": 5,
    "start_time": "2023-05-23T14:16:55.222Z"
   },
   {
    "duration": 8,
    "start_time": "2023-05-23T14:17:00.445Z"
   },
   {
    "duration": 5,
    "start_time": "2023-05-23T14:17:08.426Z"
   },
   {
    "duration": 9,
    "start_time": "2023-05-23T14:17:12.256Z"
   },
   {
    "duration": 10,
    "start_time": "2023-05-23T14:17:12.642Z"
   },
   {
    "duration": 5,
    "start_time": "2023-05-23T14:17:15.347Z"
   },
   {
    "duration": 231,
    "start_time": "2023-05-23T14:18:06.740Z"
   },
   {
    "duration": 13,
    "start_time": "2023-05-23T14:18:06.974Z"
   },
   {
    "duration": 23,
    "start_time": "2023-05-23T14:18:06.989Z"
   },
   {
    "duration": 19,
    "start_time": "2023-05-23T14:18:07.014Z"
   },
   {
    "duration": 17,
    "start_time": "2023-05-23T14:18:07.036Z"
   },
   {
    "duration": 18,
    "start_time": "2023-05-23T14:18:07.055Z"
   },
   {
    "duration": 11,
    "start_time": "2023-05-23T14:18:07.075Z"
   },
   {
    "duration": 15,
    "start_time": "2023-05-23T14:18:07.088Z"
   },
   {
    "duration": 5,
    "start_time": "2023-05-23T14:19:33.619Z"
   },
   {
    "duration": 14,
    "start_time": "2023-05-23T14:19:48.843Z"
   },
   {
    "duration": 9,
    "start_time": "2023-05-23T14:19:56.407Z"
   },
   {
    "duration": 9,
    "start_time": "2023-05-23T14:19:57.747Z"
   },
   {
    "duration": 10,
    "start_time": "2023-05-23T14:21:06.575Z"
   },
   {
    "duration": 12,
    "start_time": "2023-05-23T14:21:20.851Z"
   },
   {
    "duration": 13,
    "start_time": "2023-05-23T14:21:40.391Z"
   },
   {
    "duration": 9,
    "start_time": "2023-05-23T14:21:55.284Z"
   },
   {
    "duration": 6,
    "start_time": "2023-05-23T14:21:58.521Z"
   },
   {
    "duration": 6,
    "start_time": "2023-05-23T14:22:11.043Z"
   },
   {
    "duration": 8,
    "start_time": "2023-05-23T14:22:11.611Z"
   },
   {
    "duration": 88,
    "start_time": "2023-05-23T14:23:51.742Z"
   },
   {
    "duration": 2,
    "start_time": "2023-05-23T14:25:29.048Z"
   },
   {
    "duration": 9,
    "start_time": "2023-05-23T14:35:29.749Z"
   },
   {
    "duration": 9,
    "start_time": "2023-05-23T14:35:34.113Z"
   },
   {
    "duration": 15,
    "start_time": "2023-05-23T14:35:43.908Z"
   },
   {
    "duration": 9,
    "start_time": "2023-05-23T14:36:15.891Z"
   },
   {
    "duration": 3,
    "start_time": "2023-05-23T14:39:33.123Z"
   },
   {
    "duration": 6,
    "start_time": "2023-05-23T14:40:50.199Z"
   },
   {
    "duration": 11,
    "start_time": "2023-05-23T14:41:08.142Z"
   },
   {
    "duration": 10,
    "start_time": "2023-05-23T14:41:59.015Z"
   },
   {
    "duration": 14,
    "start_time": "2023-05-23T14:43:01.510Z"
   },
   {
    "duration": 4,
    "start_time": "2023-05-23T14:43:29.834Z"
   },
   {
    "duration": 13,
    "start_time": "2023-05-23T14:43:36.040Z"
   },
   {
    "duration": 10,
    "start_time": "2023-05-23T14:43:44.735Z"
   },
   {
    "duration": 20,
    "start_time": "2023-05-23T14:43:46.916Z"
   },
   {
    "duration": 107,
    "start_time": "2023-05-23T14:43:51.869Z"
   },
   {
    "duration": 14,
    "start_time": "2023-05-23T14:43:51.979Z"
   },
   {
    "duration": 7,
    "start_time": "2023-05-23T14:43:51.994Z"
   },
   {
    "duration": 19,
    "start_time": "2023-05-23T14:43:52.003Z"
   },
   {
    "duration": 16,
    "start_time": "2023-05-23T14:43:52.026Z"
   },
   {
    "duration": 34,
    "start_time": "2023-05-23T14:43:52.044Z"
   },
   {
    "duration": 20,
    "start_time": "2023-05-23T14:43:52.081Z"
   },
   {
    "duration": 22,
    "start_time": "2023-05-23T14:43:52.103Z"
   },
   {
    "duration": 9,
    "start_time": "2023-05-23T14:43:52.127Z"
   },
   {
    "duration": 12,
    "start_time": "2023-05-23T14:43:52.138Z"
   },
   {
    "duration": 13,
    "start_time": "2023-05-23T14:43:52.153Z"
   },
   {
    "duration": 33,
    "start_time": "2023-05-23T14:43:52.168Z"
   },
   {
    "duration": 11,
    "start_time": "2023-05-23T14:43:52.203Z"
   },
   {
    "duration": 12,
    "start_time": "2023-05-23T14:43:52.218Z"
   },
   {
    "duration": 18,
    "start_time": "2023-05-23T14:43:52.232Z"
   },
   {
    "duration": 10,
    "start_time": "2023-05-23T14:43:55.243Z"
   },
   {
    "duration": 13,
    "start_time": "2023-05-23T14:43:57.731Z"
   },
   {
    "duration": 113,
    "start_time": "2023-05-23T14:44:33.159Z"
   },
   {
    "duration": 20,
    "start_time": "2023-05-23T14:44:41.866Z"
   },
   {
    "duration": 20,
    "start_time": "2023-05-23T14:44:54.751Z"
   },
   {
    "duration": 54,
    "start_time": "2023-05-23T14:55:45.454Z"
   },
   {
    "duration": 8,
    "start_time": "2023-05-23T15:09:48.235Z"
   },
   {
    "duration": 10,
    "start_time": "2023-05-23T15:12:33.552Z"
   },
   {
    "duration": 39,
    "start_time": "2023-05-23T15:13:50.378Z"
   },
   {
    "duration": 16,
    "start_time": "2023-05-23T15:14:27.777Z"
   },
   {
    "duration": 10,
    "start_time": "2023-05-23T15:14:37.252Z"
   },
   {
    "duration": 300,
    "start_time": "2023-05-23T15:16:21.844Z"
   },
   {
    "duration": 245,
    "start_time": "2023-05-23T15:16:28.036Z"
   },
   {
    "duration": 295,
    "start_time": "2023-05-23T15:16:54.935Z"
   },
   {
    "duration": 171,
    "start_time": "2023-05-23T15:17:20.550Z"
   },
   {
    "duration": 296,
    "start_time": "2023-05-23T15:17:56.037Z"
   },
   {
    "duration": 192,
    "start_time": "2023-05-23T15:18:56.336Z"
   },
   {
    "duration": 186,
    "start_time": "2023-05-23T15:19:05.530Z"
   },
   {
    "duration": 58,
    "start_time": "2023-05-23T15:19:35.892Z"
   },
   {
    "duration": 59,
    "start_time": "2023-05-23T15:19:46.539Z"
   },
   {
    "duration": 168,
    "start_time": "2023-05-23T15:23:32.044Z"
   },
   {
    "duration": 183,
    "start_time": "2023-05-23T15:26:36.402Z"
   },
   {
    "duration": 161,
    "start_time": "2023-05-23T15:26:51.133Z"
   },
   {
    "duration": 374,
    "start_time": "2023-05-23T15:27:37.012Z"
   },
   {
    "duration": 360,
    "start_time": "2023-05-23T15:27:52.497Z"
   },
   {
    "duration": 300,
    "start_time": "2023-05-23T15:28:13.129Z"
   },
   {
    "duration": 183,
    "start_time": "2023-05-23T15:28:19.512Z"
   },
   {
    "duration": 199,
    "start_time": "2023-05-23T15:28:30.281Z"
   },
   {
    "duration": 220,
    "start_time": "2023-05-23T15:29:51.648Z"
   },
   {
    "duration": 212,
    "start_time": "2023-05-23T15:30:20.830Z"
   },
   {
    "duration": 14,
    "start_time": "2023-05-23T15:37:59.454Z"
   },
   {
    "duration": 13,
    "start_time": "2023-05-23T15:39:25.474Z"
   },
   {
    "duration": 9,
    "start_time": "2023-05-23T15:41:39.397Z"
   },
   {
    "duration": 4,
    "start_time": "2023-05-23T15:41:54.217Z"
   },
   {
    "duration": 13,
    "start_time": "2023-05-23T15:42:02.155Z"
   },
   {
    "duration": 10,
    "start_time": "2023-05-23T15:43:08.612Z"
   },
   {
    "duration": 12,
    "start_time": "2023-05-23T15:43:20.545Z"
   },
   {
    "duration": 14,
    "start_time": "2023-05-23T15:43:39.685Z"
   },
   {
    "duration": 14,
    "start_time": "2023-05-23T15:44:41.935Z"
   },
   {
    "duration": 15,
    "start_time": "2023-05-23T15:44:52.946Z"
   },
   {
    "duration": 241,
    "start_time": "2023-05-23T15:45:40.440Z"
   },
   {
    "duration": 31,
    "start_time": "2023-05-23T15:46:52.853Z"
   },
   {
    "duration": 6,
    "start_time": "2023-05-23T15:47:08.850Z"
   },
   {
    "duration": 7,
    "start_time": "2023-05-23T15:47:16.783Z"
   },
   {
    "duration": 7,
    "start_time": "2023-05-23T15:47:37.040Z"
   },
   {
    "duration": 12,
    "start_time": "2023-05-23T15:47:42.757Z"
   },
   {
    "duration": 16,
    "start_time": "2023-05-23T15:48:54.802Z"
   },
   {
    "duration": 15,
    "start_time": "2023-05-23T15:49:37.005Z"
   },
   {
    "duration": 15,
    "start_time": "2023-05-23T15:49:49.691Z"
   },
   {
    "duration": 74,
    "start_time": "2023-05-23T15:57:15.485Z"
   },
   {
    "duration": 172,
    "start_time": "2023-05-23T15:58:50.973Z"
   },
   {
    "duration": 338,
    "start_time": "2023-05-23T15:59:07.103Z"
   },
   {
    "duration": 185,
    "start_time": "2023-05-23T15:59:16.584Z"
   },
   {
    "duration": 196,
    "start_time": "2023-05-23T15:59:26.855Z"
   },
   {
    "duration": 49,
    "start_time": "2023-05-23T16:37:48.073Z"
   },
   {
    "duration": 343,
    "start_time": "2023-05-23T16:39:19.085Z"
   },
   {
    "duration": 307,
    "start_time": "2023-05-23T16:39:48.577Z"
   },
   {
    "duration": 441,
    "start_time": "2023-05-23T16:40:03.709Z"
   },
   {
    "duration": 344,
    "start_time": "2023-05-23T16:40:55.173Z"
   },
   {
    "duration": 284,
    "start_time": "2023-05-23T16:41:50.961Z"
   },
   {
    "duration": 13,
    "start_time": "2023-05-23T16:43:04.168Z"
   },
   {
    "duration": 1251,
    "start_time": "2023-05-23T17:01:49.073Z"
   },
   {
    "duration": 13,
    "start_time": "2023-05-23T17:06:50.043Z"
   },
   {
    "duration": 15,
    "start_time": "2023-05-23T17:06:58.138Z"
   },
   {
    "duration": 249,
    "start_time": "2023-05-23T17:07:51.171Z"
   },
   {
    "duration": 247,
    "start_time": "2023-05-23T17:08:36.394Z"
   },
   {
    "duration": 14,
    "start_time": "2023-05-23T17:14:01.550Z"
   },
   {
    "duration": 241,
    "start_time": "2023-05-23T17:14:18.595Z"
   },
   {
    "duration": 255,
    "start_time": "2023-05-23T17:16:42.279Z"
   },
   {
    "duration": 286,
    "start_time": "2023-05-23T17:16:57.246Z"
   },
   {
    "duration": 211,
    "start_time": "2023-05-23T17:22:29.071Z"
   },
   {
    "duration": 62,
    "start_time": "2023-05-23T17:25:26.279Z"
   },
   {
    "duration": 294,
    "start_time": "2023-05-23T17:27:46.644Z"
   },
   {
    "duration": 75,
    "start_time": "2023-05-23T17:46:34.049Z"
   },
   {
    "duration": 9,
    "start_time": "2023-05-23T17:49:15.622Z"
   },
   {
    "duration": 13,
    "start_time": "2023-05-23T17:50:43.417Z"
   },
   {
    "duration": 133,
    "start_time": "2023-05-23T17:52:02.077Z"
   },
   {
    "duration": 155,
    "start_time": "2023-05-23T17:53:19.174Z"
   },
   {
    "duration": 150,
    "start_time": "2023-05-23T17:53:35.522Z"
   },
   {
    "duration": 146,
    "start_time": "2023-05-23T17:54:09.892Z"
   },
   {
    "duration": 44,
    "start_time": "2023-05-23T17:56:44.119Z"
   },
   {
    "duration": 5,
    "start_time": "2023-05-23T17:58:06.729Z"
   },
   {
    "duration": 46,
    "start_time": "2023-05-23T17:58:46.915Z"
   },
   {
    "duration": 4,
    "start_time": "2023-05-23T17:58:53.126Z"
   },
   {
    "duration": 9,
    "start_time": "2023-05-23T18:02:20.775Z"
   },
   {
    "duration": 144,
    "start_time": "2023-05-23T18:02:36.111Z"
   },
   {
    "duration": 297,
    "start_time": "2023-05-23T18:02:49.053Z"
   },
   {
    "duration": 274,
    "start_time": "2023-05-23T18:06:24.087Z"
   },
   {
    "duration": 192,
    "start_time": "2023-05-23T18:06:31.101Z"
   },
   {
    "duration": 404,
    "start_time": "2023-05-23T18:07:18.761Z"
   },
   {
    "duration": 440,
    "start_time": "2023-05-23T18:07:31.077Z"
   },
   {
    "duration": 165,
    "start_time": "2023-05-23T18:07:46.962Z"
   },
   {
    "duration": 281,
    "start_time": "2023-05-23T18:09:00.861Z"
   },
   {
    "duration": 428,
    "start_time": "2023-05-23T18:10:13.555Z"
   },
   {
    "duration": 185,
    "start_time": "2023-05-23T18:12:37.048Z"
   },
   {
    "duration": 163,
    "start_time": "2023-05-23T18:13:09.053Z"
   },
   {
    "duration": 183,
    "start_time": "2023-05-23T18:13:38.237Z"
   },
   {
    "duration": 172,
    "start_time": "2023-05-23T18:14:05.018Z"
   },
   {
    "duration": 165,
    "start_time": "2023-05-23T18:17:15.942Z"
   },
   {
    "duration": 79,
    "start_time": "2023-05-23T18:21:04.687Z"
   },
   {
    "duration": 4,
    "start_time": "2023-05-23T18:22:57.551Z"
   },
   {
    "duration": 14,
    "start_time": "2023-05-23T18:38:17.738Z"
   },
   {
    "duration": 15,
    "start_time": "2023-05-23T18:40:00.143Z"
   },
   {
    "duration": 17,
    "start_time": "2023-05-23T18:42:00.995Z"
   },
   {
    "duration": 13,
    "start_time": "2023-05-23T18:43:49.450Z"
   },
   {
    "duration": 13,
    "start_time": "2023-05-23T18:44:28.371Z"
   },
   {
    "duration": 14,
    "start_time": "2023-05-23T18:44:59.242Z"
   },
   {
    "duration": 14,
    "start_time": "2023-05-23T18:45:08.386Z"
   },
   {
    "duration": 77,
    "start_time": "2023-05-23T18:45:18.064Z"
   },
   {
    "duration": 923,
    "start_time": "2023-05-23T18:46:00.540Z"
   },
   {
    "duration": 963,
    "start_time": "2023-05-23T18:46:14.870Z"
   },
   {
    "duration": 131,
    "start_time": "2023-05-23T18:46:51.784Z"
   },
   {
    "duration": 793,
    "start_time": "2023-05-23T18:47:07.167Z"
   },
   {
    "duration": 16,
    "start_time": "2023-05-23T18:47:15.651Z"
   },
   {
    "duration": 891,
    "start_time": "2023-05-23T18:47:16.242Z"
   },
   {
    "duration": 1818,
    "start_time": "2023-05-24T14:48:14.177Z"
   },
   {
    "duration": 13,
    "start_time": "2023-05-24T14:48:15.997Z"
   },
   {
    "duration": 13,
    "start_time": "2023-05-24T14:48:16.012Z"
   },
   {
    "duration": 7,
    "start_time": "2023-05-24T14:48:16.027Z"
   },
   {
    "duration": 12,
    "start_time": "2023-05-24T14:48:16.038Z"
   },
   {
    "duration": 44,
    "start_time": "2023-05-24T14:48:16.053Z"
   },
   {
    "duration": 15,
    "start_time": "2023-05-24T14:48:16.099Z"
   },
   {
    "duration": 10,
    "start_time": "2023-05-24T14:48:16.116Z"
   },
   {
    "duration": 6,
    "start_time": "2023-05-24T14:48:16.128Z"
   },
   {
    "duration": 20,
    "start_time": "2023-05-24T14:48:16.136Z"
   },
   {
    "duration": 34,
    "start_time": "2023-05-24T14:48:16.157Z"
   },
   {
    "duration": 16,
    "start_time": "2023-05-24T14:48:16.195Z"
   },
   {
    "duration": 32,
    "start_time": "2023-05-24T14:48:16.214Z"
   },
   {
    "duration": 65,
    "start_time": "2023-05-24T14:48:16.250Z"
   },
   {
    "duration": 114,
    "start_time": "2023-05-24T14:48:16.316Z"
   },
   {
    "duration": 21,
    "start_time": "2023-05-24T14:48:16.432Z"
   },
   {
    "duration": 13,
    "start_time": "2023-05-24T14:48:16.455Z"
   },
   {
    "duration": 314,
    "start_time": "2023-05-24T14:48:16.470Z"
   },
   {
    "duration": 321,
    "start_time": "2023-05-24T14:48:16.788Z"
   },
   {
    "duration": 16,
    "start_time": "2023-05-24T14:48:17.111Z"
   },
   {
    "duration": 237,
    "start_time": "2023-05-24T14:48:17.129Z"
   },
   {
    "duration": 378,
    "start_time": "2023-05-24T14:48:17.368Z"
   },
   {
    "duration": 228,
    "start_time": "2023-05-24T14:48:17.748Z"
   },
   {
    "duration": 220,
    "start_time": "2023-05-24T14:48:17.980Z"
   },
   {
    "duration": 296,
    "start_time": "2023-05-24T14:48:18.202Z"
   },
   {
    "duration": 164,
    "start_time": "2023-05-24T14:48:18.501Z"
   },
   {
    "duration": 16,
    "start_time": "2023-05-24T14:48:18.667Z"
   },
   {
    "duration": 265,
    "start_time": "2023-05-24T14:48:18.689Z"
   },
   {
    "duration": 188,
    "start_time": "2023-05-24T14:48:18.955Z"
   },
   {
    "duration": 4,
    "start_time": "2023-05-24T14:48:19.145Z"
   },
   {
    "duration": 18,
    "start_time": "2023-05-24T14:48:19.151Z"
   },
   {
    "duration": 19,
    "start_time": "2023-05-24T14:48:46.552Z"
   },
   {
    "duration": 154,
    "start_time": "2023-05-24T14:48:47.289Z"
   },
   {
    "duration": 137,
    "start_time": "2023-05-24T14:49:29.863Z"
   },
   {
    "duration": 19,
    "start_time": "2023-05-24T14:49:33.755Z"
   },
   {
    "duration": 14,
    "start_time": "2023-05-24T14:50:27.852Z"
   },
   {
    "duration": 15,
    "start_time": "2023-05-24T14:53:51.771Z"
   },
   {
    "duration": 12,
    "start_time": "2023-05-24T14:54:50.351Z"
   },
   {
    "duration": 11,
    "start_time": "2023-05-24T14:58:17.460Z"
   },
   {
    "duration": 11,
    "start_time": "2023-05-24T15:02:02.633Z"
   },
   {
    "duration": 13,
    "start_time": "2023-05-24T15:02:34.699Z"
   },
   {
    "duration": 152,
    "start_time": "2023-05-24T15:03:48.569Z"
   },
   {
    "duration": 10,
    "start_time": "2023-05-24T15:03:48.723Z"
   },
   {
    "duration": 7,
    "start_time": "2023-05-24T15:03:48.734Z"
   },
   {
    "duration": 7,
    "start_time": "2023-05-24T15:03:48.742Z"
   },
   {
    "duration": 9,
    "start_time": "2023-05-24T15:03:48.751Z"
   },
   {
    "duration": 21,
    "start_time": "2023-05-24T15:03:48.762Z"
   },
   {
    "duration": 25,
    "start_time": "2023-05-24T15:03:48.786Z"
   },
   {
    "duration": 8,
    "start_time": "2023-05-24T15:03:48.813Z"
   },
   {
    "duration": 8,
    "start_time": "2023-05-24T15:03:48.824Z"
   },
   {
    "duration": 11,
    "start_time": "2023-05-24T15:03:48.834Z"
   },
   {
    "duration": 44,
    "start_time": "2023-05-24T15:03:48.847Z"
   },
   {
    "duration": 17,
    "start_time": "2023-05-24T15:03:48.893Z"
   },
   {
    "duration": 5,
    "start_time": "2023-05-24T15:03:48.912Z"
   },
   {
    "duration": 7,
    "start_time": "2023-05-24T15:03:48.920Z"
   },
   {
    "duration": 15,
    "start_time": "2023-05-24T15:03:48.929Z"
   },
   {
    "duration": 42,
    "start_time": "2023-05-24T15:03:48.945Z"
   },
   {
    "duration": 31,
    "start_time": "2023-05-24T15:03:48.988Z"
   },
   {
    "duration": 307,
    "start_time": "2023-05-24T15:03:49.021Z"
   },
   {
    "duration": 265,
    "start_time": "2023-05-24T15:03:49.329Z"
   },
   {
    "duration": 25,
    "start_time": "2023-05-24T15:03:49.596Z"
   },
   {
    "duration": 257,
    "start_time": "2023-05-24T15:03:49.623Z"
   },
   {
    "duration": 326,
    "start_time": "2023-05-24T15:03:49.882Z"
   },
   {
    "duration": 246,
    "start_time": "2023-05-24T15:03:50.210Z"
   },
   {
    "duration": 241,
    "start_time": "2023-05-24T15:03:50.458Z"
   },
   {
    "duration": 330,
    "start_time": "2023-05-24T15:03:50.701Z"
   },
   {
    "duration": 162,
    "start_time": "2023-05-24T15:03:51.033Z"
   },
   {
    "duration": 8,
    "start_time": "2023-05-24T15:03:51.197Z"
   },
   {
    "duration": 187,
    "start_time": "2023-05-24T15:03:51.206Z"
   },
   {
    "duration": 185,
    "start_time": "2023-05-24T15:03:51.403Z"
   },
   {
    "duration": 9,
    "start_time": "2023-05-24T15:03:51.593Z"
   },
   {
    "duration": 38,
    "start_time": "2023-05-24T15:03:53.567Z"
   },
   {
    "duration": 10,
    "start_time": "2023-05-24T15:04:44.703Z"
   },
   {
    "duration": 11,
    "start_time": "2023-05-24T15:05:04.253Z"
   },
   {
    "duration": 14,
    "start_time": "2023-05-24T15:06:17.510Z"
   },
   {
    "duration": 26,
    "start_time": "2023-05-24T15:06:53.649Z"
   },
   {
    "duration": 110,
    "start_time": "2023-05-24T15:07:14.246Z"
   },
   {
    "duration": 87,
    "start_time": "2023-05-24T15:07:39.209Z"
   },
   {
    "duration": 147,
    "start_time": "2023-05-24T15:07:58.863Z"
   },
   {
    "duration": 11,
    "start_time": "2023-05-24T15:08:44.150Z"
   },
   {
    "duration": 1599,
    "start_time": "2023-05-24T15:08:59.050Z"
   },
   {
    "duration": 13,
    "start_time": "2023-05-24T15:09:36.504Z"
   },
   {
    "duration": 149,
    "start_time": "2023-05-24T15:10:54.207Z"
   },
   {
    "duration": 12,
    "start_time": "2023-05-24T15:10:56.506Z"
   },
   {
    "duration": 1478,
    "start_time": "2023-05-24T15:11:12.754Z"
   },
   {
    "duration": 18,
    "start_time": "2023-05-24T15:11:22.144Z"
   },
   {
    "duration": 1524,
    "start_time": "2023-05-24T15:11:26.243Z"
   },
   {
    "duration": 172,
    "start_time": "2023-05-24T15:11:50.538Z"
   },
   {
    "duration": 1657,
    "start_time": "2023-05-24T15:11:55.946Z"
   },
   {
    "duration": 149,
    "start_time": "2023-05-24T15:12:08.122Z"
   },
   {
    "duration": 27,
    "start_time": "2023-05-24T15:12:08.850Z"
   },
   {
    "duration": 27,
    "start_time": "2023-05-24T15:14:36.847Z"
   },
   {
    "duration": 1379,
    "start_time": "2023-05-24T15:18:43.157Z"
   },
   {
    "duration": 10,
    "start_time": "2023-05-24T15:19:28.759Z"
   },
   {
    "duration": 14,
    "start_time": "2023-05-24T15:20:50.182Z"
   },
   {
    "duration": 9,
    "start_time": "2023-05-24T15:20:53.658Z"
   },
   {
    "duration": 1342,
    "start_time": "2023-05-24T15:27:16.252Z"
   },
   {
    "duration": 11,
    "start_time": "2023-05-24T15:27:35.901Z"
   },
   {
    "duration": 1193,
    "start_time": "2023-05-24T15:54:26.604Z"
   },
   {
    "duration": 1127,
    "start_time": "2023-05-24T15:54:39.006Z"
   },
   {
    "duration": 8,
    "start_time": "2023-05-24T15:54:48.186Z"
   },
   {
    "duration": 8,
    "start_time": "2023-05-24T15:55:26.904Z"
   },
   {
    "duration": 19,
    "start_time": "2023-05-24T15:55:33.488Z"
   },
   {
    "duration": 14,
    "start_time": "2023-05-24T15:57:27.332Z"
   },
   {
    "duration": 15,
    "start_time": "2023-05-24T15:58:08.178Z"
   },
   {
    "duration": 10,
    "start_time": "2023-05-24T16:09:19.747Z"
   },
   {
    "duration": 75,
    "start_time": "2023-05-24T16:17:09.288Z"
   },
   {
    "duration": 140,
    "start_time": "2023-05-24T16:25:52.352Z"
   },
   {
    "duration": 9,
    "start_time": "2023-05-24T16:25:52.494Z"
   },
   {
    "duration": 8,
    "start_time": "2023-05-24T16:25:52.505Z"
   },
   {
    "duration": 7,
    "start_time": "2023-05-24T16:25:52.515Z"
   },
   {
    "duration": 7,
    "start_time": "2023-05-24T16:25:52.524Z"
   },
   {
    "duration": 11,
    "start_time": "2023-05-24T16:25:52.533Z"
   },
   {
    "duration": 36,
    "start_time": "2023-05-24T16:25:52.545Z"
   },
   {
    "duration": 6,
    "start_time": "2023-05-24T16:25:52.582Z"
   },
   {
    "duration": 6,
    "start_time": "2023-05-24T16:25:52.590Z"
   },
   {
    "duration": 16,
    "start_time": "2023-05-24T16:25:52.597Z"
   },
   {
    "duration": 11,
    "start_time": "2023-05-24T16:25:52.614Z"
   },
   {
    "duration": 10,
    "start_time": "2023-05-24T16:25:52.626Z"
   },
   {
    "duration": 4,
    "start_time": "2023-05-24T16:25:52.638Z"
   },
   {
    "duration": 33,
    "start_time": "2023-05-24T16:25:52.645Z"
   },
   {
    "duration": 7,
    "start_time": "2023-05-24T16:25:52.681Z"
   },
   {
    "duration": 37,
    "start_time": "2023-05-24T16:25:52.690Z"
   },
   {
    "duration": 21,
    "start_time": "2023-05-24T16:25:52.729Z"
   },
   {
    "duration": 267,
    "start_time": "2023-05-24T16:25:52.751Z"
   },
   {
    "duration": 296,
    "start_time": "2023-05-24T16:25:53.020Z"
   },
   {
    "duration": 11,
    "start_time": "2023-05-24T16:25:53.318Z"
   },
   {
    "duration": 210,
    "start_time": "2023-05-24T16:25:53.331Z"
   },
   {
    "duration": 316,
    "start_time": "2023-05-24T16:25:53.543Z"
   },
   {
    "duration": 220,
    "start_time": "2023-05-24T16:25:53.861Z"
   },
   {
    "duration": 220,
    "start_time": "2023-05-24T16:25:54.083Z"
   },
   {
    "duration": 278,
    "start_time": "2023-05-24T16:25:54.305Z"
   },
   {
    "duration": 141,
    "start_time": "2023-05-24T16:25:54.584Z"
   },
   {
    "duration": 5,
    "start_time": "2023-05-24T16:25:54.727Z"
   },
   {
    "duration": 158,
    "start_time": "2023-05-24T16:25:54.734Z"
   },
   {
    "duration": 165,
    "start_time": "2023-05-24T16:25:54.894Z"
   },
   {
    "duration": 5,
    "start_time": "2023-05-24T16:25:55.060Z"
   },
   {
    "duration": 140,
    "start_time": "2023-05-24T16:25:55.067Z"
   },
   {
    "duration": 24,
    "start_time": "2023-05-24T16:25:55.209Z"
   },
   {
    "duration": 9,
    "start_time": "2023-05-24T16:25:55.235Z"
   },
   {
    "duration": 33,
    "start_time": "2023-05-24T16:25:55.246Z"
   },
   {
    "duration": 11,
    "start_time": "2023-05-24T16:25:55.280Z"
   },
   {
    "duration": 22,
    "start_time": "2023-05-24T16:25:55.293Z"
   },
   {
    "duration": 13,
    "start_time": "2023-05-24T16:25:55.317Z"
   },
   {
    "duration": 15,
    "start_time": "2023-05-24T16:26:54.289Z"
   },
   {
    "duration": 13,
    "start_time": "2023-05-24T16:27:45.437Z"
   },
   {
    "duration": 16,
    "start_time": "2023-05-24T16:27:52.494Z"
   },
   {
    "duration": 72,
    "start_time": "2023-05-24T16:33:18.874Z"
   },
   {
    "duration": 1537,
    "start_time": "2023-05-24T18:55:21.551Z"
   },
   {
    "duration": 11,
    "start_time": "2023-05-24T18:55:23.090Z"
   },
   {
    "duration": 9,
    "start_time": "2023-05-24T18:55:23.103Z"
   },
   {
    "duration": 9,
    "start_time": "2023-05-24T18:55:23.114Z"
   },
   {
    "duration": 20,
    "start_time": "2023-05-24T18:55:23.125Z"
   },
   {
    "duration": 13,
    "start_time": "2023-05-24T18:55:23.147Z"
   },
   {
    "duration": 19,
    "start_time": "2023-05-24T18:55:23.162Z"
   },
   {
    "duration": 7,
    "start_time": "2023-05-24T18:55:23.184Z"
   },
   {
    "duration": 14,
    "start_time": "2023-05-24T18:55:23.192Z"
   },
   {
    "duration": 32,
    "start_time": "2023-05-24T18:55:23.209Z"
   },
   {
    "duration": 21,
    "start_time": "2023-05-24T18:55:23.243Z"
   },
   {
    "duration": 18,
    "start_time": "2023-05-24T18:55:23.265Z"
   },
   {
    "duration": 7,
    "start_time": "2023-05-24T18:55:23.286Z"
   },
   {
    "duration": 7,
    "start_time": "2023-05-24T18:55:23.295Z"
   },
   {
    "duration": 13,
    "start_time": "2023-05-24T18:55:23.304Z"
   },
   {
    "duration": 46,
    "start_time": "2023-05-24T18:55:23.319Z"
   },
   {
    "duration": 19,
    "start_time": "2023-05-24T18:55:23.366Z"
   },
   {
    "duration": 374,
    "start_time": "2023-05-24T18:55:23.387Z"
   },
   {
    "duration": 314,
    "start_time": "2023-05-24T18:55:23.763Z"
   },
   {
    "duration": 16,
    "start_time": "2023-05-24T18:55:24.079Z"
   },
   {
    "duration": 304,
    "start_time": "2023-05-24T18:55:24.097Z"
   },
   {
    "duration": 336,
    "start_time": "2023-05-24T18:55:24.403Z"
   },
   {
    "duration": 289,
    "start_time": "2023-05-24T18:55:24.740Z"
   },
   {
    "duration": 242,
    "start_time": "2023-05-24T18:55:25.031Z"
   },
   {
    "duration": 338,
    "start_time": "2023-05-24T18:55:25.274Z"
   },
   {
    "duration": 170,
    "start_time": "2023-05-24T18:55:25.614Z"
   },
   {
    "duration": 6,
    "start_time": "2023-05-24T18:55:25.786Z"
   },
   {
    "duration": 189,
    "start_time": "2023-05-24T18:55:25.795Z"
   },
   {
    "duration": 256,
    "start_time": "2023-05-24T18:55:25.985Z"
   },
   {
    "duration": 8,
    "start_time": "2023-05-24T18:55:26.245Z"
   },
   {
    "duration": 271,
    "start_time": "2023-05-24T18:55:26.255Z"
   },
   {
    "duration": 45,
    "start_time": "2023-05-24T18:55:26.531Z"
   },
   {
    "duration": 19,
    "start_time": "2023-05-24T18:55:26.579Z"
   },
   {
    "duration": 15,
    "start_time": "2023-05-24T18:55:26.600Z"
   },
   {
    "duration": 37,
    "start_time": "2023-05-24T18:55:26.618Z"
   },
   {
    "duration": 45,
    "start_time": "2023-05-24T18:55:26.657Z"
   },
   {
    "duration": 22,
    "start_time": "2023-05-24T18:55:26.704Z"
   },
   {
    "duration": 10,
    "start_time": "2023-05-24T19:00:48.476Z"
   },
   {
    "duration": 10,
    "start_time": "2023-05-24T19:01:13.964Z"
   },
   {
    "duration": 11,
    "start_time": "2023-05-24T19:01:20.270Z"
   },
   {
    "duration": 359,
    "start_time": "2023-05-24T19:01:40.438Z"
   },
   {
    "duration": 300,
    "start_time": "2023-05-24T19:01:45.922Z"
   },
   {
    "duration": 1417,
    "start_time": "2023-05-24T19:13:26.160Z"
   },
   {
    "duration": 290,
    "start_time": "2023-05-24T19:13:27.579Z"
   },
   {
    "duration": 16,
    "start_time": "2023-05-24T19:14:19.454Z"
   },
   {
    "duration": 3,
    "start_time": "2023-05-24T19:14:24.067Z"
   },
   {
    "duration": 119,
    "start_time": "2023-05-24T19:14:24.072Z"
   },
   {
    "duration": 11,
    "start_time": "2023-05-24T19:14:24.192Z"
   },
   {
    "duration": 5,
    "start_time": "2023-05-24T19:14:24.205Z"
   },
   {
    "duration": 5,
    "start_time": "2023-05-24T19:14:24.213Z"
   },
   {
    "duration": 11,
    "start_time": "2023-05-24T19:14:24.219Z"
   },
   {
    "duration": 12,
    "start_time": "2023-05-24T19:14:24.232Z"
   },
   {
    "duration": 18,
    "start_time": "2023-05-24T19:14:24.246Z"
   },
   {
    "duration": 11,
    "start_time": "2023-05-24T19:14:24.266Z"
   },
   {
    "duration": 6,
    "start_time": "2023-05-24T19:14:24.278Z"
   },
   {
    "duration": 8,
    "start_time": "2023-05-24T19:14:24.286Z"
   },
   {
    "duration": 12,
    "start_time": "2023-05-24T19:14:24.295Z"
   },
   {
    "duration": 21,
    "start_time": "2023-05-24T19:14:24.309Z"
   },
   {
    "duration": 38,
    "start_time": "2023-05-24T19:14:24.332Z"
   },
   {
    "duration": 13,
    "start_time": "2023-05-24T19:14:24.372Z"
   },
   {
    "duration": 13,
    "start_time": "2023-05-24T19:14:24.386Z"
   },
   {
    "duration": 16,
    "start_time": "2023-05-24T19:14:24.401Z"
   },
   {
    "duration": 18,
    "start_time": "2023-05-24T19:14:26.253Z"
   },
   {
    "duration": 176,
    "start_time": "2023-05-24T19:16:50.376Z"
   },
   {
    "duration": 4,
    "start_time": "2023-05-24T19:16:53.770Z"
   },
   {
    "duration": 124,
    "start_time": "2023-05-24T19:16:53.777Z"
   },
   {
    "duration": 11,
    "start_time": "2023-05-24T19:16:53.902Z"
   },
   {
    "duration": 13,
    "start_time": "2023-05-24T19:16:53.915Z"
   },
   {
    "duration": 24,
    "start_time": "2023-05-24T19:16:53.930Z"
   },
   {
    "duration": 24,
    "start_time": "2023-05-24T19:16:53.955Z"
   },
   {
    "duration": 32,
    "start_time": "2023-05-24T19:16:53.981Z"
   },
   {
    "duration": 19,
    "start_time": "2023-05-24T19:16:54.015Z"
   },
   {
    "duration": 14,
    "start_time": "2023-05-24T19:16:54.036Z"
   },
   {
    "duration": 16,
    "start_time": "2023-05-24T19:16:54.052Z"
   },
   {
    "duration": 13,
    "start_time": "2023-05-24T19:16:54.071Z"
   },
   {
    "duration": 15,
    "start_time": "2023-05-24T19:16:54.086Z"
   },
   {
    "duration": 19,
    "start_time": "2023-05-24T19:16:54.103Z"
   },
   {
    "duration": 10,
    "start_time": "2023-05-24T19:16:54.125Z"
   },
   {
    "duration": 11,
    "start_time": "2023-05-24T19:16:54.136Z"
   },
   {
    "duration": 17,
    "start_time": "2023-05-24T19:16:54.156Z"
   },
   {
    "duration": 21,
    "start_time": "2023-05-24T19:16:54.175Z"
   },
   {
    "duration": 19,
    "start_time": "2023-05-24T19:16:54.198Z"
   },
   {
    "duration": 300,
    "start_time": "2023-05-24T19:16:54.219Z"
   },
   {
    "duration": 102,
    "start_time": "2023-05-24T19:16:54.521Z"
   },
   {
    "duration": 90,
    "start_time": "2023-05-24T19:16:56.096Z"
   },
   {
    "duration": 309,
    "start_time": "2023-05-24T19:17:16.052Z"
   },
   {
    "duration": 227,
    "start_time": "2023-05-24T19:18:49.494Z"
   },
   {
    "duration": 222,
    "start_time": "2023-05-24T19:19:02.921Z"
   },
   {
    "duration": 232,
    "start_time": "2023-05-24T19:19:57.549Z"
   },
   {
    "duration": 363,
    "start_time": "2023-05-24T19:20:37.773Z"
   },
   {
    "duration": 241,
    "start_time": "2023-05-24T19:21:53.945Z"
   },
   {
    "duration": 447,
    "start_time": "2023-05-24T19:22:03.654Z"
   },
   {
    "duration": 282,
    "start_time": "2023-05-24T19:22:08.783Z"
   },
   {
    "duration": 344,
    "start_time": "2023-05-24T19:22:48.354Z"
   },
   {
    "duration": 286,
    "start_time": "2023-05-24T19:23:06.898Z"
   },
   {
    "duration": 292,
    "start_time": "2023-05-24T19:23:21.609Z"
   },
   {
    "duration": 12,
    "start_time": "2023-05-24T19:23:55.385Z"
   },
   {
    "duration": 3,
    "start_time": "2023-05-24T19:23:59.809Z"
   },
   {
    "duration": 128,
    "start_time": "2023-05-24T19:23:59.814Z"
   },
   {
    "duration": 12,
    "start_time": "2023-05-24T19:23:59.945Z"
   },
   {
    "duration": 28,
    "start_time": "2023-05-24T19:23:59.968Z"
   },
   {
    "duration": 14,
    "start_time": "2023-05-24T19:23:59.999Z"
   },
   {
    "duration": 27,
    "start_time": "2023-05-24T19:24:00.016Z"
   },
   {
    "duration": 57,
    "start_time": "2023-05-24T19:24:00.045Z"
   },
   {
    "duration": 33,
    "start_time": "2023-05-24T19:24:00.104Z"
   },
   {
    "duration": 32,
    "start_time": "2023-05-24T19:24:00.139Z"
   },
   {
    "duration": 18,
    "start_time": "2023-05-24T19:24:00.172Z"
   },
   {
    "duration": 23,
    "start_time": "2023-05-24T19:24:00.192Z"
   },
   {
    "duration": 18,
    "start_time": "2023-05-24T19:24:00.217Z"
   },
   {
    "duration": 12,
    "start_time": "2023-05-24T19:24:00.237Z"
   },
   {
    "duration": 20,
    "start_time": "2023-05-24T19:24:00.250Z"
   },
   {
    "duration": 21,
    "start_time": "2023-05-24T19:24:00.272Z"
   },
   {
    "duration": 30,
    "start_time": "2023-05-24T19:24:00.295Z"
   },
   {
    "duration": 56,
    "start_time": "2023-05-24T19:24:00.327Z"
   },
   {
    "duration": 44,
    "start_time": "2023-05-24T19:24:00.385Z"
   },
   {
    "duration": 307,
    "start_time": "2023-05-24T19:24:00.431Z"
   },
   {
    "duration": 243,
    "start_time": "2023-05-24T19:24:00.740Z"
   },
   {
    "duration": 14,
    "start_time": "2023-05-24T19:24:00.985Z"
   },
   {
    "duration": 270,
    "start_time": "2023-05-24T19:24:01.001Z"
   },
   {
    "duration": 328,
    "start_time": "2023-05-24T19:24:01.274Z"
   },
   {
    "duration": 269,
    "start_time": "2023-05-24T19:24:01.605Z"
   },
   {
    "duration": 330,
    "start_time": "2023-05-24T19:24:01.877Z"
   },
   {
    "duration": 162,
    "start_time": "2023-05-24T19:24:02.209Z"
   },
   {
    "duration": 5,
    "start_time": "2023-05-24T19:24:04.619Z"
   },
   {
    "duration": 75,
    "start_time": "2023-05-24T19:28:39.055Z"
   },
   {
    "duration": 3,
    "start_time": "2023-05-24T19:28:46.027Z"
   },
   {
    "duration": 118,
    "start_time": "2023-05-24T19:28:46.032Z"
   },
   {
    "duration": 10,
    "start_time": "2023-05-24T19:28:46.152Z"
   },
   {
    "duration": 6,
    "start_time": "2023-05-24T19:28:46.164Z"
   },
   {
    "duration": 6,
    "start_time": "2023-05-24T19:28:46.173Z"
   },
   {
    "duration": 9,
    "start_time": "2023-05-24T19:28:46.180Z"
   },
   {
    "duration": 11,
    "start_time": "2023-05-24T19:28:46.191Z"
   },
   {
    "duration": 14,
    "start_time": "2023-05-24T19:28:46.204Z"
   },
   {
    "duration": 39,
    "start_time": "2023-05-24T19:28:46.220Z"
   },
   {
    "duration": 110,
    "start_time": "2023-05-24T19:28:46.261Z"
   },
   {
    "duration": 7,
    "start_time": "2023-05-24T19:28:46.374Z"
   },
   {
    "duration": 10,
    "start_time": "2023-05-24T19:28:46.383Z"
   },
   {
    "duration": 12,
    "start_time": "2023-05-24T19:28:46.395Z"
   },
   {
    "duration": 33,
    "start_time": "2023-05-24T19:28:46.409Z"
   },
   {
    "duration": 14,
    "start_time": "2023-05-24T19:28:46.443Z"
   },
   {
    "duration": 10,
    "start_time": "2023-05-24T19:28:46.459Z"
   },
   {
    "duration": 12,
    "start_time": "2023-05-24T19:28:46.471Z"
   },
   {
    "duration": 6,
    "start_time": "2023-05-24T19:28:46.485Z"
   },
   {
    "duration": 317,
    "start_time": "2023-05-24T19:28:46.493Z"
   },
   {
    "duration": 239,
    "start_time": "2023-05-24T19:28:46.812Z"
   },
   {
    "duration": 14,
    "start_time": "2023-05-24T19:28:47.056Z"
   },
   {
    "duration": 240,
    "start_time": "2023-05-24T19:28:47.071Z"
   },
   {
    "duration": 323,
    "start_time": "2023-05-24T19:28:47.313Z"
   },
   {
    "duration": 225,
    "start_time": "2023-05-24T19:28:47.638Z"
   },
   {
    "duration": 308,
    "start_time": "2023-05-24T19:28:47.865Z"
   },
   {
    "duration": 144,
    "start_time": "2023-05-24T19:28:48.175Z"
   },
   {
    "duration": 5,
    "start_time": "2023-05-24T19:28:48.321Z"
   },
   {
    "duration": 179,
    "start_time": "2023-05-24T19:28:48.327Z"
   },
   {
    "duration": 161,
    "start_time": "2023-05-24T19:28:48.509Z"
   },
   {
    "duration": 5,
    "start_time": "2023-05-24T19:28:48.672Z"
   },
   {
    "duration": 151,
    "start_time": "2023-05-24T19:28:48.678Z"
   },
   {
    "duration": 34,
    "start_time": "2023-05-24T19:28:48.831Z"
   },
   {
    "duration": 13,
    "start_time": "2023-05-24T19:28:48.867Z"
   },
   {
    "duration": 99,
    "start_time": "2023-05-24T19:28:51.354Z"
   },
   {
    "duration": 10,
    "start_time": "2023-05-24T19:29:10.337Z"
   },
   {
    "duration": 5,
    "start_time": "2023-05-24T19:30:37.956Z"
   },
   {
    "duration": 4,
    "start_time": "2023-05-24T19:30:49.522Z"
   },
   {
    "duration": 8,
    "start_time": "2023-05-24T19:30:57.470Z"
   },
   {
    "duration": 19,
    "start_time": "2023-05-24T19:31:12.426Z"
   },
   {
    "duration": 3,
    "start_time": "2023-05-24T19:31:22.867Z"
   },
   {
    "duration": 146,
    "start_time": "2023-05-24T19:31:22.872Z"
   },
   {
    "duration": 9,
    "start_time": "2023-05-24T19:31:23.020Z"
   },
   {
    "duration": 6,
    "start_time": "2023-05-24T19:31:23.031Z"
   },
   {
    "duration": 7,
    "start_time": "2023-05-24T19:31:23.039Z"
   },
   {
    "duration": 8,
    "start_time": "2023-05-24T19:31:23.047Z"
   },
   {
    "duration": 12,
    "start_time": "2023-05-24T19:31:23.056Z"
   },
   {
    "duration": 13,
    "start_time": "2023-05-24T19:31:23.069Z"
   },
   {
    "duration": 6,
    "start_time": "2023-05-24T19:31:23.083Z"
   },
   {
    "duration": 30,
    "start_time": "2023-05-24T19:31:23.090Z"
   },
   {
    "duration": 11,
    "start_time": "2023-05-24T19:31:23.123Z"
   },
   {
    "duration": 17,
    "start_time": "2023-05-24T19:31:23.136Z"
   },
   {
    "duration": 29,
    "start_time": "2023-05-24T19:31:23.155Z"
   },
   {
    "duration": 6,
    "start_time": "2023-05-24T19:31:23.185Z"
   },
   {
    "duration": 22,
    "start_time": "2023-05-24T19:31:23.193Z"
   },
   {
    "duration": 10,
    "start_time": "2023-05-24T19:31:23.217Z"
   },
   {
    "duration": 12,
    "start_time": "2023-05-24T19:31:23.229Z"
   },
   {
    "duration": 12,
    "start_time": "2023-05-24T19:31:23.245Z"
   },
   {
    "duration": 272,
    "start_time": "2023-05-24T19:31:23.259Z"
   },
   {
    "duration": 217,
    "start_time": "2023-05-24T19:31:23.533Z"
   },
   {
    "duration": 16,
    "start_time": "2023-05-24T19:31:23.751Z"
   },
   {
    "duration": 226,
    "start_time": "2023-05-24T19:31:23.768Z"
   },
   {
    "duration": 296,
    "start_time": "2023-05-24T19:31:23.996Z"
   },
   {
    "duration": 330,
    "start_time": "2023-05-24T19:31:24.293Z"
   },
   {
    "duration": 338,
    "start_time": "2023-05-24T19:31:24.625Z"
   },
   {
    "duration": 149,
    "start_time": "2023-05-24T19:31:24.965Z"
   },
   {
    "duration": 4,
    "start_time": "2023-05-24T19:31:25.116Z"
   },
   {
    "duration": 172,
    "start_time": "2023-05-24T19:31:25.122Z"
   },
   {
    "duration": 162,
    "start_time": "2023-05-24T19:31:25.297Z"
   },
   {
    "duration": 5,
    "start_time": "2023-05-24T19:31:25.461Z"
   },
   {
    "duration": 146,
    "start_time": "2023-05-24T19:31:25.468Z"
   },
   {
    "duration": 26,
    "start_time": "2023-05-24T19:31:25.615Z"
   },
   {
    "duration": 25,
    "start_time": "2023-05-24T19:31:25.643Z"
   },
   {
    "duration": 16,
    "start_time": "2023-05-24T19:31:30.526Z"
   },
   {
    "duration": 9,
    "start_time": "2023-05-24T19:31:42.315Z"
   },
   {
    "duration": 332,
    "start_time": "2023-05-24T19:38:17.060Z"
   },
   {
    "duration": 210,
    "start_time": "2023-05-24T19:42:00.078Z"
   },
   {
    "duration": 199,
    "start_time": "2023-05-24T19:43:54.764Z"
   },
   {
    "duration": 142,
    "start_time": "2023-05-24T19:56:10.586Z"
   },
   {
    "duration": 159,
    "start_time": "2023-05-24T19:56:42.396Z"
   },
   {
    "duration": 155,
    "start_time": "2023-05-24T19:57:03.404Z"
   },
   {
    "duration": 168,
    "start_time": "2023-05-24T19:57:08.159Z"
   },
   {
    "duration": 6,
    "start_time": "2023-05-24T19:58:49.691Z"
   },
   {
    "duration": 14,
    "start_time": "2023-05-24T19:59:05.491Z"
   },
   {
    "duration": 6,
    "start_time": "2023-05-24T20:02:29.770Z"
   },
   {
    "duration": 3,
    "start_time": "2023-05-24T20:02:42.876Z"
   },
   {
    "duration": 122,
    "start_time": "2023-05-24T20:02:42.881Z"
   },
   {
    "duration": 10,
    "start_time": "2023-05-24T20:02:43.005Z"
   },
   {
    "duration": 9,
    "start_time": "2023-05-24T20:02:43.017Z"
   },
   {
    "duration": 9,
    "start_time": "2023-05-24T20:02:43.029Z"
   },
   {
    "duration": 12,
    "start_time": "2023-05-24T20:02:43.040Z"
   },
   {
    "duration": 13,
    "start_time": "2023-05-24T20:02:43.054Z"
   },
   {
    "duration": 13,
    "start_time": "2023-05-24T20:02:43.069Z"
   },
   {
    "duration": 6,
    "start_time": "2023-05-24T20:02:43.084Z"
   },
   {
    "duration": 7,
    "start_time": "2023-05-24T20:02:43.092Z"
   },
   {
    "duration": 7,
    "start_time": "2023-05-24T20:02:43.102Z"
   },
   {
    "duration": 13,
    "start_time": "2023-05-24T20:02:43.110Z"
   },
   {
    "duration": 12,
    "start_time": "2023-05-24T20:02:43.157Z"
   },
   {
    "duration": 7,
    "start_time": "2023-05-24T20:02:43.171Z"
   },
   {
    "duration": 8,
    "start_time": "2023-05-24T20:02:43.180Z"
   },
   {
    "duration": 8,
    "start_time": "2023-05-24T20:02:43.190Z"
   },
   {
    "duration": 15,
    "start_time": "2023-05-24T20:02:43.200Z"
   },
   {
    "duration": 49,
    "start_time": "2023-05-24T20:02:43.217Z"
   },
   {
    "duration": 267,
    "start_time": "2023-05-24T20:02:43.268Z"
   },
   {
    "duration": 219,
    "start_time": "2023-05-24T20:02:43.537Z"
   },
   {
    "duration": 13,
    "start_time": "2023-05-24T20:02:43.758Z"
   },
   {
    "duration": 321,
    "start_time": "2023-05-24T20:02:43.773Z"
   },
   {
    "duration": 299,
    "start_time": "2023-05-24T20:02:44.096Z"
   },
   {
    "duration": 234,
    "start_time": "2023-05-24T20:02:44.397Z"
   },
   {
    "duration": 1252,
    "start_time": "2023-05-24T20:02:44.632Z"
   },
   {
    "duration": 0,
    "start_time": "2023-05-24T20:02:45.886Z"
   },
   {
    "duration": 0,
    "start_time": "2023-05-24T20:02:45.888Z"
   },
   {
    "duration": 0,
    "start_time": "2023-05-24T20:02:45.890Z"
   },
   {
    "duration": 0,
    "start_time": "2023-05-24T20:02:45.891Z"
   },
   {
    "duration": 0,
    "start_time": "2023-05-24T20:02:45.893Z"
   },
   {
    "duration": 0,
    "start_time": "2023-05-24T20:02:45.894Z"
   },
   {
    "duration": 0,
    "start_time": "2023-05-24T20:02:45.896Z"
   },
   {
    "duration": 0,
    "start_time": "2023-05-24T20:02:45.898Z"
   },
   {
    "duration": 23,
    "start_time": "2023-05-24T20:02:48.500Z"
   },
   {
    "duration": 8,
    "start_time": "2023-05-24T20:03:03.673Z"
   },
   {
    "duration": 9,
    "start_time": "2023-05-24T20:04:25.472Z"
   },
   {
    "duration": 7,
    "start_time": "2023-05-24T20:05:06.465Z"
   },
   {
    "duration": 3,
    "start_time": "2023-05-24T20:05:22.702Z"
   },
   {
    "duration": 119,
    "start_time": "2023-05-24T20:05:22.708Z"
   },
   {
    "duration": 12,
    "start_time": "2023-05-24T20:05:22.829Z"
   },
   {
    "duration": 6,
    "start_time": "2023-05-24T20:05:22.843Z"
   },
   {
    "duration": 10,
    "start_time": "2023-05-24T20:05:22.850Z"
   },
   {
    "duration": 13,
    "start_time": "2023-05-24T20:05:22.861Z"
   },
   {
    "duration": 40,
    "start_time": "2023-05-24T20:05:22.876Z"
   },
   {
    "duration": 22,
    "start_time": "2023-05-24T20:05:22.917Z"
   },
   {
    "duration": 12,
    "start_time": "2023-05-24T20:05:22.942Z"
   },
   {
    "duration": 8,
    "start_time": "2023-05-24T20:05:22.956Z"
   },
   {
    "duration": 9,
    "start_time": "2023-05-24T20:05:22.966Z"
   },
   {
    "duration": 11,
    "start_time": "2023-05-24T20:05:22.977Z"
   },
   {
    "duration": 13,
    "start_time": "2023-05-24T20:05:22.990Z"
   },
   {
    "duration": 9,
    "start_time": "2023-05-24T20:05:23.006Z"
   },
   {
    "duration": 6,
    "start_time": "2023-05-24T20:05:23.017Z"
   },
   {
    "duration": 8,
    "start_time": "2023-05-24T20:05:23.057Z"
   },
   {
    "duration": 33,
    "start_time": "2023-05-24T20:05:23.067Z"
   },
   {
    "duration": 15,
    "start_time": "2023-05-24T20:05:23.102Z"
   },
   {
    "duration": 289,
    "start_time": "2023-05-24T20:05:23.119Z"
   },
   {
    "duration": 229,
    "start_time": "2023-05-24T20:05:23.410Z"
   },
   {
    "duration": 23,
    "start_time": "2023-05-24T20:05:23.641Z"
   },
   {
    "duration": 231,
    "start_time": "2023-05-24T20:05:23.665Z"
   },
   {
    "duration": 306,
    "start_time": "2023-05-24T20:05:23.898Z"
   },
   {
    "duration": 234,
    "start_time": "2023-05-24T20:05:24.207Z"
   },
   {
    "duration": 1221,
    "start_time": "2023-05-24T20:05:24.443Z"
   },
   {
    "duration": 0,
    "start_time": "2023-05-24T20:05:25.665Z"
   },
   {
    "duration": 0,
    "start_time": "2023-05-24T20:05:25.667Z"
   },
   {
    "duration": 0,
    "start_time": "2023-05-24T20:05:25.668Z"
   },
   {
    "duration": 0,
    "start_time": "2023-05-24T20:05:25.670Z"
   },
   {
    "duration": 0,
    "start_time": "2023-05-24T20:05:25.672Z"
   },
   {
    "duration": 0,
    "start_time": "2023-05-24T20:05:25.673Z"
   },
   {
    "duration": 0,
    "start_time": "2023-05-24T20:05:25.675Z"
   },
   {
    "duration": 0,
    "start_time": "2023-05-24T20:05:25.677Z"
   },
   {
    "duration": 11,
    "start_time": "2023-05-24T20:05:27.543Z"
   },
   {
    "duration": 1171,
    "start_time": "2023-05-24T20:06:22.978Z"
   },
   {
    "duration": 5,
    "start_time": "2023-05-24T20:07:21.751Z"
   },
   {
    "duration": 14,
    "start_time": "2023-05-24T20:07:46.309Z"
   },
   {
    "duration": 5,
    "start_time": "2023-05-24T20:07:57.269Z"
   },
   {
    "duration": 1312,
    "start_time": "2023-05-24T20:08:11.387Z"
   },
   {
    "duration": 10,
    "start_time": "2023-05-24T20:08:24.498Z"
   },
   {
    "duration": 108,
    "start_time": "2023-05-24T20:09:00.953Z"
   },
   {
    "duration": 3,
    "start_time": "2023-05-24T20:09:34.054Z"
   },
   {
    "duration": 129,
    "start_time": "2023-05-24T20:09:34.059Z"
   },
   {
    "duration": 14,
    "start_time": "2023-05-24T20:09:34.190Z"
   },
   {
    "duration": 6,
    "start_time": "2023-05-24T20:09:34.206Z"
   },
   {
    "duration": 8,
    "start_time": "2023-05-24T20:09:34.214Z"
   },
   {
    "duration": 25,
    "start_time": "2023-05-24T20:09:34.224Z"
   },
   {
    "duration": 25,
    "start_time": "2023-05-24T20:09:34.251Z"
   },
   {
    "duration": 24,
    "start_time": "2023-05-24T20:09:34.278Z"
   },
   {
    "duration": 6,
    "start_time": "2023-05-24T20:09:34.304Z"
   },
   {
    "duration": 7,
    "start_time": "2023-05-24T20:09:34.312Z"
   },
   {
    "duration": 10,
    "start_time": "2023-05-24T20:09:34.321Z"
   },
   {
    "duration": 29,
    "start_time": "2023-05-24T20:09:34.333Z"
   },
   {
    "duration": 20,
    "start_time": "2023-05-24T20:09:34.365Z"
   },
   {
    "duration": 7,
    "start_time": "2023-05-24T20:09:34.389Z"
   },
   {
    "duration": 9,
    "start_time": "2023-05-24T20:09:34.398Z"
   },
   {
    "duration": 12,
    "start_time": "2023-05-24T20:09:34.409Z"
   },
   {
    "duration": 40,
    "start_time": "2023-05-24T20:09:34.423Z"
   },
   {
    "duration": 13,
    "start_time": "2023-05-24T20:09:34.464Z"
   },
   {
    "duration": 261,
    "start_time": "2023-05-24T20:09:34.479Z"
   },
   {
    "duration": 225,
    "start_time": "2023-05-24T20:09:34.742Z"
   },
   {
    "duration": 13,
    "start_time": "2023-05-24T20:09:34.969Z"
   },
   {
    "duration": 220,
    "start_time": "2023-05-24T20:09:34.984Z"
   },
   {
    "duration": 321,
    "start_time": "2023-05-24T20:09:35.206Z"
   },
   {
    "duration": 220,
    "start_time": "2023-05-24T20:09:35.529Z"
   },
   {
    "duration": 1126,
    "start_time": "2023-05-24T20:09:35.750Z"
   },
   {
    "duration": 0,
    "start_time": "2023-05-24T20:09:36.878Z"
   },
   {
    "duration": 0,
    "start_time": "2023-05-24T20:09:36.879Z"
   },
   {
    "duration": 0,
    "start_time": "2023-05-24T20:09:36.881Z"
   },
   {
    "duration": 0,
    "start_time": "2023-05-24T20:09:36.882Z"
   },
   {
    "duration": 0,
    "start_time": "2023-05-24T20:09:36.883Z"
   },
   {
    "duration": 0,
    "start_time": "2023-05-24T20:09:36.884Z"
   },
   {
    "duration": 0,
    "start_time": "2023-05-24T20:09:36.885Z"
   },
   {
    "duration": 0,
    "start_time": "2023-05-24T20:09:36.886Z"
   },
   {
    "duration": 0,
    "start_time": "2023-05-24T20:09:36.887Z"
   },
   {
    "duration": 381,
    "start_time": "2023-05-24T20:09:43.153Z"
   },
   {
    "duration": 1169,
    "start_time": "2023-05-24T20:09:47.601Z"
   },
   {
    "duration": 1313,
    "start_time": "2023-05-24T20:11:00.054Z"
   },
   {
    "duration": 1292,
    "start_time": "2023-05-24T20:16:41.411Z"
   },
   {
    "duration": 1234,
    "start_time": "2023-05-24T20:18:56.861Z"
   },
   {
    "duration": 1266,
    "start_time": "2023-05-24T20:19:09.962Z"
   },
   {
    "duration": 1169,
    "start_time": "2023-05-24T20:19:25.249Z"
   },
   {
    "duration": 5,
    "start_time": "2023-05-24T20:21:41.210Z"
   },
   {
    "duration": 151,
    "start_time": "2023-05-24T20:21:41.218Z"
   },
   {
    "duration": 11,
    "start_time": "2023-05-24T20:21:41.370Z"
   },
   {
    "duration": 16,
    "start_time": "2023-05-24T20:21:41.384Z"
   },
   {
    "duration": 19,
    "start_time": "2023-05-24T20:21:41.401Z"
   },
   {
    "duration": 28,
    "start_time": "2023-05-24T20:21:41.422Z"
   },
   {
    "duration": 14,
    "start_time": "2023-05-24T20:21:41.452Z"
   },
   {
    "duration": 19,
    "start_time": "2023-05-24T20:21:41.468Z"
   },
   {
    "duration": 7,
    "start_time": "2023-05-24T20:21:41.489Z"
   },
   {
    "duration": 8,
    "start_time": "2023-05-24T20:21:41.498Z"
   },
   {
    "duration": 10,
    "start_time": "2023-05-24T20:21:41.508Z"
   },
   {
    "duration": 18,
    "start_time": "2023-05-24T20:21:41.520Z"
   },
   {
    "duration": 16,
    "start_time": "2023-05-24T20:21:41.556Z"
   },
   {
    "duration": 6,
    "start_time": "2023-05-24T20:21:41.575Z"
   },
   {
    "duration": 19,
    "start_time": "2023-05-24T20:21:41.583Z"
   },
   {
    "duration": 11,
    "start_time": "2023-05-24T20:21:41.604Z"
   },
   {
    "duration": 39,
    "start_time": "2023-05-24T20:21:41.617Z"
   },
   {
    "duration": 20,
    "start_time": "2023-05-24T20:21:41.659Z"
   },
   {
    "duration": 302,
    "start_time": "2023-05-24T20:21:41.681Z"
   },
   {
    "duration": 230,
    "start_time": "2023-05-24T20:21:41.985Z"
   },
   {
    "duration": 13,
    "start_time": "2023-05-24T20:21:42.217Z"
   },
   {
    "duration": 232,
    "start_time": "2023-05-24T20:21:42.232Z"
   },
   {
    "duration": 333,
    "start_time": "2023-05-24T20:21:42.466Z"
   },
   {
    "duration": 269,
    "start_time": "2023-05-24T20:21:42.801Z"
   },
   {
    "duration": 1263,
    "start_time": "2023-05-24T20:21:44.882Z"
   },
   {
    "duration": 375,
    "start_time": "2023-05-24T20:22:01.539Z"
   },
   {
    "duration": 1152,
    "start_time": "2023-05-24T20:24:38.231Z"
   },
   {
    "duration": 254,
    "start_time": "2023-05-24T20:26:11.445Z"
   },
   {
    "duration": 213,
    "start_time": "2023-05-24T20:29:35.650Z"
   },
   {
    "duration": 189,
    "start_time": "2023-05-24T20:31:17.133Z"
   },
   {
    "duration": 209,
    "start_time": "2023-05-24T20:32:01.789Z"
   },
   {
    "duration": 189,
    "start_time": "2023-05-24T20:32:48.111Z"
   },
   {
    "duration": 240,
    "start_time": "2023-05-24T20:33:30.652Z"
   },
   {
    "duration": 340,
    "start_time": "2023-05-24T20:34:18.999Z"
   },
   {
    "duration": 1218,
    "start_time": "2023-05-24T20:38:00.662Z"
   },
   {
    "duration": 299,
    "start_time": "2023-05-24T20:38:15.106Z"
   },
   {
    "duration": 46,
    "start_time": "2023-05-25T15:16:55.691Z"
   },
   {
    "duration": 1303,
    "start_time": "2023-05-25T15:20:56.568Z"
   },
   {
    "duration": 249,
    "start_time": "2023-05-25T15:20:57.874Z"
   },
   {
    "duration": 11,
    "start_time": "2023-05-25T15:20:58.125Z"
   },
   {
    "duration": 6,
    "start_time": "2023-05-25T15:20:58.138Z"
   },
   {
    "duration": 31,
    "start_time": "2023-05-25T15:20:58.146Z"
   },
   {
    "duration": 10,
    "start_time": "2023-05-25T15:20:58.183Z"
   },
   {
    "duration": 18,
    "start_time": "2023-05-25T15:20:58.195Z"
   },
   {
    "duration": 19,
    "start_time": "2023-05-25T15:20:58.215Z"
   },
   {
    "duration": 12,
    "start_time": "2023-05-25T15:20:58.236Z"
   },
   {
    "duration": 13,
    "start_time": "2023-05-25T15:20:58.251Z"
   },
   {
    "duration": 23,
    "start_time": "2023-05-25T15:20:58.266Z"
   },
   {
    "duration": 14,
    "start_time": "2023-05-25T15:20:58.292Z"
   },
   {
    "duration": 36,
    "start_time": "2023-05-25T15:20:58.308Z"
   },
   {
    "duration": 21,
    "start_time": "2023-05-25T15:20:58.346Z"
   },
   {
    "duration": 9,
    "start_time": "2023-05-25T15:20:58.369Z"
   },
   {
    "duration": 13,
    "start_time": "2023-05-25T15:20:58.380Z"
   },
   {
    "duration": 14,
    "start_time": "2023-05-25T15:20:58.395Z"
   },
   {
    "duration": 19,
    "start_time": "2023-05-25T15:20:58.411Z"
   },
   {
    "duration": 356,
    "start_time": "2023-05-25T15:20:58.431Z"
   },
   {
    "duration": 335,
    "start_time": "2023-05-25T15:20:58.789Z"
   },
   {
    "duration": 13,
    "start_time": "2023-05-25T15:20:59.126Z"
   },
   {
    "duration": 274,
    "start_time": "2023-05-25T15:20:59.141Z"
   },
   {
    "duration": 397,
    "start_time": "2023-05-25T15:20:59.417Z"
   },
   {
    "duration": 292,
    "start_time": "2023-05-25T15:20:59.815Z"
   },
   {
    "duration": 363,
    "start_time": "2023-05-25T15:21:00.109Z"
   },
   {
    "duration": 182,
    "start_time": "2023-05-25T15:21:00.475Z"
   },
   {
    "duration": 11,
    "start_time": "2023-05-25T15:21:00.660Z"
   },
   {
    "duration": 228,
    "start_time": "2023-05-25T15:21:00.676Z"
   },
   {
    "duration": 202,
    "start_time": "2023-05-25T15:21:00.906Z"
   },
   {
    "duration": 6,
    "start_time": "2023-05-25T15:21:01.109Z"
   },
   {
    "duration": 481,
    "start_time": "2023-05-25T15:21:01.117Z"
   },
   {
    "duration": 196,
    "start_time": "2023-05-25T15:21:01.600Z"
   },
   {
    "duration": 12,
    "start_time": "2023-05-25T15:21:01.798Z"
   },
   {
    "duration": 44,
    "start_time": "2023-05-25T15:21:01.812Z"
   },
   {
    "duration": 35,
    "start_time": "2023-05-25T15:21:01.858Z"
   },
   {
    "duration": 46,
    "start_time": "2023-05-25T15:21:01.896Z"
   },
   {
    "duration": 41,
    "start_time": "2023-05-25T15:21:01.944Z"
   }
  ],
  "kernelspec": {
   "display_name": "Python 3 (ipykernel)",
   "language": "python",
   "name": "python3"
  },
  "language_info": {
   "codemirror_mode": {
    "name": "ipython",
    "version": 3
   },
   "file_extension": ".py",
   "mimetype": "text/x-python",
   "name": "python",
   "nbconvert_exporter": "python",
   "pygments_lexer": "ipython3",
   "version": "3.9.5"
  },
  "toc": {
   "base_numbering": 1,
   "nav_menu": {},
   "number_sections": false,
   "sideBar": true,
   "skip_h1_title": false,
   "title_cell": "Table of Contents",
   "title_sidebar": "Contents",
   "toc_cell": false,
   "toc_position": {
    "height": "616.364px",
    "left": "264px",
    "top": "371.781px",
    "width": "314.531px"
   },
   "toc_section_display": true,
   "toc_window_display": true
  }
 },
 "nbformat": 4,
 "nbformat_minor": 2
}
