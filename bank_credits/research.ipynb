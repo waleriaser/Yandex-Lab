{
 "cells": [
  {
   "cell_type": "markdown",
   "id": "386f2ae7",
   "metadata": {
    "deletable": false,
    "editable": false,
    "id": "386f2ae7"
   },
   "source": [
    "# Исследование надежности заемщиков\n"
   ]
  },
  {
   "cell_type": "markdown",
   "metadata": {},
   "source": [
    "**Описание данных:**\n",
    "1. children — количество детей в семье\n",
    "2. days_employed — общий трудовой стаж в днях\n",
    "3. dob_years — возраст клиента в годах\n",
    "4. education — уровень образования клиента\n",
    "5. education_id — идентификатор уровня образования\n",
    "6. family_status — семейное положение\n",
    "7. family_status_id — идентификатор семейного положения\n",
    "8. gender — пол клиента\n",
    "9. income_type — тип занятости\n",
    "10. debt — имел ли задолженность по возврату кредитов\n",
    "11. total_income — ежемесячный доход\n",
    "12. purpose — цель получения кредита\n"
   ]
   },
   {
   "cell_type": "markdown",
   "id": "26613308",
   "metadata": {
    "deletable": false,
    "editable": false,
    "id": "26613308"
   },
   "source": [
    "## Откройте таблицу и изучите общую информацию о данных"
   ]
  },
  {
   "cell_type": "markdown",
   "id": "3c9f838e",
   "metadata": {
    "deletable": false,
    "editable": false,
    "id": "3c9f838e"
   },
   "source": [
    "**Задание 1. Импортируйте библиотеку pandas. Считайте данные из csv-файла в датафрейм и сохраните в переменную `data`. Путь к файлу:**\n",
    "\n",
    "`/datasets/data.csv`"
   ]
  },
  {
   "cell_type": "code",
   "execution_count": 1,
   "id": "77a68a90",
   "metadata": {
    "deletable": false,
    "id": "77a68a90"
   },
   "outputs": [],
   "source": [
    "import pandas as pd\n",
    "\n",
    "try:\n",
    "    data = pd.read_csv('/datasets/data.csv')\n",
    "except:\n",
    "    data = pd.read_csv('https://code.s3.yandex.net/datasets/data.csv')"
   ]
  },
  {
   "cell_type": "markdown",
   "id": "45365635",
   "metadata": {
    "deletable": false,
    "editable": false,
    "id": "45365635"
   },
   "source": [
    "**Задание 2. Выведите первые 20 строчек датафрейма `data` на экран.**"
   ]
  },
  {
   "cell_type": "code",
   "execution_count": 2,
   "id": "b0451a9a",
   "metadata": {
    "deletable": false,
    "id": "b0451a9a",
    "outputId": "1a8f3ef2-d323-4ec2-ddf7-89670b5944c4"
   },
   "outputs": [
    {
     "data": {
      "text/html": [
       "<div>\n",
       "<style scoped>\n",
       "    .dataframe tbody tr th:only-of-type {\n",
       "        vertical-align: middle;\n",
       "    }\n",
       "\n",
       "    .dataframe tbody tr th {\n",
       "        vertical-align: top;\n",
       "    }\n",
       "\n",
       "    .dataframe thead th {\n",
       "        text-align: right;\n",
       "    }\n",
       "</style>\n",
       "<table border=\"1\" class=\"dataframe\">\n",
       "  <thead>\n",
       "    <tr style=\"text-align: right;\">\n",
       "      <th></th>\n",
       "      <th>children</th>\n",
       "      <th>days_employed</th>\n",
       "      <th>dob_years</th>\n",
       "      <th>education</th>\n",
       "      <th>education_id</th>\n",
       "      <th>family_status</th>\n",
       "      <th>family_status_id</th>\n",
       "      <th>gender</th>\n",
       "      <th>income_type</th>\n",
       "      <th>debt</th>\n",
       "      <th>total_income</th>\n",
       "      <th>purpose</th>\n",
       "    </tr>\n",
       "  </thead>\n",
       "  <tbody>\n",
       "    <tr>\n",
       "      <th>0</th>\n",
       "      <td>1</td>\n",
       "      <td>-8437.673028</td>\n",
       "      <td>42</td>\n",
       "      <td>высшее</td>\n",
       "      <td>0</td>\n",
       "      <td>женат / замужем</td>\n",
       "      <td>0</td>\n",
       "      <td>F</td>\n",
       "      <td>сотрудник</td>\n",
       "      <td>0</td>\n",
       "      <td>253875.639453</td>\n",
       "      <td>покупка жилья</td>\n",
       "    </tr>\n",
       "    <tr>\n",
       "      <th>1</th>\n",
       "      <td>1</td>\n",
       "      <td>-4024.803754</td>\n",
       "      <td>36</td>\n",
       "      <td>среднее</td>\n",
       "      <td>1</td>\n",
       "      <td>женат / замужем</td>\n",
       "      <td>0</td>\n",
       "      <td>F</td>\n",
       "      <td>сотрудник</td>\n",
       "      <td>0</td>\n",
       "      <td>112080.014102</td>\n",
       "      <td>приобретение автомобиля</td>\n",
       "    </tr>\n",
       "    <tr>\n",
       "      <th>2</th>\n",
       "      <td>0</td>\n",
       "      <td>-5623.422610</td>\n",
       "      <td>33</td>\n",
       "      <td>Среднее</td>\n",
       "      <td>1</td>\n",
       "      <td>женат / замужем</td>\n",
       "      <td>0</td>\n",
       "      <td>M</td>\n",
       "      <td>сотрудник</td>\n",
       "      <td>0</td>\n",
       "      <td>145885.952297</td>\n",
       "      <td>покупка жилья</td>\n",
       "    </tr>\n",
       "    <tr>\n",
       "      <th>3</th>\n",
       "      <td>3</td>\n",
       "      <td>-4124.747207</td>\n",
       "      <td>32</td>\n",
       "      <td>среднее</td>\n",
       "      <td>1</td>\n",
       "      <td>женат / замужем</td>\n",
       "      <td>0</td>\n",
       "      <td>M</td>\n",
       "      <td>сотрудник</td>\n",
       "      <td>0</td>\n",
       "      <td>267628.550329</td>\n",
       "      <td>дополнительное образование</td>\n",
       "    </tr>\n",
       "    <tr>\n",
       "      <th>4</th>\n",
       "      <td>0</td>\n",
       "      <td>340266.072047</td>\n",
       "      <td>53</td>\n",
       "      <td>среднее</td>\n",
       "      <td>1</td>\n",
       "      <td>гражданский брак</td>\n",
       "      <td>1</td>\n",
       "      <td>F</td>\n",
       "      <td>пенсионер</td>\n",
       "      <td>0</td>\n",
       "      <td>158616.077870</td>\n",
       "      <td>сыграть свадьбу</td>\n",
       "    </tr>\n",
       "    <tr>\n",
       "      <th>5</th>\n",
       "      <td>0</td>\n",
       "      <td>-926.185831</td>\n",
       "      <td>27</td>\n",
       "      <td>высшее</td>\n",
       "      <td>0</td>\n",
       "      <td>гражданский брак</td>\n",
       "      <td>1</td>\n",
       "      <td>M</td>\n",
       "      <td>компаньон</td>\n",
       "      <td>0</td>\n",
       "      <td>255763.565419</td>\n",
       "      <td>покупка жилья</td>\n",
       "    </tr>\n",
       "    <tr>\n",
       "      <th>6</th>\n",
       "      <td>0</td>\n",
       "      <td>-2879.202052</td>\n",
       "      <td>43</td>\n",
       "      <td>высшее</td>\n",
       "      <td>0</td>\n",
       "      <td>женат / замужем</td>\n",
       "      <td>0</td>\n",
       "      <td>F</td>\n",
       "      <td>компаньон</td>\n",
       "      <td>0</td>\n",
       "      <td>240525.971920</td>\n",
       "      <td>операции с жильем</td>\n",
       "    </tr>\n",
       "    <tr>\n",
       "      <th>7</th>\n",
       "      <td>0</td>\n",
       "      <td>-152.779569</td>\n",
       "      <td>50</td>\n",
       "      <td>СРЕДНЕЕ</td>\n",
       "      <td>1</td>\n",
       "      <td>женат / замужем</td>\n",
       "      <td>0</td>\n",
       "      <td>M</td>\n",
       "      <td>сотрудник</td>\n",
       "      <td>0</td>\n",
       "      <td>135823.934197</td>\n",
       "      <td>образование</td>\n",
       "    </tr>\n",
       "    <tr>\n",
       "      <th>8</th>\n",
       "      <td>2</td>\n",
       "      <td>-6929.865299</td>\n",
       "      <td>35</td>\n",
       "      <td>ВЫСШЕЕ</td>\n",
       "      <td>0</td>\n",
       "      <td>гражданский брак</td>\n",
       "      <td>1</td>\n",
       "      <td>F</td>\n",
       "      <td>сотрудник</td>\n",
       "      <td>0</td>\n",
       "      <td>95856.832424</td>\n",
       "      <td>на проведение свадьбы</td>\n",
       "    </tr>\n",
       "    <tr>\n",
       "      <th>9</th>\n",
       "      <td>0</td>\n",
       "      <td>-2188.756445</td>\n",
       "      <td>41</td>\n",
       "      <td>среднее</td>\n",
       "      <td>1</td>\n",
       "      <td>женат / замужем</td>\n",
       "      <td>0</td>\n",
       "      <td>M</td>\n",
       "      <td>сотрудник</td>\n",
       "      <td>0</td>\n",
       "      <td>144425.938277</td>\n",
       "      <td>покупка жилья для семьи</td>\n",
       "    </tr>\n",
       "    <tr>\n",
       "      <th>10</th>\n",
       "      <td>2</td>\n",
       "      <td>-4171.483647</td>\n",
       "      <td>36</td>\n",
       "      <td>высшее</td>\n",
       "      <td>0</td>\n",
       "      <td>женат / замужем</td>\n",
       "      <td>0</td>\n",
       "      <td>M</td>\n",
       "      <td>компаньон</td>\n",
       "      <td>0</td>\n",
       "      <td>113943.491460</td>\n",
       "      <td>покупка недвижимости</td>\n",
       "    </tr>\n",
       "    <tr>\n",
       "      <th>11</th>\n",
       "      <td>0</td>\n",
       "      <td>-792.701887</td>\n",
       "      <td>40</td>\n",
       "      <td>среднее</td>\n",
       "      <td>1</td>\n",
       "      <td>женат / замужем</td>\n",
       "      <td>0</td>\n",
       "      <td>F</td>\n",
       "      <td>сотрудник</td>\n",
       "      <td>0</td>\n",
       "      <td>77069.234271</td>\n",
       "      <td>покупка коммерческой недвижимости</td>\n",
       "    </tr>\n",
       "    <tr>\n",
       "      <th>12</th>\n",
       "      <td>0</td>\n",
       "      <td>NaN</td>\n",
       "      <td>65</td>\n",
       "      <td>среднее</td>\n",
       "      <td>1</td>\n",
       "      <td>гражданский брак</td>\n",
       "      <td>1</td>\n",
       "      <td>M</td>\n",
       "      <td>пенсионер</td>\n",
       "      <td>0</td>\n",
       "      <td>NaN</td>\n",
       "      <td>сыграть свадьбу</td>\n",
       "    </tr>\n",
       "    <tr>\n",
       "      <th>13</th>\n",
       "      <td>0</td>\n",
       "      <td>-1846.641941</td>\n",
       "      <td>54</td>\n",
       "      <td>неоконченное высшее</td>\n",
       "      <td>2</td>\n",
       "      <td>женат / замужем</td>\n",
       "      <td>0</td>\n",
       "      <td>F</td>\n",
       "      <td>сотрудник</td>\n",
       "      <td>0</td>\n",
       "      <td>130458.228857</td>\n",
       "      <td>приобретение автомобиля</td>\n",
       "    </tr>\n",
       "    <tr>\n",
       "      <th>14</th>\n",
       "      <td>0</td>\n",
       "      <td>-1844.956182</td>\n",
       "      <td>56</td>\n",
       "      <td>высшее</td>\n",
       "      <td>0</td>\n",
       "      <td>гражданский брак</td>\n",
       "      <td>1</td>\n",
       "      <td>F</td>\n",
       "      <td>компаньон</td>\n",
       "      <td>1</td>\n",
       "      <td>165127.911772</td>\n",
       "      <td>покупка жилой недвижимости</td>\n",
       "    </tr>\n",
       "    <tr>\n",
       "      <th>15</th>\n",
       "      <td>1</td>\n",
       "      <td>-972.364419</td>\n",
       "      <td>26</td>\n",
       "      <td>среднее</td>\n",
       "      <td>1</td>\n",
       "      <td>женат / замужем</td>\n",
       "      <td>0</td>\n",
       "      <td>F</td>\n",
       "      <td>сотрудник</td>\n",
       "      <td>0</td>\n",
       "      <td>116820.904450</td>\n",
       "      <td>строительство собственной недвижимости</td>\n",
       "    </tr>\n",
       "    <tr>\n",
       "      <th>16</th>\n",
       "      <td>0</td>\n",
       "      <td>-1719.934226</td>\n",
       "      <td>35</td>\n",
       "      <td>среднее</td>\n",
       "      <td>1</td>\n",
       "      <td>женат / замужем</td>\n",
       "      <td>0</td>\n",
       "      <td>F</td>\n",
       "      <td>сотрудник</td>\n",
       "      <td>0</td>\n",
       "      <td>289202.704229</td>\n",
       "      <td>недвижимость</td>\n",
       "    </tr>\n",
       "    <tr>\n",
       "      <th>17</th>\n",
       "      <td>0</td>\n",
       "      <td>-2369.999720</td>\n",
       "      <td>33</td>\n",
       "      <td>высшее</td>\n",
       "      <td>0</td>\n",
       "      <td>гражданский брак</td>\n",
       "      <td>1</td>\n",
       "      <td>M</td>\n",
       "      <td>сотрудник</td>\n",
       "      <td>0</td>\n",
       "      <td>90410.586745</td>\n",
       "      <td>строительство недвижимости</td>\n",
       "    </tr>\n",
       "    <tr>\n",
       "      <th>18</th>\n",
       "      <td>0</td>\n",
       "      <td>400281.136913</td>\n",
       "      <td>53</td>\n",
       "      <td>среднее</td>\n",
       "      <td>1</td>\n",
       "      <td>вдовец / вдова</td>\n",
       "      <td>2</td>\n",
       "      <td>F</td>\n",
       "      <td>пенсионер</td>\n",
       "      <td>0</td>\n",
       "      <td>56823.777243</td>\n",
       "      <td>на покупку подержанного автомобиля</td>\n",
       "    </tr>\n",
       "    <tr>\n",
       "      <th>19</th>\n",
       "      <td>0</td>\n",
       "      <td>-10038.818549</td>\n",
       "      <td>48</td>\n",
       "      <td>СРЕДНЕЕ</td>\n",
       "      <td>1</td>\n",
       "      <td>в разводе</td>\n",
       "      <td>3</td>\n",
       "      <td>F</td>\n",
       "      <td>сотрудник</td>\n",
       "      <td>0</td>\n",
       "      <td>242831.107982</td>\n",
       "      <td>на покупку своего автомобиля</td>\n",
       "    </tr>\n",
       "  </tbody>\n",
       "</table>\n",
       "</div>"
      ],
      "text/plain": [
       "    children  days_employed  dob_years            education  education_id  \\\n",
       "0          1   -8437.673028         42               высшее             0   \n",
       "1          1   -4024.803754         36              среднее             1   \n",
       "2          0   -5623.422610         33              Среднее             1   \n",
       "3          3   -4124.747207         32              среднее             1   \n",
       "4          0  340266.072047         53              среднее             1   \n",
       "5          0    -926.185831         27               высшее             0   \n",
       "6          0   -2879.202052         43               высшее             0   \n",
       "7          0    -152.779569         50              СРЕДНЕЕ             1   \n",
       "8          2   -6929.865299         35               ВЫСШЕЕ             0   \n",
       "9          0   -2188.756445         41              среднее             1   \n",
       "10         2   -4171.483647         36               высшее             0   \n",
       "11         0    -792.701887         40              среднее             1   \n",
       "12         0            NaN         65              среднее             1   \n",
       "13         0   -1846.641941         54  неоконченное высшее             2   \n",
       "14         0   -1844.956182         56               высшее             0   \n",
       "15         1    -972.364419         26              среднее             1   \n",
       "16         0   -1719.934226         35              среднее             1   \n",
       "17         0   -2369.999720         33               высшее             0   \n",
       "18         0  400281.136913         53              среднее             1   \n",
       "19         0  -10038.818549         48              СРЕДНЕЕ             1   \n",
       "\n",
       "       family_status  family_status_id gender income_type  debt  \\\n",
       "0    женат / замужем                 0      F   сотрудник     0   \n",
       "1    женат / замужем                 0      F   сотрудник     0   \n",
       "2    женат / замужем                 0      M   сотрудник     0   \n",
       "3    женат / замужем                 0      M   сотрудник     0   \n",
       "4   гражданский брак                 1      F   пенсионер     0   \n",
       "5   гражданский брак                 1      M   компаньон     0   \n",
       "6    женат / замужем                 0      F   компаньон     0   \n",
       "7    женат / замужем                 0      M   сотрудник     0   \n",
       "8   гражданский брак                 1      F   сотрудник     0   \n",
       "9    женат / замужем                 0      M   сотрудник     0   \n",
       "10   женат / замужем                 0      M   компаньон     0   \n",
       "11   женат / замужем                 0      F   сотрудник     0   \n",
       "12  гражданский брак                 1      M   пенсионер     0   \n",
       "13   женат / замужем                 0      F   сотрудник     0   \n",
       "14  гражданский брак                 1      F   компаньон     1   \n",
       "15   женат / замужем                 0      F   сотрудник     0   \n",
       "16   женат / замужем                 0      F   сотрудник     0   \n",
       "17  гражданский брак                 1      M   сотрудник     0   \n",
       "18    вдовец / вдова                 2      F   пенсионер     0   \n",
       "19         в разводе                 3      F   сотрудник     0   \n",
       "\n",
       "     total_income                                 purpose  \n",
       "0   253875.639453                           покупка жилья  \n",
       "1   112080.014102                 приобретение автомобиля  \n",
       "2   145885.952297                           покупка жилья  \n",
       "3   267628.550329              дополнительное образование  \n",
       "4   158616.077870                         сыграть свадьбу  \n",
       "5   255763.565419                           покупка жилья  \n",
       "6   240525.971920                       операции с жильем  \n",
       "7   135823.934197                             образование  \n",
       "8    95856.832424                   на проведение свадьбы  \n",
       "9   144425.938277                 покупка жилья для семьи  \n",
       "10  113943.491460                    покупка недвижимости  \n",
       "11   77069.234271       покупка коммерческой недвижимости  \n",
       "12            NaN                         сыграть свадьбу  \n",
       "13  130458.228857                 приобретение автомобиля  \n",
       "14  165127.911772              покупка жилой недвижимости  \n",
       "15  116820.904450  строительство собственной недвижимости  \n",
       "16  289202.704229                            недвижимость  \n",
       "17   90410.586745              строительство недвижимости  \n",
       "18   56823.777243      на покупку подержанного автомобиля  \n",
       "19  242831.107982            на покупку своего автомобиля  "
      ]
     },
     "execution_count": 2,
     "metadata": {},
     "output_type": "execute_result"
    }
   ],
   "source": [
    "data.head(20)"
   ]
  },
  {
   "cell_type": "markdown",
   "id": "0ed8f27f",
   "metadata": {
    "deletable": false,
    "editable": false,
    "id": "0ed8f27f"
   },
   "source": [
    "**Задание 3. Выведите основную информацию о датафрейме с помощью метода `info()`.**"
   ]
  },
  {
   "cell_type": "code",
   "execution_count": 3,
   "id": "ab3f863b",
   "metadata": {
    "deletable": false,
    "id": "ab3f863b",
    "outputId": "15376089-8dad-46c9-b520-c05248d43158"
   },
   "outputs": [
    {
     "name": "stdout",
     "output_type": "stream",
     "text": [
      "<class 'pandas.core.frame.DataFrame'>\n",
      "RangeIndex: 21525 entries, 0 to 21524\n",
      "Data columns (total 12 columns):\n",
      " #   Column            Non-Null Count  Dtype  \n",
      "---  ------            --------------  -----  \n",
      " 0   children          21525 non-null  int64  \n",
      " 1   days_employed     19351 non-null  float64\n",
      " 2   dob_years         21525 non-null  int64  \n",
      " 3   education         21525 non-null  object \n",
      " 4   education_id      21525 non-null  int64  \n",
      " 5   family_status     21525 non-null  object \n",
      " 6   family_status_id  21525 non-null  int64  \n",
      " 7   gender            21525 non-null  object \n",
      " 8   income_type       21525 non-null  object \n",
      " 9   debt              21525 non-null  int64  \n",
      " 10  total_income      19351 non-null  float64\n",
      " 11  purpose           21525 non-null  object \n",
      "dtypes: float64(2), int64(5), object(5)\n",
      "memory usage: 2.0+ MB\n"
     ]
    }
   ],
   "source": [
    "data.info()"
   ]
  },
  {
   "cell_type": "markdown",
   "id": "60e3e22d",
   "metadata": {
    "deletable": false,
    "editable": false,
    "id": "60e3e22d"
   },
   "source": [
    "## Предобработка данных"
   ]
  },
  {
   "cell_type": "markdown",
   "id": "03dc170c",
   "metadata": {
    "deletable": false,
    "editable": false,
    "id": "03dc170c"
   },
   "source": [
    "### Удаление пропусков"
   ]
  },
  {
   "cell_type": "markdown",
   "id": "a4f54eef",
   "metadata": {
    "deletable": false,
    "editable": false,
    "id": "a4f54eef"
   },
   "source": [
    "**Задание 4. Выведите количество пропущенных значений для каждого столбца. Используйте комбинацию двух методов.**"
   ]
  },
  {
   "cell_type": "code",
   "execution_count": 4,
   "id": "2dc372b2",
   "metadata": {
    "deletable": false,
    "id": "2dc372b2",
    "outputId": "81f4d817-781c-465c-ed15-91ce4446810d"
   },
   "outputs": [
    {
     "data": {
      "text/plain": [
       "children               0\n",
       "days_employed       2174\n",
       "dob_years              0\n",
       "education              0\n",
       "education_id           0\n",
       "family_status          0\n",
       "family_status_id       0\n",
       "gender                 0\n",
       "income_type            0\n",
       "debt                   0\n",
       "total_income        2174\n",
       "purpose                0\n",
       "dtype: int64"
      ]
     },
     "execution_count": 4,
     "metadata": {},
     "output_type": "execute_result"
    }
   ],
   "source": [
    "data.isna().sum()"
   ]
  },
  {
   "cell_type": "markdown",
   "id": "14f011b1",
   "metadata": {
    "deletable": false,
    "editable": false,
    "id": "14f011b1"
   },
   "source": [
    "**Задание 5. В двух столбцах есть пропущенные значения. Один из них — `days_employed`. Пропуски в этом столбце вы обработаете на следующем этапе. Другой столбец с пропущенными значениями — `total_income` — хранит данные о доходах. На сумму дохода сильнее всего влияет тип занятости, поэтому заполнить пропуски в этом столбце нужно медианным значением по каждому типу из столбца `income_type`. Например, у человека с типом занятости `сотрудник` пропуск в столбце `total_income` должен быть заполнен медианным доходом среди всех записей с тем же типом.**"
   ]
  },
  {
   "cell_type": "code",
   "execution_count": 5,
   "id": "bdabfb6e",
   "metadata": {
    "deletable": false,
    "id": "bdabfb6e"
   },
   "outputs": [],
   "source": [
    "for t in data['income_type'].unique():\n",
    "    data.loc[(data['income_type'] == t) & (data['total_income'].isna()), 'total_income'] = \\\n",
    "    data.loc[(data['income_type'] == t), 'total_income'].median()"
   ]
  },
  {
   "cell_type": "markdown",
   "id": "5be34059",
   "metadata": {
    "deletable": false,
    "editable": false,
    "id": "5be34059"
   },
   "source": [
    "### Обработка аномальных значений"
   ]
  },
  {
   "cell_type": "markdown",
   "id": "a87606cb",
   "metadata": {
    "deletable": false,
    "editable": false,
    "id": "a87606cb"
   },
   "source": [
    "**Задание 6. В данных могут встречаться артефакты (аномалии) — значения, которые не отражают действительность и появились по какой-то ошибке. таким артефактом будет отрицательное количество дней трудового стажа в столбце `days_employed`. Для реальных данных это нормально. Обработайте значения в этом столбце: замените все отрицательные значения положительными с помощью метода `abs()`.**"
   ]
  },
  {
   "cell_type": "code",
   "execution_count": 6,
   "id": "020c46cc",
   "metadata": {
    "deletable": false,
    "id": "020c46cc"
   },
   "outputs": [],
   "source": [
    "data['days_employed'] = data['days_employed'].abs()"
   ]
  },
  {
   "cell_type": "markdown",
   "id": "45538a3a",
   "metadata": {
    "deletable": false,
    "editable": false,
    "id": "45538a3a"
   },
   "source": [
    "**Задание 7. Для каждого типа занятости выведите медианное значение трудового стажа `days_employed` в днях.**"
   ]
  },
  {
   "cell_type": "code",
   "execution_count": 7,
   "id": "cd3e6328",
   "metadata": {
    "deletable": false,
    "id": "cd3e6328",
    "outputId": "801ef80e-522b-4668-f34e-565af7432bcf"
   },
   "outputs": [
    {
     "data": {
      "text/plain": [
       "income_type\n",
       "безработный        366413.652744\n",
       "в декрете            3296.759962\n",
       "госслужащий          2689.368353\n",
       "компаньон            1547.382223\n",
       "пенсионер          365213.306266\n",
       "предприниматель       520.848083\n",
       "сотрудник            1574.202821\n",
       "студент               578.751554\n",
       "Name: days_employed, dtype: float64"
      ]
     },
     "execution_count": 7,
     "metadata": {},
     "output_type": "execute_result"
    }
   ],
   "source": [
    "data.groupby('income_type')['days_employed'].agg('median')"
   ]
  },
  {
   "cell_type": "markdown",
   "id": "90c5f058",
   "metadata": {
    "deletable": false,
    "editable": false,
    "id": "90c5f058"
   },
   "source": [
    "У двух типов (безработные и пенсионеры) получатся аномально большие значения. Исправить такие значения сложно, поэтому оставьте их как есть."
   ]
  },
  {
   "cell_type": "markdown",
   "id": "9652e50d",
   "metadata": {
    "deletable": false,
    "editable": false,
    "id": "9652e50d"
   },
   "source": [
    "**Задание 8. Выведите перечень уникальных значений столбца `children`.**"
   ]
  },
  {
   "cell_type": "code",
   "execution_count": 8,
   "id": "dbb37b8e",
   "metadata": {
    "deletable": false,
    "id": "dbb37b8e",
    "outputId": "6975b15c-7f95-4697-d16d-a0c79b657b03"
   },
   "outputs": [
    {
     "data": {
      "text/plain": [
       "array([ 1,  0,  3,  2, -1,  4, 20,  5])"
      ]
     },
     "execution_count": 8,
     "metadata": {},
     "output_type": "execute_result"
    }
   ],
   "source": [
    "data['children'].unique()"
   ]
  },
  {
   "cell_type": "markdown",
   "id": "2b8b0715",
   "metadata": {
    "deletable": false,
    "editable": false,
    "id": "2b8b0715"
   },
   "source": [
    "**Задание 9. В столбце `children` есть два аномальных значения. Удалите строки, в которых встречаются такие аномальные значения из датафрейма `data`.**"
   ]
  },
  {
   "cell_type": "code",
   "execution_count": 9,
   "id": "20009df8",
   "metadata": {
    "deletable": false,
    "id": "20009df8"
   },
   "outputs": [],
   "source": [
    "data = data[(data['children'] != -1) & (data['children'] != 20)]"
   ]
  },
  {
   "cell_type": "markdown",
   "id": "8c6ac9f1",
   "metadata": {
    "deletable": false,
    "editable": false,
    "id": "8c6ac9f1"
   },
   "source": [
    "**Задание 10. Ещё раз выведите перечень уникальных значений столбца `children`, чтобы убедиться, что артефакты удалены.**"
   ]
  },
  {
   "cell_type": "code",
   "execution_count": 10,
   "id": "07337b81",
   "metadata": {
    "deletable": false,
    "id": "07337b81",
    "outputId": "b2097101-d49d-44d9-901b-32a65c9463d1"
   },
   "outputs": [
    {
     "data": {
      "text/plain": [
       "array([1, 0, 3, 2, 4, 5])"
      ]
     },
     "execution_count": 10,
     "metadata": {},
     "output_type": "execute_result"
    }
   ],
   "source": [
    "data['children'].unique()"
   ]
  },
  {
   "cell_type": "markdown",
   "id": "ee3f52d4",
   "metadata": {
    "deletable": false,
    "editable": false,
    "id": "ee3f52d4"
   },
   "source": [
    "### Удаление пропусков (продолжение)"
   ]
  },
  {
   "cell_type": "markdown",
   "id": "a700b0e4",
   "metadata": {
    "deletable": false,
    "editable": false,
    "id": "a700b0e4"
   },
   "source": [
    "**Задание 11. Заполните пропуски в столбце `days_employed` медианными значениями по каждого типа занятости `income_type`.**"
   ]
  },
  {
   "cell_type": "code",
   "execution_count": 11,
   "id": "61946b83",
   "metadata": {
    "deletable": false,
    "id": "61946b83"
   },
   "outputs": [],
   "source": [
    "for t in data['income_type'].unique():\n",
    "    data.loc[(data['income_type'] == t) & (data['days_employed'].isna()), 'days_employed'] = \\\n",
    "    data.loc[(data['income_type'] == t), 'days_employed'].median()"
   ]
  },
  {
   "cell_type": "markdown",
   "id": "550dcd9b",
   "metadata": {
    "deletable": false,
    "editable": false,
    "id": "550dcd9b"
   },
   "source": [
    "**Задание 12. Убедитесь, что все пропуски заполнены. Проверьте себя и ещё раз выведите количество пропущенных значений для каждого столбца с помощью двух методов.**"
   ]
  },
  {
   "cell_type": "code",
   "execution_count": 12,
   "id": "937c7014",
   "metadata": {
    "deletable": false,
    "id": "937c7014",
    "outputId": "8da1e4e1-358e-4e87-98c9-f261bce0a7b2"
   },
   "outputs": [
    {
     "data": {
      "text/plain": [
       "children            0\n",
       "days_employed       0\n",
       "dob_years           0\n",
       "education           0\n",
       "education_id        0\n",
       "family_status       0\n",
       "family_status_id    0\n",
       "gender              0\n",
       "income_type         0\n",
       "debt                0\n",
       "total_income        0\n",
       "purpose             0\n",
       "dtype: int64"
      ]
     },
     "execution_count": 12,
     "metadata": {},
     "output_type": "execute_result"
    }
   ],
   "source": [
    "data.isna().sum()"
   ]
  },
  {
   "cell_type": "markdown",
   "id": "d522e295",
   "metadata": {
    "deletable": false,
    "editable": false,
    "id": "d522e295"
   },
   "source": [
    "### Изменение типов данных"
   ]
  },
  {
   "cell_type": "markdown",
   "id": "c229c581",
   "metadata": {
    "deletable": false,
    "editable": false,
    "id": "c229c581"
   },
   "source": [
    "**Задание 13. Замените вещественный тип данных в столбце `total_income` на целочисленный с помощью метода `astype()`.**"
   ]
  },
  {
   "cell_type": "code",
   "execution_count": 13,
   "id": "31036462",
   "metadata": {
    "deletable": false,
    "id": "31036462"
   },
   "outputs": [],
   "source": [
    "data['total_income'] = data['total_income'].astype(int)"
   ]
  },
  {
   "cell_type": "markdown",
   "id": "b8e3d1d9",
   "metadata": {
    "deletable": false,
    "editable": false,
    "id": "b8e3d1d9"
   },
   "source": [
    "### Обработка дубликатов"
   ]
  },
  {
   "cell_type": "markdown",
   "id": "9be53c49",
   "metadata": {
    "deletable": false,
    "editable": false,
    "id": "9be53c49"
   },
   "source": [
    "**Задание 14. Обработайте неявные дубликаты в столбце `education`. В этом столбце есть одни и те же значения, но записанные по-разному: с использованием заглавных и строчных букв. Приведите их к нижнему регистру.**"
   ]
  },
  {
   "cell_type": "code",
   "execution_count": 14,
   "id": "d89e73e1",
   "metadata": {
    "deletable": false,
    "id": "d89e73e1"
   },
   "outputs": [],
   "source": [
    "data['education'] = data['education'].str.lower()"
   ]
  },
  {
   "cell_type": "markdown",
   "id": "01d4500e",
   "metadata": {
    "deletable": false,
    "editable": false,
    "id": "01d4500e"
   },
   "source": [
    "**Задание 15. Выведите на экран количество строк-дубликатов в данных. Если такие строки присутствуют, удалите их.**"
   ]
  },
  {
   "cell_type": "code",
   "execution_count": 15,
   "id": "e10efb23",
   "metadata": {
    "deletable": false,
    "id": "e10efb23",
    "outputId": "9684deba-1934-42d1-99e1-cda61740f822"
   },
   "outputs": [
    {
     "data": {
      "text/plain": [
       "71"
      ]
     },
     "execution_count": 15,
     "metadata": {},
     "output_type": "execute_result"
    }
   ],
   "source": [
    "data.duplicated().sum()"
   ]
  },
  {
   "cell_type": "code",
   "execution_count": 16,
   "id": "df853f20",
   "metadata": {
    "deletable": false,
    "id": "df853f20"
   },
   "outputs": [],
   "source": [
    "data = data.drop_duplicates()"
   ]
  },
  {
   "cell_type": "markdown",
   "id": "627be38f",
   "metadata": {
    "deletable": false,
    "editable": false,
    "id": "627be38f"
   },
   "source": [
    "### Категоризация данных"
   ]
  },
  {
   "cell_type": "markdown",
   "id": "4684c3e0",
   "metadata": {
    "deletable": false,
    "editable": false,
    "id": "4684c3e0"
   },
   "source": [
    "**Задание 16. На основании диапазонов, указанных ниже, создайте в датафрейме `data` столбец `total_income_category` с категориями:**\n",
    "\n",
    "- 0–30000 — `'E'`;\n",
    "- 30001–50000 — `'D'`;\n",
    "- 50001–200000 — `'C'`;\n",
    "- 200001–1000000 — `'B'`;\n",
    "- 1000001 и выше — `'A'`.\n",
    "\n",
    "\n",
    "**Например, кредитополучателю с доходом 25000 нужно назначить категорию `'E'`, а клиенту, получающему 235000, — `'B'`. Используйте собственную функцию с именем `categorize_income()` и метод `apply()`.**"
   ]
  },
  {
   "cell_type": "code",
   "execution_count": 17,
   "id": "78965238",
   "metadata": {
    "deletable": false,
    "id": "78965238"
   },
   "outputs": [],
   "source": [
    "def categorize_income(income):\n",
    "    try:\n",
    "        if 0 <= income <= 30000:\n",
    "            return 'E'\n",
    "        elif 30001 <= income <= 50000:\n",
    "            return 'D'\n",
    "        elif 50001 <= income <= 200000:\n",
    "            return 'C'\n",
    "        elif 200001 <= income <= 1000000:\n",
    "            return 'B'\n",
    "        elif income >= 1000001:\n",
    "            return 'A'\n",
    "    except:\n",
    "        pass"
   ]
  },
  {
   "cell_type": "code",
   "execution_count": 18,
   "id": "0980ada1",
   "metadata": {
    "deletable": false,
    "id": "0980ada1"
   },
   "outputs": [],
   "source": [
    "data['total_income_category'] = data['total_income'].apply(categorize_income)"
   ]
  },
  {
   "cell_type": "markdown",
   "id": "9917bba0",
   "metadata": {
    "deletable": false,
    "editable": false,
    "id": "9917bba0"
   },
   "source": [
    "**Задание 17. Выведите на экран перечень уникальных целей взятия кредита из столбца `purpose`.**"
   ]
  },
  {
   "cell_type": "code",
   "execution_count": 19,
   "id": "ee07b65e",
   "metadata": {
    "deletable": false,
    "id": "ee07b65e",
    "outputId": "673c12d9-7d7e-4ae0-9812-c622c89dd244"
   },
   "outputs": [
    {
     "data": {
      "text/plain": [
       "array(['покупка жилья', 'приобретение автомобиля',\n",
       "       'дополнительное образование', 'сыграть свадьбу',\n",
       "       'операции с жильем', 'образование', 'на проведение свадьбы',\n",
       "       'покупка жилья для семьи', 'покупка недвижимости',\n",
       "       'покупка коммерческой недвижимости', 'покупка жилой недвижимости',\n",
       "       'строительство собственной недвижимости', 'недвижимость',\n",
       "       'строительство недвижимости', 'на покупку подержанного автомобиля',\n",
       "       'на покупку своего автомобиля',\n",
       "       'операции с коммерческой недвижимостью',\n",
       "       'строительство жилой недвижимости', 'жилье',\n",
       "       'операции со своей недвижимостью', 'автомобили',\n",
       "       'заняться образованием', 'сделка с подержанным автомобилем',\n",
       "       'получение образования', 'автомобиль', 'свадьба',\n",
       "       'получение дополнительного образования', 'покупка своего жилья',\n",
       "       'операции с недвижимостью', 'получение высшего образования',\n",
       "       'свой автомобиль', 'сделка с автомобилем',\n",
       "       'профильное образование', 'высшее образование',\n",
       "       'покупка жилья для сдачи', 'на покупку автомобиля', 'ремонт жилью',\n",
       "       'заняться высшим образованием'], dtype=object)"
      ]
     },
     "execution_count": 19,
     "metadata": {},
     "output_type": "execute_result"
    }
   ],
   "source": [
    "data['purpose'].unique()"
   ]
  },
  {
   "cell_type": "markdown",
   "id": "52b79d56",
   "metadata": {
    "deletable": false,
    "editable": false,
    "id": "52b79d56"
   },
   "source": [
    "**Задание 18. Создайте функцию, которая на основании данных из столбца `purpose` сформирует новый столбец `purpose_category`, в который войдут следующие категории:**\n",
    "\n",
    "- `'операции с автомобилем'`,\n",
    "- `'операции с недвижимостью'`,\n",
    "- `'проведение свадьбы'`,\n",
    "- `'получение образования'`.\n",
    "\n",
    "**Например, если в столбце `purpose` находится подстрока `'на покупку автомобиля'`, то в столбце `purpose_category` должна появиться строка `'операции с автомобилем'`.**\n",
    "\n",
    "**Используйте собственную функцию с именем `categorize_purpose()` и метод `apply()`. Изучите данные в столбце `purpose` и определите, какие подстроки помогут вам правильно определить категорию.**"
   ]
  },
  {
   "cell_type": "code",
   "execution_count": 20,
   "id": "be41da5d",
   "metadata": {
    "deletable": false,
    "id": "be41da5d"
   },
   "outputs": [],
   "source": [
    "def categorize_purpose(row):\n",
    "    try:\n",
    "        if 'автом' in row:\n",
    "            return 'операции с автомобилем'\n",
    "        elif 'жил' in row or 'недвиж' in row:\n",
    "            return 'операции с недвижимостью'\n",
    "        elif 'свад' in row:\n",
    "            return 'проведение свадьбы'\n",
    "        elif 'образов' in row:\n",
    "            return 'получение образования'\n",
    "    except:\n",
    "        return 'нет категории'"
   ]
  },
  {
   "cell_type": "code",
   "execution_count": 21,
   "id": "94c4a19a",
   "metadata": {
    "deletable": false,
    "id": "94c4a19a"
   },
   "outputs": [],
   "source": [
    "data['purpose_category'] = data['purpose'].apply(categorize_purpose)"
   ]
  },
  {
   "cell_type": "markdown",
   "id": "3d596c34",
   "metadata": {
    "deletable": false,
    "editable": false,
    "id": "3d596c34"
   },
   "source": [
    "### Шаг 3. Исследуйте данные и ответьте на вопросы"
   ]
  },
  {
   "cell_type": "markdown",
   "id": "648db036",
   "metadata": {
    "deletable": false,
    "editable": false,
    "id": "648db036"
   },
   "source": [
    "#### 3.1 Есть ли зависимость между количеством детей и возвратом кредита в срок?"
   ]
  },
  {
   "cell_type": "code",
   "execution_count": 22,
   "id": "7fcff25e",
   "metadata": {
    "deletable": false,
    "id": "7fcff25e"
   },
   "outputs": [
    {
     "data": {
      "text/html": [
       "<div>\n",
       "<style scoped>\n",
       "    .dataframe tbody tr th:only-of-type {\n",
       "        vertical-align: middle;\n",
       "    }\n",
       "\n",
       "    .dataframe tbody tr th {\n",
       "        vertical-align: top;\n",
       "    }\n",
       "\n",
       "    .dataframe thead tr th {\n",
       "        text-align: left;\n",
       "    }\n",
       "\n",
       "    .dataframe thead tr:last-of-type th {\n",
       "        text-align: right;\n",
       "    }\n",
       "</style>\n",
       "<table border=\"1\" class=\"dataframe\">\n",
       "  <thead>\n",
       "    <tr>\n",
       "      <th></th>\n",
       "      <th>count</th>\n",
       "      <th>sum</th>\n",
       "      <th>ratio</th>\n",
       "    </tr>\n",
       "    <tr>\n",
       "      <th></th>\n",
       "      <th>debt</th>\n",
       "      <th>debt</th>\n",
       "      <th></th>\n",
       "    </tr>\n",
       "    <tr>\n",
       "      <th>number_of_children</th>\n",
       "      <th></th>\n",
       "      <th></th>\n",
       "      <th></th>\n",
       "    </tr>\n",
       "  </thead>\n",
       "  <tbody>\n",
       "    <tr>\n",
       "      <th>Детей нет</th>\n",
       "      <td>14091</td>\n",
       "      <td>1063</td>\n",
       "      <td>7.54%</td>\n",
       "    </tr>\n",
       "    <tr>\n",
       "      <th>Три и более детей</th>\n",
       "      <td>380</td>\n",
       "      <td>31</td>\n",
       "      <td>8.16%</td>\n",
       "    </tr>\n",
       "    <tr>\n",
       "      <th>Один ребенок</th>\n",
       "      <td>4808</td>\n",
       "      <td>444</td>\n",
       "      <td>9.23%</td>\n",
       "    </tr>\n",
       "    <tr>\n",
       "      <th>Два ребенка</th>\n",
       "      <td>2052</td>\n",
       "      <td>194</td>\n",
       "      <td>9.45%</td>\n",
       "    </tr>\n",
       "  </tbody>\n",
       "</table>\n",
       "</div>"
      ],
      "text/plain": [
       "                    count   sum  ratio\n",
       "                     debt  debt       \n",
       "number_of_children                    \n",
       "Детей нет           14091  1063  7.54%\n",
       "Три и более детей     380    31  8.16%\n",
       "Один ребенок         4808   444  9.23%\n",
       "Два ребенка          2052   194  9.45%"
      ]
     },
     "execution_count": 22,
     "metadata": {},
     "output_type": "execute_result"
    }
   ],
   "source": [
    "# создаем функцию, которая словестно будет выводить количество детей у каждого кредитора\n",
    "#(делается для более приятного просмотра и понятного результата)\n",
    "def number_of_children(numder):\n",
    "    try:\n",
    "        if numder == 0:\n",
    "            return 'Детей нет'\n",
    "        elif numder == 1:\n",
    "            return 'Один ребенок'\n",
    "        elif numder == 2:\n",
    "            return 'Два ребенка'\n",
    "        elif numder >= 3:\n",
    "            return 'Три и более детей'\n",
    "    except:\n",
    "        pass\n",
    "    \n",
    "#создаем новый столбец, используя ранее созданную функцию\n",
    "data['number_of_children'] = data['children'].apply(number_of_children)\n",
    "#создаем сводную таблицу с общим числом кредиторов и числом кредиторов с задолжностью, \n",
    "#подсчитанные по каждой группе 'number_of_children'\n",
    "data_pivot_1 = data.pivot_table(index = ['number_of_children'], values = ['debt'], aggfunc = ['count', 'sum'])\n",
    "#создаем новый столбец для подсчета процентного соотношения кредиторов\n",
    "#с задолжностью к общему числу кредиторов\n",
    "data_pivot_1['ratio'] = (data_pivot_1['sum'] / data_pivot_1['count'])\n",
    "data_pivot_1['ratio'] = data_pivot_1['ratio'].transform(lambda x: '{:,.2%}'.format(x))\n",
    "#отсортируем таблицу по столбцу 'ratio'\n",
    "data_pivot_1.sort_values(by = 'ratio')"
   ]
  },
  {
   "cell_type": "markdown",
   "id": "2eb9088e",
   "metadata": {
    "deletable": false,
    "id": "2eb9088e"
   },
   "source": [
    "**Вывод:** Кредиторы, не имеющие детей наиболее чаще погашают кредиты в срок, как и семьи с тремя и более детьми. В свою очередь кредиторы, имеющие одного или двоих детей чаще имеют просрочку по кредиту. Поэтому сделать вывод, что чем больше детей, тем выше вероятность погашения кредита не в срок, на основе сводной таблицы невозможно."
   ]
  },
  {
   "cell_type": "markdown",
   "id": "74c9b3a7",
   "metadata": {
    "deletable": false,
    "editable": false,
    "id": "74c9b3a7"
   },
   "source": [
    "#### 3.2 Есть ли зависимость между семейным положением и возвратом кредита в срок?"
   ]
  },
  {
   "cell_type": "code",
   "execution_count": 23,
   "id": "8098ab3b",
   "metadata": {
    "deletable": false,
    "id": "8098ab3b"
   },
   "outputs": [
    {
     "data": {
      "text/html": [
       "<div>\n",
       "<style scoped>\n",
       "    .dataframe tbody tr th:only-of-type {\n",
       "        vertical-align: middle;\n",
       "    }\n",
       "\n",
       "    .dataframe tbody tr th {\n",
       "        vertical-align: top;\n",
       "    }\n",
       "\n",
       "    .dataframe thead tr th {\n",
       "        text-align: left;\n",
       "    }\n",
       "\n",
       "    .dataframe thead tr:last-of-type th {\n",
       "        text-align: right;\n",
       "    }\n",
       "</style>\n",
       "<table border=\"1\" class=\"dataframe\">\n",
       "  <thead>\n",
       "    <tr>\n",
       "      <th></th>\n",
       "      <th>count</th>\n",
       "      <th>sum</th>\n",
       "      <th>ratio</th>\n",
       "    </tr>\n",
       "    <tr>\n",
       "      <th></th>\n",
       "      <th>debt</th>\n",
       "      <th>debt</th>\n",
       "      <th></th>\n",
       "    </tr>\n",
       "    <tr>\n",
       "      <th>family_status</th>\n",
       "      <th></th>\n",
       "      <th></th>\n",
       "      <th></th>\n",
       "    </tr>\n",
       "  </thead>\n",
       "  <tbody>\n",
       "    <tr>\n",
       "      <th>вдовец / вдова</th>\n",
       "      <td>951</td>\n",
       "      <td>63</td>\n",
       "      <td>6.62%</td>\n",
       "    </tr>\n",
       "    <tr>\n",
       "      <th>в разводе</th>\n",
       "      <td>1189</td>\n",
       "      <td>84</td>\n",
       "      <td>7.06%</td>\n",
       "    </tr>\n",
       "    <tr>\n",
       "      <th>женат / замужем</th>\n",
       "      <td>12261</td>\n",
       "      <td>927</td>\n",
       "      <td>7.56%</td>\n",
       "    </tr>\n",
       "    <tr>\n",
       "      <th>гражданский брак</th>\n",
       "      <td>4134</td>\n",
       "      <td>385</td>\n",
       "      <td>9.31%</td>\n",
       "    </tr>\n",
       "    <tr>\n",
       "      <th>Не женат / не замужем</th>\n",
       "      <td>2796</td>\n",
       "      <td>273</td>\n",
       "      <td>9.76%</td>\n",
       "    </tr>\n",
       "  </tbody>\n",
       "</table>\n",
       "</div>"
      ],
      "text/plain": [
       "                       count  sum  ratio\n",
       "                        debt debt       \n",
       "family_status                           \n",
       "вдовец / вдова           951   63  6.62%\n",
       "в разводе               1189   84  7.06%\n",
       "женат / замужем        12261  927  7.56%\n",
       "гражданский брак        4134  385  9.31%\n",
       "Не женат / не замужем   2796  273  9.76%"
      ]
     },
     "execution_count": 23,
     "metadata": {},
     "output_type": "execute_result"
    }
   ],
   "source": [
    "#создаем сводную таблицу с общим числом кредиторов и числом кредиторов с задолжностью, \n",
    "#подсчитанные по каждой группе 'family_status'\n",
    "data.pivot_table(index = ['family_status'], values = ['debt'], aggfunc = ['count', 'sum'])\n",
    "data_pivot_2 = data.pivot_table(index = ['family_status'], values = ['debt'], aggfunc = ['count', 'sum'])\n",
    "#создаем новый столбец для подсчета процентного соотношения кредиторов\n",
    "#с задолжностью к общему числу кредиторов\n",
    "data_pivot_2['ratio'] = (data_pivot_2['sum'] / data_pivot_2['count'])\n",
    "data_pivot_2['ratio'] = data_pivot_2['ratio'].transform(lambda x: '{:,.2%}'.format(x))\n",
    "#отсортируем таблицу по столбцу 'ratio'\n",
    "data_pivot_2.sort_values(by = 'ratio')"
   ]
  },
  {
   "cell_type": "markdown",
   "id": "c389ca63",
   "metadata": {
    "deletable": false,
    "id": "c389ca63"
   },
   "source": [
    "**Вывод:** Наиболее низкие риски невозврата в срок кредита имеют вдовцы/вдовы, а также люди, находящиеся в разводе. А не женатые/не замужние кредиторы представляют наибольшую вероятность возврата кредита не в срок."
   ]
  },
  {
   "cell_type": "markdown",
   "id": "9529de68",
   "metadata": {
    "deletable": false,
    "editable": false,
    "id": "9529de68"
   },
   "source": [
    "#### 3.3 Есть ли зависимость между уровнем дохода и возвратом кредита в срок?"
   ]
  },
  {
   "cell_type": "code",
   "execution_count": 24,
   "id": "8787f44a",
   "metadata": {
    "deletable": false,
    "id": "8787f44a"
   },
   "outputs": [
    {
     "data": {
      "text/html": [
       "<div>\n",
       "<style scoped>\n",
       "    .dataframe tbody tr th:only-of-type {\n",
       "        vertical-align: middle;\n",
       "    }\n",
       "\n",
       "    .dataframe tbody tr th {\n",
       "        vertical-align: top;\n",
       "    }\n",
       "\n",
       "    .dataframe thead tr th {\n",
       "        text-align: left;\n",
       "    }\n",
       "\n",
       "    .dataframe thead tr:last-of-type th {\n",
       "        text-align: right;\n",
       "    }\n",
       "</style>\n",
       "<table border=\"1\" class=\"dataframe\">\n",
       "  <thead>\n",
       "    <tr>\n",
       "      <th></th>\n",
       "      <th>count</th>\n",
       "      <th>sum</th>\n",
       "      <th>ratio</th>\n",
       "    </tr>\n",
       "    <tr>\n",
       "      <th></th>\n",
       "      <th>debt</th>\n",
       "      <th>debt</th>\n",
       "      <th></th>\n",
       "    </tr>\n",
       "    <tr>\n",
       "      <th>total_income_category</th>\n",
       "      <th></th>\n",
       "      <th></th>\n",
       "      <th></th>\n",
       "    </tr>\n",
       "  </thead>\n",
       "  <tbody>\n",
       "    <tr>\n",
       "      <th>D</th>\n",
       "      <td>349</td>\n",
       "      <td>21</td>\n",
       "      <td>6.02%</td>\n",
       "    </tr>\n",
       "    <tr>\n",
       "      <th>B</th>\n",
       "      <td>5014</td>\n",
       "      <td>354</td>\n",
       "      <td>7.06%</td>\n",
       "    </tr>\n",
       "    <tr>\n",
       "      <th>A</th>\n",
       "      <td>25</td>\n",
       "      <td>2</td>\n",
       "      <td>8.00%</td>\n",
       "    </tr>\n",
       "    <tr>\n",
       "      <th>C</th>\n",
       "      <td>15921</td>\n",
       "      <td>1353</td>\n",
       "      <td>8.50%</td>\n",
       "    </tr>\n",
       "    <tr>\n",
       "      <th>E</th>\n",
       "      <td>22</td>\n",
       "      <td>2</td>\n",
       "      <td>9.09%</td>\n",
       "    </tr>\n",
       "  </tbody>\n",
       "</table>\n",
       "</div>"
      ],
      "text/plain": [
       "                       count   sum  ratio\n",
       "                        debt  debt       \n",
       "total_income_category                    \n",
       "D                        349    21  6.02%\n",
       "B                       5014   354  7.06%\n",
       "A                         25     2  8.00%\n",
       "C                      15921  1353  8.50%\n",
       "E                         22     2  9.09%"
      ]
     },
     "execution_count": 24,
     "metadata": {},
     "output_type": "execute_result"
    }
   ],
   "source": [
    "#создаем сводную таблицу с общим числом кредиторов и числом кредиторов с задолжностью, \n",
    "#подсчитанные по каждой группе 'total_income_category'\n",
    "data.pivot_table(index = ['total_income_category'], values = ['debt'], aggfunc = ['count', 'sum'])\n",
    "data_pivot_3 = data.pivot_table(index = ['total_income_category'], values = ['debt'], aggfunc = ['count', 'sum'])\n",
    "#создаем новый столбец для подсчета процентного соотношения кредиторов\n",
    "#с задолжностью к общему числу кредиторов\n",
    "data_pivot_3['ratio'] = (data_pivot_3['sum'] / data_pivot_3['count'])\n",
    "data_pivot_3['ratio'] = data_pivot_3['ratio'].transform(lambda x: '{:,.2%}'.format(x))\n",
    "#отсортируем таблицу по столбцу 'ratio'\n",
    "data_pivot_3.sort_values(by = 'ratio')\n",
    "\n"
   ]
  },
  {
   "cell_type": "markdown",
   "id": "6dd14b57",
   "metadata": {
    "deletable": false,
    "id": "6dd14b57"
   },
   "source": [
    "**Вывод:** Наиболее низкие риски невозврата кредита имеют кредиторы, по уровню дохода относящиеся к группе D(30001–50000). Кредиторы группы E(0–30000) представляют наибольшую вероятность возврата кредита не в срок. Утверждать, что с увелечением дохода риски невозврата кредита в срок уменьшаются, нельзя."
   ]
  },
  {
   "cell_type": "markdown",
   "id": "1dcc9b12",
   "metadata": {
    "deletable": false,
    "editable": false,
    "id": "1dcc9b12"
   },
   "source": [
    "#### 3.4 Как разные цели кредита влияют на его возврат в срок?"
   ]
  },
  {
   "cell_type": "code",
   "execution_count": 25,
   "id": "c602bc8b",
   "metadata": {
    "deletable": false,
    "id": "c602bc8b"
   },
   "outputs": [
    {
     "data": {
      "text/html": [
       "<div>\n",
       "<style scoped>\n",
       "    .dataframe tbody tr th:only-of-type {\n",
       "        vertical-align: middle;\n",
       "    }\n",
       "\n",
       "    .dataframe tbody tr th {\n",
       "        vertical-align: top;\n",
       "    }\n",
       "\n",
       "    .dataframe thead tr th {\n",
       "        text-align: left;\n",
       "    }\n",
       "\n",
       "    .dataframe thead tr:last-of-type th {\n",
       "        text-align: right;\n",
       "    }\n",
       "</style>\n",
       "<table border=\"1\" class=\"dataframe\">\n",
       "  <thead>\n",
       "    <tr>\n",
       "      <th></th>\n",
       "      <th>count</th>\n",
       "      <th>sum</th>\n",
       "      <th>ratio</th>\n",
       "    </tr>\n",
       "    <tr>\n",
       "      <th></th>\n",
       "      <th>debt</th>\n",
       "      <th>debt</th>\n",
       "      <th></th>\n",
       "    </tr>\n",
       "    <tr>\n",
       "      <th>purpose_category</th>\n",
       "      <th></th>\n",
       "      <th></th>\n",
       "      <th></th>\n",
       "    </tr>\n",
       "  </thead>\n",
       "  <tbody>\n",
       "    <tr>\n",
       "      <th>операции с недвижимостью</th>\n",
       "      <td>10751</td>\n",
       "      <td>780</td>\n",
       "      <td>7.26%</td>\n",
       "    </tr>\n",
       "    <tr>\n",
       "      <th>проведение свадьбы</th>\n",
       "      <td>2313</td>\n",
       "      <td>183</td>\n",
       "      <td>7.91%</td>\n",
       "    </tr>\n",
       "    <tr>\n",
       "      <th>получение образования</th>\n",
       "      <td>3988</td>\n",
       "      <td>369</td>\n",
       "      <td>9.25%</td>\n",
       "    </tr>\n",
       "    <tr>\n",
       "      <th>операции с автомобилем</th>\n",
       "      <td>4279</td>\n",
       "      <td>400</td>\n",
       "      <td>9.35%</td>\n",
       "    </tr>\n",
       "  </tbody>\n",
       "</table>\n",
       "</div>"
      ],
      "text/plain": [
       "                          count  sum  ratio\n",
       "                           debt debt       \n",
       "purpose_category                           \n",
       "операции с недвижимостью  10751  780  7.26%\n",
       "проведение свадьбы         2313  183  7.91%\n",
       "получение образования      3988  369  9.25%\n",
       "операции с автомобилем     4279  400  9.35%"
      ]
     },
     "execution_count": 25,
     "metadata": {},
     "output_type": "execute_result"
    }
   ],
   "source": [
    "#создаем сводную таблицу с общим числом кредиторов и числом кредиторов с задолжностью, \n",
    "#подсчитанные по каждой группе 'purpose_category'\n",
    "data.pivot_table(index = ['purpose_category'], values = ['debt'], aggfunc = ['count', 'sum'])\n",
    "data_pivot_4 = data.pivot_table(index = ['purpose_category'], values = ['debt'], aggfunc = ['count', 'sum'])\n",
    "#создаем новый столбец для подсчета процентного соотношения кредиторов\n",
    "#с задолжностью к общему числу кредиторов\n",
    "data_pivot_4['ratio'] = (data_pivot_4['sum'] / data_pivot_4['count'])\n",
    "data_pivot_4['ratio'] = data_pivot_4['ratio'].transform(lambda x: '{:,.2%}'.format(x))\n",
    "#отсортируем таблицу по столбцу 'ratio'\n",
    "data_pivot_4.sort_values(by = 'ratio')"
   ]
  },
  {
   "cell_type": "markdown",
   "id": "cf05ed63",
   "metadata": {
    "deletable": false,
    "id": "cf05ed63"
   },
   "source": [
    "**Вывод:** Люди, берущие кредит для операций с недвижимостью чаще возвращают его в срок, чем те, кто берет кредит на получение образования или на операциии с автомобилем. Следовательно, выгоднее всего выдавать кредиты на цели, связанные с недвижимостью."
   ]
  },
  {
   "cell_type": "markdown",
   "id": "46c1f10b",
   "metadata": {
    "deletable": false,
    "editable": false,
    "id": "46c1f10b"
   },
   "source": [
    "#### 3.5 Приведите возможные причины появления пропусков в исходных данных."
   ]
  },
  {
   "cell_type": "markdown",
   "id": "3697d2a9",
   "metadata": {
    "deletable": false,
    "id": "3697d2a9"
   },
   "source": [
    "*Ответ:* Пропуски могли появиться при выгрузке данных, ошибках в логике подсчета данных или данные по тем или иным причинам были пропущены или отсутствовали изначально."
   ]
  },
  {
   "cell_type": "markdown",
   "id": "3137d257",
   "metadata": {
    "deletable": false,
    "editable": false,
    "id": "3137d257"
   },
   "source": [
    "#### 3.6 Объясните, почему заполнить пропуски медианным значением — лучшее решение для количественных переменных."
   ]
  },
  {
   "cell_type": "markdown",
   "id": "cf40012a",
   "metadata": {
    "deletable": false,
    "id": "cf40012a"
   },
   "source": [
    "*Ответ:* Среднее значение некорректно характеризует данные, когда некоторые значения сильно выделяются среди большинства (в выборке присутствуют выдающиеся значения: 500 против 200), для таких случаев лучше использовать метод median() для заполнения пропусков."
   ]
  },
  {
   "cell_type": "markdown",
   "id": "57bc304e",
   "metadata": {
    "deletable": false,
    "editable": false,
    "id": "57bc304e"
   },
   "source": [
    "### Шаг 4: общий вывод."
   ]
  },
  {
   "cell_type": "markdown",
   "id": "1ab75d1c",
   "metadata": {
    "deletable": false,
    "id": "1ab75d1c"
   },
   "source": [
    "В ходе исследования надёжности заёмщиков были проведены следующие расчеты:\n",
    "\n",
    "**1) Зависимость между количеством детей и вероятности возврата кредита не в срок:**\n",
    "\n",
    "- Детей нет - 7.54%\n",
    "- Три и более детей - 8.16%\n",
    "- Один ребенок - 9.23%\n",
    "- Два ребенка - 9.45%\n",
    "\n",
    "Абсолютная разница составила: 1.91%\n",
    "\n",
    "Следовательно, наиболее надежный заемщик это человек, не имеющий детей, так как именно у этой группы заемщиков вероятность возврата выданного банком кредита вовремя наиболее высока. В ходе анализа прямой зависимости влияния количества детей в семье на возврат кредита в срок не было найдено.\n",
    "\n",
    "**2) Зависимость между семейным положением и вероятности возврата кредита не в срок:**\n",
    "\n",
    "- Вдовец/Вдова - 6.62%\n",
    "- В разводе - 7.06%\n",
    "- Женат/Замужем - 7.56%\n",
    "- Гражданский брак - 9.31%\n",
    "- Не женат/Не замужем - 9.76%\n",
    "\n",
    "Абсолютная разница составила: 3.14%\n",
    "\n",
    "Следовательно, наиболее надежный заемщик это вдовец/вдова, именно у этой группы заемщиков вероятность возврата выданного банком кредита вовремя наиболее высока.\n",
    "\n",
    "**3) Зависимость между уровнем дохода и вероятности возврата кредита не в срок:**\n",
    "\n",
    "- Группа D(доход: 30.001-50.000) - 6.02%\n",
    "- Группа B(доход: 200.000-1.000.000) - 7.06%\n",
    "- Группа A(доход: 1.000.001 и выше) - 8.00%\n",
    "- Группа C(доход: 50.001-200.000) - 8.50%\n",
    "- Группа E(доход: 0-30.000) - 9.09%\n",
    "\n",
    "Абсолютная разница составила: 3.07%\n",
    "\n",
    "Следовательно, наиболее надежный заемщик это человек, чей доход находится в диапазоне от 30.001 до 50.000, у этой группы заемщиков вероятность возврата выданного банком кредита вовремя наиболее высока. В ходе анализа прямой зависимости влияния уровня дохода кредитора на возврат кредита в срок не было найдено.\n",
    "\n",
    "**4) Влияние целей кредита на вероятность возврата кредита не в срок:**\n",
    "\n",
    "- Операции с недвижимостью - 7.25%\n",
    "- Проведения свадьбы - 7.91%\n",
    "- Получение образования - 9.25%\n",
    "- Операции с автомобилем - 9.35%\n",
    "\n",
    "Абсолютная разница составила: 2.1%\n",
    "\n",
    "Следовательно, наиболее надежный заемщик это человек, которому кредит необходим для совершения операций с недвижимостью, вероятность возврата выданного банком кредита вовремя у этой группы наиболее высока.\n",
    "\n",
    "**В ходе анализа можно сделать вывод, что наиболее важным критерием, на который стоит обращать внимание банкам перед выдачей кредита - это семейное положение кредитора, далее за ним идут его доход и цель получения кредита, а последнее, на что стоит обращать внимание, - это наличие детей.**\n",
    "\n",
    "Также можно составить \"портрет\" наиболее надежного кредитора банка: вдовец/вдова без детей, с уровнем дохода в 30001 - 50000 (относящийся к группе D), которому кредит необходим для совершения операциий с недвижимостью. И наименее надежным кредитором банка будет не женатый/не замужний человек с двумя детьми, с уровнем дохода 0-30000 (относящийся к группе E), который берет кредит для операций с автомобилем.\n"
   ]
  },
  {
   "cell_type": "code",
   "execution_count": null,
   "id": "1771a814",
   "metadata": {},
   "outputs": [],
   "source": []
  }
 ],
 "metadata": {
  "ExecuteTimeLog": [
   {
    "duration": 449,
    "start_time": "2023-02-02T18:54:33.765Z"
   },
   {
    "duration": 23,
    "start_time": "2023-02-02T18:54:34.216Z"
   },
   {
    "duration": 16,
    "start_time": "2023-02-02T18:54:34.240Z"
   },
   {
    "duration": 9,
    "start_time": "2023-02-02T18:54:34.258Z"
   },
   {
    "duration": 60,
    "start_time": "2023-02-02T18:54:34.269Z"
   },
   {
    "duration": 4,
    "start_time": "2023-02-02T18:54:34.330Z"
   },
   {
    "duration": 14,
    "start_time": "2023-02-02T18:54:34.335Z"
   },
   {
    "duration": 14,
    "start_time": "2023-02-02T18:54:34.351Z"
   },
   {
    "duration": 14,
    "start_time": "2023-02-02T18:54:34.367Z"
   },
   {
    "duration": 5,
    "start_time": "2023-02-02T18:54:34.384Z"
   },
   {
    "duration": 49,
    "start_time": "2023-02-02T18:54:34.391Z"
   },
   {
    "duration": 11,
    "start_time": "2023-02-02T18:54:34.442Z"
   },
   {
    "duration": 5,
    "start_time": "2023-02-02T18:54:34.454Z"
   },
   {
    "duration": 19,
    "start_time": "2023-02-02T18:54:34.460Z"
   },
   {
    "duration": 22,
    "start_time": "2023-02-02T18:54:34.481Z"
   },
   {
    "duration": 33,
    "start_time": "2023-02-02T18:54:34.504Z"
   },
   {
    "duration": 3,
    "start_time": "2023-02-02T18:54:34.539Z"
   },
   {
    "duration": 16,
    "start_time": "2023-02-02T18:54:34.544Z"
   },
   {
    "duration": 6,
    "start_time": "2023-02-02T18:54:34.562Z"
   },
   {
    "duration": 7,
    "start_time": "2023-02-02T18:54:34.570Z"
   },
   {
    "duration": 13,
    "start_time": "2023-02-02T18:54:34.579Z"
   },
   {
    "duration": 13,
    "start_time": "2023-02-02T18:54:34.593Z"
   },
   {
    "duration": 13,
    "start_time": "2023-02-02T18:54:34.608Z"
   },
   {
    "duration": 5,
    "start_time": "2023-02-02T18:54:34.623Z"
   },
   {
    "duration": 19,
    "start_time": "2023-02-02T18:54:34.629Z"
   },
   {
    "duration": 73,
    "start_time": "2023-02-02T18:54:42.897Z"
   },
   {
    "duration": 18,
    "start_time": "2023-02-02T18:54:42.972Z"
   },
   {
    "duration": 42,
    "start_time": "2023-02-02T18:54:42.991Z"
   },
   {
    "duration": 12,
    "start_time": "2023-02-02T18:54:43.036Z"
   },
   {
    "duration": 47,
    "start_time": "2023-02-02T18:54:43.051Z"
   },
   {
    "duration": 4,
    "start_time": "2023-02-02T18:54:43.121Z"
   },
   {
    "duration": 13,
    "start_time": "2023-02-02T18:54:43.127Z"
   },
   {
    "duration": 5,
    "start_time": "2023-02-02T18:54:43.142Z"
   },
   {
    "duration": 10,
    "start_time": "2023-02-02T18:54:43.149Z"
   },
   {
    "duration": 6,
    "start_time": "2023-02-02T18:54:43.160Z"
   },
   {
    "duration": 70,
    "start_time": "2023-02-02T18:54:43.167Z"
   },
   {
    "duration": 11,
    "start_time": "2023-02-02T18:54:43.238Z"
   },
   {
    "duration": 4,
    "start_time": "2023-02-02T18:54:43.250Z"
   },
   {
    "duration": 12,
    "start_time": "2023-02-02T18:54:43.256Z"
   },
   {
    "duration": 21,
    "start_time": "2023-02-02T18:54:43.269Z"
   },
   {
    "duration": 46,
    "start_time": "2023-02-02T18:54:43.291Z"
   },
   {
    "duration": 3,
    "start_time": "2023-02-02T18:54:43.339Z"
   },
   {
    "duration": 15,
    "start_time": "2023-02-02T18:54:43.344Z"
   },
   {
    "duration": 6,
    "start_time": "2023-02-02T18:54:43.360Z"
   },
   {
    "duration": 4,
    "start_time": "2023-02-02T18:54:43.367Z"
   },
   {
    "duration": 11,
    "start_time": "2023-02-02T18:54:43.373Z"
   },
   {
    "duration": 57,
    "start_time": "2023-02-03T10:28:56.232Z"
   },
   {
    "duration": 505,
    "start_time": "2023-02-03T10:29:02.052Z"
   },
   {
    "duration": 23,
    "start_time": "2023-02-03T10:29:02.559Z"
   },
   {
    "duration": 18,
    "start_time": "2023-02-03T10:29:02.583Z"
   },
   {
    "duration": 9,
    "start_time": "2023-02-03T10:29:02.603Z"
   },
   {
    "duration": 34,
    "start_time": "2023-02-03T10:29:02.614Z"
   },
   {
    "duration": 3,
    "start_time": "2023-02-03T10:29:02.650Z"
   },
   {
    "duration": 11,
    "start_time": "2023-02-03T10:29:02.655Z"
   },
   {
    "duration": 4,
    "start_time": "2023-02-03T10:29:02.668Z"
   },
   {
    "duration": 35,
    "start_time": "2023-02-03T10:29:02.673Z"
   },
   {
    "duration": 5,
    "start_time": "2023-02-03T10:29:02.710Z"
   },
   {
    "duration": 37,
    "start_time": "2023-02-03T10:29:02.716Z"
   },
   {
    "duration": 9,
    "start_time": "2023-02-03T10:29:02.755Z"
   },
   {
    "duration": 6,
    "start_time": "2023-02-03T10:29:02.766Z"
   },
   {
    "duration": 35,
    "start_time": "2023-02-03T10:29:02.773Z"
   },
   {
    "duration": 20,
    "start_time": "2023-02-03T10:29:02.810Z"
   },
   {
    "duration": 17,
    "start_time": "2023-02-03T10:29:02.831Z"
   },
   {
    "duration": 3,
    "start_time": "2023-02-03T10:29:02.850Z"
   },
   {
    "duration": 18,
    "start_time": "2023-02-03T10:29:02.855Z"
   },
   {
    "duration": 29,
    "start_time": "2023-02-03T10:29:02.875Z"
   },
   {
    "duration": 4,
    "start_time": "2023-02-03T10:29:02.906Z"
   },
   {
    "duration": 14,
    "start_time": "2023-02-03T10:29:02.911Z"
   },
   {
    "duration": 1149,
    "start_time": "2023-02-03T10:29:02.926Z"
   },
   {
    "duration": 4,
    "start_time": "2023-02-03T10:29:18.188Z"
   },
   {
    "duration": 1146,
    "start_time": "2023-02-03T10:29:52.072Z"
   },
   {
    "duration": 1191,
    "start_time": "2023-02-03T10:30:59.517Z"
   },
   {
    "duration": 1149,
    "start_time": "2023-02-03T10:31:43.275Z"
   },
   {
    "duration": 5,
    "start_time": "2023-02-03T10:35:16.393Z"
   },
   {
    "duration": 8,
    "start_time": "2023-02-03T10:35:43.257Z"
   },
   {
    "duration": 8,
    "start_time": "2023-02-03T10:36:16.297Z"
   },
   {
    "duration": 8,
    "start_time": "2023-02-03T10:36:24.676Z"
   },
   {
    "duration": 3,
    "start_time": "2023-02-03T10:36:29.341Z"
   },
   {
    "duration": 6,
    "start_time": "2023-02-03T10:36:36.628Z"
   },
   {
    "duration": 70,
    "start_time": "2023-02-03T10:44:37.169Z"
   },
   {
    "duration": 3,
    "start_time": "2023-02-03T10:44:46.123Z"
   },
   {
    "duration": 30,
    "start_time": "2023-02-03T10:48:07.766Z"
   },
   {
    "duration": 1183,
    "start_time": "2023-02-03T10:48:42.799Z"
   },
   {
    "duration": 27,
    "start_time": "2023-02-03T10:48:59.126Z"
   },
   {
    "duration": 15,
    "start_time": "2023-02-03T10:53:50.981Z"
   },
   {
    "duration": 25,
    "start_time": "2023-02-03T10:53:59.684Z"
   },
   {
    "duration": 79,
    "start_time": "2023-02-03T10:54:18.579Z"
   },
   {
    "duration": 19,
    "start_time": "2023-02-03T10:54:31.887Z"
   },
   {
    "duration": 22,
    "start_time": "2023-02-03T10:54:41.022Z"
   },
   {
    "duration": 30,
    "start_time": "2023-02-03T10:55:02.506Z"
   },
   {
    "duration": 42,
    "start_time": "2023-02-03T10:56:21.384Z"
   },
   {
    "duration": 28,
    "start_time": "2023-02-03T10:56:28.108Z"
   },
   {
    "duration": 77,
    "start_time": "2023-02-03T10:56:49.432Z"
   },
   {
    "duration": 24,
    "start_time": "2023-02-03T10:57:03.675Z"
   },
   {
    "duration": 28,
    "start_time": "2023-02-03T10:57:15.729Z"
   },
   {
    "duration": 74,
    "start_time": "2023-02-03T10:57:29.265Z"
   },
   {
    "duration": 28,
    "start_time": "2023-02-03T10:57:40.320Z"
   },
   {
    "duration": 24,
    "start_time": "2023-02-03T10:59:26.805Z"
   },
   {
    "duration": 29,
    "start_time": "2023-02-03T10:59:30.475Z"
   },
   {
    "duration": 28,
    "start_time": "2023-02-03T10:59:55.213Z"
   },
   {
    "duration": 30,
    "start_time": "2023-02-03T11:00:17.473Z"
   },
   {
    "duration": 28,
    "start_time": "2023-02-03T11:00:51.396Z"
   },
   {
    "duration": 32,
    "start_time": "2023-02-03T11:02:29.261Z"
   },
   {
    "duration": 27,
    "start_time": "2023-02-03T11:05:39.634Z"
   },
   {
    "duration": 31,
    "start_time": "2023-02-03T11:05:51.207Z"
   },
   {
    "duration": 29,
    "start_time": "2023-02-03T11:07:17.826Z"
   },
   {
    "duration": 78,
    "start_time": "2023-02-03T11:07:25.894Z"
   },
   {
    "duration": 31,
    "start_time": "2023-02-03T11:07:45.150Z"
   },
   {
    "duration": 32,
    "start_time": "2023-02-03T11:08:10.653Z"
   },
   {
    "duration": 31,
    "start_time": "2023-02-03T11:08:20.945Z"
   },
   {
    "duration": 30,
    "start_time": "2023-02-03T11:10:08.564Z"
   },
   {
    "duration": 32,
    "start_time": "2023-02-03T11:10:13.700Z"
   },
   {
    "duration": 40,
    "start_time": "2023-02-03T11:10:33.503Z"
   },
   {
    "duration": 31,
    "start_time": "2023-02-03T11:10:42.811Z"
   },
   {
    "duration": 32,
    "start_time": "2023-02-03T11:12:06.491Z"
   },
   {
    "duration": 28,
    "start_time": "2023-02-03T11:12:19.895Z"
   },
   {
    "duration": 30,
    "start_time": "2023-02-03T11:12:50.779Z"
   },
   {
    "duration": 32,
    "start_time": "2023-02-03T11:13:08.187Z"
   },
   {
    "duration": 28,
    "start_time": "2023-02-03T11:13:28.115Z"
   },
   {
    "duration": 38,
    "start_time": "2023-02-03T11:14:53.614Z"
   },
   {
    "duration": 35,
    "start_time": "2023-02-03T11:15:14.251Z"
   },
   {
    "duration": 40,
    "start_time": "2023-02-03T11:15:25.493Z"
   },
   {
    "duration": 44,
    "start_time": "2023-02-03T11:15:40.234Z"
   },
   {
    "duration": 31,
    "start_time": "2023-02-03T11:16:51.998Z"
   },
   {
    "duration": 32,
    "start_time": "2023-02-03T11:17:36.008Z"
   },
   {
    "duration": 34,
    "start_time": "2023-02-03T11:21:38.333Z"
   },
   {
    "duration": 35,
    "start_time": "2023-02-03T11:22:17.936Z"
   },
   {
    "duration": 46,
    "start_time": "2023-02-03T11:27:57.345Z"
   },
   {
    "duration": 37,
    "start_time": "2023-02-03T11:28:02.658Z"
   },
   {
    "duration": 51,
    "start_time": "2023-02-03T13:25:12.310Z"
   },
   {
    "duration": 6,
    "start_time": "2023-02-03T13:26:11.889Z"
   },
   {
    "duration": 438,
    "start_time": "2023-02-03T13:26:16.857Z"
   },
   {
    "duration": 24,
    "start_time": "2023-02-03T13:26:17.297Z"
   },
   {
    "duration": 20,
    "start_time": "2023-02-03T13:26:17.322Z"
   },
   {
    "duration": 19,
    "start_time": "2023-02-03T13:26:17.344Z"
   },
   {
    "duration": 40,
    "start_time": "2023-02-03T13:26:17.364Z"
   },
   {
    "duration": 4,
    "start_time": "2023-02-03T13:26:17.405Z"
   },
   {
    "duration": 12,
    "start_time": "2023-02-03T13:26:17.411Z"
   },
   {
    "duration": 4,
    "start_time": "2023-02-03T13:26:17.425Z"
   },
   {
    "duration": 12,
    "start_time": "2023-02-03T13:26:17.430Z"
   },
   {
    "duration": 5,
    "start_time": "2023-02-03T13:26:17.444Z"
   },
   {
    "duration": 81,
    "start_time": "2023-02-03T13:26:17.451Z"
   },
   {
    "duration": 10,
    "start_time": "2023-02-03T13:26:17.534Z"
   },
   {
    "duration": 6,
    "start_time": "2023-02-03T13:26:17.546Z"
   },
   {
    "duration": 15,
    "start_time": "2023-02-03T13:26:17.553Z"
   },
   {
    "duration": 39,
    "start_time": "2023-02-03T13:26:17.570Z"
   },
   {
    "duration": 17,
    "start_time": "2023-02-03T13:26:17.611Z"
   },
   {
    "duration": 3,
    "start_time": "2023-02-03T13:26:17.630Z"
   },
   {
    "duration": 26,
    "start_time": "2023-02-03T13:26:17.634Z"
   },
   {
    "duration": 20,
    "start_time": "2023-02-03T13:26:17.662Z"
   },
   {
    "duration": 4,
    "start_time": "2023-02-03T13:26:17.684Z"
   },
   {
    "duration": 13,
    "start_time": "2023-02-03T13:26:17.690Z"
   },
   {
    "duration": 48,
    "start_time": "2023-02-03T13:26:17.704Z"
   },
   {
    "duration": 6,
    "start_time": "2023-02-03T13:26:17.753Z"
   },
   {
    "duration": 16,
    "start_time": "2023-02-03T13:27:12.280Z"
   },
   {
    "duration": 16,
    "start_time": "2023-02-03T13:27:20.746Z"
   },
   {
    "duration": 15,
    "start_time": "2023-02-03T13:27:32.424Z"
   },
   {
    "duration": 5,
    "start_time": "2023-02-03T13:29:31.600Z"
   },
   {
    "duration": 8,
    "start_time": "2023-02-03T13:29:50.992Z"
   },
   {
    "duration": 14,
    "start_time": "2023-02-03T13:31:05.463Z"
   },
   {
    "duration": 18,
    "start_time": "2023-02-03T13:31:12.024Z"
   },
   {
    "duration": 23,
    "start_time": "2023-02-03T13:31:47.539Z"
   },
   {
    "duration": 22,
    "start_time": "2023-02-03T13:33:06.714Z"
   },
   {
    "duration": 21,
    "start_time": "2023-02-03T13:33:15.513Z"
   },
   {
    "duration": 39,
    "start_time": "2023-02-03T13:35:36.460Z"
   },
   {
    "duration": 60,
    "start_time": "2023-02-03T13:36:41.735Z"
   },
   {
    "duration": 21,
    "start_time": "2023-02-03T13:36:50.909Z"
   },
   {
    "duration": 38,
    "start_time": "2023-02-03T13:36:54.932Z"
   },
   {
    "duration": 36,
    "start_time": "2023-02-03T13:37:22.121Z"
   },
   {
    "duration": 43,
    "start_time": "2023-02-03T13:38:29.689Z"
   },
   {
    "duration": 36,
    "start_time": "2023-02-03T13:40:29.884Z"
   },
   {
    "duration": 44,
    "start_time": "2023-02-03T13:40:36.025Z"
   },
   {
    "duration": 74,
    "start_time": "2023-02-03T13:44:06.359Z"
   },
   {
    "duration": 18,
    "start_time": "2023-02-03T13:45:42.280Z"
   },
   {
    "duration": 43,
    "start_time": "2023-02-03T13:47:09.838Z"
   },
   {
    "duration": 39,
    "start_time": "2023-02-03T13:47:42.849Z"
   },
   {
    "duration": 37,
    "start_time": "2023-02-03T13:52:53.153Z"
   },
   {
    "duration": 45,
    "start_time": "2023-02-03T13:53:02.680Z"
   },
   {
    "duration": 68,
    "start_time": "2023-02-03T14:55:38.537Z"
   },
   {
    "duration": 15,
    "start_time": "2023-02-03T14:55:38.607Z"
   },
   {
    "duration": 22,
    "start_time": "2023-02-03T14:55:38.624Z"
   },
   {
    "duration": 10,
    "start_time": "2023-02-03T14:55:38.647Z"
   },
   {
    "duration": 52,
    "start_time": "2023-02-03T14:55:38.659Z"
   },
   {
    "duration": 3,
    "start_time": "2023-02-03T14:55:38.713Z"
   },
   {
    "duration": 11,
    "start_time": "2023-02-03T14:55:38.718Z"
   },
   {
    "duration": 5,
    "start_time": "2023-02-03T14:55:38.730Z"
   },
   {
    "duration": 8,
    "start_time": "2023-02-03T14:55:38.736Z"
   },
   {
    "duration": 8,
    "start_time": "2023-02-03T14:55:38.746Z"
   },
   {
    "duration": 60,
    "start_time": "2023-02-03T14:55:38.756Z"
   },
   {
    "duration": 9,
    "start_time": "2023-02-03T14:55:38.818Z"
   },
   {
    "duration": 6,
    "start_time": "2023-02-03T14:55:38.828Z"
   },
   {
    "duration": 13,
    "start_time": "2023-02-03T14:55:38.836Z"
   },
   {
    "duration": 22,
    "start_time": "2023-02-03T14:55:38.851Z"
   },
   {
    "duration": 38,
    "start_time": "2023-02-03T14:55:38.874Z"
   },
   {
    "duration": 3,
    "start_time": "2023-02-03T14:55:38.914Z"
   },
   {
    "duration": 22,
    "start_time": "2023-02-03T14:55:38.918Z"
   },
   {
    "duration": 10,
    "start_time": "2023-02-03T14:55:38.942Z"
   },
   {
    "duration": 6,
    "start_time": "2023-02-03T14:55:38.953Z"
   },
   {
    "duration": 12,
    "start_time": "2023-02-03T14:55:38.960Z"
   },
   {
    "duration": 52,
    "start_time": "2023-02-03T14:55:38.974Z"
   },
   {
    "duration": 43,
    "start_time": "2023-02-03T14:55:39.028Z"
   },
   {
    "duration": 62,
    "start_time": "2023-02-03T14:55:39.072Z"
   },
   {
    "duration": 44,
    "start_time": "2023-02-03T14:55:39.136Z"
   },
   {
    "duration": 483,
    "start_time": "2023-02-04T10:42:17.235Z"
   },
   {
    "duration": 32,
    "start_time": "2023-02-04T10:42:17.720Z"
   },
   {
    "duration": 21,
    "start_time": "2023-02-04T10:42:17.753Z"
   },
   {
    "duration": 13,
    "start_time": "2023-02-04T10:42:17.777Z"
   },
   {
    "duration": 62,
    "start_time": "2023-02-04T10:42:17.792Z"
   },
   {
    "duration": 5,
    "start_time": "2023-02-04T10:42:17.855Z"
   },
   {
    "duration": 14,
    "start_time": "2023-02-04T10:42:17.861Z"
   },
   {
    "duration": 4,
    "start_time": "2023-02-04T10:42:17.877Z"
   },
   {
    "duration": 8,
    "start_time": "2023-02-04T10:42:17.883Z"
   },
   {
    "duration": 5,
    "start_time": "2023-02-04T10:42:17.895Z"
   },
   {
    "duration": 62,
    "start_time": "2023-02-04T10:42:17.901Z"
   },
   {
    "duration": 13,
    "start_time": "2023-02-04T10:42:17.965Z"
   },
   {
    "duration": 7,
    "start_time": "2023-02-04T10:42:17.981Z"
   },
   {
    "duration": 15,
    "start_time": "2023-02-04T10:42:17.990Z"
   },
   {
    "duration": 42,
    "start_time": "2023-02-04T10:42:18.007Z"
   },
   {
    "duration": 20,
    "start_time": "2023-02-04T10:42:18.050Z"
   },
   {
    "duration": 4,
    "start_time": "2023-02-04T10:42:18.071Z"
   },
   {
    "duration": 13,
    "start_time": "2023-02-04T10:42:18.076Z"
   },
   {
    "duration": 12,
    "start_time": "2023-02-04T10:42:18.091Z"
   },
   {
    "duration": 3,
    "start_time": "2023-02-04T10:42:18.105Z"
   },
   {
    "duration": 44,
    "start_time": "2023-02-04T10:42:18.110Z"
   },
   {
    "duration": 59,
    "start_time": "2023-02-04T10:42:18.156Z"
   },
   {
    "duration": 50,
    "start_time": "2023-02-04T10:42:18.217Z"
   },
   {
    "duration": 37,
    "start_time": "2023-02-04T10:42:18.269Z"
   },
   {
    "duration": 74,
    "start_time": "2023-02-04T10:42:18.308Z"
   }
  ],
  "colab": {
   "provenance": []
  },
  "kernelspec": {
   "display_name": "Python 3 (ipykernel)",
   "language": "python",
   "name": "python3"
  },
  "language_info": {
   "codemirror_mode": {
    "name": "ipython",
    "version": 3
   },
   "file_extension": ".py",
   "mimetype": "text/x-python",
   "name": "python",
   "nbconvert_exporter": "python",
   "pygments_lexer": "ipython3",
   "version": "3.9.5"
  },
  "toc": {
   "base_numbering": 1,
   "nav_menu": {},
   "number_sections": true,
   "sideBar": true,
   "skip_h1_title": true,
   "title_cell": "Table of Contents",
   "title_sidebar": "Contents",
   "toc_cell": false,
   "toc_position": {},
   "toc_section_display": true,
   "toc_window_display": true
  }
 },
 "nbformat": 4,
 "nbformat_minor": 5
}
