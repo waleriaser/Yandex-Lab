{
 "cells": [
  {
   "cell_type": "markdown",
   "metadata": {},
   "source": [
    "# Исследование объявлений о продаже квартир\n",
    "\n",
    "В вашем распоряжении данные сервиса Яндекс.Недвижимость — архив объявлений о продаже квартир в Санкт-Петербурге и соседних населённых пунктов за несколько лет. Нужно научиться определять рыночную стоимость объектов недвижимости. Ваша задача — установить параметры. Это позволит построить автоматизированную систему: она отследит аномалии и мошенническую деятельность. \n",
    "\n",
    "По каждой квартире на продажу доступны два вида данных. Первые вписаны пользователем, вторые — получены автоматически на основе картографических данных. Например, расстояние до центра, аэропорта, ближайшего парка и водоёма. "
   ]
  },
  {
   "cell_type": "markdown",
   "metadata": {},
   "source": [
    "Описание данных:\n",
    "1. airports_nearest — расстояние до ближайшего аэропорта в метрах (м)\n",
    "2. balcony — число балконов\n",
    "3. ceiling_height — высота потолков (м)\n",
    "4. cityCenters_nearest — расстояние до центра города (м)\n",
    "5. days_exposition — сколько дней было размещено объявление (от публикации до снятия)\n",
    "6. first_day_exposition — дата публикации\n",
    "7. floor — этаж\n",
    "8. floors_total — всего этажей в доме\n",
    "9. is_apartment — апартаменты (булев тип)\n",
    "10. kitchen_area — площадь кухни в квадратных метрах (м²)\n",
    "11. last_price — цена на момент снятия с публикации\n",
    "12. living_area — жилая площадь в квадратных метрах (м²)\n",
    "13. locality_name — название населённого пункта\n",
    "14. open_plan — свободная планировка (булев тип)\n",
    "15. parks_around3000 — число парков в радиусе 3 км\n",
    "16. parks_nearest — расстояние до ближайшего парка (м)\n",
    "17. ponds_around3000 — число водоёмов в радиусе 3 км\n",
    "18. ponds_nearest — расстояние до ближайшего водоёма (м)\n",
    "19. rooms — число комнат\n",
    "20. studio — квартира-студия (булев тип)\n",
    "21. total_area — общая площадь квартиры в квадратных метрах (м²)\n",
    "22. total_images — число фотографий квартиры в объявлении"
   ]
  },
  {
   "cell_type": "markdown",
   "metadata": {},
   "source": [
    "План работы:\n",
    "1. Открываем файл с данными и изучаем общую информацию\n",
    "2. Проводим предобработку данных\n",
    "3. Добавляем в таблицу новые столбцы с необходимыми для дальнейшей работы параметрами:\n",
    "4. Проводим исследовательский анализ данных\n",
    "5. Пишите общий вывод по проделланой работе"
   ]
  },


  {
   "cell_type": "markdown",
   "metadata": {},
   "source": [
    "### Изучение общей информации "
   ]
  },
  {
   "cell_type": "code",
   "execution_count": 63,
   "metadata": {},
   "outputs": [
    {
     "data": {
      "text/html": [
       "<div>\n",
       "<style scoped>\n",
       "    .dataframe tbody tr th:only-of-type {\n",
       "        vertical-align: middle;\n",
       "    }\n",
       "\n",
       "    .dataframe tbody tr th {\n",
       "        vertical-align: top;\n",
       "    }\n",
       "\n",
       "    .dataframe thead th {\n",
       "        text-align: right;\n",
       "    }\n",
       "</style>\n",
       "<table border=\"1\" class=\"dataframe\">\n",
       "  <thead>\n",
       "    <tr style=\"text-align: right;\">\n",
       "      <th></th>\n",
       "      <th>total_images</th>\n",
       "      <th>last_price</th>\n",
       "      <th>total_area</th>\n",
       "      <th>first_day_exposition</th>\n",
       "      <th>rooms</th>\n",
       "      <th>ceiling_height</th>\n",
       "      <th>floors_total</th>\n",
       "      <th>living_area</th>\n",
       "      <th>floor</th>\n",
       "      <th>is_apartment</th>\n",
       "      <th>...</th>\n",
       "      <th>kitchen_area</th>\n",
       "      <th>balcony</th>\n",
       "      <th>locality_name</th>\n",
       "      <th>airports_nearest</th>\n",
       "      <th>cityCenters_nearest</th>\n",
       "      <th>parks_around3000</th>\n",
       "      <th>parks_nearest</th>\n",
       "      <th>ponds_around3000</th>\n",
       "      <th>ponds_nearest</th>\n",
       "      <th>days_exposition</th>\n",
       "    </tr>\n",
       "  </thead>\n",
       "  <tbody>\n",
       "    <tr>\n",
       "      <th>0</th>\n",
       "      <td>20</td>\n",
       "      <td>13000000.0</td>\n",
       "      <td>108.0</td>\n",
       "      <td>2019-03-07T00:00:00</td>\n",
       "      <td>3</td>\n",
       "      <td>2.70</td>\n",
       "      <td>16.0</td>\n",
       "      <td>51.0</td>\n",
       "      <td>8</td>\n",
       "      <td>NaN</td>\n",
       "      <td>...</td>\n",
       "      <td>25.0</td>\n",
       "      <td>NaN</td>\n",
       "      <td>Санкт-Петербург</td>\n",
       "      <td>18863.0</td>\n",
       "      <td>16028.0</td>\n",
       "      <td>1.0</td>\n",
       "      <td>482.0</td>\n",
       "      <td>2.0</td>\n",
       "      <td>755.0</td>\n",
       "      <td>NaN</td>\n",
       "    </tr>\n",
       "    <tr>\n",
       "      <th>1</th>\n",
       "      <td>7</td>\n",
       "      <td>3350000.0</td>\n",
       "      <td>40.4</td>\n",
       "      <td>2018-12-04T00:00:00</td>\n",
       "      <td>1</td>\n",
       "      <td>NaN</td>\n",
       "      <td>11.0</td>\n",
       "      <td>18.6</td>\n",
       "      <td>1</td>\n",
       "      <td>NaN</td>\n",
       "      <td>...</td>\n",
       "      <td>11.0</td>\n",
       "      <td>2.0</td>\n",
       "      <td>посёлок Шушары</td>\n",
       "      <td>12817.0</td>\n",
       "      <td>18603.0</td>\n",
       "      <td>0.0</td>\n",
       "      <td>NaN</td>\n",
       "      <td>0.0</td>\n",
       "      <td>NaN</td>\n",
       "      <td>81.0</td>\n",
       "    </tr>\n",
       "    <tr>\n",
       "      <th>2</th>\n",
       "      <td>10</td>\n",
       "      <td>5196000.0</td>\n",
       "      <td>56.0</td>\n",
       "      <td>2015-08-20T00:00:00</td>\n",
       "      <td>2</td>\n",
       "      <td>NaN</td>\n",
       "      <td>5.0</td>\n",
       "      <td>34.3</td>\n",
       "      <td>4</td>\n",
       "      <td>NaN</td>\n",
       "      <td>...</td>\n",
       "      <td>8.3</td>\n",
       "      <td>0.0</td>\n",
       "      <td>Санкт-Петербург</td>\n",
       "      <td>21741.0</td>\n",
       "      <td>13933.0</td>\n",
       "      <td>1.0</td>\n",
       "      <td>90.0</td>\n",
       "      <td>2.0</td>\n",
       "      <td>574.0</td>\n",
       "      <td>558.0</td>\n",
       "    </tr>\n",
       "    <tr>\n",
       "      <th>3</th>\n",
       "      <td>0</td>\n",
       "      <td>64900000.0</td>\n",
       "      <td>159.0</td>\n",
       "      <td>2015-07-24T00:00:00</td>\n",
       "      <td>3</td>\n",
       "      <td>NaN</td>\n",
       "      <td>14.0</td>\n",
       "      <td>NaN</td>\n",
       "      <td>9</td>\n",
       "      <td>NaN</td>\n",
       "      <td>...</td>\n",
       "      <td>NaN</td>\n",
       "      <td>0.0</td>\n",
       "      <td>Санкт-Петербург</td>\n",
       "      <td>28098.0</td>\n",
       "      <td>6800.0</td>\n",
       "      <td>2.0</td>\n",
       "      <td>84.0</td>\n",
       "      <td>3.0</td>\n",
       "      <td>234.0</td>\n",
       "      <td>424.0</td>\n",
       "    </tr>\n",
       "    <tr>\n",
       "      <th>4</th>\n",
       "      <td>2</td>\n",
       "      <td>10000000.0</td>\n",
       "      <td>100.0</td>\n",
       "      <td>2018-06-19T00:00:00</td>\n",
       "      <td>2</td>\n",
       "      <td>3.03</td>\n",
       "      <td>14.0</td>\n",
       "      <td>32.0</td>\n",
       "      <td>13</td>\n",
       "      <td>NaN</td>\n",
       "      <td>...</td>\n",
       "      <td>41.0</td>\n",
       "      <td>NaN</td>\n",
       "      <td>Санкт-Петербург</td>\n",
       "      <td>31856.0</td>\n",
       "      <td>8098.0</td>\n",
       "      <td>2.0</td>\n",
       "      <td>112.0</td>\n",
       "      <td>1.0</td>\n",
       "      <td>48.0</td>\n",
       "      <td>121.0</td>\n",
       "    </tr>\n",
       "  </tbody>\n",
       "</table>\n",
       "<p>5 rows × 22 columns</p>\n",
       "</div>"
      ],
      "text/plain": [
       "   total_images  last_price  total_area first_day_exposition  rooms  \\\n",
       "0            20  13000000.0       108.0  2019-03-07T00:00:00      3   \n",
       "1             7   3350000.0        40.4  2018-12-04T00:00:00      1   \n",
       "2            10   5196000.0        56.0  2015-08-20T00:00:00      2   \n",
       "3             0  64900000.0       159.0  2015-07-24T00:00:00      3   \n",
       "4             2  10000000.0       100.0  2018-06-19T00:00:00      2   \n",
       "\n",
       "   ceiling_height  floors_total  living_area  floor is_apartment  ...  \\\n",
       "0            2.70          16.0         51.0      8          NaN  ...   \n",
       "1             NaN          11.0         18.6      1          NaN  ...   \n",
       "2             NaN           5.0         34.3      4          NaN  ...   \n",
       "3             NaN          14.0          NaN      9          NaN  ...   \n",
       "4            3.03          14.0         32.0     13          NaN  ...   \n",
       "\n",
       "   kitchen_area  balcony    locality_name  airports_nearest  \\\n",
       "0          25.0      NaN  Санкт-Петербург           18863.0   \n",
       "1          11.0      2.0   посёлок Шушары           12817.0   \n",
       "2           8.3      0.0  Санкт-Петербург           21741.0   \n",
       "3           NaN      0.0  Санкт-Петербург           28098.0   \n",
       "4          41.0      NaN  Санкт-Петербург           31856.0   \n",
       "\n",
       "  cityCenters_nearest  parks_around3000  parks_nearest  ponds_around3000  \\\n",
       "0             16028.0               1.0          482.0               2.0   \n",
       "1             18603.0               0.0            NaN               0.0   \n",
       "2             13933.0               1.0           90.0               2.0   \n",
       "3              6800.0               2.0           84.0               3.0   \n",
       "4              8098.0               2.0          112.0               1.0   \n",
       "\n",
       "   ponds_nearest  days_exposition  \n",
       "0          755.0              NaN  \n",
       "1            NaN             81.0  \n",
       "2          574.0            558.0  \n",
       "3          234.0            424.0  \n",
       "4           48.0            121.0  \n",
       "\n",
       "[5 rows x 22 columns]"
      ]
     },
     "execution_count": 63,
     "metadata": {},
     "output_type": "execute_result"
    }
   ],
   "source": [
    "import pandas as pd\n",
    "data = pd.read_csv('/datasets/real_estate_data.csv', sep='\\t')\n",
    "#выводим и просмариваем первые строки датафрейма\n",
    "data.head()"
   ]
  },
  {
   "cell_type": "code",
   "execution_count": 64,
   "metadata": {},
   "outputs": [
    {
     "name": "stdout",
     "output_type": "stream",
     "text": [
      "<class 'pandas.core.frame.DataFrame'>\n",
      "RangeIndex: 23699 entries, 0 to 23698\n",
      "Data columns (total 22 columns):\n",
      " #   Column                Non-Null Count  Dtype  \n",
      "---  ------                --------------  -----  \n",
      " 0   total_images          23699 non-null  int64  \n",
      " 1   last_price            23699 non-null  float64\n",
      " 2   total_area            23699 non-null  float64\n",
      " 3   first_day_exposition  23699 non-null  object \n",
      " 4   rooms                 23699 non-null  int64  \n",
      " 5   ceiling_height        14504 non-null  float64\n",
      " 6   floors_total          23613 non-null  float64\n",
      " 7   living_area           21796 non-null  float64\n",
      " 8   floor                 23699 non-null  int64  \n",
      " 9   is_apartment          2775 non-null   object \n",
      " 10  studio                23699 non-null  bool   \n",
      " 11  open_plan             23699 non-null  bool   \n",
      " 12  kitchen_area          21421 non-null  float64\n",
      " 13  balcony               12180 non-null  float64\n",
      " 14  locality_name         23650 non-null  object \n",
      " 15  airports_nearest      18157 non-null  float64\n",
      " 16  cityCenters_nearest   18180 non-null  float64\n",
      " 17  parks_around3000      18181 non-null  float64\n",
      " 18  parks_nearest         8079 non-null   float64\n",
      " 19  ponds_around3000      18181 non-null  float64\n",
      " 20  ponds_nearest         9110 non-null   float64\n",
      " 21  days_exposition       20518 non-null  float64\n",
      "dtypes: bool(2), float64(14), int64(3), object(3)\n",
      "memory usage: 3.7+ MB\n"
     ]
    }
   ],
   "source": [
    "#просматриваем информацию о файле, какой у каждого столбца тип данных\n",
    "data.info()"
   ]
  },
  {
   "cell_type": "markdown",
   "metadata": {},
   "source": [
    "Замечаем, что floors_total типа float64 - можно заменить на int64, тк число этажей не может быть вещественным\n",
    "Замечаем, что is_apartment не типа bool, а также first_day_exposition не типа datetime64\n",
    "Замечаем, что balcony типа float64 - можно заменить на int64, тк число балконов не может быть вещественным\n",
    "Также можно заменить на int64 parks_around3000, ponds_around3000 и days_exposition"
   ]
  },
  {
   "cell_type": "code",
   "execution_count": 65,
   "metadata": {},
   "outputs": [
    {
     "data": {
      "image/png": "[encoded data removed]",
      "text/plain": [
       "<Figure size 1440x1440 with 20 Axes>"
      ]
     },
     "metadata": {
      "needs_background": "light"
     },
     "output_type": "display_data"
    }
   ],
   "source": [
    "#построим гистограммы размером 20*20 по каждому столбцу датафрейма\n",
    "import matplotlib.pyplot as plt\n",
    "data.hist(figsize = (20, 20))\n",
    "plt.show()"
   ]
  },
  {
   "cell_type": "markdown",
   "metadata": {},
   "source": [
    "Можно заметить следующие анамальные значения: \n",
    "- высота потолков (ceiling_height) от 1 м до 100 м\n",
    "- жилую площадь (living_area) от 2 квадратных метров\n",
    "- площадь кухни (kitchen_area) от 1,5 квадратных метра\n",
    "\n",
    "Также можно увидеть, что максимальное число этажей в доме (floors_total) - 60, но максимальный этаж (floor) - лишь 33;\n",
    "Число комнат (rooms) - более чем 15, кухня площадью 100 квадратных метров (kitchen_area), 5 балконов (balcony) и жилая площадь (living_area) 400 квадратных метров немного \"выбиваются\" из общей картины "
   ]
  },
  {
   "cell_type": "code",
   "execution_count": 66,
   "metadata": {},
   "outputs": [
    {
     "data": {
      "text/plain": [
       "0"
      ]
     },
     "execution_count": 66,
     "metadata": {},
     "output_type": "execute_result"
    }
   ],
   "source": [
    "#проверим наличие явных дубликатов в data\n",
    "data.duplicated().sum()"
   ]
  },
  {
   "cell_type": "markdown",
   "metadata": {},
   "source": [
    "Неявных дубликатов в датафрейме нет"
   ]
  },

  {
   "cell_type": "markdown",
   "metadata": {},
   "source": [
    "### Предобработка данных"
   ]
  },
  {
   "cell_type": "code",
   "execution_count": 67,
   "metadata": {},
   "outputs": [
    {
     "data": {
      "text/plain": [
       "total_images                0\n",
       "last_price                  0\n",
       "total_area                  0\n",
       "first_day_exposition        0\n",
       "rooms                       0\n",
       "ceiling_height           9195\n",
       "floors_total               86\n",
       "living_area              1903\n",
       "floor                       0\n",
       "is_apartment            20924\n",
       "studio                      0\n",
       "open_plan                   0\n",
       "kitchen_area             2278\n",
       "balcony                 11519\n",
       "locality_name              49\n",
       "airports_nearest         5542\n",
       "cityCenters_nearest      5519\n",
       "parks_around3000         5518\n",
       "parks_nearest           15620\n",
       "ponds_around3000         5518\n",
       "ponds_nearest           14589\n",
       "days_exposition          3181\n",
       "dtype: int64"
      ]
     },
     "execution_count": 67,
     "metadata": {},
     "output_type": "execute_result"
    }
   ],
   "source": [
    "#почтитаем сумму пропущенных значений по кажому столбцу датафрейма\n",
    "data.isna().sum()"
   ]
  },
  {
   "cell_type": "code",
   "execution_count": 68,
   "metadata": {},
   "outputs": [
    {
     "data": {
      "text/plain": [
       "total_images                0\n",
       "last_price                  0\n",
       "total_area                  0\n",
       "first_day_exposition        0\n",
       "rooms                       0\n",
       "ceiling_height           9195\n",
       "floors_total               86\n",
       "living_area              1903\n",
       "floor                       0\n",
       "is_apartment            20924\n",
       "studio                      0\n",
       "open_plan                   0\n",
       "kitchen_area             2278\n",
       "balcony                     0\n",
       "locality_name              49\n",
       "airports_nearest         5542\n",
       "cityCenters_nearest      5519\n",
       "parks_around3000            0\n",
       "parks_nearest           15620\n",
       "ponds_around3000            0\n",
       "ponds_nearest           14589\n",
       "days_exposition          3181\n",
       "dtype: int64"
      ]
     },
     "execution_count": 68,
     "metadata": {},
     "output_type": "execute_result"
    }
   ],
   "source": [
    "#пропуки в balcony, parks_around3000 и ponds_around3000 можно заменить заменить на 0, тк они были сдлеаны из-за полного \n",
    "#отсутствия в квартире балконов, а также парков и водоемов в радиусе 3 км от дома, в котором располагается квартира\n",
    "for column in ['balcony', 'parks_around3000', 'ponds_around3000']:\n",
    "    data[column] = data[column].fillna(0)\n",
    "#проверяем, что число пропусков стало 0\n",
    "data.isna().sum()"
   ]
  },
  {
   "cell_type": "markdown",
   "metadata": {},
   "source": [
    "Число пропусков в balcony, parks_around3000, ponds_around3000 действительно стало 0. Переходим к locality_name"
   ]
  },
  {
   "cell_type": "code",
   "execution_count": 69,
   "metadata": {},
   "outputs": [
    {
     "name": "stdout",
     "output_type": "stream",
     "text": [
      "['Бокситогорск' 'Волосово' 'Волхов' 'Всеволожск' 'Выборг' 'Высоцк'\n",
      " 'Гатчина' 'Зеленогорск' 'Ивангород' 'Каменногорск' 'Кингисепп' 'Кириши'\n",
      " 'Кировск' 'Колпино' 'Коммунар' 'Красное Село' 'Кронштадт' 'Кудрово'\n",
      " 'Лодейное Поле' 'Ломоносов' 'Луга' 'Любань' 'Мурино' 'Никольское'\n",
      " 'Новая Ладога' 'Отрадное' 'Павловск' 'Петергоф' 'Пикалёво' 'Подпорожье'\n",
      " 'Приморск' 'Приозерск' 'Пушкин' 'Санкт-Петербург' 'Светогорск'\n",
      " 'Сертолово' 'Сестрорецк' 'Сланцы' 'Сосновый Бор' 'Сясьстрой' 'Тихвин'\n",
      " 'Тосно' 'Шлиссельбург' 'городской поселок Большая Ижора'\n",
      " 'городской поселок Янино-1' 'городской посёлок Будогощь'\n",
      " 'городской посёлок Виллози' 'городской посёлок Лесогорский'\n",
      " 'городской посёлок Мга' 'городской посёлок Назия'\n",
      " 'городской посёлок Новоселье' 'городской посёлок Павлово'\n",
      " 'городской посёлок Рощино' 'городской посёлок Свирьстрой'\n",
      " 'городской посёлок Советский' 'городской посёлок Фёдоровское'\n",
      " 'городской посёлок Янино-1' 'деревня Агалатово' 'деревня Аро'\n",
      " 'деревня Батово' 'деревня Бегуницы' 'деревня Белогорка'\n",
      " 'деревня Большая Вруда' 'деревня Большая Пустомержа'\n",
      " 'деревня Большие Колпаны' 'деревня Большое Рейзино'\n",
      " 'деревня Большой Сабск' 'деревня Бор' 'деревня Борисова Грива'\n",
      " 'деревня Ваганово' 'деревня Вартемяги' 'деревня Вахнова Кара'\n",
      " 'деревня Выскатка' 'деревня Гарболово' 'деревня Глинка'\n",
      " 'деревня Горбунки' 'деревня Гостилицы' 'деревня Заклинье'\n",
      " 'деревня Заневка' 'деревня Зимитицы' 'деревня Извара' 'деревня Иссад'\n",
      " 'деревня Калитино' 'деревня Кальтино' 'деревня Камышовка'\n",
      " 'деревня Каськово' 'деревня Келози' 'деревня Кипень' 'деревня Кисельня'\n",
      " 'деревня Колтуши' 'деревня Коркино' 'деревня Котлы' 'деревня Кривко'\n",
      " 'деревня Кудрово' 'деревня Кузьмолово' 'деревня Курковицы'\n",
      " 'деревня Куровицы' 'деревня Куттузи' 'деревня Лаврики' 'деревня Лаголово'\n",
      " 'деревня Лампово' 'деревня Лесколово' 'деревня Лопухинка'\n",
      " 'деревня Лупполово' 'деревня Малая Романовка' 'деревня Малое Верево'\n",
      " 'деревня Малое Карлино' 'деревня Малые Колпаны' 'деревня Мануйлово'\n",
      " 'деревня Меньково' 'деревня Мины' 'деревня Мистолово' 'деревня Ненимяки'\n",
      " 'деревня Нижние Осельки' 'деревня Нижняя' 'деревня Низино'\n",
      " 'деревня Новое Девяткино' 'деревня Новолисино' 'деревня Нурма'\n",
      " 'деревня Оржицы' 'деревня Парицы' 'деревня Пельгора' 'деревня Пеники'\n",
      " 'деревня Пижма' 'деревня Пикколово' 'деревня Пудомяги' 'деревня Пустынка'\n",
      " 'деревня Пчева' 'деревня Рабитицы' 'деревня Разбегаево'\n",
      " 'деревня Раздолье' 'деревня Разметелево' 'деревня Рапполово'\n",
      " 'деревня Реброво' 'деревня Русско' 'деревня Сижно' 'деревня Снегирёвка'\n",
      " 'деревня Старая' 'деревня Старая Пустошь' 'деревня Старое Хинколово'\n",
      " 'деревня Старополье' 'деревня Старосиверская' 'деревня Старые Бегуницы'\n",
      " 'деревня Суоранда' 'деревня Сяськелево' 'деревня Тарасово'\n",
      " 'деревня Терпилицы' 'деревня Тихковицы' 'деревня Тойворово'\n",
      " 'деревня Торосово' 'деревня Торошковичи' 'деревня Трубников Бор'\n",
      " 'деревня Фалилеево' 'деревня Фёдоровское' 'деревня Хапо-Ое'\n",
      " 'деревня Хязельки' 'деревня Чудской Бор' 'деревня Шпаньково'\n",
      " 'деревня Щеглово' 'деревня Юкки' 'деревня Ялгино' 'деревня Яльгелево'\n",
      " 'деревня Ям-Тесово' 'коттеджный поселок Кивеннапа Север'\n",
      " 'коттеджный поселок Счастье' 'коттеджный посёлок Лесное' 'поселок Аннино'\n",
      " 'поселок Барышево' 'поселок Бугры' 'поселок Возрождение'\n",
      " 'поселок Войсковицы' 'поселок Володарское' 'поселок Гаврилово'\n",
      " 'поселок Гарболово' 'поселок Гладкое' 'поселок Глажево'\n",
      " 'поселок Глебычево' 'поселок Гончарово' 'поселок Громово'\n",
      " 'поселок Дружноселье' 'поселок Елизаветино' 'поселок Жилгородок'\n",
      " 'поселок Жилпосёлок' 'поселок Житково' 'поселок Заводской'\n",
      " 'поселок Запорожское' 'поселок Зимитицы' 'поселок Ильичёво'\n",
      " 'поселок Калитино' 'поселок Каложицы' 'поселок Кингисеппский'\n",
      " 'поселок Кирпичное' 'поселок Кобралово' 'поселок Кобринское'\n",
      " 'поселок Коммунары' 'поселок Коробицыно' 'поселок Котельский'\n",
      " 'поселок Красная Долина' 'поселок Красносельское' 'поселок Лесное'\n",
      " 'поселок Лисий Нос' 'поселок Лукаши' 'поселок Любань'\n",
      " 'поселок Мельниково' 'поселок Мичуринское' 'поселок Молодцово'\n",
      " 'поселок Мурино' 'поселок Новый Свет' 'поселок Новый Учхоз'\n",
      " 'поселок Оредеж' 'поселок Пансионат Зелёный Бор' 'поселок Первомайское'\n",
      " 'поселок Перово' 'поселок Петровское' 'поселок Победа' 'поселок Поляны'\n",
      " 'поселок Почап' 'поселок Починок' 'поселок Пушное' 'поселок Пчевжа'\n",
      " 'поселок Рабитицы' 'поселок Романовка' 'поселок Ромашки' 'поселок Рябово'\n",
      " 'поселок Севастьяново' 'поселок Селезнёво' 'поселок Сельцо'\n",
      " 'поселок Семиозерье' 'поселок Семрино' 'поселок Серебрянский'\n",
      " 'поселок Совхозный' 'поселок Старая Малукса' 'поселок Стеклянный'\n",
      " 'поселок Сумино' 'поселок Суходолье' 'поселок Тельмана'\n",
      " 'поселок Терволово' 'поселок Торковичи' 'поселок Тёсово-4'\n",
      " 'поселок Углово' 'поселок Усть-Луга' 'поселок Ушаки'\n",
      " 'поселок Цвелодубово' 'поселок Цвылёво'\n",
      " 'поселок городского типа Большая Ижора' 'поселок городского типа Вырица'\n",
      " 'поселок городского типа Дружная Горка'\n",
      " 'поселок городского типа Дубровка' 'поселок городского типа Ефимовский'\n",
      " 'поселок городского типа Кондратьево'\n",
      " 'поселок городского типа Красный Бор'\n",
      " 'поселок городского типа Кузьмоловский' 'поселок городского типа Лебяжье'\n",
      " 'поселок городского типа Лесогорский' 'поселок городского типа Назия'\n",
      " 'поселок городского типа Никольский'\n",
      " 'поселок городского типа Приладожский' 'поселок городского типа Рахья'\n",
      " 'поселок городского типа Рощино' 'поселок городского типа Рябово'\n",
      " 'поселок городского типа Синявино' 'поселок городского типа Советский'\n",
      " 'поселок городского типа Токсово' 'поселок городского типа Форносово'\n",
      " 'поселок городского типа имени Свердлова' 'поселок станции Вещево'\n",
      " 'поселок станции Корнево' 'поселок станции Лужайка'\n",
      " 'поселок станции Приветнинское' 'посёлок Александровская'\n",
      " 'посёлок Алексеевка' 'посёлок Аннино' 'посёлок Белоостров'\n",
      " 'посёлок Бугры' 'посёлок Возрождение' 'посёлок Войскорово'\n",
      " 'посёлок Высокоключевой' 'посёлок Гаврилово' 'посёлок Дзержинского'\n",
      " 'посёлок Жилгородок' 'посёлок Ильичёво' 'посёлок Кикерино'\n",
      " 'посёлок Кобралово' 'посёлок Коробицыно' 'посёлок Левашово'\n",
      " 'посёлок Ленинское' 'посёлок Лисий Нос' 'посёлок Мельниково'\n",
      " 'посёлок Металлострой' 'посёлок Мичуринское' 'посёлок Молодёжное'\n",
      " 'посёлок Мурино' 'посёлок Мыза-Ивановка' 'посёлок Новогорелово'\n",
      " 'посёлок Новый Свет' 'посёлок Пансионат Зелёный Бор' 'посёлок Парголово'\n",
      " 'посёлок Перово' 'посёлок Песочный' 'посёлок Петро-Славянка'\n",
      " 'посёлок Петровское' 'посёлок Платформа 69-й километр' 'посёлок Плодовое'\n",
      " 'посёлок Плоское' 'посёлок Победа' 'посёлок Поляны' 'посёлок Понтонный'\n",
      " 'посёлок Пригородный' 'посёлок Пудость' 'посёлок Репино' 'посёлок Ропша'\n",
      " 'посёлок Сапёрное' 'посёлок Сапёрный' 'посёлок Сосново'\n",
      " 'посёлок Старая Малукса' 'посёлок Стеклянный' 'посёлок Стрельна'\n",
      " 'посёлок Суйда' 'посёлок Сумино' 'посёлок Тельмана' 'посёлок Терволово'\n",
      " 'посёлок Торфяное' 'посёлок Усть-Ижора' 'посёлок Усть-Луга'\n",
      " 'посёлок Форт Красная Горка' 'посёлок Шугозеро' 'посёлок Шушары'\n",
      " 'посёлок Щеглово' 'посёлок городского типа Важины'\n",
      " 'посёлок городского типа Вознесенье' 'посёлок городского типа Вырица'\n",
      " 'посёлок городского типа Красный Бор' 'посёлок городского типа Кузнечное'\n",
      " 'посёлок городского типа Кузьмоловский' 'посёлок городского типа Лебяжье'\n",
      " 'посёлок городского типа Мга' 'посёлок городского типа Павлово'\n",
      " 'посёлок городского типа Рощино' 'посёлок городского типа Рябово'\n",
      " 'посёлок городского типа Сиверский' 'посёлок городского типа Тайцы'\n",
      " 'посёлок городского типа Токсово' 'посёлок городского типа Ульяновка'\n",
      " 'посёлок городского типа Форносово'\n",
      " 'посёлок городского типа имени Морозова'\n",
      " 'посёлок городского типа имени Свердлова'\n",
      " 'посёлок при железнодорожной станции Вещево'\n",
      " 'посёлок при железнодорожной станции Приветнинское'\n",
      " 'посёлок станции Громово' 'посёлок станции Свирь'\n",
      " 'садоводческое некоммерческое товарищество Лесная Поляна'\n",
      " 'садовое товарищество Новая Ропша' 'садовое товарищество Приладожский'\n",
      " 'садовое товарищество Рахья' 'садовое товарищество Садко' 'село Копорье'\n",
      " 'село Никольское' 'село Павлово' 'село Паша' 'село Путилово'\n",
      " 'село Рождествено' 'село Русско-Высоцкое' 'село Старая Ладога' 'село Шум'\n",
      " nan]\n"
     ]
    },
    {
     "data": {
      "text/plain": [
       "365"
      ]
     },
     "execution_count": 69,
     "metadata": {},
     "output_type": "execute_result"
    }
   ],
   "source": [
    "#выведем уникальные значения в столбце locality_name и их общее количество\n",
    "print(data['locality_name'].sort_values().unique())\n",
    "len(data['locality_name'].unique())"
   ]
  },
  {
   "cell_type": "markdown",
   "metadata": {},
   "source": [
    "Изучив уникальные значения в столбце с названиями населённых пунктов увидели неявные дубликаты: поселок Рябово и поселок городского типа Рябово, городской поселок Янино-1 и городской посёлок Янино-1 — это одни и тех же населённые пункты. Уникальных значений - 365"
   ]
  },
  {
   "cell_type": "code",
   "execution_count": 70,
   "metadata": {},
   "outputs": [
    {
     "name": "stdout",
     "output_type": "stream",
     "text": [
      "['Бокситогорск' 'Волосово' 'Волхов' 'Всеволожск' 'Выборг' 'Высоцк'\n",
      " 'Гатчина' 'Зеленогорск' 'Ивангород' 'Каменногорск' 'Кингисепп' 'Кириши'\n",
      " 'Кировск' 'Колпино' 'Коммунар' 'Красное Село' 'Кронштадт' 'Кудрово'\n",
      " 'Лодейное Поле' 'Ломоносов' 'Луга' 'Любань' 'Мурино' 'Никольское'\n",
      " 'Новая Ладога' 'Отрадное' 'Павловск' 'Петергоф' 'Пикалево' 'Подпорожье'\n",
      " 'Приморск' 'Приозерск' 'Пушкин' 'Санкт-Петербург' 'Светогорск'\n",
      " 'Сертолово' 'Сестрорецк' 'Сланцы' 'Сосновый Бор' 'Сясьстрой' 'Тихвин'\n",
      " 'Тосно' 'Шлиссельбург' 'деревня Агалатово' 'деревня Аро' 'деревня Батово'\n",
      " 'деревня Бегуницы' 'деревня Белогорка' 'деревня Большая Вруда'\n",
      " 'деревня Большая Пустомержа' 'деревня Большие Колпаны'\n",
      " 'деревня Большое Рейзино' 'деревня Большой Сабск' 'деревня Бор'\n",
      " 'деревня Борисова Грива' 'деревня Ваганово' 'деревня Вартемяги'\n",
      " 'деревня Вахнова Кара' 'деревня Выскатка' 'деревня Гарболово'\n",
      " 'деревня Глинка' 'деревня Горбунки' 'деревня Гостилицы'\n",
      " 'деревня Заклинье' 'деревня Заневка' 'деревня Зимитицы' 'деревня Извара'\n",
      " 'деревня Иссад' 'деревня Калитино' 'деревня Кальтино' 'деревня Камышовка'\n",
      " 'деревня Каськово' 'деревня Келози' 'деревня Кипень' 'деревня Кисельня'\n",
      " 'деревня Колтуши' 'деревня Коркино' 'деревня Котлы' 'деревня Кривко'\n",
      " 'деревня Кудрово' 'деревня Кузьмолово' 'деревня Курковицы'\n",
      " 'деревня Куровицы' 'деревня Куттузи' 'деревня Лаврики' 'деревня Лаголово'\n",
      " 'деревня Лампово' 'деревня Лесколово' 'деревня Лопухинка'\n",
      " 'деревня Лупполово' 'деревня Малая Романовка' 'деревня Малое Верево'\n",
      " 'деревня Малое Карлино' 'деревня Малые Колпаны' 'деревня Мануйлово'\n",
      " 'деревня Меньково' 'деревня Мины' 'деревня Мистолово' 'деревня Ненимяки'\n",
      " 'деревня Нижние Осельки' 'деревня Нижняя' 'деревня Низино'\n",
      " 'деревня Новое Девяткино' 'деревня Новолисино' 'деревня Нурма'\n",
      " 'деревня Оржицы' 'деревня Парицы' 'деревня Пельгора' 'деревня Пеники'\n",
      " 'деревня Пижма' 'деревня Пикколово' 'деревня Пудомяги' 'деревня Пустынка'\n",
      " 'деревня Пчева' 'деревня Рабитицы' 'деревня Разбегаево'\n",
      " 'деревня Раздолье' 'деревня Разметелево' 'деревня Рапполово'\n",
      " 'деревня Реброво' 'деревня Русско' 'деревня Сижно' 'деревня Снегиревка'\n",
      " 'деревня Старая' 'деревня Старая Пустошь' 'деревня Старое Хинколово'\n",
      " 'деревня Старополье' 'деревня Старосиверская' 'деревня Старые Бегуницы'\n",
      " 'деревня Суоранда' 'деревня Сяськелево' 'деревня Тарасово'\n",
      " 'деревня Терпилицы' 'деревня Тихковицы' 'деревня Тойворово'\n",
      " 'деревня Торосово' 'деревня Торошковичи' 'деревня Трубников Бор'\n",
      " 'деревня Фалилеево' 'деревня Федоровское' 'деревня Хапо-Ое'\n",
      " 'деревня Хязельки' 'деревня Чудской Бор' 'деревня Шпаньково'\n",
      " 'деревня Щеглово' 'деревня Юкки' 'деревня Ялгино' 'деревня Яльгелево'\n",
      " 'деревня Ям-Тесово' 'коттеджный поселок Кивеннапа Север'\n",
      " 'коттеджный поселок Лесное' 'коттеджный поселок Счастье'\n",
      " 'поселок Александровская' 'поселок Алексеевка' 'поселок Аннино'\n",
      " 'поселок Барышево' 'поселок Белоостров' 'поселок Бугры'\n",
      " 'поселок Возрождение' 'поселок Войсковицы' 'поселок Войскорово'\n",
      " 'поселок Володарское' 'поселок Высокоключевой' 'поселок Гаврилово'\n",
      " 'поселок Гарболово' 'поселок Гладкое' 'поселок Глажево'\n",
      " 'поселок Глебычево' 'поселок Гончарово' 'поселок Громово'\n",
      " 'поселок Дзержинского' 'поселок Дружноселье' 'поселок Елизаветино'\n",
      " 'поселок Жилгородок' 'поселок Жилпоселок' 'поселок Житково'\n",
      " 'поселок Заводской' 'поселок Запорожское' 'поселок Зимитицы'\n",
      " 'поселок Ильичево' 'поселок Калитино' 'поселок Каложицы'\n",
      " 'поселок Кикерино' 'поселок Кингисеппский' 'поселок Кирпичное'\n",
      " 'поселок Кобралово' 'поселок Кобринское' 'поселок Коммунары'\n",
      " 'поселок Коробицыно' 'поселок Котельский' 'поселок Красная Долина'\n",
      " 'поселок Красносельское' 'поселок Левашово' 'поселок Ленинское'\n",
      " 'поселок Лесное' 'поселок Лисий Нос' 'поселок Лукаши' 'поселок Любань'\n",
      " 'поселок Мельниково' 'поселок Металлострой' 'поселок Мичуринское'\n",
      " 'поселок Молодежное' 'поселок Молодцово' 'поселок Мурино'\n",
      " 'поселок Мыза-Ивановка' 'поселок Новогорелово' 'поселок Новый Свет'\n",
      " 'поселок Новый Учхоз' 'поселок Оредеж' 'поселок Пансионат Зеленый Бор'\n",
      " 'поселок Парголово' 'поселок Первомайское' 'поселок Перово'\n",
      " 'поселок Песочный' 'поселок Петро-Славянка' 'поселок Петровское'\n",
      " 'поселок Платформа 69-й километр' 'поселок Плодовое' 'поселок Плоское'\n",
      " 'поселок Победа' 'поселок Поляны' 'поселок Понтонный' 'поселок Почап'\n",
      " 'поселок Починок' 'поселок Пригородный' 'поселок Пудость'\n",
      " 'поселок Пушное' 'поселок Пчевжа' 'поселок Рабитицы' 'поселок Репино'\n",
      " 'поселок Романовка' 'поселок Ромашки' 'поселок Ропша' 'поселок Рябово'\n",
      " 'поселок Саперное' 'поселок Саперный' 'поселок Севастьяново'\n",
      " 'поселок Селезнево' 'поселок Сельцо' 'поселок Семиозерье'\n",
      " 'поселок Семрино' 'поселок Серебрянский' 'поселок Совхозный'\n",
      " 'поселок Сосново' 'поселок Старая Малукса' 'поселок Стеклянный'\n",
      " 'поселок Стрельна' 'поселок Суйда' 'поселок Сумино' 'поселок Суходолье'\n",
      " 'поселок Тельмана' 'поселок Терволово' 'поселок Тесово-4'\n",
      " 'поселок Торковичи' 'поселок Торфяное' 'поселок Углово'\n",
      " 'поселок Усть-Ижора' 'поселок Усть-Луга' 'поселок Ушаки'\n",
      " 'поселок Форт Красная Горка' 'поселок Цвелодубово' 'поселок Цвылево'\n",
      " 'поселок Шугозеро' 'поселок Шушары' 'поселок Щеглово'\n",
      " 'поселок городского типа Большая Ижора'\n",
      " 'поселок городского типа Будогощь' 'поселок городского типа Важины'\n",
      " 'поселок городского типа Виллози' 'поселок городского типа Вознесенье'\n",
      " 'поселок городского типа Вырица' 'поселок городского типа Дружная Горка'\n",
      " 'поселок городского типа Дубровка' 'поселок городского типа Ефимовский'\n",
      " 'поселок городского типа Кондратьево'\n",
      " 'поселок городского типа Красный Бор' 'поселок городского типа Кузнечное'\n",
      " 'поселок городского типа Кузьмоловский' 'поселок городского типа Лебяжье'\n",
      " 'поселок городского типа Лесогорский' 'поселок городского типа Мга'\n",
      " 'поселок городского типа Назия' 'поселок городского типа Никольский'\n",
      " 'поселок городского типа Новоселье' 'поселок городского типа Павлово'\n",
      " 'поселок городского типа Приладожский' 'поселок городского типа Рахья'\n",
      " 'поселок городского типа Рощино' 'поселок городского типа Рябово'\n",
      " 'поселок городского типа Свирьстрой' 'поселок городского типа Сиверский'\n",
      " 'поселок городского типа Синявино' 'поселок городского типа Советский'\n",
      " 'поселок городского типа Тайцы' 'поселок городского типа Токсово'\n",
      " 'поселок городского типа Ульяновка' 'поселок городского типа Федоровское'\n",
      " 'поселок городского типа Форносово' 'поселок городского типа Янино-1'\n",
      " 'поселок городского типа имени Морозова'\n",
      " 'поселок городского типа имени Свердлова'\n",
      " 'поселок при железнодорожной станции Вещево'\n",
      " 'поселок при железнодорожной станции Приветнинское'\n",
      " 'поселок станции Вещево' 'поселок станции Громово'\n",
      " 'поселок станции Корнево' 'поселок станции Лужайка'\n",
      " 'поселок станции Приветнинское' 'поселок станции Свирь'\n",
      " 'садоводческое некоммерческое товарищество Лесная Поляна'\n",
      " 'садовое товарищество Новая Ропша' 'садовое товарищество Приладожский'\n",
      " 'садовое товарищество Рахья' 'садовое товарищество Садко' 'село Копорье'\n",
      " 'село Никольское' 'село Павлово' 'село Паша' 'село Путилово'\n",
      " 'село Рождествено' 'село Русско-Высоцкое' 'село Старая Ладога' 'село Шум'\n",
      " nan]\n"
     ]
    },
    {
     "data": {
      "text/plain": [
       "324"
      ]
     },
     "execution_count": 70,
     "metadata": {},
     "output_type": "execute_result"
    }
   ],
   "source": [
    "#заменим букву ё на е и городской поселок на поселок городского типа \n",
    "data['locality_name'] = data['locality_name'].str.replace('ё', 'е')\n",
    "data['locality_name'] = data['locality_name'].str.replace('городской поселок', 'поселок городского типа')\n",
    "#выведем вновь уникальные значения и их количество\n",
    "print(data['locality_name'].sort_values().unique())\n",
    "len(data['locality_name'].unique())"
   ]
  },
  {
   "cell_type": "code",
   "execution_count": 71,
   "metadata": {
    "scrolled": true
   },
   "outputs": [
    {
     "data": {
      "text/plain": [
       "324"
      ]
     },
     "execution_count": 71,
     "metadata": {},
     "output_type": "execute_result"
    }
   ],
   "source": [
    "#уникальные значения уменьшились, чтобы еще сократить число таких значений приведем все к нижнему регистру и подсчитаем вновь\n",
    "len(data['locality_name'].str.lower().unique())"
   ]
  },
  {
   "cell_type": "markdown",
   "metadata": {},
   "source": [
    "Никаких изменений не произошло. Удалим пропуски, так как с ними остальные данные теряют какой либо смысл"
   ]
  },
  {
   "cell_type": "code",
   "execution_count": 72,
   "metadata": {},
   "outputs": [
    {
     "data": {
      "text/plain": [
       "total_images                0\n",
       "last_price                  0\n",
       "total_area                  0\n",
       "first_day_exposition        0\n",
       "rooms                       0\n",
       "ceiling_height           9160\n",
       "floors_total               85\n",
       "living_area              1898\n",
       "floor                       0\n",
       "is_apartment            20890\n",
       "studio                      0\n",
       "open_plan                   0\n",
       "kitchen_area             2269\n",
       "balcony                     0\n",
       "locality_name               0\n",
       "airports_nearest         5534\n",
       "cityCenters_nearest      5511\n",
       "parks_around3000            0\n",
       "parks_nearest           15586\n",
       "ponds_around3000            0\n",
       "ponds_nearest           14565\n",
       "days_exposition          3180\n",
       "dtype: int64"
      ]
     },
     "execution_count": 72,
     "metadata": {},
     "output_type": "execute_result"
    }
   ],
   "source": [
    "#удаляем пропуски\n",
    "data = data.dropna(subset = ['locality_name']).reset_index(drop = True)\n",
    "data.isna().sum()"
   ]
  },
  {
   "cell_type": "markdown",
   "metadata": {},
   "source": [
    "Переходим к is_apartment"
   ]
  },
  {
   "cell_type": "code",
   "execution_count": 73,
   "metadata": {},
   "outputs": [
    {
     "data": {
      "text/plain": [
       "array([nan, False, True], dtype=object)"
      ]
     },
     "execution_count": 73,
     "metadata": {},
     "output_type": "execute_result"
    }
   ],
   "source": [
    "#просмотрим уникальные значения столбца is_apartment\n",
    "data['is_apartment'].unique()"
   ]
  },
  {
   "cell_type": "code",
   "execution_count": 74,
   "metadata": {},
   "outputs": [
    {
     "name": "stdout",
     "output_type": "stream",
     "text": [
      "[False  True]\n"
     ]
    },
    {
     "data": {
      "text/plain": [
       "total_images                0\n",
       "last_price                  0\n",
       "total_area                  0\n",
       "first_day_exposition        0\n",
       "rooms                       0\n",
       "ceiling_height           9160\n",
       "floors_total               85\n",
       "living_area              1898\n",
       "floor                       0\n",
       "is_apartment                0\n",
       "studio                      0\n",
       "open_plan                   0\n",
       "kitchen_area             2269\n",
       "balcony                     0\n",
       "locality_name               0\n",
       "airports_nearest         5534\n",
       "cityCenters_nearest      5511\n",
       "parks_around3000            0\n",
       "parks_nearest           15586\n",
       "ponds_around3000            0\n",
       "ponds_nearest           14565\n",
       "days_exposition          3180\n",
       "dtype: int64"
      ]
     },
     "execution_count": 74,
     "metadata": {},
     "output_type": "execute_result"
    }
   ],
   "source": [
    "#заменим пустые значения на False\n",
    "data['is_apartment'] = data['is_apartment'].fillna(False)\n",
    "#просмтрим вновь уникальные значения\n",
    "print(data['is_apartment'].unique())\n",
    "#проверяем, что пропусков стало 0\n",
    "data.isna().sum()"
   ]
  },
  {
   "cell_type": "markdown",
   "metadata": {},
   "source": [
    "Число пропусков в is_apartment действительно стало 0"
   ]
  },
  {
   "cell_type": "code",
   "execution_count": 75,
   "metadata": {
    "scrolled": true
   },
   "outputs": [
    {
     "name": "stdout",
     "output_type": "stream",
     "text": [
      "<class 'pandas.core.frame.DataFrame'>\n",
      "RangeIndex: 23650 entries, 0 to 23649\n",
      "Data columns (total 22 columns):\n",
      " #   Column                Non-Null Count  Dtype         \n",
      "---  ------                --------------  -----         \n",
      " 0   total_images          23650 non-null  int64         \n",
      " 1   last_price            23650 non-null  float64       \n",
      " 2   total_area            23650 non-null  float64       \n",
      " 3   first_day_exposition  23650 non-null  datetime64[ns]\n",
      " 4   rooms                 23650 non-null  int64         \n",
      " 5   ceiling_height        14490 non-null  float64       \n",
      " 6   floors_total          23565 non-null  Int64         \n",
      " 7   living_area           21752 non-null  float64       \n",
      " 8   floor                 23650 non-null  int64         \n",
      " 9   is_apartment          23650 non-null  bool          \n",
      " 10  studio                23650 non-null  bool          \n",
      " 11  open_plan             23650 non-null  bool          \n",
      " 12  kitchen_area          21381 non-null  float64       \n",
      " 13  balcony               23650 non-null  Int64         \n",
      " 14  locality_name         23650 non-null  object        \n",
      " 15  airports_nearest      18116 non-null  float64       \n",
      " 16  cityCenters_nearest   18139 non-null  float64       \n",
      " 17  parks_around3000      23650 non-null  Int64         \n",
      " 18  parks_nearest         8064 non-null   float64       \n",
      " 19  ponds_around3000      23650 non-null  Int64         \n",
      " 20  ponds_nearest         9085 non-null   float64       \n",
      " 21  days_exposition       20470 non-null  Int64         \n",
      "dtypes: Int64(5), bool(3), datetime64[ns](1), float64(9), int64(3), object(1)\n",
      "memory usage: 3.6+ MB\n"
     ]
    }
   ],
   "source": [
    "#преобразуем тип данных в столбцах, которые указывали ранее, в 1 пункте\n",
    "data['first_day_exposition'] = pd.to_datetime(data['first_day_exposition'], format = '%Y-%m-%d')\n",
    "#тк при изменении типа данных у days_exposition выходила ошибка - применим округление \n",
    "data['days_exposition'] = data['days_exposition'].round()\n",
    "for column in ['floors_total', 'parks_around3000', 'ponds_around3000', 'balcony', 'days_exposition']:\n",
    "    data[column] = data[column].astype('Int64')\n",
    "data['is_apartment'] = data['is_apartment'].astype('bool')\n",
    "#проверим, что тип данных изменился\n",
    "data.info()"
   ]
  },
  {
   "cell_type": "markdown",
   "metadata": {},
   "source": [
    "Все необходимые изменения типа данных были успешно выполнены.\n",
    "Далее продолжаем работать с пропусками"
   ]
  },
  {
   "cell_type": "code",
   "execution_count": 76,
   "metadata": {},
   "outputs": [
    {
     "data": {
      "image/png": "[encoded data removed]",
      "text/plain": [
       "<Figure size 360x360 with 1 Axes>"
      ]
     },
     "metadata": {
      "needs_background": "light"
     },
     "output_type": "display_data"
    }
   ],
   "source": [
    "#просмотрим анамальные знаячения в ceiling_height\n",
    "data['ceiling_height'].hist(figsize = (5, 5))\n",
    "plt.show()"
   ]
  },
  {
   "cell_type": "code",
   "execution_count": 77,
   "metadata": {},
   "outputs": [
    {
     "data": {
      "text/plain": [
       "array([  1.  ,   1.2 ,   1.75,   2.  ,   2.2 ,   2.25,   2.3 ,   2.34,\n",
       "         2.4 ,   2.45,   2.46,   2.47,   2.48,   2.49,   2.5 ,   2.51,\n",
       "         2.52,   2.53,   2.54,   2.55,   2.56,   2.57,   2.58,   2.59,\n",
       "         2.6 ,   2.61,   2.62,   2.63,   2.64,   2.65,   2.66,   2.67,\n",
       "         2.68,   2.69,   2.7 ,   2.71,   2.72,   2.73,   2.74,   2.75,\n",
       "         2.76,   2.77,   2.78,   2.79,   2.8 ,   2.81,   2.82,   2.83,\n",
       "         2.84,   2.85,   2.86,   2.87,   2.88,   2.89,   2.9 ,   2.91,\n",
       "         2.92,   2.93,   2.94,   2.95,   2.96,   2.97,   2.98,   2.99,\n",
       "         3.  ,   3.01,   3.02,   3.03,   3.04,   3.05,   3.06,   3.07,\n",
       "         3.08,   3.09,   3.1 ,   3.11,   3.12,   3.13,   3.14,   3.15,\n",
       "         3.16,   3.17,   3.18,   3.2 ,   3.21,   3.22,   3.23,   3.24,\n",
       "         3.25,   3.26,   3.27,   3.28,   3.29,   3.3 ,   3.31,   3.32,\n",
       "         3.33,   3.34,   3.35,   3.36,   3.37,   3.38,   3.39,   3.4 ,\n",
       "         3.42,   3.43,   3.44,   3.45,   3.46,   3.47,   3.48,   3.49,\n",
       "         3.5 ,   3.51,   3.52,   3.53,   3.54,   3.55,   3.56,   3.57,\n",
       "         3.58,   3.59,   3.6 ,   3.62,   3.63,   3.65,   3.66,   3.67,\n",
       "         3.68,   3.69,   3.7 ,   3.75,   3.76,   3.78,   3.8 ,   3.82,\n",
       "         3.83,   3.84,   3.85,   3.86,   3.87,   3.88,   3.9 ,   3.93,\n",
       "         3.95,   3.98,   4.  ,   4.06,   4.1 ,   4.14,   4.15,   4.19,\n",
       "         4.2 ,   4.25,   4.3 ,   4.37,   4.4 ,   4.45,   4.5 ,   4.65,\n",
       "         4.7 ,   4.8 ,   4.9 ,   5.  ,   5.2 ,   5.3 ,   5.5 ,   5.6 ,\n",
       "         5.8 ,   6.  ,   8.  ,   8.3 ,  10.3 ,  14.  ,  20.  ,  22.6 ,\n",
       "        24.  ,  25.  ,  26.  ,  27.  ,  27.5 ,  32.  , 100.  ,    nan])"
      ]
     },
     "execution_count": 77,
     "metadata": {},
     "output_type": "execute_result"
    }
   ],
   "source": [
    "#выведем уникальные значения в столбце ceiling_height\n",
    "data['ceiling_height'].sort_values().unique()"
   ]
  },
  {
   "cell_type": "markdown",
   "metadata": {},
   "source": [
    "Заметим аномально высокие значения 8, 10, 14, 20, 100 метров"
   ]
  },
  {
   "cell_type": "code",
   "execution_count": 78,
   "metadata": {},
   "outputs": [
    {
     "data": {
      "text/plain": [
       "29"
      ]
     },
     "execution_count": 78,
     "metadata": {},
     "output_type": "execute_result"
    }
   ],
   "source": [
    "#выведем количество аномальных значений, превышающих 8\n",
    "len(data.loc[data['ceiling_height'] >= 8.0])"
   ]
  },
  {
   "cell_type": "code",
   "execution_count": 79,
   "metadata": {},
   "outputs": [
    {
     "data": {
      "text/plain": [
       "array([ 0.8 ,  0.83,  1.  ,  1.03,  1.2 ,  1.4 ,  1.75,  2.  ,  2.2 ,\n",
       "        2.25,  2.26,  2.3 ,  2.34,  2.4 ,  2.45,  2.46,  2.47,  2.48,\n",
       "        2.49,  2.5 ,  2.51,  2.52,  2.53,  2.54,  2.55,  2.56,  2.57,\n",
       "        2.58,  2.59,  2.6 ,  2.61,  2.62,  2.63,  2.64,  2.65,  2.66,\n",
       "        2.67,  2.68,  2.69,  2.7 ,  2.71,  2.72,  2.73,  2.74,  2.75,\n",
       "        2.76,  2.77,  2.78,  2.79,  2.8 ,  2.81,  2.82,  2.83,  2.84,\n",
       "        2.85,  2.86,  2.87,  2.88,  2.89,  2.9 ,  2.91,  2.92,  2.93,\n",
       "        2.94,  2.95,  2.96,  2.97,  2.98,  2.99,  3.  ,  3.01,  3.02,\n",
       "        3.03,  3.04,  3.05,  3.06,  3.07,  3.08,  3.09,  3.1 ,  3.11,\n",
       "        3.12,  3.13,  3.14,  3.15,  3.16,  3.17,  3.18,  3.2 ,  3.21,\n",
       "        3.22,  3.23,  3.24,  3.25,  3.26,  3.27,  3.28,  3.29,  3.3 ,\n",
       "        3.31,  3.32,  3.33,  3.34,  3.35,  3.36,  3.37,  3.38,  3.39,\n",
       "        3.4 ,  3.42,  3.43,  3.44,  3.45,  3.46,  3.47,  3.48,  3.49,\n",
       "        3.5 ,  3.51,  3.52,  3.53,  3.54,  3.55,  3.56,  3.57,  3.58,\n",
       "        3.59,  3.6 ,  3.62,  3.63,  3.65,  3.66,  3.67,  3.68,  3.69,\n",
       "        3.7 ,  3.75,  3.76,  3.78,  3.8 ,  3.82,  3.83,  3.84,  3.85,\n",
       "        3.86,  3.87,  3.88,  3.9 ,  3.93,  3.95,  3.98,  4.  ,  4.06,\n",
       "        4.1 ,  4.14,  4.15,  4.19,  4.2 ,  4.25,  4.3 ,  4.37,  4.4 ,\n",
       "        4.45,  4.5 ,  4.65,  4.7 ,  4.8 ,  4.9 ,  5.  ,  5.2 ,  5.3 ,\n",
       "        5.5 ,  5.6 ,  5.8 ,  6.  , 10.  ,   nan])"
      ]
     },
     "execution_count": 79,
     "metadata": {},
     "output_type": "execute_result"
    }
   ],
   "source": [
    "#таких аномалий всего 29 - скорее всего, запятая была поставлена не туда и это можно исправить, разделив такое значение на 10\n",
    "data.loc[data['ceiling_height'] >= 8.0, 'ceiling_height'] = data['ceiling_height'] / 10\n",
    "#проверим вновь уникальные значения столбца\n",
    "data['ceiling_height'].sort_values().unique()"
   ]
  },
  {
   "cell_type": "markdown",
   "metadata": {},
   "source": [
    "Отлично, уникальные значения выглядят более правдопободобно, однако маловероятно, что существуют квартиры с высотой потолка до 2 метров или больше 3.5 метров\n",
    "Следующий шаг заполнение пустых значений."
   ]
  },
  {
   "cell_type": "code",
   "execution_count": 80,
   "metadata": {},
   "outputs": [
    {
     "data": {
      "text/plain": [
       "count    14490.000000\n",
       "mean         2.725840\n",
       "std          0.287949\n",
       "min          0.800000\n",
       "25%          2.510000\n",
       "50%          2.650000\n",
       "75%          2.800000\n",
       "max         10.000000\n",
       "Name: ceiling_height, dtype: float64"
      ]
     },
     "execution_count": 80,
     "metadata": {},
     "output_type": "execute_result"
    }
   ],
   "source": [
    "#выводим статистические данные по столбцу ceiling_height\n",
    "data['ceiling_height'].describe()"
   ]
  },
  {
   "cell_type": "markdown",
   "metadata": {},
   "source": [
    "По этим данным можно сделать вывод, что большинство квартир с высотой потолков 2.5 - 2.8\n",
    "Попробуем вывести статистические данные, отфильтровав высоту потолков от 2 до 5 метров и заменив высоту потолка до 2 и от 5 метров на полученную ранее медиану - 2.65"
   ]
  },
  {
   "cell_type": "code",
   "execution_count": 81,
   "metadata": {},
   "outputs": [
    {
     "data": {
      "text/plain": [
       "count    14490.000000\n",
       "mean         2.724925\n",
       "std          0.271423\n",
       "min          2.000000\n",
       "25%          2.510000\n",
       "50%          2.650000\n",
       "75%          2.800000\n",
       "max          5.000000\n",
       "Name: ceiling_height, dtype: float64"
      ]
     },
     "execution_count": 81,
     "metadata": {},
     "output_type": "execute_result"
    }
   ],
   "source": [
    "data.loc[data['ceiling_height'] < 2.0, 'ceiling_height'] = data['ceiling_height'].median()\n",
    "data.loc[data['ceiling_height'] > 5, 'ceiling_height'] = data['ceiling_height'].median()\n",
    "data['ceiling_height'].describe()"
   ]
  },
  {
   "cell_type": "markdown",
   "metadata": {},
   "source": [
    "Заметим, что медиана и среднее практически не изменили значений и поэтому заменим все пустые значения на медиану (удалить строки с пустым значением не получится - так как из 24.000 останется лишь 14.000, а это довольно большое сокращение)"
   ]
  },
  {
   "cell_type": "code",
   "execution_count": 82,
   "metadata": {},
   "outputs": [
    {
     "data": {
      "text/plain": [
       "total_images                0\n",
       "last_price                  0\n",
       "total_area                  0\n",
       "first_day_exposition        0\n",
       "rooms                       0\n",
       "ceiling_height              0\n",
       "floors_total               85\n",
       "living_area              1898\n",
       "floor                       0\n",
       "is_apartment                0\n",
       "studio                      0\n",
       "open_plan                   0\n",
       "kitchen_area             2269\n",
       "balcony                     0\n",
       "locality_name               0\n",
       "airports_nearest         5534\n",
       "cityCenters_nearest      5511\n",
       "parks_around3000            0\n",
       "parks_nearest           15586\n",
       "ponds_around3000            0\n",
       "ponds_nearest           14565\n",
       "days_exposition          3180\n",
       "dtype: int64"
      ]
     },
     "execution_count": 82,
     "metadata": {},
     "output_type": "execute_result"
    }
   ],
   "source": [
    "#заменяем все пустые значения на медиану\n",
    "data['ceiling_height'] = data['ceiling_height'].fillna(data['ceiling_height'].median())\n",
    "#выведем сумму пропущенных значений по кажому столбцу датафрейма для проверки\n",
    "data.isna().sum()"
   ]
  },
  {
   "cell_type": "markdown",
   "metadata": {},
   "source": [
    "Пропусков в ceiling_height больше нет. Переходим к total_area"
   ]
  },
  {
   "cell_type": "code",
   "execution_count": 83,
   "metadata": {},
   "outputs": [
    {
     "data": {
      "image/png": "[encoded data removed]",
      "text/plain": [
       "<Figure size 360x360 with 1 Axes>"
      ]
     },
     "metadata": {
      "needs_background": "light"
     },
     "output_type": "display_data"
    }
   ],
   "source": [
    "#просмотрим аномальные знаячения в total_area\n",
    "data['total_area'].hist(figsize = (5, 5))\n",
    "plt.show()"
   ]
  },
  {
   "cell_type": "code",
   "execution_count": 84,
   "metadata": {},
   "outputs": [
    {
     "data": {
      "text/plain": [
       "array([ 12. ,  13. ,  13.2, ..., 631. , 631.2, 900. ])"
      ]
     },
     "execution_count": 84,
     "metadata": {},
     "output_type": "execute_result"
    }
   ],
   "source": [
    "#выведем уникальные значения в столбце total_area\n",
    "data['total_area'].sort_values().unique()"
   ]
  },
  {
   "cell_type": "code",
   "execution_count": 85,
   "metadata": {},
   "outputs": [
    {
     "data": {
      "text/plain": [
       "count    23650.000000\n",
       "mean        60.329069\n",
       "std         35.661808\n",
       "min         12.000000\n",
       "25%         40.000000\n",
       "50%         52.000000\n",
       "75%         69.700000\n",
       "max        900.000000\n",
       "Name: total_area, dtype: float64"
      ]
     },
     "execution_count": 85,
     "metadata": {},
     "output_type": "execute_result"
    }
   ],
   "source": [
    "#посмотрим статистические данные по этому столбцу, несмотря на аномалии\n",
    "data['total_area'].describe()"
   ]
  },
  {
   "cell_type": "code",
   "execution_count": 86,
   "metadata": {},
   "outputs": [
    {
     "name": "stdout",
     "output_type": "stream",
     "text": [
      "6 112\n"
     ]
    },
    {
     "data": {
      "text/plain": [
       "count    23526.000000\n",
       "mean        58.948519\n",
       "std         28.775081\n",
       "min         15.500000\n",
       "25%         40.000000\n",
       "50%         52.000000\n",
       "75%         69.000000\n",
       "max        249.900000\n",
       "Name: total_area, dtype: float64"
      ]
     },
     "execution_count": 86,
     "metadata": {},
     "output_type": "execute_result"
    }
   ],
   "source": [
    "#обращая внимание на график, выведем количество аномальных значений, менее 15 и превышающих 250\n",
    "print(len(data.loc[data['total_area'] < 15]), len(data.loc[data['total_area'] > 250]))\n",
    "#попробуем вывести статистические данные, откинув аномальные значения до 15 и сверх 250\n",
    "filtered_total_area = data.query('15.0 < total_area < 250.0')\n",
    "filtered_total_area['total_area'].describe()"
   ]
  },
  {
   "cell_type": "markdown",
   "metadata": {},
   "source": [
    "Медиана и среднее практически не изменились и аномальных значений не много, значит заменяем их на медиану и перепроверяем"
   ]
  },
  {
   "cell_type": "code",
   "execution_count": 87,
   "metadata": {
    "scrolled": true
   },
   "outputs": [
    {
     "data": {
      "text/plain": [
       "count    23650.000000\n",
       "mean        58.942447\n",
       "std         28.813915\n",
       "min         15.000000\n",
       "25%         40.000000\n",
       "50%         52.000000\n",
       "75%         69.000000\n",
       "max        250.000000\n",
       "Name: total_area, dtype: float64"
      ]
     },
     "execution_count": 87,
     "metadata": {},
     "output_type": "execute_result"
    }
   ],
   "source": [
    "#заменяем их на медиану\n",
    "data.loc[data['total_area'] < 15, 'total_area'] = data['total_area'].median()\n",
    "data.loc[data['total_area'] > 250, 'total_area'] = data['total_area'].median()\n",
    "#выводим статистические данные по столбцу total_area \n",
    "data['total_area'].describe()"
   ]
  },
  {
   "cell_type": "markdown",
   "metadata": {},
   "source": [
    "Отличные статистические данные. Далее переходим к living_area."
   ]
  },
  {
   "cell_type": "code",
   "execution_count": 88,
   "metadata": {},
   "outputs": [
    {
     "data": {
      "image/png": "[encoded data removed]",
      "text/plain": [
       "<Figure size 360x360 with 1 Axes>"
      ]
     },
     "metadata": {
      "needs_background": "light"
     },
     "output_type": "display_data"
    }
   ],
   "source": [
    "#просмотрим анамальные знаячения в living_area\n",
    "data['living_area'].hist(figsize = (5, 5))\n",
    "plt.show()"
   ]
  },
  {
   "cell_type": "code",
   "execution_count": 89,
   "metadata": {},
   "outputs": [
    {
     "name": "stdout",
     "output_type": "stream",
     "text": [
      "[  2.    3.    5.  ... 409.  409.7   nan]\n"
     ]
    },
    {
     "data": {
      "text/plain": [
       "count    21752.000000\n",
       "mean        34.448356\n",
       "std         22.037664\n",
       "min          2.000000\n",
       "25%         18.600000\n",
       "50%         30.000000\n",
       "75%         42.300000\n",
       "max        409.700000\n",
       "Name: living_area, dtype: float64"
      ]
     },
     "execution_count": 89,
     "metadata": {},
     "output_type": "execute_result"
    }
   ],
   "source": [
    "#выведем уникальные значения в столбце living_area\n",
    "print(data['living_area'].sort_values().unique())\n",
    "#посмотрим статистические данные по этому столбцу, несмотря на аномалии\n",
    "data['living_area'].describe()"
   ]
  },
  {
   "cell_type": "code",
   "execution_count": 90,
   "metadata": {},
   "outputs": [
    {
     "name": "stdout",
     "output_type": "stream",
     "text": [
      "704 70\n"
     ]
    },
    {
     "data": {
      "text/plain": [
       "count    20664.000000\n",
       "mean        34.829972\n",
       "std         19.005360\n",
       "min         15.010000\n",
       "25%         19.800000\n",
       "50%         30.700000\n",
       "75%         43.000000\n",
       "max        168.300000\n",
       "Name: living_area, dtype: float64"
      ]
     },
     "execution_count": 90,
     "metadata": {},
     "output_type": "execute_result"
    }
   ],
   "source": [
    "#выведем количество аномальных значений, менее 15 и превышающих 170\n",
    "print(len(data.loc[data['living_area'] < 15]), len(data.loc[data['living_area'] > 170]))\n",
    "#попробуем вывести статистические данные, откинув аномальные значения до 15 и сверх 170\n",
    "filtered_living_area = data.query('15.0 < living_area < 170.0')\n",
    "filtered_living_area['living_area'].describe()"
   ]
  },
  {
   "cell_type": "markdown",
   "metadata": {},
   "source": [
    "Медиана и среднее практически не изменились и аномальных значений не много, значит заменяем аномальные значений на медиану и перепроверяем (пропуски оставим без изменений ввиду разнообразия квартир и достаточно большого числа пропусков, что может в дальнейшем некорректно сказаться на результатах анализа)"
   ]
  },
  {
   "cell_type": "code",
   "execution_count": 91,
   "metadata": {},
   "outputs": [
    {
     "data": {
      "text/plain": [
       "count    21752.000000\n",
       "mean        34.378979\n",
       "std         18.715271\n",
       "min         15.000000\n",
       "25%         19.600000\n",
       "50%         30.000000\n",
       "75%         42.100000\n",
       "max        170.000000\n",
       "Name: living_area, dtype: float64"
      ]
     },
     "execution_count": 91,
     "metadata": {},
     "output_type": "execute_result"
    }
   ],
   "source": [
    "#заменяем на медиану\n",
    "data.loc[data['living_area'] < 15, 'living_area'] = data['living_area'].median()\n",
    "data.loc[data['living_area'] > 170, 'living_area'] = data['living_area'].median()\n",
    "#выводим статистические данные по столбцу total_area \n",
    "data['living_area'].describe()"
   ]
  },
  {
   "cell_type": "markdown",
   "metadata": {},
   "source": [
    "Отличные статистические данные. Далее переходим к kitchen_area"
   ]
  },
  {
   "cell_type": "code",
   "execution_count": 92,
   "metadata": {},
   "outputs": [
    {
     "data": {
      "image/png": "[encoded data removed]",
      "text/plain": [
       "<Figure size 360x360 with 1 Axes>"
      ]
     },
     "metadata": {
      "needs_background": "light"
     },
     "output_type": "display_data"
    }
   ],
   "source": [
    "#просмотрим анамальные знаячения в kitchen_area\n",
    "data['kitchen_area'].hist(figsize = (5, 5))\n",
    "plt.show()"
   ]
  },
  {
   "cell_type": "code",
   "execution_count": 93,
   "metadata": {},
   "outputs": [
    {
     "data": {
      "text/plain": [
       "array([  1.3 ,   2.  ,   2.3 ,   2.4 ,   2.89,   3.  ,   3.2 ,   3.3 ,\n",
       "         3.4 ,   3.5 ,   3.7 ,   3.8 ,   4.  ,   4.1 ,   4.2 ,   4.3 ,\n",
       "         4.4 ,   4.5 ,   4.6 ,   4.7 ,   4.8 ,   4.9 ,   5.  ,   5.04,\n",
       "         5.06,   5.1 ,   5.14,   5.2 ,   5.21,   5.23,   5.25,   5.28,\n",
       "         5.29,   5.3 ,   5.31,   5.33,   5.35,   5.4 ,   5.42,   5.44,\n",
       "         5.47,   5.49,   5.5 ,   5.53,   5.59,   5.6 ,   5.61,   5.62,\n",
       "         5.64,   5.65,   5.68,   5.7 ,   5.74,   5.75,   5.78,   5.8 ,\n",
       "         5.82,   5.85,   5.86,   5.9 ,   5.91,   6.  ,   6.02,   6.03,\n",
       "         6.1 ,   6.16,   6.19,   6.2 ,   6.22,   6.23,   6.24,   6.25,\n",
       "         6.26,   6.27,   6.28,   6.3 ,   6.31,   6.33,   6.35,   6.36,\n",
       "         6.37,   6.4 ,   6.47,   6.5 ,   6.55,   6.58,   6.6 ,   6.61,\n",
       "         6.62,   6.65,   6.7 ,   6.72,   6.73,   6.76,   6.77,   6.8 ,\n",
       "         6.82,   6.83,   6.84,   6.86,   6.9 ,   6.91,   6.93,   6.95,\n",
       "         7.  ,   7.02,   7.03,   7.06,   7.09,   7.1 ,   7.12,   7.15,\n",
       "         7.17,   7.18,   7.19,   7.2 ,   7.3 ,   7.36,   7.4 ,   7.41,\n",
       "         7.48,   7.5 ,   7.54,   7.6 ,   7.63,   7.65,   7.7 ,   7.71,\n",
       "         7.78,   7.8 ,   7.84,   7.85,   7.86,   7.87,   7.89,   7.9 ,\n",
       "         7.92,   7.94,   7.95,   7.97,   8.  ,   8.01,   8.02,   8.03,\n",
       "         8.05,   8.06,   8.07,   8.08,   8.09,   8.1 ,   8.11,   8.12,\n",
       "         8.13,   8.15,   8.18,   8.19,   8.2 ,   8.21,   8.23,   8.25,\n",
       "         8.29,   8.3 ,   8.31,   8.32,   8.34,   8.35,   8.38,   8.4 ,\n",
       "         8.43,   8.44,   8.45,   8.47,   8.48,   8.5 ,   8.52,   8.54,\n",
       "         8.57,   8.58,   8.6 ,   8.61,   8.63,   8.65,   8.66,   8.67,\n",
       "         8.69,   8.7 ,   8.71,   8.73,   8.76,   8.77,   8.8 ,   8.81,\n",
       "         8.82,   8.84,   8.85,   8.87,   8.9 ,   8.93,   8.94,   8.95,\n",
       "         8.96,   8.98,   9.  ,   9.01,   9.04,   9.05,   9.06,   9.08,\n",
       "         9.09,   9.1 ,   9.11,   9.13,   9.16,   9.17,   9.18,   9.19,\n",
       "         9.2 ,   9.22,   9.24,   9.25,   9.26,   9.27,   9.28,   9.3 ,\n",
       "         9.31,   9.32,   9.34,   9.35,   9.36,   9.37,   9.38,   9.39,\n",
       "         9.4 ,   9.42,   9.43,   9.44,   9.45,   9.46,   9.48,   9.5 ,\n",
       "         9.51,   9.52,   9.57,   9.58,   9.59,   9.6 ,   9.62,   9.65,\n",
       "         9.66,   9.67,   9.68,   9.7 ,   9.71,   9.72,   9.73,   9.75,\n",
       "         9.76,   9.77,   9.79,   9.8 ,   9.82,   9.83,   9.85,   9.89,\n",
       "         9.9 ,   9.91,   9.93,   9.95,   9.97,   9.98,  10.  ,  10.01,\n",
       "        10.02,  10.03,  10.05,  10.06,  10.08,  10.09,  10.1 ,  10.12,\n",
       "        10.13,  10.15,  10.17,  10.18,  10.19,  10.2 ,  10.22,  10.24,\n",
       "        10.25,  10.26,  10.27,  10.29,  10.3 ,  10.32,  10.33,  10.34,\n",
       "        10.35,  10.36,  10.37,  10.38,  10.39,  10.4 ,  10.42,  10.43,\n",
       "        10.44,  10.45,  10.46,  10.47,  10.49,  10.5 ,  10.51,  10.52,\n",
       "        10.54,  10.55,  10.56,  10.58,  10.59,  10.6 ,  10.62,  10.63,\n",
       "        10.64,  10.68,  10.69,  10.7 ,  10.71,  10.72,  10.73,  10.74,\n",
       "        10.75,  10.78,  10.79,  10.8 ,  10.84,  10.86,  10.87,  10.88,\n",
       "        10.89,  10.9 ,  10.91,  10.92,  10.94,  10.95,  10.99,  11.  ,\n",
       "        11.04,  11.05,  11.06,  11.07,  11.09,  11.1 ,  11.11,  11.12,\n",
       "        11.13,  11.14,  11.16,  11.17,  11.18,  11.2 ,  11.22,  11.24,\n",
       "        11.25,  11.26,  11.27,  11.28,  11.29,  11.3 ,  11.31,  11.33,\n",
       "        11.34,  11.35,  11.36,  11.37,  11.39,  11.4 ,  11.41,  11.42,\n",
       "        11.43,  11.44,  11.45,  11.46,  11.47,  11.49,  11.5 ,  11.51,\n",
       "        11.52,  11.53,  11.55,  11.56,  11.57,  11.59,  11.6 ,  11.62,\n",
       "        11.63,  11.64,  11.65,  11.67,  11.69,  11.7 ,  11.71,  11.73,\n",
       "        11.74,  11.78,  11.8 ,  11.81,  11.84,  11.85,  11.87,  11.9 ,\n",
       "        11.92,  11.93,  11.95,  11.98,  12.  ,  12.01,  12.02,  12.03,\n",
       "        12.05,  12.08,  12.1 ,  12.11,  12.14,  12.15,  12.17,  12.18,\n",
       "        12.2 ,  12.23,  12.24,  12.25,  12.27,  12.29,  12.3 ,  12.32,\n",
       "        12.35,  12.37,  12.38,  12.39,  12.4 ,  12.43,  12.44,  12.45,\n",
       "        12.47,  12.5 ,  12.52,  12.53,  12.55,  12.56,  12.57,  12.58,\n",
       "        12.6 ,  12.63,  12.66,  12.69,  12.7 ,  12.71,  12.72,  12.75,\n",
       "        12.76,  12.8 ,  12.83,  12.84,  12.85,  12.86,  12.87,  12.88,\n",
       "        12.89,  12.9 ,  12.92,  12.93,  12.96,  13.  ,  13.02,  13.04,\n",
       "        13.05,  13.06,  13.1 ,  13.11,  13.14,  13.16,  13.17,  13.2 ,\n",
       "        13.21,  13.24,  13.25,  13.26,  13.27,  13.28,  13.29,  13.3 ,\n",
       "        13.31,  13.32,  13.33,  13.35,  13.38,  13.39,  13.4 ,  13.41,\n",
       "        13.42,  13.43,  13.47,  13.49,  13.5 ,  13.52,  13.53,  13.55,\n",
       "        13.58,  13.6 ,  13.63,  13.64,  13.65,  13.67,  13.69,  13.7 ,\n",
       "        13.73,  13.74,  13.77,  13.79,  13.8 ,  13.81,  13.83,  13.84,\n",
       "        13.86,  13.9 ,  13.93,  13.95,  14.  ,  14.02,  14.04,  14.05,\n",
       "        14.06,  14.1 ,  14.14,  14.17,  14.2 ,  14.24,  14.27,  14.29,\n",
       "        14.3 ,  14.31,  14.33,  14.4 ,  14.43,  14.46,  14.49,  14.5 ,\n",
       "        14.51,  14.55,  14.56,  14.57,  14.58,  14.6 ,  14.61,  14.64,\n",
       "        14.65,  14.7 ,  14.72,  14.74,  14.77,  14.8 ,  14.84,  14.85,\n",
       "        14.9 ,  14.93,  14.95,  14.97,  14.98,  15.  ,  15.03,  15.07,\n",
       "        15.09,  15.1 ,  15.15,  15.18,  15.2 ,  15.24,  15.26,  15.3 ,\n",
       "        15.33,  15.35,  15.37,  15.39,  15.4 ,  15.42,  15.43,  15.5 ,\n",
       "        15.54,  15.55,  15.57,  15.6 ,  15.61,  15.62,  15.69,  15.7 ,\n",
       "        15.72,  15.78,  15.8 ,  15.83,  15.85,  15.9 ,  16.  ,  16.03,\n",
       "        16.05,  16.07,  16.1 ,  16.2 ,  16.25,  16.26,  16.27,  16.3 ,\n",
       "        16.32,  16.38,  16.4 ,  16.42,  16.45,  16.46,  16.47,  16.48,\n",
       "        16.5 ,  16.6 ,  16.66,  16.7 ,  16.72,  16.74,  16.77,  16.8 ,\n",
       "        16.83,  16.88,  16.89,  16.9 ,  16.92,  17.  ,  17.06,  17.1 ,\n",
       "        17.12,  17.2 ,  17.28,  17.3 ,  17.4 ,  17.44,  17.5 ,  17.53,\n",
       "        17.55,  17.59,  17.6 ,  17.61,  17.64,  17.7 ,  17.8 ,  17.85,\n",
       "        17.87,  17.9 ,  18.  ,  18.07,  18.1 ,  18.16,  18.2 ,  18.25,\n",
       "        18.3 ,  18.34,  18.4 ,  18.45,  18.5 ,  18.55,  18.59,  18.6 ,\n",
       "        18.7 ,  18.78,  18.8 ,  18.88,  18.9 ,  18.93,  19.  ,  19.1 ,\n",
       "        19.19,  19.2 ,  19.21,  19.28,  19.3 ,  19.35,  19.39,  19.4 ,\n",
       "        19.42,  19.45,  19.5 ,  19.51,  19.6 ,  19.61,  19.7 ,  19.8 ,\n",
       "        19.9 ,  19.92,  19.94,  20.  ,  20.07,  20.1 ,  20.16,  20.2 ,\n",
       "        20.24,  20.3 ,  20.31,  20.38,  20.4 ,  20.5 ,  20.52,  20.56,\n",
       "        20.6 ,  20.7 ,  20.77,  20.8 ,  20.9 ,  20.91,  20.92,  21.  ,\n",
       "        21.1 ,  21.2 ,  21.22,  21.25,  21.3 ,  21.4 ,  21.5 ,  21.53,\n",
       "        21.55,  21.6 ,  21.7 ,  21.74,  21.76,  21.8 ,  21.82,  21.87,\n",
       "        21.9 ,  22.  ,  22.1 ,  22.15,  22.2 ,  22.22,  22.3 ,  22.31,\n",
       "        22.4 ,  22.43,  22.46,  22.5 ,  22.6 ,  22.7 ,  22.72,  22.78,\n",
       "        22.8 ,  22.9 ,  23.  ,  23.1 ,  23.2 ,  23.25,  23.28,  23.3 ,\n",
       "        23.38,  23.4 ,  23.42,  23.43,  23.5 ,  23.53,  23.6 ,  23.7 ,\n",
       "        23.71,  23.8 ,  23.9 ,  24.  ,  24.03,  24.1 ,  24.2 ,  24.3 ,\n",
       "        24.4 ,  24.5 ,  24.6 ,  24.7 ,  24.8 ,  24.89,  24.9 ,  25.  ,\n",
       "        25.02,  25.1 ,  25.11,  25.2 ,  25.3 ,  25.34,  25.4 ,  25.5 ,\n",
       "        25.6 ,  25.7 ,  25.86,  25.9 ,  26.  ,  26.1 ,  26.2 ,  26.4 ,\n",
       "        26.5 ,  26.6 ,  26.7 ,  26.8 ,  26.85,  26.9 ,  27.  ,  27.1 ,\n",
       "        27.2 ,  27.3 ,  27.4 ,  27.5 ,  27.57,  27.6 ,  27.76,  27.9 ,\n",
       "        28.  ,  28.1 ,  28.2 ,  28.3 ,  28.4 ,  28.5 ,  28.52,  28.56,\n",
       "        28.6 ,  28.63,  28.64,  28.7 ,  28.8 ,  29.  ,  29.09,  29.1 ,\n",
       "        29.3 ,  29.4 ,  29.5 ,  29.8 ,  29.86,  29.9 ,  30.  ,  30.2 ,\n",
       "        30.5 ,  30.59,  30.6 ,  30.8 ,  30.9 ,  31.  ,  31.2 ,  31.3 ,\n",
       "        31.4 ,  31.47,  31.5 ,  31.6 ,  31.7 ,  31.73,  31.8 ,  32.  ,\n",
       "        32.1 ,  32.3 ,  32.4 ,  32.55,  32.6 ,  32.7 ,  32.8 ,  32.9 ,\n",
       "        33.  ,  33.1 ,  33.6 ,  33.8 ,  33.9 ,  34.  ,  34.1 ,  34.19,\n",
       "        34.3 ,  34.4 ,  34.51,  34.6 ,  34.7 ,  34.78,  34.8 ,  35.  ,\n",
       "        35.05,  35.1 ,  35.35,  35.4 ,  35.5 ,  35.6 ,  35.7 ,  35.9 ,\n",
       "        36.  ,  36.2 ,  36.3 ,  36.4 ,  36.5 ,  36.6 ,  37.  ,  37.5 ,\n",
       "        37.6 ,  37.7 ,  37.78,  37.8 ,  37.9 ,  38.  ,  38.1 ,  38.86,\n",
       "        39.  ,  39.1 ,  39.7 ,  39.9 ,  40.  ,  40.1 ,  40.2 ,  40.3 ,\n",
       "        40.4 ,  40.5 ,  40.7 ,  41.  ,  41.1 ,  41.3 ,  41.9 ,  42.  ,\n",
       "        42.4 ,  42.5 ,  42.6 ,  42.7 ,  42.8 ,  43.  ,  43.2 ,  43.4 ,\n",
       "        43.8 ,  44.  ,  44.7 ,  44.9 ,  45.  ,  45.5 ,  46.  ,  46.8 ,\n",
       "        47.  ,  48.  ,  48.3 ,  48.5 ,  49.2 ,  49.4 ,  50.  ,  50.2 ,\n",
       "        51.  ,  51.8 ,  53.  ,  53.1 ,  54.  ,  54.2 ,  54.3 ,  55.5 ,\n",
       "        55.7 ,  56.  ,  56.2 ,  58.  ,  58.4 ,  60.  ,  62.  ,  62.5 ,\n",
       "        63.  ,  63.4 ,  64.  ,  65.  ,  66.  ,  70.  ,  72.  ,  75.  ,\n",
       "        77.  ,  87.2 ,  93.  ,  93.2 , 100.  , 100.7 , 107.  , 112.  ,\n",
       "          nan])"
      ]
     },
     "execution_count": 93,
     "metadata": {},
     "output_type": "execute_result"
    }
   ],
   "source": [
    "#выведем уникальные значения в столбце kitchen_area\n",
    "data['kitchen_area'].sort_values().unique()"
   ]
  },
  {
   "cell_type": "markdown",
   "metadata": {},
   "source": [
    "Замечаем аномалии в kitchen_area - свыше 50 квадратных метров"
   ]
  },
  {
   "cell_type": "code",
   "execution_count": 94,
   "metadata": {},
   "outputs": [
    {
     "data": {
      "text/plain": [
       "count    21381.000000\n",
       "mean        10.566403\n",
       "std          5.901753\n",
       "min          1.300000\n",
       "25%          7.000000\n",
       "50%          9.100000\n",
       "75%         12.000000\n",
       "max        112.000000\n",
       "Name: kitchen_area, dtype: float64"
      ]
     },
     "execution_count": 94,
     "metadata": {},
     "output_type": "execute_result"
    }
   ],
   "source": [
    "#выводим статистические данные, несмотря на аномалии\n",
    "data['kitchen_area'].describe()"
   ]
  },
  {
   "cell_type": "code",
   "execution_count": 95,
   "metadata": {},
   "outputs": [
    {
     "name": "stdout",
     "output_type": "stream",
     "text": [
      "46\n"
     ]
    },
    {
     "data": {
      "text/plain": [
       "count    21323.000000\n",
       "mean        10.424230\n",
       "std          5.178905\n",
       "min          1.300000\n",
       "25%          7.000000\n",
       "50%          9.100000\n",
       "75%         12.000000\n",
       "max         49.400000\n",
       "Name: kitchen_area, dtype: float64"
      ]
     },
     "execution_count": 95,
     "metadata": {},
     "output_type": "execute_result"
    }
   ],
   "source": [
    "#выведем количество аномальных значений,превышающих 50\n",
    "print(len(data.loc[data['kitchen_area'] > 50]))\n",
    "#попробуем вывести статистические данные, откинув аномальные значения сверх 50\n",
    "filtered_kitchen_area = data.query('kitchen_area < 50.0')\n",
    "filtered_kitchen_area['kitchen_area'].describe()"
   ]
  },
  {
   "cell_type": "markdown",
   "metadata": {},
   "source": [
    "Медиана и среднее практически не изменились и аномальных значений не много, значит заменяем их на медиану и перепроверяем\n",
    "(пропуски оставим без изменений ввиду разнообразия квартир и достаточно большого числа пропусков, что может в дальнейшем некорректно сказаться на результатах анализа)"
   ]
  },
  {
   "cell_type": "code",
   "execution_count": 96,
   "metadata": {
    "scrolled": true
   },
   "outputs": [
    {
     "name": "stdout",
     "output_type": "stream",
     "text": [
      "count    21381.000000\n",
      "mean        10.443593\n",
      "std          5.256499\n",
      "min          1.300000\n",
      "25%          7.000000\n",
      "50%          9.100000\n",
      "75%         12.000000\n",
      "max         50.000000\n",
      "Name: kitchen_area, dtype: float64\n"
     ]
    }
   ],
   "source": [
    "#заменяем аномалии на медиану\n",
    "data.loc[data['kitchen_area'] > 50, 'kitchen_area'] = data['kitchen_area'].median()\n",
    "#выводим статистические данные по столбцу total_area \n",
    "print(data['kitchen_area'].describe())"
   ]
  },
  {
   "cell_type": "markdown",
   "metadata": {},
   "source": [
    "Отличные статистические данные. Переходим к следующему шагу"
   ]
  },
  {
   "cell_type": "markdown",
   "metadata": {},
   "source": [
    "### Посчитайте и добавьте в таблицу новые столбцы"
   ]
  },
  {
   "cell_type": "code",
   "execution_count": 97,
   "metadata": {
    "scrolled": true
   },
   "outputs": [
    {
     "data": {
      "text/html": [
       "<div>\n",
       "<style scoped>\n",
       "    .dataframe tbody tr th:only-of-type {\n",
       "        vertical-align: middle;\n",
       "    }\n",
       "\n",
       "    .dataframe tbody tr th {\n",
       "        vertical-align: top;\n",
       "    }\n",
       "\n",
       "    .dataframe thead th {\n",
       "        text-align: right;\n",
       "    }\n",
       "</style>\n",
       "<table border=\"1\" class=\"dataframe\">\n",
       "  <thead>\n",
       "    <tr style=\"text-align: right;\">\n",
       "      <th></th>\n",
       "      <th>total_images</th>\n",
       "      <th>last_price</th>\n",
       "      <th>total_area</th>\n",
       "      <th>first_day_exposition</th>\n",
       "      <th>rooms</th>\n",
       "      <th>ceiling_height</th>\n",
       "      <th>floors_total</th>\n",
       "      <th>living_area</th>\n",
       "      <th>floor</th>\n",
       "      <th>is_apartment</th>\n",
       "      <th>...</th>\n",
       "      <th>parks_nearest</th>\n",
       "      <th>ponds_around3000</th>\n",
       "      <th>ponds_nearest</th>\n",
       "      <th>days_exposition</th>\n",
       "      <th>one_meter_price</th>\n",
       "      <th>day_exposition</th>\n",
       "      <th>month_exposition</th>\n",
       "      <th>year_exposition</th>\n",
       "      <th>floor_type</th>\n",
       "      <th>cityCenters_nearest_km</th>\n",
       "    </tr>\n",
       "  </thead>\n",
       "  <tbody>\n",
       "    <tr>\n",
       "      <th>0</th>\n",
       "      <td>20</td>\n",
       "      <td>13000000.0</td>\n",
       "      <td>108.0</td>\n",
       "      <td>2019-03-07</td>\n",
       "      <td>3</td>\n",
       "      <td>2.70</td>\n",
       "      <td>16</td>\n",
       "      <td>51.0</td>\n",
       "      <td>8</td>\n",
       "      <td>False</td>\n",
       "      <td>...</td>\n",
       "      <td>482.0</td>\n",
       "      <td>2</td>\n",
       "      <td>755.0</td>\n",
       "      <td>&lt;NA&gt;</td>\n",
       "      <td>120370.370370</td>\n",
       "      <td>3</td>\n",
       "      <td>3</td>\n",
       "      <td>2019</td>\n",
       "      <td>другой</td>\n",
       "      <td>16.028</td>\n",
       "    </tr>\n",
       "    <tr>\n",
       "      <th>1</th>\n",
       "      <td>7</td>\n",
       "      <td>3350000.0</td>\n",
       "      <td>40.4</td>\n",
       "      <td>2018-12-04</td>\n",
       "      <td>1</td>\n",
       "      <td>2.65</td>\n",
       "      <td>11</td>\n",
       "      <td>18.6</td>\n",
       "      <td>1</td>\n",
       "      <td>False</td>\n",
       "      <td>...</td>\n",
       "      <td>NaN</td>\n",
       "      <td>0</td>\n",
       "      <td>NaN</td>\n",
       "      <td>81</td>\n",
       "      <td>82920.792079</td>\n",
       "      <td>1</td>\n",
       "      <td>12</td>\n",
       "      <td>2018</td>\n",
       "      <td>первый</td>\n",
       "      <td>18.603</td>\n",
       "    </tr>\n",
       "    <tr>\n",
       "      <th>2</th>\n",
       "      <td>10</td>\n",
       "      <td>5196000.0</td>\n",
       "      <td>56.0</td>\n",
       "      <td>2015-08-20</td>\n",
       "      <td>2</td>\n",
       "      <td>2.65</td>\n",
       "      <td>5</td>\n",
       "      <td>34.3</td>\n",
       "      <td>4</td>\n",
       "      <td>False</td>\n",
       "      <td>...</td>\n",
       "      <td>90.0</td>\n",
       "      <td>2</td>\n",
       "      <td>574.0</td>\n",
       "      <td>558</td>\n",
       "      <td>92785.714286</td>\n",
       "      <td>3</td>\n",
       "      <td>8</td>\n",
       "      <td>2015</td>\n",
       "      <td>другой</td>\n",
       "      <td>13.933</td>\n",
       "    </tr>\n",
       "    <tr>\n",
       "      <th>3</th>\n",
       "      <td>0</td>\n",
       "      <td>64900000.0</td>\n",
       "      <td>159.0</td>\n",
       "      <td>2015-07-24</td>\n",
       "      <td>3</td>\n",
       "      <td>2.65</td>\n",
       "      <td>14</td>\n",
       "      <td>NaN</td>\n",
       "      <td>9</td>\n",
       "      <td>False</td>\n",
       "      <td>...</td>\n",
       "      <td>84.0</td>\n",
       "      <td>3</td>\n",
       "      <td>234.0</td>\n",
       "      <td>424</td>\n",
       "      <td>408176.100629</td>\n",
       "      <td>4</td>\n",
       "      <td>7</td>\n",
       "      <td>2015</td>\n",
       "      <td>другой</td>\n",
       "      <td>6.800</td>\n",
       "    </tr>\n",
       "    <tr>\n",
       "      <th>4</th>\n",
       "      <td>2</td>\n",
       "      <td>10000000.0</td>\n",
       "      <td>100.0</td>\n",
       "      <td>2018-06-19</td>\n",
       "      <td>2</td>\n",
       "      <td>3.03</td>\n",
       "      <td>14</td>\n",
       "      <td>32.0</td>\n",
       "      <td>13</td>\n",
       "      <td>False</td>\n",
       "      <td>...</td>\n",
       "      <td>112.0</td>\n",
       "      <td>1</td>\n",
       "      <td>48.0</td>\n",
       "      <td>121</td>\n",
       "      <td>100000.000000</td>\n",
       "      <td>1</td>\n",
       "      <td>6</td>\n",
       "      <td>2018</td>\n",
       "      <td>другой</td>\n",
       "      <td>8.098</td>\n",
       "    </tr>\n",
       "  </tbody>\n",
       "</table>\n",
       "<p>5 rows × 28 columns</p>\n",
       "</div>"
      ],
      "text/plain": [
       "   total_images  last_price  total_area first_day_exposition  rooms  \\\n",
       "0            20  13000000.0       108.0           2019-03-07      3   \n",
       "1             7   3350000.0        40.4           2018-12-04      1   \n",
       "2            10   5196000.0        56.0           2015-08-20      2   \n",
       "3             0  64900000.0       159.0           2015-07-24      3   \n",
       "4             2  10000000.0       100.0           2018-06-19      2   \n",
       "\n",
       "   ceiling_height  floors_total  living_area  floor  is_apartment  ...  \\\n",
       "0            2.70            16         51.0      8         False  ...   \n",
       "1            2.65            11         18.6      1         False  ...   \n",
       "2            2.65             5         34.3      4         False  ...   \n",
       "3            2.65            14          NaN      9         False  ...   \n",
       "4            3.03            14         32.0     13         False  ...   \n",
       "\n",
       "   parks_nearest  ponds_around3000  ponds_nearest  days_exposition  \\\n",
       "0          482.0                 2          755.0             <NA>   \n",
       "1            NaN                 0            NaN               81   \n",
       "2           90.0                 2          574.0              558   \n",
       "3           84.0                 3          234.0              424   \n",
       "4          112.0                 1           48.0              121   \n",
       "\n",
       "  one_meter_price  day_exposition  month_exposition  year_exposition  \\\n",
       "0   120370.370370               3                 3             2019   \n",
       "1    82920.792079               1                12             2018   \n",
       "2    92785.714286               3                 8             2015   \n",
       "3   408176.100629               4                 7             2015   \n",
       "4   100000.000000               1                 6             2018   \n",
       "\n",
       "   floor_type  cityCenters_nearest_km  \n",
       "0      другой                  16.028  \n",
       "1      первый                  18.603  \n",
       "2      другой                  13.933  \n",
       "3      другой                   6.800  \n",
       "4      другой                   8.098  \n",
       "\n",
       "[5 rows x 28 columns]"
      ]
     },
     "execution_count": 97,
     "metadata": {},
     "output_type": "execute_result"
    }
   ],
   "source": [
    "#цена одного квадратного метра\n",
    "data['one_meter_price'] = data['last_price'] / data['total_area']\n",
    "#день публикации объявления (0 - понедельник, 1 - вторник и т.д.)\n",
    "data['day_exposition'] = data['first_day_exposition'].dt.weekday\n",
    "#месяц публикации объявления\n",
    "data['month_exposition'] = data['first_day_exposition'].dt.month\n",
    "#год публикации объявления\n",
    "data['year_exposition'] = data['first_day_exposition'].dt.year\n",
    "#тип этажа квартиры (значения — «первый», «последний», «другой»)\n",
    "def floor_type(data):\n",
    "    try:\n",
    "        if data['floor'] == 1:\n",
    "            return 'первый'\n",
    "        elif data['floor'] == data['floors_total']:\n",
    "            return 'последний'\n",
    "        elif 1 < data['floor'] < data['floors_total']:\n",
    "            return 'другой'\n",
    "    except:\n",
    "        pass\n",
    "data['floor_type'] = data.apply(floor_type, axis = 1)\n",
    "#расстояние в км до центра города\n",
    "data['cityCenters_nearest_km'] = data['cityCenters_nearest'] / 1000\n",
    "#выведем первые 5 строк датафрейма для проверки\n",
    "data.head()"
   ]
  },
  {
   "cell_type": "markdown",
   "metadata": {},
   "source": [
    "### Проведите исследовательский анализ данных"
   ]
  },
  {
   "cell_type": "markdown",
   "metadata": {},
   "source": [
    "Изучем и опишем следующие параметры (построим гистограммы и выведем статистические данные):"
   ]
  },
  {
   "cell_type": "code",
   "execution_count": 98,
   "metadata": {},
   "outputs": [
    {
     "data": {
      "image/png": "[encoded data removed]",
      "text/plain": [
       "<Figure size 576x576 with 1 Axes>"
      ]
     },
     "metadata": {
      "needs_background": "light"
     },
     "output_type": "display_data"
    },
    {
     "data": {
      "text/plain": [
       "count    23650.000000\n",
       "mean        58.942447\n",
       "std         28.813915\n",
       "min         15.000000\n",
       "25%         40.000000\n",
       "50%         52.000000\n",
       "75%         69.000000\n",
       "max        250.000000\n",
       "Name: total_area, dtype: float64"
      ]
     },
     "execution_count": 98,
     "metadata": {},
     "output_type": "execute_result"
    }
   ],
   "source": [
    "#общая площадь\n",
    "data['total_area'].hist(figsize = (8, 8), bins = 30, grid = True)\n",
    "plt.show()\n",
    "data['total_area'].describe()"
   ]
  },
  {
   "cell_type": "markdown",
   "metadata": {},
   "source": [
    "Гистограмма имеет вид распределения Пуассона. Среднее значение общей площади жилья составляет 58.9 кв метра и медиана составляет 52 кв метра. В большинстве квартиры имеют общую площадь 40 - 69 кв метров"
   ]
  },
  {
   "cell_type": "code",
   "execution_count": 99,
   "metadata": {
    "scrolled": true
   },
   "outputs": [
    {
     "data": {
      "image/png": "[encoded data removed]",
      "text/plain": [
       "<Figure size 576x576 with 1 Axes>"
      ]
     },
     "metadata": {
      "needs_background": "light"
     },
     "output_type": "display_data"
    },
    {
     "data": {
      "text/plain": [
       "count    21752.000000\n",
       "mean        34.378979\n",
       "std         18.715271\n",
       "min         15.000000\n",
       "25%         19.600000\n",
       "50%         30.000000\n",
       "75%         42.100000\n",
       "max        170.000000\n",
       "Name: living_area, dtype: float64"
      ]
     },
     "execution_count": 99,
     "metadata": {},
     "output_type": "execute_result"
    }
   ],
   "source": [
    "#жилая площадь\n",
    "data['living_area'].hist(figsize = (8, 8), bins = 30, grid = True)\n",
    "plt.show()\n",
    "data['living_area'].describe()"
   ]
  },
  {
   "cell_type": "markdown",
   "metadata": {},
   "source": [
    "Гистограмма имеет вид распределения Пуассона. Среднее значение жилой площади квартиры составляет 34.4 кв метра и медиана составляет 30 кв метра. В большинстве квартиры имеют жилую площадь 19 - 42 кв метров"
   ]
  },
  {
   "cell_type": "code",
   "execution_count": 100,
   "metadata": {},
   "outputs": [
    {
     "data": {
      "image/png": "[encoded data removed]",
      "text/plain": [
       "<Figure size 576x576 with 1 Axes>"
      ]
     },
     "metadata": {
      "needs_background": "light"
     },
     "output_type": "display_data"
    },
    {
     "data": {
      "text/plain": [
       "count    21381.000000\n",
       "mean        10.443593\n",
       "std          5.256499\n",
       "min          1.300000\n",
       "25%          7.000000\n",
       "50%          9.100000\n",
       "75%         12.000000\n",
       "max         50.000000\n",
       "Name: kitchen_area, dtype: float64"
      ]
     },
     "execution_count": 100,
     "metadata": {},
     "output_type": "execute_result"
    }
   ],
   "source": [
    "#площадь кухни\n",
    "data['kitchen_area'].hist(figsize = (8, 8), bins = 30, grid = True)\n",
    "plt.show()\n",
    "data['kitchen_area'].describe()"
   ]
  },
  {
   "cell_type": "markdown",
   "metadata": {},
   "source": [
    "Гистограмма имеет вид распределения Пуассона. Среднее значение площади кухни составляет 10.4 кв метра и медиана составляет 9.1 кв метра. В большинстве квартиры имеют площадь кухни 7 - 12 кв метров"
   ]
  },
  {
   "cell_type": "code",
   "execution_count": 101,
   "metadata": {},
   "outputs": [
    {
     "data": {
      "image/png": "[encoded data removed]",
      "text/plain": [
       "<Figure size 576x576 with 1 Axes>"
      ]
     },
     "metadata": {
      "needs_background": "light"
     },
     "output_type": "display_data"
    },
    {
     "data": {
      "text/plain": [
       "count    2.365000e+04\n",
       "mean     6.541127e+06\n",
       "std      1.089640e+07\n",
       "min      1.219000e+04\n",
       "25%      3.400000e+06\n",
       "50%      4.650000e+06\n",
       "75%      6.799000e+06\n",
       "max      7.630000e+08\n",
       "Name: last_price, dtype: float64"
      ]
     },
     "execution_count": 101,
     "metadata": {},
     "output_type": "execute_result"
    }
   ],
   "source": [
    "#цена объекта\n",
    "data['last_price'].hist(figsize = (8, 8), bins = 30, grid = True)\n",
    "plt.show()\n",
    "data['last_price'].describe()"
   ]
  },
  {
   "cell_type": "markdown",
   "metadata": {},
   "source": [
    "Гистограмма имеет вид распределения Пуассона. Средняя цена квартиры составляет 6.5 млн и медиана составляет 4.65 млн. В большинстве квартиры имеют цену в диапазоне 3.4 - 6.7 млн"
   ]
  },
  {
   "cell_type": "code",
   "execution_count": 102,
   "metadata": {},
   "outputs": [
    {
     "data": {
      "image/png": "[encoded data removed]",
      "text/plain": [
       "<Figure size 576x576 with 1 Axes>"
      ]
     },
     "metadata": {
      "needs_background": "light"
     },
     "output_type": "display_data"
    },
    {
     "data": {
      "text/plain": [
       "count    23650.000000\n",
       "mean         2.070106\n",
       "std          1.078620\n",
       "min          0.000000\n",
       "25%          1.000000\n",
       "50%          2.000000\n",
       "75%          3.000000\n",
       "max         19.000000\n",
       "Name: rooms, dtype: float64"
      ]
     },
     "execution_count": 102,
     "metadata": {},
     "output_type": "execute_result"
    }
   ],
   "source": [
    "#количество комнат\n",
    "data['rooms'].hist(figsize = (8, 8), bins = 30, grid = True)\n",
    "plt.show()\n",
    "data['rooms'].describe()"
   ]
  },
  {
   "cell_type": "markdown",
   "metadata": {},
   "source": [
    "Гистограмма имеет вид распределения Пуассона. Среднее количество комнат в квартирах это 2 комнаты и медиана составляет также 2 комнаты. В большинстве квартиры имеют 1 - 3 комнаты."
   ]
  },
  {
   "cell_type": "code",
   "execution_count": 103,
   "metadata": {},
   "outputs": [
    {
     "data": {
      "image/png": "[encoded data removed]",
      "text/plain": [
       "<Figure size 576x576 with 1 Axes>"
      ]
     },
     "metadata": {
      "needs_background": "light"
     },
     "output_type": "display_data"
    },
    {
     "data": {
      "text/plain": [
       "count    23650.000000\n",
       "mean         2.695905\n",
       "std          0.215564\n",
       "min          2.000000\n",
       "25%          2.600000\n",
       "50%          2.650000\n",
       "75%          2.700000\n",
       "max          5.000000\n",
       "Name: ceiling_height, dtype: float64"
      ]
     },
     "execution_count": 103,
     "metadata": {},
     "output_type": "execute_result"
    }
   ],
   "source": [
    "#высота потолков\n",
    "data['ceiling_height'].hist(figsize = (8, 8), bins = 30, grid = True)\n",
    "plt.show()\n",
    "data['ceiling_height'].describe()"
   ]
  },
  {
   "cell_type": "markdown",
   "metadata": {},
   "source": [
    "Гистограмма имеет вид распределения Пуассона. Средняя высота потолков в квартире - 2.7 метров и медиана составляет чуть меньше 2.65 комнаты. В большинстве квартиры имеют высоту потолков 2.6 - 2.7 метров."
   ]
  },
  {
   "cell_type": "code",
   "execution_count": 104,
   "metadata": {},
   "outputs": [
    {
     "data": {
      "image/png": "[encoded data removed]",
      "text/plain": [
       "<Figure size 576x576 with 1 Axes>"
      ]
     },
     "metadata": {
      "needs_background": "light"
     },
     "output_type": "display_data"
    },
    {
     "data": {
      "text/plain": [
       "count    23650.000000\n",
       "mean         5.893277\n",
       "std          4.883317\n",
       "min          1.000000\n",
       "25%          2.000000\n",
       "50%          4.000000\n",
       "75%          8.000000\n",
       "max         33.000000\n",
       "Name: floor, dtype: float64"
      ]
     },
     "execution_count": 104,
     "metadata": {},
     "output_type": "execute_result"
    }
   ],
   "source": [
    "#этаж квартиры\n",
    "data['floor'].hist(figsize = (8, 8), bins = 30, grid = True)\n",
    "plt.show()\n",
    "data['floor'].describe()"
   ]
  },
  {
   "cell_type": "markdown",
   "metadata": {},
   "source": [
    "Гистограмма имеет вид распределения Пуассона. Средний этаж представленных квартир - 6, что выше медианы, которая составляет 4. В большинстве квартиры располагаются на  2 - 8 этажах."
   ]
  },
  {
   "cell_type": "code",
   "execution_count": 105,
   "metadata": {},
   "outputs": [
    {
     "data": {
      "image/png": "[encoded data removed]",
      "text/plain": [
       "<Figure size 576x576 with 1 Axes>"
      ]
     },
     "metadata": {
      "needs_background": "light"
     },
     "output_type": "display_data"
    },
    {
     "data": {
      "text/plain": [
       "count      23568\n",
       "unique         3\n",
       "top       другой\n",
       "freq       17326\n",
       "Name: floor_type, dtype: object"
      ]
     },
     "execution_count": 105,
     "metadata": {},
     "output_type": "execute_result"
    }
   ],
   "source": [
    "#тип этажа квартиры («первый», «последний», «другой»)\n",
    "data['floor_type'].hist(figsize = (8, 8), bins = 30, grid = True)\n",
    "plt.show()\n",
    "data['floor_type'].describe()"
   ]
  },
  {
   "cell_type": "markdown",
   "metadata": {},
   "source": [
    "Большинство квартир находятся не на 1 или последнем этаже. Однако, на последнем этаже они располагаются чаще, чем на 1."
   ]
  },
  {
   "cell_type": "code",
   "execution_count": 106,
   "metadata": {},
   "outputs": [
    {
     "data": {
      "image/png": "[encoded data removed]",
      "text/plain": [
       "<Figure size 576x576 with 1 Axes>"
      ]
     },
     "metadata": {
      "needs_background": "light"
     },
     "output_type": "display_data"
    },
    {
     "data": {
      "text/plain": [
       "count    23565.000000\n",
       "mean        10.675875\n",
       "std          6.594823\n",
       "min          1.000000\n",
       "25%          5.000000\n",
       "50%          9.000000\n",
       "75%         16.000000\n",
       "max         60.000000\n",
       "Name: floors_total, dtype: float64"
      ]
     },
     "execution_count": 106,
     "metadata": {},
     "output_type": "execute_result"
    }
   ],
   "source": [
    "#общее количество этажей в доме\n",
    "data['floors_total'].hist(figsize = (8, 8), bins = 30, grid = True)\n",
    "plt.show()\n",
    "data['floors_total'].describe()"
   ]
  },
  {
   "cell_type": "markdown",
   "metadata": {},
   "source": [
    "Гистограмма имеет вид распределения Пуассона. Среднее число этажей дома, в которых представленны квартиры это 11, что ниже медианы, которая составляет 9. В большинстве квартиры располагаются в 5 - 16 этажных домах."
   ]
  },
  {
   "cell_type": "code",
   "execution_count": 107,
   "metadata": {},
   "outputs": [
    {
     "data": {
      "image/png": "[encoded data removed]",
      "text/plain": [
       "<Figure size 576x576 with 1 Axes>"
      ]
     },
     "metadata": {
      "needs_background": "light"
     },
     "output_type": "display_data"
    },
    {
     "data": {
      "text/plain": [
       "count    18139.000000\n",
       "mean     14197.860742\n",
       "std       8606.830295\n",
       "min        181.000000\n",
       "25%       9241.000000\n",
       "50%      13105.000000\n",
       "75%      16293.000000\n",
       "max      65968.000000\n",
       "Name: cityCenters_nearest, dtype: float64"
      ]
     },
     "execution_count": 107,
     "metadata": {},
     "output_type": "execute_result"
    }
   ],
   "source": [
    "#расстояние до центра города в метрах\n",
    "data['cityCenters_nearest'].hist(figsize = (8, 8), bins = 30, grid = True)\n",
    "plt.show()\n",
    "data['cityCenters_nearest'].describe()"
   ]
  },
  {
   "cell_type": "markdown",
   "metadata": {},
   "source": [
    "Гистограмма имеет вид распределения Пуассона. Среднее значение расстояния от квартиры до центра составляет 14197.9 метров, а медиана равна 13105 метров. Большинство квартир располагается в 9241 - 16293 метрах от центра города."
   ]
  },
  {
   "cell_type": "code",
   "execution_count": 108,
   "metadata": {},
   "outputs": [
    {
     "data": {
      "image/png": "[encoded data removed]",
      "text/plain": [
       "<Figure size 576x576 with 1 Axes>"
      ]
     },
     "metadata": {
      "needs_background": "light"
     },
     "output_type": "display_data"
    },
    {
     "data": {
      "text/plain": [
       "count    18116.000000\n",
       "mean     28803.225878\n",
       "std      12637.314144\n",
       "min          0.000000\n",
       "25%      18575.750000\n",
       "50%      26756.500000\n",
       "75%      37294.000000\n",
       "max      84869.000000\n",
       "Name: airports_nearest, dtype: float64"
      ]
     },
     "execution_count": 108,
     "metadata": {},
     "output_type": "execute_result"
    }
   ],
   "source": [
    "#расстояние до ближайшего аэропорта\n",
    "data['airports_nearest'].hist(figsize = (8,8), bins = 30, grid = True)\n",
    "plt.show()\n",
    "data['airports_nearest'].describe()"
   ]
  },
  {
   "cell_type": "markdown",
   "metadata": {},
   "source": [
    "Гистограмма имеет вид распределения Пуассона. Среднее значение расстояния от квартиры до аэропорта составляет 28803.2 метров, а медиана равна 26756.5 метров. Большинство квартир располагается в 18575.75 - 37294 метрах от аэропорта."
   ]
  },
  {
   "cell_type": "code",
   "execution_count": 109,
   "metadata": {},
   "outputs": [
    {
     "data": {
      "image/png": "[encoded data removed]",
      "text/plain": [
       "<Figure size 576x576 with 1 Axes>"
      ]
     },
     "metadata": {
      "needs_background": "light"
     },
     "output_type": "display_data"
    },
    {
     "data": {
      "text/plain": [
       "count    8064.000000\n",
       "mean      490.830729\n",
       "std       342.554386\n",
       "min         1.000000\n",
       "25%       288.000000\n",
       "50%       454.500000\n",
       "75%       612.000000\n",
       "max      3190.000000\n",
       "Name: parks_nearest, dtype: float64"
      ]
     },
     "execution_count": 109,
     "metadata": {},
     "output_type": "execute_result"
    }
   ],
   "source": [
    "#расстояние до ближайшего парка\n",
    "data['parks_nearest'].hist(figsize = (8, 8), bins = 30, grid = True)\n",
    "plt.show()\n",
    "data['parks_nearest'].describe()"
   ]
  },
  {
   "cell_type": "markdown",
   "metadata": {},
   "source": [
    "Гистограмма имеет вид распределения Пуассона. Среднее значение расстояния от квартиры до парка составляет 490.8 метров, а медиана равна 454.5 метров. Большинство квартир располагается в 288 - 612 метрах от парка."
   ]
  },
  {
   "cell_type": "code",
   "execution_count": 110,
   "metadata": {},
   "outputs": [
    {
     "data": {
      "image/png": "[encoded data removed]",
      "text/plain": [
       "<Figure size 576x576 with 1 Axes>"
      ]
     },
     "metadata": {
      "needs_background": "light"
     },
     "output_type": "display_data"
    },
    {
     "name": "stdout",
     "output_type": "stream",
     "text": [
      "count    23650.000000\n",
      "mean         2.568710\n",
      "std          1.788808\n",
      "min          0.000000\n",
      "25%          1.000000\n",
      "50%          3.000000\n",
      "75%          4.000000\n",
      "max          6.000000\n",
      "Name: day_exposition, dtype: float64\n"
     ]
    },
    {
     "data": {
      "image/png": "[encoded data removed]",
      "text/plain": [
       "<Figure size 576x576 with 1 Axes>"
      ]
     },
     "metadata": {
      "needs_background": "light"
     },
     "output_type": "display_data"
    },
    {
     "name": "stdout",
     "output_type": "stream",
     "text": [
      "count    23650.000000\n",
      "mean         6.401564\n",
      "std          3.491418\n",
      "min          1.000000\n",
      "25%          3.000000\n",
      "50%          6.000000\n",
      "75%         10.000000\n",
      "max         12.000000\n",
      "Name: month_exposition, dtype: float64\n"
     ]
    }
   ],
   "source": [
    "#день и месяц публикации объявления\n",
    "data['day_exposition'].hist(figsize = (8, 8), bins = 30, grid = True)\n",
    "plt.show()\n",
    "print(data['day_exposition'].describe())\n",
    "\n",
    "data['month_exposition'].hist(figsize = (8, 8), bins = 30, grid = True)\n",
    "plt.show()\n",
    "print(data['month_exposition'].describe())"
   ]
  },
  {
   "cell_type": "markdown",
   "metadata": {},
   "source": [
    "В большинстве случаев публикация объявления происходит во вторник и четверг, меньше всего в воскресенье. Также лидируют конец зимы - начало весны (февраль - март), а вот конец весны (май) является самым непопулярным месяцем для публикации объявлений."
   ]
  },
  {
   "cell_type": "markdown",
   "metadata": {},
   "source": [
    "а) Выполняем задание: \"Изучите, как быстро продавались квартиры (столбец days_exposition)\""
   ]
  },
  {
   "cell_type": "code",
   "execution_count": 111,
   "metadata": {},
   "outputs": [
    {
     "data": {
      "image/png": "[encoded data removed]",
      "text/plain": [
       "<Figure size 360x360 with 1 Axes>"
      ]
     },
     "metadata": {
      "needs_background": "light"
     },
     "output_type": "display_data"
    },
    {
     "name": "stdout",
     "output_type": "stream",
     "text": [
      "count    20470.000000\n",
      "mean       180.753200\n",
      "std        219.777916\n",
      "min          1.000000\n",
      "25%         45.000000\n",
      "50%         95.000000\n",
      "75%        231.000000\n",
      "max       1580.000000\n",
      "Name: days_exposition, dtype: float64\n"
     ]
    }
   ],
   "source": [
    "#строим гистрограмму\n",
    "data['days_exposition'].hist(figsize = (5, 5), bins = 30, grid = True)\n",
    "plt.show()\n",
    "print(data['days_exposition'].describe())"
   ]
  },
  {
   "cell_type": "markdown",
   "metadata": {},
   "source": [
    "Мы видим, что в среднем объявление \"висит\" 45 - 231 день. Можно сделать вывод, что быстрые продажи - это до 45 дней со дня выставления объявления до его снятия, средние продажи как раз от 45 до 231 дня и долгие продажи свыше 231 дней.\n",
    "Создадим дополнительный столбец в датафрейме, где опишем период продажи квартир."
   ]
  },
  {
   "cell_type": "code",
   "execution_count": 112,
   "metadata": {},
   "outputs": [
    {
     "data": {
      "text/html": [
       "<div>\n",
       "<style scoped>\n",
       "    .dataframe tbody tr th:only-of-type {\n",
       "        vertical-align: middle;\n",
       "    }\n",
       "\n",
       "    .dataframe tbody tr th {\n",
       "        vertical-align: top;\n",
       "    }\n",
       "\n",
       "    .dataframe thead th {\n",
       "        text-align: right;\n",
       "    }\n",
       "</style>\n",
       "<table border=\"1\" class=\"dataframe\">\n",
       "  <thead>\n",
       "    <tr style=\"text-align: right;\">\n",
       "      <th></th>\n",
       "      <th>total_images</th>\n",
       "      <th>last_price</th>\n",
       "      <th>total_area</th>\n",
       "      <th>first_day_exposition</th>\n",
       "      <th>rooms</th>\n",
       "      <th>ceiling_height</th>\n",
       "      <th>floors_total</th>\n",
       "      <th>living_area</th>\n",
       "      <th>floor</th>\n",
       "      <th>is_apartment</th>\n",
       "      <th>...</th>\n",
       "      <th>ponds_around3000</th>\n",
       "      <th>ponds_nearest</th>\n",
       "      <th>days_exposition</th>\n",
       "      <th>one_meter_price</th>\n",
       "      <th>day_exposition</th>\n",
       "      <th>month_exposition</th>\n",
       "      <th>year_exposition</th>\n",
       "      <th>floor_type</th>\n",
       "      <th>cityCenters_nearest_km</th>\n",
       "      <th>sell_speed</th>\n",
       "    </tr>\n",
       "  </thead>\n",
       "  <tbody>\n",
       "    <tr>\n",
       "      <th>0</th>\n",
       "      <td>20</td>\n",
       "      <td>13000000.0</td>\n",
       "      <td>108.0</td>\n",
       "      <td>2019-03-07</td>\n",
       "      <td>3</td>\n",
       "      <td>2.70</td>\n",
       "      <td>16</td>\n",
       "      <td>51.0</td>\n",
       "      <td>8</td>\n",
       "      <td>False</td>\n",
       "      <td>...</td>\n",
       "      <td>2</td>\n",
       "      <td>755.0</td>\n",
       "      <td>&lt;NA&gt;</td>\n",
       "      <td>120370.370370</td>\n",
       "      <td>3</td>\n",
       "      <td>3</td>\n",
       "      <td>2019</td>\n",
       "      <td>другой</td>\n",
       "      <td>16.028</td>\n",
       "      <td>None</td>\n",
       "    </tr>\n",
       "    <tr>\n",
       "      <th>1</th>\n",
       "      <td>7</td>\n",
       "      <td>3350000.0</td>\n",
       "      <td>40.4</td>\n",
       "      <td>2018-12-04</td>\n",
       "      <td>1</td>\n",
       "      <td>2.65</td>\n",
       "      <td>11</td>\n",
       "      <td>18.6</td>\n",
       "      <td>1</td>\n",
       "      <td>False</td>\n",
       "      <td>...</td>\n",
       "      <td>0</td>\n",
       "      <td>NaN</td>\n",
       "      <td>81</td>\n",
       "      <td>82920.792079</td>\n",
       "      <td>1</td>\n",
       "      <td>12</td>\n",
       "      <td>2018</td>\n",
       "      <td>первый</td>\n",
       "      <td>18.603</td>\n",
       "      <td>средняя скорость продажи</td>\n",
       "    </tr>\n",
       "    <tr>\n",
       "      <th>2</th>\n",
       "      <td>10</td>\n",
       "      <td>5196000.0</td>\n",
       "      <td>56.0</td>\n",
       "      <td>2015-08-20</td>\n",
       "      <td>2</td>\n",
       "      <td>2.65</td>\n",
       "      <td>5</td>\n",
       "      <td>34.3</td>\n",
       "      <td>4</td>\n",
       "      <td>False</td>\n",
       "      <td>...</td>\n",
       "      <td>2</td>\n",
       "      <td>574.0</td>\n",
       "      <td>558</td>\n",
       "      <td>92785.714286</td>\n",
       "      <td>3</td>\n",
       "      <td>8</td>\n",
       "      <td>2015</td>\n",
       "      <td>другой</td>\n",
       "      <td>13.933</td>\n",
       "      <td>долгая продажа</td>\n",
       "    </tr>\n",
       "    <tr>\n",
       "      <th>3</th>\n",
       "      <td>0</td>\n",
       "      <td>64900000.0</td>\n",
       "      <td>159.0</td>\n",
       "      <td>2015-07-24</td>\n",
       "      <td>3</td>\n",
       "      <td>2.65</td>\n",
       "      <td>14</td>\n",
       "      <td>NaN</td>\n",
       "      <td>9</td>\n",
       "      <td>False</td>\n",
       "      <td>...</td>\n",
       "      <td>3</td>\n",
       "      <td>234.0</td>\n",
       "      <td>424</td>\n",
       "      <td>408176.100629</td>\n",
       "      <td>4</td>\n",
       "      <td>7</td>\n",
       "      <td>2015</td>\n",
       "      <td>другой</td>\n",
       "      <td>6.800</td>\n",
       "      <td>долгая продажа</td>\n",
       "    </tr>\n",
       "    <tr>\n",
       "      <th>4</th>\n",
       "      <td>2</td>\n",
       "      <td>10000000.0</td>\n",
       "      <td>100.0</td>\n",
       "      <td>2018-06-19</td>\n",
       "      <td>2</td>\n",
       "      <td>3.03</td>\n",
       "      <td>14</td>\n",
       "      <td>32.0</td>\n",
       "      <td>13</td>\n",
       "      <td>False</td>\n",
       "      <td>...</td>\n",
       "      <td>1</td>\n",
       "      <td>48.0</td>\n",
       "      <td>121</td>\n",
       "      <td>100000.000000</td>\n",
       "      <td>1</td>\n",
       "      <td>6</td>\n",
       "      <td>2018</td>\n",
       "      <td>другой</td>\n",
       "      <td>8.098</td>\n",
       "      <td>средняя скорость продажи</td>\n",
       "    </tr>\n",
       "  </tbody>\n",
       "</table>\n",
       "<p>5 rows × 29 columns</p>\n",
       "</div>"
      ],
      "text/plain": [
       "   total_images  last_price  total_area first_day_exposition  rooms  \\\n",
       "0            20  13000000.0       108.0           2019-03-07      3   \n",
       "1             7   3350000.0        40.4           2018-12-04      1   \n",
       "2            10   5196000.0        56.0           2015-08-20      2   \n",
       "3             0  64900000.0       159.0           2015-07-24      3   \n",
       "4             2  10000000.0       100.0           2018-06-19      2   \n",
       "\n",
       "   ceiling_height  floors_total  living_area  floor  is_apartment  ...  \\\n",
       "0            2.70            16         51.0      8         False  ...   \n",
       "1            2.65            11         18.6      1         False  ...   \n",
       "2            2.65             5         34.3      4         False  ...   \n",
       "3            2.65            14          NaN      9         False  ...   \n",
       "4            3.03            14         32.0     13         False  ...   \n",
       "\n",
       "   ponds_around3000  ponds_nearest  days_exposition  one_meter_price  \\\n",
       "0                 2          755.0             <NA>    120370.370370   \n",
       "1                 0            NaN               81     82920.792079   \n",
       "2                 2          574.0              558     92785.714286   \n",
       "3                 3          234.0              424    408176.100629   \n",
       "4                 1           48.0              121    100000.000000   \n",
       "\n",
       "  day_exposition  month_exposition  year_exposition  floor_type  \\\n",
       "0              3                 3             2019      другой   \n",
       "1              1                12             2018      первый   \n",
       "2              3                 8             2015      другой   \n",
       "3              4                 7             2015      другой   \n",
       "4              1                 6             2018      другой   \n",
       "\n",
       "   cityCenters_nearest_km                sell_speed  \n",
       "0                  16.028                      None  \n",
       "1                  18.603  средняя скорость продажи  \n",
       "2                  13.933            долгая продажа  \n",
       "3                   6.800            долгая продажа  \n",
       "4                   8.098  средняя скорость продажи  \n",
       "\n",
       "[5 rows x 29 columns]"
      ]
     },
     "execution_count": 112,
     "metadata": {},
     "output_type": "execute_result"
    }
   ],
   "source": [
    "#описываем функцию\n",
    "def sell_speed(data):\n",
    "    try:\n",
    "        if data['days_exposition'] < 45:\n",
    "            return 'быстрая продажа'\n",
    "        elif 45 <= data['days_exposition'] <= 231:\n",
    "            return 'средняя скорость продажи'\n",
    "        elif  data['days_exposition'] > 231 :\n",
    "            return 'долгая продажа'\n",
    "    except:\n",
    "        pass\n",
    "data['sell_speed'] = data.apply(sell_speed, axis = 1)\n",
    "#выводим 5 первых строк датафрейма для проверки\n",
    "data.head()"
   ]
  },
  {
   "cell_type": "code",
   "execution_count": 113,
   "metadata": {},
   "outputs": [
    {
     "data": {
      "image/png": "[encoded data removed]",
      "text/plain": [
       "<Figure size 360x360 with 1 Axes>"
      ]
     },
     "metadata": {
      "needs_background": "light"
     },
     "output_type": "display_data"
    },
    {
     "name": "stdout",
     "output_type": "stream",
     "text": [
      "count                        20470\n",
      "unique                           3\n",
      "top       средняя скорость продажи\n",
      "freq                         10271\n",
      "Name: sell_speed, dtype: object\n"
     ]
    }
   ],
   "source": [
    "#строим новую гистограмму на основе полученных данных\n",
    "data['sell_speed'].hist(figsize = (5, 5), bins = 30, grid = True)\n",
    "plt.show()\n",
    "print(data['sell_speed'].describe())"
   ]
  },
  {
   "cell_type": "markdown",
   "metadata": {},
   "source": [
    "Быстрые и долгие продажи находятся почти на одном уровне, а вот средняя скорость продажи (45-231) лидируют, показывая почти вдвое большие результаты. Следовательно, выставляемые квартиры чаще всего продаются в период от 45 до 231 дня, после публикации объявления. "
   ]
  },
  {
   "cell_type": "markdown",
   "metadata": {},
   "source": [
    "б) Выполняем задание: \"Какие факторы больше всего влияют на общую (полную) стоимость объекта?\""
   ]
  },
  {
   "cell_type": "code",
   "execution_count": 114,
   "metadata": {},
   "outputs": [
    {
     "data": {
      "text/plain": [
       "0.425437431007349"
      ]
     },
     "execution_count": 114,
     "metadata": {},
     "output_type": "execute_result"
    },
    {
     "data": {
      "image/png": "[encoded data removed]",
      "text/plain": [
       "<Figure size 576x360 with 1 Axes>"
      ]
     },
     "metadata": {
      "needs_background": "light"
     },
     "output_type": "display_data"
    }
   ],
   "source": [
    "#зависимость цены last_price от общей площади total_area\n",
    "data.pivot_table(index = 'total_area', values = 'last_price').plot(figsize = (8, 5), grid = True)\n",
    "#посчитаем коэффициент корреляции пирсона\n",
    "data['total_area'].corr(data['last_price'])"
   ]
  },
  {
   "cell_type": "markdown",
   "metadata": {},
   "source": [
    "По графику можно заметить, что чем больше общая площадь квартиры, тем цена становится выше. Об этом свидетельствует и положительный коэффициент корреляции пирсона. Следовательно, можно сделать вывод, что рост общей площади квартиры будет сопровождаться ростом ее стоимости."
   ]
  },
  {
   "cell_type": "code",
   "execution_count": 115,
   "metadata": {},
   "outputs": [
    {
     "data": {
      "text/plain": [
       "0.38298952376459733"
      ]
     },
     "execution_count": 115,
     "metadata": {},
     "output_type": "execute_result"
    },
    {
     "data": {
      "image/png": "[encoded data removed]",
      "text/plain": [
       "<Figure size 576x360 with 1 Axes>"
      ]
     },
     "metadata": {
      "needs_background": "light"
     },
     "output_type": "display_data"
    }
   ],
   "source": [
    "#зависимость цены last_price от жилой площади living_area\n",
    "data.pivot_table(index = 'living_area', values = 'last_price').plot(figsize = (8, 5), grid = True)\n",
    "#посчитаем коэффициент корреляции пирсона\n",
    "data['living_area'].corr(data['last_price'])"
   ]
  },
  {
   "cell_type": "markdown",
   "metadata": {},
   "source": [
    "По графику можно заметить, что чем больше жилая площадь квартиры, тем цена становится понемногу выше. Об этом свидетельствует и положительный коэффициент корреляции пирсона. Следовательно, можно сделать вывод, что рост жилой площади квартиры будет сопровождаться ростом ее стоимости."
   ]
  },
  {
   "cell_type": "code",
   "execution_count": 116,
   "metadata": {},
   "outputs": [
    {
     "name": "stdout",
     "output_type": "stream",
     "text": [
      "<class 'pandas.core.frame.DataFrame'>\n",
      "RangeIndex: 23650 entries, 0 to 23649\n",
      "Data columns (total 29 columns):\n",
      " #   Column                  Non-Null Count  Dtype         \n",
      "---  ------                  --------------  -----         \n",
      " 0   total_images            23650 non-null  int64         \n",
      " 1   last_price              23650 non-null  float64       \n",
      " 2   total_area              23650 non-null  float64       \n",
      " 3   first_day_exposition    23650 non-null  datetime64[ns]\n",
      " 4   rooms                   23650 non-null  int64         \n",
      " 5   ceiling_height          23650 non-null  float64       \n",
      " 6   floors_total            23565 non-null  Int64         \n",
      " 7   living_area             21752 non-null  float64       \n",
      " 8   floor                   23650 non-null  int64         \n",
      " 9   is_apartment            23650 non-null  bool          \n",
      " 10  studio                  23650 non-null  bool          \n",
      " 11  open_plan               23650 non-null  bool          \n",
      " 12  kitchen_area            21381 non-null  float64       \n",
      " 13  balcony                 23650 non-null  Int64         \n",
      " 14  locality_name           23650 non-null  object        \n",
      " 15  airports_nearest        18116 non-null  float64       \n",
      " 16  cityCenters_nearest     18139 non-null  float64       \n",
      " 17  parks_around3000        23650 non-null  Int64         \n",
      " 18  parks_nearest           8064 non-null   float64       \n",
      " 19  ponds_around3000        23650 non-null  Int64         \n",
      " 20  ponds_nearest           9085 non-null   float64       \n",
      " 21  days_exposition         20470 non-null  Int64         \n",
      " 22  one_meter_price         23650 non-null  float64       \n",
      " 23  day_exposition          23650 non-null  int64         \n",
      " 24  month_exposition        23650 non-null  int64         \n",
      " 25  year_exposition         23650 non-null  int64         \n",
      " 26  floor_type              23568 non-null  object        \n",
      " 27  cityCenters_nearest_km  18139 non-null  float64       \n",
      " 28  sell_speed              20470 non-null  object        \n",
      "dtypes: Int64(5), bool(3), datetime64[ns](1), float64(11), int64(6), object(3)\n",
      "memory usage: 4.9+ MB\n",
      "None\n"
     ]
    },
    {
     "data": {
      "text/plain": [
       "0.42451646165570267"
      ]
     },
     "execution_count": 116,
     "metadata": {},
     "output_type": "execute_result"
    },
    {
     "data": {
      "image/png": "[encoded data removed]",
      "text/plain": [
       "<Figure size 576x360 with 1 Axes>"
      ]
     },
     "metadata": {
      "needs_background": "light"
     },
     "output_type": "display_data"
    }
   ],
   "source": [
    "#зависимость цены last_price от площади кухни kitchen_area\n",
    "print(data.info())\n",
    "data.pivot_table(index = 'kitchen_area', values = 'last_price').plot(figsize = (8, 5), grid = True)\n",
    "#посчитаем коэффициент корреляции пирсона\n",
    "data['kitchen_area'].corr(data['last_price'])"
   ]
  },
  {
   "cell_type": "markdown",
   "metadata": {},
   "source": [
    "По графику можно заметить, что чем площадь кухни в квартире, тем цена становится понемногу выше. Об этом свидетельствует и положительный коэффициент корреляции пирсона. Следовательно, можно сделать вывод, что рост площади кухни в квартире будет сопровождаться ростом ее стоимости."
   ]
  },
  {
   "cell_type": "code",
   "execution_count": 55,
   "metadata": {},
   "outputs": [
    {
     "data": {
      "text/plain": [
       "0.36342062218770704"
      ]
     },
     "execution_count": 55,
     "metadata": {},
     "output_type": "execute_result"
    },
    {
     "data": {
      "image/png": "[encoded data removed]",
      "text/plain": [
       "<Figure size 576x360 with 1 Axes>"
      ]
     },
     "metadata": {
      "needs_background": "light"
     },
     "output_type": "display_data"
    }
   ],
   "source": [
    "#зависимость цены last price от количесвта комнат в квартире rooms\n",
    "data.pivot_table(index = 'rooms', values = 'last_price').plot(figsize = (8, 5), grid = True)\n",
    "#посчитаем коэффициент корреляции пирсона\n",
    "data['rooms'].corr(data['last_price'])"
   ]
  },
  {
   "cell_type": "markdown",
   "metadata": {},
   "source": [
    "Положительный коэффициент корреляции пирсона свидетельствует о том, что чем больше в квартире комнат, тем цена будет выше."
   ]
  },
  {
   "cell_type": "code",
   "execution_count": 56,
   "metadata": {},
   "outputs": [
    {
     "data": {
      "text/plain": [
       "<AxesSubplot:xlabel='floor_type'>"
      ]
     },
     "execution_count": 56,
     "metadata": {},
     "output_type": "execute_result"
    },
    {
     "data": {
      "image/png": "[encoded data removed]",
      "text/plain": [
       "<Figure size 576x360 with 1 Axes>"
      ]
     },
     "metadata": {
      "needs_background": "light"
     },
     "output_type": "display_data"
    }
   ],
   "source": [
    "#зависимость цены last_price от типа этажа, на котором расположена квартира floor_type\n",
    "data.pivot_table(index = 'floor_type', values = 'last_price').plot(figsize = (8, 5), grid = True)"
   ]
  },
  {
   "cell_type": "markdown",
   "metadata": {},
   "source": [
    "По графику можно заметить и сделать вывод, что чем выше этаж квартиры, тем цена выше."
   ]
  },
  {
   "cell_type": "code",
   "execution_count": 57,
   "metadata": {},
   "outputs": [
    {
     "data": {
      "text/plain": [
       "<AxesSubplot:xlabel='first_day_exposition'>"
      ]
     },
     "execution_count": 57,
     "metadata": {},
     "output_type": "execute_result"
    },
    {
     "data": {
      "image/png": "[encoded data removed]",
      "text/plain": [
       "<Figure size 576x360 with 1 Axes>"
      ]
     },
     "metadata": {
      "needs_background": "light"
     },
     "output_type": "display_data"
    }
   ],
   "source": [
    "#зависимость цены last_price от даты размещения first_day_exposition\n",
    "data.pivot_table(index = 'first_day_exposition', values = 'last_price').plot(figsize = (8, 5), grid = True)"
   ]
  },
  {
   "cell_type": "markdown",
   "metadata": {},
   "source": [
    "По графику не заметно влияния даты размещения объявления на цену квартиры."
   ]
  },
  {
   "cell_type": "markdown",
   "metadata": {},
   "source": [
    "Итак, полученнные нами зависимости цены от:\n",
    "- общей площади - 0.425\n",
    "- жилой площади - 0.38\n",
    "- площади кухни - 0.424\n",
    "- количество комнат - 0.363\n",
    "\n",
    "Можно сделать вывод, что наибольшее влияние на цену квартиры влияет ее общая площадь, а наименьшее - площадь кухни. Также высокие этажи наиболее дорогие, а вот дата размещения объявления ни на что не влияет."
   ]
  },
  {
   "cell_type": "markdown",
   "metadata": {},
   "source": [
    "в) Выполняем задание: \"Посчитайте среднюю цену одного квадратного метра в 10 населённых пунктах с наибольшим числом объявлений. Выделите населённые пункты с самой высокой и низкой стоимостью квадратного метра. Эти данные можно найти по имени в столбце locality_name.\""
   ]
  },
  {
   "cell_type": "code",
   "execution_count": 58,
   "metadata": {},
   "outputs": [
    {
     "data": {
      "text/plain": [
       "locality_name\n",
       "Санкт-Петербург      15721\n",
       "поселок Мурино         556\n",
       "поселок Шушары         440\n",
       "Всеволожск             398\n",
       "Пушкин                 369\n",
       "Колпино                338\n",
       "поселок Парголово      327\n",
       "Гатчина                307\n",
       "деревня Кудрово        299\n",
       "Выборг                 237\n",
       "dtype: int64"
      ]
     },
     "execution_count": 58,
     "metadata": {},
     "output_type": "execute_result"
    }
   ],
   "source": [
    "#10 населённых пунктов с наибольшим числом объявлений\n",
    "data.value_counts('locality_name').head(10)"
   ]
  },
  {
   "cell_type": "code",
   "execution_count": 59,
   "metadata": {},
   "outputs": [
    {
     "data": {
      "text/html": [
       "<div>\n",
       "<style scoped>\n",
       "    .dataframe tbody tr th:only-of-type {\n",
       "        vertical-align: middle;\n",
       "    }\n",
       "\n",
       "    .dataframe tbody tr th {\n",
       "        vertical-align: top;\n",
       "    }\n",
       "\n",
       "    .dataframe thead tr th {\n",
       "        text-align: left;\n",
       "    }\n",
       "\n",
       "    .dataframe thead tr:last-of-type th {\n",
       "        text-align: right;\n",
       "    }\n",
       "</style>\n",
       "<table border=\"1\" class=\"dataframe\">\n",
       "  <thead>\n",
       "    <tr>\n",
       "      <th></th>\n",
       "      <th>count</th>\n",
       "      <th>mean</th>\n",
       "    </tr>\n",
       "    <tr>\n",
       "      <th></th>\n",
       "      <th>one_meter_price</th>\n",
       "      <th>one_meter_price</th>\n",
       "    </tr>\n",
       "    <tr>\n",
       "      <th>locality_name</th>\n",
       "      <th></th>\n",
       "      <th></th>\n",
       "    </tr>\n",
       "  </thead>\n",
       "  <tbody>\n",
       "    <tr>\n",
       "      <th>Санкт-Петербург</th>\n",
       "      <td>15721</td>\n",
       "      <td>124018.268317</td>\n",
       "    </tr>\n",
       "    <tr>\n",
       "      <th>поселок Мурино</th>\n",
       "      <td>556</td>\n",
       "      <td>85681.762601</td>\n",
       "    </tr>\n",
       "    <tr>\n",
       "      <th>поселок Шушары</th>\n",
       "      <td>440</td>\n",
       "      <td>78677.364217</td>\n",
       "    </tr>\n",
       "    <tr>\n",
       "      <th>Всеволожск</th>\n",
       "      <td>398</td>\n",
       "      <td>68654.473986</td>\n",
       "    </tr>\n",
       "    <tr>\n",
       "      <th>Пушкин</th>\n",
       "      <td>369</td>\n",
       "      <td>106584.801682</td>\n",
       "    </tr>\n",
       "    <tr>\n",
       "      <th>Колпино</th>\n",
       "      <td>338</td>\n",
       "      <td>77209.870028</td>\n",
       "    </tr>\n",
       "    <tr>\n",
       "      <th>поселок Парголово</th>\n",
       "      <td>327</td>\n",
       "      <td>90175.913458</td>\n",
       "    </tr>\n",
       "    <tr>\n",
       "      <th>Гатчина</th>\n",
       "      <td>307</td>\n",
       "      <td>68746.146763</td>\n",
       "    </tr>\n",
       "    <tr>\n",
       "      <th>деревня Кудрово</th>\n",
       "      <td>299</td>\n",
       "      <td>92473.547576</td>\n",
       "    </tr>\n",
       "    <tr>\n",
       "      <th>Выборг</th>\n",
       "      <td>237</td>\n",
       "      <td>58141.909153</td>\n",
       "    </tr>\n",
       "  </tbody>\n",
       "</table>\n",
       "</div>"
      ],
      "text/plain": [
       "                            count            mean\n",
       "                  one_meter_price one_meter_price\n",
       "locality_name                                    \n",
       "Санкт-Петербург             15721   124018.268317\n",
       "поселок Мурино                556    85681.762601\n",
       "поселок Шушары                440    78677.364217\n",
       "Всеволожск                    398    68654.473986\n",
       "Пушкин                        369   106584.801682\n",
       "Колпино                       338    77209.870028\n",
       "поселок Парголово             327    90175.913458\n",
       "Гатчина                       307    68746.146763\n",
       "деревня Кудрово               299    92473.547576\n",
       "Выборг                        237    58141.909153"
      ]
     },
     "execution_count": 59,
     "metadata": {},
     "output_type": "execute_result"
    }
   ],
   "source": [
    "#создаем сводную таблицу по locality_name и ранее подсчитанному столбцу one_meter_price, сортируя по убыванию и выводим топ-10\n",
    "meter_price_top = data.pivot_table(index = 'locality_name', values = 'one_meter_price', aggfunc = ['count', 'mean']).sort_values(by = ('count', 'one_meter_price'), ascending = False)\n",
    "meter_price_top.head(10)"
   ]
  },
  {
   "cell_type": "markdown",
   "metadata": {},
   "source": [
    "Делаем вывод, что с самой высокой ценой одного квадратного метра из 10 населённых пунктов с наибольшим числом объявлений является Санкт-Петербург, а с самой низкой стоимостью квадратного метра - Выборг"
   ]
  },
  {
   "cell_type": "markdown",
   "metadata": {},
   "source": [
    "г) Выполняем задание: \"Ранее вы посчитали расстояние до центра в километрах. Теперь выделите квартиры в Санкт-Петербурге с помощью столбца `locality_name` и вычислите среднюю цену каждого километра. Опишите, как стоимость объектов зависит от расстояния до центра города.\""
   ]
  },
  {
   "cell_type": "code",
   "execution_count": 60,
   "metadata": {},
   "outputs": [
    {
     "data": {
      "text/plain": [
       "1519442.2231346935"
      ]
     },
     "execution_count": 60,
     "metadata": {},
     "output_type": "execute_result"
    }
   ],
   "source": [
    "#создадим новый столбец в датафрейме, чтобы вычислить цену км до центра\n",
    "data['cityCenters_km_price'] = data['last_price'] / data['cityCenters_nearest_km']\n",
    "#высчитываем среднее значение\n",
    "km_price_spb = data.query('locality_name == \"Санкт-Петербург\" and (cityCenters_nearest_km != 0)')\n",
    "km_price_spb['cityCenters_km_price'].mean()"
   ]
  },
  {
   "cell_type": "code",
   "execution_count": 61,
   "metadata": {
    "scrolled": true
   },
   "outputs": [
    {
     "data": {
      "text/plain": [
       "-0.20688702501498762"
      ]
     },
     "execution_count": 61,
     "metadata": {},
     "output_type": "execute_result"
    },
    {
     "data": {
      "image/png": "[encoded data removed]",
      "text/plain": [
       "<Figure size 576x360 with 1 Axes>"
      ]
     },
     "metadata": {
      "needs_background": "light"
     },
     "output_type": "display_data"
    }
   ],
   "source": [
    "#строим график и считаем коэффициент пирсона для выявления зависимости\n",
    "data.pivot_table(index = 'cityCenters_nearest_km', values = 'last_price').plot(figsize = (8, 5), grid = True)\n",
    "data['cityCenters_nearest_km'].corr(data['last_price'])"
   ]
  },
  {
   "cell_type": "markdown",
   "metadata": {},
   "source": [
    "Цена 1 км в среднем стоит до центра стоит около 1.5 млн По графику и по коэфициенту пирсона заметно, что чем ближе к центру, тем цена за квартиру выше и чем дальше, тем цена ниже. "
   ]
  },
  {
   "cell_type": "markdown",
   "metadata": {},
   "source": [
    "### Общий вывод"
   ]
  },
  {
   "cell_type": "markdown",
   "metadata": {},
   "source": [
    "В ходе проведенной работы с данными была определены пропущенные значения, заполнены пропущенные значения, где это возможно и необходимо, изменены типы данных для более удобной работы, устранены неявные дубликаты в названиях населенных пунктов, устранены редкие и выбивающиеся значения в столбцах. Также посчитали и добавили в таблицу цену квадратного метра жилья, вывели из даты дни недели, месяцы и года размещения объявлений, добавили категории по этажам квартир и подсчитали расстояние в км до центра города. \n",
    "Мы выявили, что в большинстве квартиры располагающиеся на 2 - 8 этажах в 5 - 16 этажных домах и имеют общую площадь 40 - 69 кв метров, где жилая площадь составляет 19 - 42 кв метров, имеют 1 - 3 комнаты, а площадь кухни 7 - 12 кв метров. Средняя высота потолков 2.6 - 2.7 метров. В основном квартиры имеют цену в диапазоне 3.4 - 6.7 млн и располагаются в 9241 - 16293 метрах от центра города, в 18575.75 - 37294 метрах от аэропорта, в 288 - 612 метрах от парка. Продаются квартиры в период от 45 до 231 дней. Наиболее часто бъявления выставляются в  конце зимы - начало весны (февраль - март), а вот конец весны (май) является самым непопулярным месяцем для публикации объявлений. Можно также утверждать и том, что рост общей площади квартиры, рост жилой площади, рост площади кухни будет сопровождаться ростом стоимости объекта. А также чем больше в квартире комнат, чем выше этаж квартиры,чем ближа она к центру, тем цена будет выше. Нибольшее влияние на цену квартиры влияет ее общая площадь, а наименьшее - площадь кухни. Также высокие этажи наиболее дорогие, а вот дата размещения объявления ни на что не влияет. Самой высокой ценой одного квадратного метра из 10 населённых пунктов с наибольшим числом объявлений является Санкт-Петербург, а с самой низкой стоимостью квадратного метра - Выборг."
   ]
  },

  {
   "cell_type": "code",
   "execution_count": null,
   "metadata": {},
   "outputs": [],
   "source": []
  }
 ],
 "metadata": {
  "ExecuteTimeLog": [
   {
    "duration": 749,
    "start_time": "2023-02-20T17:31:53.772Z"
   },
   {
    "duration": 115,
    "start_time": "2023-02-20T17:33:11.596Z"
   },
   {
    "duration": 137,
    "start_time": "2023-02-20T17:33:22.055Z"
   },
   {
    "duration": 122,
    "start_time": "2023-02-20T18:51:28.951Z"
   },
   {
    "duration": 157,
    "start_time": "2023-02-20T18:52:48.592Z"
   },
   {
    "duration": 2846,
    "start_time": "2023-02-23T16:58:53.851Z"
   },
   {
    "duration": 28,
    "start_time": "2023-02-23T17:00:27.657Z"
   },
   {
    "duration": 10,
    "start_time": "2023-02-23T17:00:53.883Z"
   },
   {
    "duration": 14,
    "start_time": "2023-02-23T17:05:00.510Z"
   },
   {
    "duration": 15,
    "start_time": "2023-02-23T17:05:39.325Z"
   },
   {
    "duration": 103,
    "start_time": "2023-02-23T17:07:33.590Z"
   },
   {
    "duration": 13,
    "start_time": "2023-02-23T17:08:24.006Z"
   },
   {
    "duration": 11,
    "start_time": "2023-02-23T17:11:08.695Z"
   },
   {
    "duration": 73,
    "start_time": "2023-02-23T17:18:52.401Z"
   },
   {
    "duration": 1651,
    "start_time": "2023-02-23T17:18:59.730Z"
   },
   {
    "duration": 1760,
    "start_time": "2023-02-23T17:19:40.334Z"
   },
   {
    "duration": 64,
    "start_time": "2023-02-23T17:20:50.334Z"
   },
   {
    "duration": 1569,
    "start_time": "2023-02-23T17:21:03.211Z"
   },
   {
    "duration": 1695,
    "start_time": "2023-02-23T17:21:40.845Z"
   },
   {
    "duration": 1764,
    "start_time": "2023-02-23T17:21:53.618Z"
   },
   {
    "duration": 1712,
    "start_time": "2023-02-23T17:22:57.095Z"
   },
   {
    "duration": 12,
    "start_time": "2023-02-23T17:27:13.280Z"
   },
   {
    "duration": 100,
    "start_time": "2023-02-23T17:27:30.476Z"
   },
   {
    "duration": 13,
    "start_time": "2023-02-23T17:27:32.798Z"
   },
   {
    "duration": 21,
    "start_time": "2023-02-23T17:28:12.768Z"
   },
   {
    "duration": 1095,
    "start_time": "2023-02-23T17:37:49.357Z"
   },
   {
    "duration": 1970,
    "start_time": "2023-02-23T17:37:57.920Z"
   },
   {
    "duration": 216,
    "start_time": "2023-02-23T17:43:14.726Z"
   },
   {
    "duration": 1925,
    "start_time": "2023-02-23T17:43:32.180Z"
   },
   {
    "duration": 11,
    "start_time": "2023-02-23T17:53:31.185Z"
   },
   {
    "duration": 20,
    "start_time": "2023-02-23T17:56:30.759Z"
   },
   {
    "duration": 8,
    "start_time": "2023-02-23T18:04:32.128Z"
   },
   {
    "duration": 23,
    "start_time": "2023-02-23T18:04:45.053Z"
   },
   {
    "duration": 30,
    "start_time": "2023-02-23T18:06:16.206Z"
   },
   {
    "duration": 158,
    "start_time": "2023-02-23T18:06:38.618Z"
   },
   {
    "duration": 30,
    "start_time": "2023-02-23T18:06:45.285Z"
   },
   {
    "duration": 29,
    "start_time": "2023-02-23T18:08:29.787Z"
   },
   {
    "duration": 21,
    "start_time": "2023-02-23T18:11:03.237Z"
   },
   {
    "duration": 35,
    "start_time": "2023-02-23T18:11:13.140Z"
   },
   {
    "duration": 20,
    "start_time": "2023-02-23T18:12:11.698Z"
   },
   {
    "duration": 23,
    "start_time": "2023-02-23T18:12:23.655Z"
   },
   {
    "duration": 22,
    "start_time": "2023-02-23T18:13:01.336Z"
   },
   {
    "duration": 20,
    "start_time": "2023-02-23T18:13:14.272Z"
   },
   {
    "duration": 23,
    "start_time": "2023-02-23T18:13:55.115Z"
   },
   {
    "duration": 22,
    "start_time": "2023-02-23T18:14:06.279Z"
   },
   {
    "duration": 21,
    "start_time": "2023-02-23T18:14:10.884Z"
   },
   {
    "duration": 23,
    "start_time": "2023-02-23T18:14:16.453Z"
   },
   {
    "duration": 20,
    "start_time": "2023-02-23T18:14:47.997Z"
   },
   {
    "duration": 112,
    "start_time": "2023-02-23T18:15:10.988Z"
   },
   {
    "duration": 132,
    "start_time": "2023-02-23T18:16:26.675Z"
   },
   {
    "duration": 96,
    "start_time": "2023-02-23T18:16:43.199Z"
   },
   {
    "duration": 28,
    "start_time": "2023-02-23T18:18:06.481Z"
   },
   {
    "duration": 16,
    "start_time": "2023-02-23T18:18:25.404Z"
   },
   {
    "duration": 25,
    "start_time": "2023-02-23T18:18:49.264Z"
   },
   {
    "duration": 15,
    "start_time": "2023-02-23T18:19:06.061Z"
   },
   {
    "duration": 80,
    "start_time": "2023-02-23T18:19:50.981Z"
   },
   {
    "duration": 97,
    "start_time": "2023-02-23T18:20:11.380Z"
   },
   {
    "duration": 27,
    "start_time": "2023-02-23T18:20:32.689Z"
   },
   {
    "duration": 24,
    "start_time": "2023-02-23T18:21:37.925Z"
   },
   {
    "duration": 16,
    "start_time": "2023-02-23T18:24:35.649Z"
   },
   {
    "duration": 22,
    "start_time": "2023-02-23T18:25:15.458Z"
   },
   {
    "duration": 17,
    "start_time": "2023-02-23T18:25:28.452Z"
   },
   {
    "duration": 21,
    "start_time": "2023-02-23T18:25:32.948Z"
   },
   {
    "duration": 102,
    "start_time": "2023-02-23T18:25:43.626Z"
   },
   {
    "duration": 12,
    "start_time": "2023-02-23T18:25:43.730Z"
   },
   {
    "duration": 1978,
    "start_time": "2023-02-23T18:25:43.744Z"
   },
   {
    "duration": 21,
    "start_time": "2023-02-23T18:25:45.724Z"
   },
   {
    "duration": 8,
    "start_time": "2023-02-23T18:25:45.746Z"
   },
   {
    "duration": 12,
    "start_time": "2023-02-23T18:25:45.755Z"
   },
   {
    "duration": 15,
    "start_time": "2023-02-23T18:25:45.811Z"
   },
   {
    "duration": 16,
    "start_time": "2023-02-23T18:26:39.498Z"
   },
   {
    "duration": 112,
    "start_time": "2023-02-24T17:23:05.388Z"
   },
   {
    "duration": 15,
    "start_time": "2023-02-24T17:23:05.502Z"
   },
   {
    "duration": 2293,
    "start_time": "2023-02-24T17:23:05.519Z"
   },
   {
    "duration": 39,
    "start_time": "2023-02-24T17:23:07.815Z"
   },
   {
    "duration": 11,
    "start_time": "2023-02-24T17:23:07.856Z"
   },
   {
    "duration": 25,
    "start_time": "2023-02-24T17:23:07.869Z"
   },
   {
    "duration": 19,
    "start_time": "2023-02-24T17:23:21.261Z"
   },
   {
    "duration": 28,
    "start_time": "2023-02-24T17:23:26.869Z"
   },
   {
    "duration": 18,
    "start_time": "2023-02-24T17:23:34.637Z"
   },
   {
    "duration": 25,
    "start_time": "2023-02-24T17:23:41.834Z"
   },
   {
    "duration": 120,
    "start_time": "2023-02-24T17:23:46.707Z"
   },
   {
    "duration": 33,
    "start_time": "2023-02-24T17:23:46.830Z"
   },
   {
    "duration": 2321,
    "start_time": "2023-02-24T17:23:46.865Z"
   },
   {
    "duration": 33,
    "start_time": "2023-02-24T17:23:49.189Z"
   },
   {
    "duration": 16,
    "start_time": "2023-02-24T17:23:49.239Z"
   },
   {
    "duration": 30,
    "start_time": "2023-02-24T17:23:49.257Z"
   },
   {
    "duration": 59,
    "start_time": "2023-02-24T17:23:49.289Z"
   },
   {
    "duration": 18,
    "start_time": "2023-02-24T17:24:00.261Z"
   },
   {
    "duration": 41,
    "start_time": "2023-02-24T17:24:32.222Z"
   },
   {
    "duration": 115,
    "start_time": "2023-02-24T17:24:41.177Z"
   },
   {
    "duration": 31,
    "start_time": "2023-02-24T17:24:45.157Z"
   },
   {
    "duration": 39,
    "start_time": "2023-02-24T17:24:48.979Z"
   },
   {
    "duration": 358,
    "start_time": "2023-02-24T17:24:59.990Z"
   },
   {
    "duration": 57,
    "start_time": "2023-02-24T17:25:18.227Z"
   },
   {
    "duration": 23,
    "start_time": "2023-02-24T17:29:23.283Z"
   },
   {
    "duration": 158,
    "start_time": "2023-02-24T17:30:26.056Z"
   },
   {
    "duration": 129,
    "start_time": "2023-02-24T17:30:42.861Z"
   },
   {
    "duration": 133,
    "start_time": "2023-02-24T17:30:59.096Z"
   },
   {
    "duration": 29,
    "start_time": "2023-02-24T17:31:15.815Z"
   },
   {
    "duration": 36,
    "start_time": "2023-02-24T17:34:22.673Z"
   },
   {
    "duration": 28,
    "start_time": "2023-02-24T17:34:58.069Z"
   },
   {
    "duration": 16,
    "start_time": "2023-02-24T17:37:32.715Z"
   },
   {
    "duration": 1397,
    "start_time": "2023-02-24T17:38:33.837Z"
   },
   {
    "duration": 6,
    "start_time": "2023-02-24T17:38:55.887Z"
   },
   {
    "duration": 25,
    "start_time": "2023-02-24T17:39:40.065Z"
   },
   {
    "duration": 6,
    "start_time": "2023-02-24T17:41:10.507Z"
   },
   {
    "duration": 6,
    "start_time": "2023-02-24T17:43:05.687Z"
   },
   {
    "duration": 14,
    "start_time": "2023-02-24T17:43:13.167Z"
   },
   {
    "duration": 13,
    "start_time": "2023-02-24T17:43:23.908Z"
   },
   {
    "duration": 23,
    "start_time": "2023-02-24T17:43:29.658Z"
   },
   {
    "duration": 15,
    "start_time": "2023-02-24T17:43:33.431Z"
   },
   {
    "duration": 8,
    "start_time": "2023-02-24T17:43:36.431Z"
   },
   {
    "duration": 7,
    "start_time": "2023-02-24T17:43:43.490Z"
   },
   {
    "duration": 8,
    "start_time": "2023-02-24T17:43:47.295Z"
   },
   {
    "duration": 119,
    "start_time": "2023-02-24T17:43:55.298Z"
   },
   {
    "duration": 15,
    "start_time": "2023-02-24T17:43:55.419Z"
   },
   {
    "duration": 2398,
    "start_time": "2023-02-24T17:43:55.444Z"
   },
   {
    "duration": 31,
    "start_time": "2023-02-24T17:43:57.851Z"
   },
   {
    "duration": 11,
    "start_time": "2023-02-24T17:43:57.883Z"
   },
   {
    "duration": 17,
    "start_time": "2023-02-24T17:43:57.896Z"
   },
   {
    "duration": 60,
    "start_time": "2023-02-24T17:43:57.916Z"
   },
   {
    "duration": 6,
    "start_time": "2023-02-24T17:43:57.978Z"
   },
   {
    "duration": 11,
    "start_time": "2023-02-24T17:43:57.986Z"
   },
   {
    "duration": 15,
    "start_time": "2023-02-24T17:45:35.460Z"
   },
   {
    "duration": 89,
    "start_time": "2023-02-24T17:47:27.779Z"
   },
   {
    "duration": 27,
    "start_time": "2023-02-24T17:47:33.412Z"
   },
   {
    "duration": 143,
    "start_time": "2023-02-24T17:47:43.798Z"
   },
   {
    "duration": 25,
    "start_time": "2023-02-24T17:47:43.943Z"
   },
   {
    "duration": 2478,
    "start_time": "2023-02-24T17:47:43.971Z"
   },
   {
    "duration": 34,
    "start_time": "2023-02-24T17:47:46.457Z"
   },
   {
    "duration": 14,
    "start_time": "2023-02-24T17:47:46.495Z"
   },
   {
    "duration": 40,
    "start_time": "2023-02-24T17:47:46.511Z"
   },
   {
    "duration": 7,
    "start_time": "2023-02-24T17:47:46.558Z"
   },
   {
    "duration": 16,
    "start_time": "2023-02-24T17:47:46.566Z"
   },
   {
    "duration": 29,
    "start_time": "2023-02-24T17:47:52.106Z"
   },
   {
    "duration": 20,
    "start_time": "2023-02-24T17:48:01.053Z"
   },
   {
    "duration": 131,
    "start_time": "2023-02-24T17:48:09.929Z"
   },
   {
    "duration": 14,
    "start_time": "2023-02-24T17:48:10.062Z"
   },
   {
    "duration": 2288,
    "start_time": "2023-02-24T17:48:10.078Z"
   },
   {
    "duration": 25,
    "start_time": "2023-02-24T17:48:12.368Z"
   },
   {
    "duration": 10,
    "start_time": "2023-02-24T17:48:12.395Z"
   },
   {
    "duration": 45,
    "start_time": "2023-02-24T17:48:12.406Z"
   },
   {
    "duration": 14,
    "start_time": "2023-02-24T17:48:12.453Z"
   },
   {
    "duration": 19,
    "start_time": "2023-02-24T17:48:12.469Z"
   },
   {
    "duration": 21,
    "start_time": "2023-02-24T17:48:12.490Z"
   },
   {
    "duration": 37,
    "start_time": "2023-02-24T17:48:22.709Z"
   },
   {
    "duration": 10,
    "start_time": "2023-02-24T18:38:09.193Z"
   },
   {
    "duration": 9,
    "start_time": "2023-02-24T18:38:21.164Z"
   },
   {
    "duration": 81,
    "start_time": "2023-02-24T18:43:57.110Z"
   },
   {
    "duration": 3,
    "start_time": "2023-02-24T18:44:30.888Z"
   },
   {
    "duration": 8,
    "start_time": "2023-02-24T18:45:08.562Z"
   },
   {
    "duration": 6,
    "start_time": "2023-02-24T18:49:53.861Z"
   },
   {
    "duration": 13,
    "start_time": "2023-02-24T18:50:07.398Z"
   },
   {
    "duration": 10,
    "start_time": "2023-02-24T18:50:24.758Z"
   },
   {
    "duration": 16,
    "start_time": "2023-02-24T18:55:23.634Z"
   },
   {
    "duration": 12,
    "start_time": "2023-02-24T18:57:25.561Z"
   },
   {
    "duration": 16,
    "start_time": "2023-02-24T18:58:50.236Z"
   },
   {
    "duration": 93,
    "start_time": "2023-02-24T18:59:58.498Z"
   },
   {
    "duration": 15,
    "start_time": "2023-02-24T19:06:39.086Z"
   },
   {
    "duration": 309,
    "start_time": "2023-02-24T19:07:01.871Z"
   },
   {
    "duration": 241,
    "start_time": "2023-02-24T19:07:14.723Z"
   },
   {
    "duration": 14,
    "start_time": "2023-02-24T19:12:41.488Z"
   },
   {
    "duration": 2331,
    "start_time": "2023-02-24T19:12:41.786Z"
   },
   {
    "duration": 35,
    "start_time": "2023-02-24T19:12:46.742Z"
   },
   {
    "duration": 10,
    "start_time": "2023-02-24T19:12:46.855Z"
   },
   {
    "duration": 16,
    "start_time": "2023-02-24T19:12:46.910Z"
   },
   {
    "duration": 6,
    "start_time": "2023-02-24T19:12:46.975Z"
   },
   {
    "duration": 26,
    "start_time": "2023-02-24T19:12:47.153Z"
   },
   {
    "duration": 34,
    "start_time": "2023-02-24T19:12:47.224Z"
   },
   {
    "duration": 0,
    "start_time": "2023-02-24T19:12:50.087Z"
   },
   {
    "duration": 0,
    "start_time": "2023-02-24T19:12:50.092Z"
   },
   {
    "duration": 0,
    "start_time": "2023-02-24T19:12:50.096Z"
   },
   {
    "duration": 0,
    "start_time": "2023-02-24T19:12:50.150Z"
   },
   {
    "duration": 0,
    "start_time": "2023-02-24T19:12:50.158Z"
   },
   {
    "duration": 0,
    "start_time": "2023-02-24T19:12:50.160Z"
   },
   {
    "duration": 115,
    "start_time": "2023-02-24T19:12:50.277Z"
   },
   {
    "duration": 123,
    "start_time": "2023-02-24T19:12:57.359Z"
   },
   {
    "duration": 17,
    "start_time": "2023-02-24T19:12:57.485Z"
   },
   {
    "duration": 2622,
    "start_time": "2023-02-24T19:12:57.504Z"
   },
   {
    "duration": 38,
    "start_time": "2023-02-24T19:13:00.128Z"
   },
   {
    "duration": 10,
    "start_time": "2023-02-24T19:13:00.168Z"
   },
   {
    "duration": 17,
    "start_time": "2023-02-24T19:13:00.180Z"
   },
   {
    "duration": 25,
    "start_time": "2023-02-24T19:13:00.199Z"
   },
   {
    "duration": 36,
    "start_time": "2023-02-24T19:13:00.226Z"
   },
   {
    "duration": 35,
    "start_time": "2023-02-24T19:13:00.264Z"
   },
   {
    "duration": 28,
    "start_time": "2023-02-24T19:13:00.301Z"
   },
   {
    "duration": 27,
    "start_time": "2023-02-24T19:13:00.331Z"
   },
   {
    "duration": 46,
    "start_time": "2023-02-24T19:13:00.360Z"
   },
   {
    "duration": 17,
    "start_time": "2023-02-24T19:13:00.409Z"
   },
   {
    "duration": 15,
    "start_time": "2023-02-24T19:13:05.162Z"
   },
   {
    "duration": 11,
    "start_time": "2023-02-24T19:13:29.652Z"
   },
   {
    "duration": 9,
    "start_time": "2023-02-24T19:13:43.280Z"
   },
   {
    "duration": 8,
    "start_time": "2023-02-24T19:14:17.277Z"
   },
   {
    "duration": 14,
    "start_time": "2023-02-24T19:14:23.817Z"
   },
   {
    "duration": 15,
    "start_time": "2023-02-24T19:15:28.572Z"
   },
   {
    "duration": 19,
    "start_time": "2023-02-24T19:15:58.440Z"
   },
   {
    "duration": 14,
    "start_time": "2023-02-24T19:16:22.281Z"
   },
   {
    "duration": 15,
    "start_time": "2023-02-24T19:16:48.471Z"
   },
   {
    "duration": 18,
    "start_time": "2023-02-24T19:18:18.712Z"
   },
   {
    "duration": 16,
    "start_time": "2023-02-24T19:18:22.825Z"
   },
   {
    "duration": 12,
    "start_time": "2023-02-24T19:18:27.984Z"
   },
   {
    "duration": 20,
    "start_time": "2023-02-24T19:18:29.440Z"
   },
   {
    "duration": 16,
    "start_time": "2023-02-24T19:21:28.605Z"
   },
   {
    "duration": 6,
    "start_time": "2023-02-24T19:21:35.505Z"
   },
   {
    "duration": 6,
    "start_time": "2023-02-24T19:21:40.405Z"
   },
   {
    "duration": 8,
    "start_time": "2023-02-24T19:21:44.076Z"
   },
   {
    "duration": 127,
    "start_time": "2023-02-24T19:22:03.781Z"
   },
   {
    "duration": 18,
    "start_time": "2023-02-24T19:22:03.910Z"
   },
   {
    "duration": 2326,
    "start_time": "2023-02-24T19:22:03.931Z"
   },
   {
    "duration": 25,
    "start_time": "2023-02-24T19:22:06.259Z"
   },
   {
    "duration": 11,
    "start_time": "2023-02-24T19:22:06.286Z"
   },
   {
    "duration": 13,
    "start_time": "2023-02-24T19:22:06.299Z"
   },
   {
    "duration": 12,
    "start_time": "2023-02-24T19:22:06.342Z"
   },
   {
    "duration": 14,
    "start_time": "2023-02-24T19:22:06.358Z"
   },
   {
    "duration": 27,
    "start_time": "2023-02-24T19:22:06.374Z"
   },
   {
    "duration": 11,
    "start_time": "2023-02-24T19:22:09.546Z"
   },
   {
    "duration": 7,
    "start_time": "2023-02-24T19:22:12.260Z"
   },
   {
    "duration": 11,
    "start_time": "2023-02-24T19:22:24.255Z"
   },
   {
    "duration": 10,
    "start_time": "2023-02-24T19:23:13.028Z"
   },
   {
    "duration": 14,
    "start_time": "2023-02-24T19:23:31.108Z"
   },
   {
    "duration": 19,
    "start_time": "2023-02-24T19:24:33.520Z"
   },
   {
    "duration": 13,
    "start_time": "2023-02-24T19:24:42.361Z"
   },
   {
    "duration": 16,
    "start_time": "2023-02-24T19:24:44.777Z"
   },
   {
    "duration": 26,
    "start_time": "2023-02-24T19:25:13.332Z"
   },
   {
    "duration": 13,
    "start_time": "2023-02-24T19:25:47.004Z"
   },
   {
    "duration": 15,
    "start_time": "2023-02-24T19:26:07.965Z"
   },
   {
    "duration": 15,
    "start_time": "2023-02-24T19:26:46.389Z"
   },
   {
    "duration": 16,
    "start_time": "2023-02-24T19:26:50.409Z"
   },
   {
    "duration": 12,
    "start_time": "2023-02-24T19:26:54.594Z"
   },
   {
    "duration": 14,
    "start_time": "2023-02-24T19:26:55.680Z"
   },
   {
    "duration": 129,
    "start_time": "2023-02-24T19:27:07.358Z"
   },
   {
    "duration": 16,
    "start_time": "2023-02-24T19:27:07.490Z"
   },
   {
    "duration": 2706,
    "start_time": "2023-02-24T19:27:07.508Z"
   },
   {
    "duration": 52,
    "start_time": "2023-02-24T19:27:10.217Z"
   },
   {
    "duration": 10,
    "start_time": "2023-02-24T19:27:10.272Z"
   },
   {
    "duration": 12,
    "start_time": "2023-02-24T19:27:10.283Z"
   },
   {
    "duration": 6,
    "start_time": "2023-02-24T19:27:10.296Z"
   },
   {
    "duration": 14,
    "start_time": "2023-02-24T19:27:10.304Z"
   },
   {
    "duration": 54,
    "start_time": "2023-02-24T19:27:10.320Z"
   },
   {
    "duration": 8,
    "start_time": "2023-02-24T19:27:10.376Z"
   },
   {
    "duration": 5,
    "start_time": "2023-02-24T19:27:10.386Z"
   },
   {
    "duration": 11,
    "start_time": "2023-02-24T19:27:10.393Z"
   },
   {
    "duration": 41,
    "start_time": "2023-02-24T19:27:10.405Z"
   },
   {
    "duration": 20,
    "start_time": "2023-02-24T19:27:10.450Z"
   },
   {
    "duration": 14,
    "start_time": "2023-02-24T19:27:34.972Z"
   },
   {
    "duration": 16,
    "start_time": "2023-02-24T19:27:43.165Z"
   },
   {
    "duration": 135,
    "start_time": "2023-02-24T19:27:49.627Z"
   },
   {
    "duration": 19,
    "start_time": "2023-02-24T19:27:49.765Z"
   },
   {
    "duration": 2415,
    "start_time": "2023-02-24T19:27:49.785Z"
   },
   {
    "duration": 23,
    "start_time": "2023-02-24T19:27:52.202Z"
   },
   {
    "duration": 21,
    "start_time": "2023-02-24T19:27:52.247Z"
   },
   {
    "duration": 13,
    "start_time": "2023-02-24T19:27:52.270Z"
   },
   {
    "duration": 5,
    "start_time": "2023-02-24T19:27:52.285Z"
   },
   {
    "duration": 22,
    "start_time": "2023-02-24T19:27:52.292Z"
   },
   {
    "duration": 53,
    "start_time": "2023-02-24T19:27:52.316Z"
   },
   {
    "duration": 201,
    "start_time": "2023-02-24T19:27:52.371Z"
   },
   {
    "duration": 7,
    "start_time": "2023-02-24T19:27:52.574Z"
   },
   {
    "duration": 15,
    "start_time": "2023-02-24T19:27:52.583Z"
   },
   {
    "duration": 10,
    "start_time": "2023-02-24T19:27:52.600Z"
   },
   {
    "duration": 37,
    "start_time": "2023-02-24T19:27:52.612Z"
   },
   {
    "duration": 14,
    "start_time": "2023-02-24T19:28:05.172Z"
   },
   {
    "duration": 13,
    "start_time": "2023-02-24T19:28:07.592Z"
   },
   {
    "duration": 110,
    "start_time": "2023-02-24T19:28:09.587Z"
   },
   {
    "duration": 14,
    "start_time": "2023-02-24T19:28:09.700Z"
   },
   {
    "duration": 2403,
    "start_time": "2023-02-24T19:28:09.715Z"
   },
   {
    "duration": 40,
    "start_time": "2023-02-24T19:28:12.121Z"
   },
   {
    "duration": 12,
    "start_time": "2023-02-24T19:28:12.164Z"
   },
   {
    "duration": 22,
    "start_time": "2023-02-24T19:28:12.178Z"
   },
   {
    "duration": 9,
    "start_time": "2023-02-24T19:28:12.202Z"
   },
   {
    "duration": 31,
    "start_time": "2023-02-24T19:28:12.213Z"
   },
   {
    "duration": 37,
    "start_time": "2023-02-24T19:28:12.246Z"
   },
   {
    "duration": 7,
    "start_time": "2023-02-24T19:28:12.286Z"
   },
   {
    "duration": 6,
    "start_time": "2023-02-24T19:28:12.294Z"
   },
   {
    "duration": 9,
    "start_time": "2023-02-24T19:28:12.302Z"
   },
   {
    "duration": 52,
    "start_time": "2023-02-24T19:28:12.313Z"
   },
   {
    "duration": 14,
    "start_time": "2023-02-24T19:28:12.368Z"
   },
   {
    "duration": 14,
    "start_time": "2023-02-24T19:28:43.020Z"
   },
   {
    "duration": 14,
    "start_time": "2023-02-24T19:28:46.180Z"
   },
   {
    "duration": 10,
    "start_time": "2023-02-24T19:28:54.402Z"
   },
   {
    "duration": 15,
    "start_time": "2023-02-24T19:28:55.696Z"
   },
   {
    "duration": 131,
    "start_time": "2023-02-24T19:28:57.887Z"
   },
   {
    "duration": 27,
    "start_time": "2023-02-24T19:28:58.020Z"
   },
   {
    "duration": 2545,
    "start_time": "2023-02-24T19:28:58.049Z"
   },
   {
    "duration": 23,
    "start_time": "2023-02-24T19:29:00.597Z"
   },
   {
    "duration": 43,
    "start_time": "2023-02-24T19:29:00.622Z"
   },
   {
    "duration": 21,
    "start_time": "2023-02-24T19:29:00.669Z"
   },
   {
    "duration": 5,
    "start_time": "2023-02-24T19:29:00.692Z"
   },
   {
    "duration": 21,
    "start_time": "2023-02-24T19:29:00.699Z"
   },
   {
    "duration": 33,
    "start_time": "2023-02-24T19:29:00.722Z"
   },
   {
    "duration": 24,
    "start_time": "2023-02-24T19:29:00.760Z"
   },
   {
    "duration": 7,
    "start_time": "2023-02-24T19:29:00.785Z"
   },
   {
    "duration": 14,
    "start_time": "2023-02-24T19:29:00.793Z"
   },
   {
    "duration": 64,
    "start_time": "2023-02-24T19:29:00.809Z"
   },
   {
    "duration": 14,
    "start_time": "2023-02-24T19:29:00.875Z"
   },
   {
    "duration": 14,
    "start_time": "2023-02-24T19:29:31.765Z"
   },
   {
    "duration": 143,
    "start_time": "2023-02-24T19:29:35.035Z"
   },
   {
    "duration": 15,
    "start_time": "2023-02-24T19:29:35.180Z"
   },
   {
    "duration": 2529,
    "start_time": "2023-02-24T19:29:35.197Z"
   },
   {
    "duration": 49,
    "start_time": "2023-02-24T19:29:37.728Z"
   },
   {
    "duration": 11,
    "start_time": "2023-02-24T19:29:37.780Z"
   },
   {
    "duration": 13,
    "start_time": "2023-02-24T19:29:37.793Z"
   },
   {
    "duration": 16,
    "start_time": "2023-02-24T19:29:37.808Z"
   },
   {
    "duration": 33,
    "start_time": "2023-02-24T19:29:37.846Z"
   },
   {
    "duration": 29,
    "start_time": "2023-02-24T19:29:37.881Z"
   },
   {
    "duration": 9,
    "start_time": "2023-02-24T19:29:37.912Z"
   },
   {
    "duration": 29,
    "start_time": "2023-02-24T19:29:37.923Z"
   },
   {
    "duration": 43,
    "start_time": "2023-02-24T19:29:37.954Z"
   },
   {
    "duration": 10,
    "start_time": "2023-02-24T19:29:37.998Z"
   },
   {
    "duration": 15,
    "start_time": "2023-02-24T19:29:38.011Z"
   },
   {
    "duration": 147,
    "start_time": "2023-02-24T19:32:45.752Z"
   },
   {
    "duration": 21,
    "start_time": "2023-02-24T19:32:45.902Z"
   },
   {
    "duration": 2587,
    "start_time": "2023-02-24T19:32:45.926Z"
   },
   {
    "duration": 37,
    "start_time": "2023-02-24T19:32:48.516Z"
   },
   {
    "duration": 10,
    "start_time": "2023-02-24T19:32:48.555Z"
   },
   {
    "duration": 13,
    "start_time": "2023-02-24T19:32:48.567Z"
   },
   {
    "duration": 6,
    "start_time": "2023-02-24T19:32:48.582Z"
   },
   {
    "duration": 19,
    "start_time": "2023-02-24T19:32:48.589Z"
   },
   {
    "duration": 65,
    "start_time": "2023-02-24T19:32:48.611Z"
   },
   {
    "duration": 8,
    "start_time": "2023-02-24T19:32:48.680Z"
   },
   {
    "duration": 8,
    "start_time": "2023-02-24T19:32:48.690Z"
   },
   {
    "duration": 11,
    "start_time": "2023-02-24T19:32:48.700Z"
   },
   {
    "duration": 14,
    "start_time": "2023-02-24T19:32:48.745Z"
   },
   {
    "duration": 16,
    "start_time": "2023-02-24T19:32:48.760Z"
   },
   {
    "duration": 10,
    "start_time": "2023-02-24T19:32:48.777Z"
   },
   {
    "duration": 9,
    "start_time": "2023-02-24T19:34:20.750Z"
   },
   {
    "duration": 29,
    "start_time": "2023-02-24T19:34:31.256Z"
   },
   {
    "duration": 12,
    "start_time": "2023-02-24T19:38:17.405Z"
   },
   {
    "duration": 6,
    "start_time": "2023-02-24T19:39:38.481Z"
   },
   {
    "duration": 124,
    "start_time": "2023-02-24T19:39:48.566Z"
   },
   {
    "duration": 16,
    "start_time": "2023-02-24T19:39:48.693Z"
   },
   {
    "duration": 2701,
    "start_time": "2023-02-24T19:39:48.711Z"
   },
   {
    "duration": 29,
    "start_time": "2023-02-24T19:39:51.415Z"
   },
   {
    "duration": 16,
    "start_time": "2023-02-24T19:39:51.448Z"
   },
   {
    "duration": 18,
    "start_time": "2023-02-24T19:39:51.467Z"
   },
   {
    "duration": 11,
    "start_time": "2023-02-24T19:39:51.487Z"
   },
   {
    "duration": 30,
    "start_time": "2023-02-24T19:39:51.499Z"
   },
   {
    "duration": 50,
    "start_time": "2023-02-24T19:39:51.540Z"
   },
   {
    "duration": 9,
    "start_time": "2023-02-24T19:39:51.592Z"
   },
   {
    "duration": 9,
    "start_time": "2023-02-24T19:39:54.103Z"
   },
   {
    "duration": 12,
    "start_time": "2023-02-24T19:40:03.109Z"
   },
   {
    "duration": 121,
    "start_time": "2023-02-24T19:40:08.690Z"
   },
   {
    "duration": 21,
    "start_time": "2023-02-24T19:40:08.814Z"
   },
   {
    "duration": 2731,
    "start_time": "2023-02-24T19:40:08.843Z"
   },
   {
    "duration": 26,
    "start_time": "2023-02-24T19:40:11.577Z"
   },
   {
    "duration": 19,
    "start_time": "2023-02-24T19:40:11.605Z"
   },
   {
    "duration": 40,
    "start_time": "2023-02-24T19:40:11.640Z"
   },
   {
    "duration": 14,
    "start_time": "2023-02-24T19:40:11.682Z"
   },
   {
    "duration": 23,
    "start_time": "2023-02-24T19:40:11.698Z"
   },
   {
    "duration": 114,
    "start_time": "2023-02-24T19:40:11.723Z"
   },
   {
    "duration": 14,
    "start_time": "2023-02-24T19:40:11.839Z"
   },
   {
    "duration": 28,
    "start_time": "2023-02-24T19:40:11.856Z"
   },
   {
    "duration": 28,
    "start_time": "2023-02-24T19:40:11.886Z"
   },
   {
    "duration": 11,
    "start_time": "2023-02-24T19:40:11.916Z"
   },
   {
    "duration": 32,
    "start_time": "2023-02-24T19:40:11.929Z"
   },
   {
    "duration": 16,
    "start_time": "2023-02-24T19:40:11.964Z"
   },
   {
    "duration": 1402,
    "start_time": "2023-02-24T19:49:19.606Z"
   },
   {
    "duration": 262,
    "start_time": "2023-02-24T19:49:46.698Z"
   },
   {
    "duration": 263,
    "start_time": "2023-02-24T19:49:52.770Z"
   },
   {
    "duration": 228,
    "start_time": "2023-02-24T19:49:58.878Z"
   },
   {
    "duration": 145,
    "start_time": "2023-02-24T19:50:06.635Z"
   },
   {
    "duration": 11,
    "start_time": "2023-02-24T19:51:22.926Z"
   },
   {
    "duration": 7,
    "start_time": "2023-02-24T19:54:51.986Z"
   },
   {
    "duration": 7,
    "start_time": "2023-02-24T19:55:02.863Z"
   },
   {
    "duration": 8,
    "start_time": "2023-02-24T19:55:41.419Z"
   },
   {
    "duration": 11,
    "start_time": "2023-02-24T19:55:49.290Z"
   },
   {
    "duration": 92,
    "start_time": "2023-02-24T19:56:53.011Z"
   },
   {
    "duration": 8,
    "start_time": "2023-02-24T19:56:57.615Z"
   },
   {
    "duration": 8,
    "start_time": "2023-02-24T19:57:12.522Z"
   },
   {
    "duration": 8,
    "start_time": "2023-02-24T19:58:31.529Z"
   },
   {
    "duration": 8,
    "start_time": "2023-02-24T19:58:41.496Z"
   },
   {
    "duration": 8,
    "start_time": "2023-02-24T19:59:53.496Z"
   },
   {
    "duration": 14,
    "start_time": "2023-02-24T20:01:31.867Z"
   },
   {
    "duration": 154,
    "start_time": "2023-02-24T20:10:44.358Z"
   },
   {
    "duration": 122,
    "start_time": "2023-02-24T20:10:54.052Z"
   },
   {
    "duration": 16,
    "start_time": "2023-02-24T20:10:54.176Z"
   },
   {
    "duration": 2392,
    "start_time": "2023-02-24T20:10:54.194Z"
   },
   {
    "duration": 22,
    "start_time": "2023-02-24T20:10:56.588Z"
   },
   {
    "duration": 47,
    "start_time": "2023-02-24T20:10:56.612Z"
   },
   {
    "duration": 13,
    "start_time": "2023-02-24T20:10:56.661Z"
   },
   {
    "duration": 6,
    "start_time": "2023-02-24T20:10:56.676Z"
   },
   {
    "duration": 25,
    "start_time": "2023-02-24T20:10:56.684Z"
   },
   {
    "duration": 50,
    "start_time": "2023-02-24T20:10:56.711Z"
   },
   {
    "duration": 149,
    "start_time": "2023-02-24T20:11:04.295Z"
   },
   {
    "duration": 177,
    "start_time": "2023-02-24T20:12:01.224Z"
   },
   {
    "duration": 9,
    "start_time": "2023-02-24T20:12:19.644Z"
   },
   {
    "duration": 11,
    "start_time": "2023-02-24T20:12:28.397Z"
   },
   {
    "duration": 10,
    "start_time": "2023-02-24T20:13:49.460Z"
   },
   {
    "duration": 10,
    "start_time": "2023-02-24T20:14:01.749Z"
   },
   {
    "duration": 14,
    "start_time": "2023-02-24T20:16:10.769Z"
   },
   {
    "duration": 13,
    "start_time": "2023-02-24T20:16:53.413Z"
   },
   {
    "duration": 7,
    "start_time": "2023-02-24T20:16:59.820Z"
   },
   {
    "duration": 120,
    "start_time": "2023-02-24T20:17:04.892Z"
   },
   {
    "duration": 38,
    "start_time": "2023-02-24T20:17:05.014Z"
   },
   {
    "duration": 2301,
    "start_time": "2023-02-24T20:17:05.054Z"
   },
   {
    "duration": 23,
    "start_time": "2023-02-24T20:17:07.357Z"
   },
   {
    "duration": 10,
    "start_time": "2023-02-24T20:17:07.382Z"
   },
   {
    "duration": 12,
    "start_time": "2023-02-24T20:17:07.394Z"
   },
   {
    "duration": 37,
    "start_time": "2023-02-24T20:17:07.407Z"
   },
   {
    "duration": 27,
    "start_time": "2023-02-24T20:17:07.445Z"
   },
   {
    "duration": 29,
    "start_time": "2023-02-24T20:17:07.473Z"
   },
   {
    "duration": 162,
    "start_time": "2023-02-24T20:17:07.504Z"
   },
   {
    "duration": 8,
    "start_time": "2023-02-24T20:17:07.667Z"
   },
   {
    "duration": 19,
    "start_time": "2023-02-24T20:17:07.677Z"
   },
   {
    "duration": 12,
    "start_time": "2023-02-24T20:17:07.699Z"
   },
   {
    "duration": 38,
    "start_time": "2023-02-24T20:17:07.714Z"
   },
   {
    "duration": 15,
    "start_time": "2023-02-24T20:17:07.755Z"
   },
   {
    "duration": 12,
    "start_time": "2023-02-24T20:17:07.772Z"
   },
   {
    "duration": 248,
    "start_time": "2023-02-24T20:17:07.786Z"
   },
   {
    "duration": 10,
    "start_time": "2023-02-24T20:17:08.048Z"
   },
   {
    "duration": 7,
    "start_time": "2023-02-24T20:17:08.060Z"
   },
   {
    "duration": 14,
    "start_time": "2023-02-24T20:17:08.069Z"
   },
   {
    "duration": 7,
    "start_time": "2023-02-24T20:17:34.053Z"
   },
   {
    "duration": 135,
    "start_time": "2023-02-24T20:17:38.768Z"
   },
   {
    "duration": 17,
    "start_time": "2023-02-24T20:17:38.905Z"
   },
   {
    "duration": 2232,
    "start_time": "2023-02-24T20:17:38.924Z"
   },
   {
    "duration": 24,
    "start_time": "2023-02-24T20:17:41.158Z"
   },
   {
    "duration": 11,
    "start_time": "2023-02-24T20:17:41.183Z"
   },
   {
    "duration": 13,
    "start_time": "2023-02-24T20:17:41.195Z"
   },
   {
    "duration": 54,
    "start_time": "2023-02-24T20:17:41.209Z"
   },
   {
    "duration": 42,
    "start_time": "2023-02-24T20:17:41.265Z"
   },
   {
    "duration": 27,
    "start_time": "2023-02-24T20:17:41.309Z"
   },
   {
    "duration": 262,
    "start_time": "2023-02-24T20:17:41.339Z"
   },
   {
    "duration": 8,
    "start_time": "2023-02-24T20:17:41.602Z"
   },
   {
    "duration": 6,
    "start_time": "2023-02-24T20:17:41.611Z"
   },
   {
    "duration": 29,
    "start_time": "2023-02-24T20:17:41.619Z"
   },
   {
    "duration": 17,
    "start_time": "2023-02-24T20:17:41.650Z"
   },
   {
    "duration": 43,
    "start_time": "2023-02-24T20:17:41.669Z"
   },
   {
    "duration": 12,
    "start_time": "2023-02-24T20:17:41.714Z"
   },
   {
    "duration": 140,
    "start_time": "2023-02-24T20:17:41.727Z"
   },
   {
    "duration": 9,
    "start_time": "2023-02-24T20:17:41.869Z"
   },
   {
    "duration": 7,
    "start_time": "2023-02-24T20:17:41.880Z"
   },
   {
    "duration": 12,
    "start_time": "2023-02-24T20:17:51.729Z"
   },
   {
    "duration": 118,
    "start_time": "2023-02-24T20:18:54.301Z"
   },
   {
    "duration": 31,
    "start_time": "2023-02-24T20:18:54.422Z"
   },
   {
    "duration": 2254,
    "start_time": "2023-02-24T20:18:54.456Z"
   },
   {
    "duration": 42,
    "start_time": "2023-02-24T20:18:56.713Z"
   },
   {
    "duration": 10,
    "start_time": "2023-02-24T20:18:56.757Z"
   },
   {
    "duration": 15,
    "start_time": "2023-02-24T20:18:56.769Z"
   },
   {
    "duration": 7,
    "start_time": "2023-02-24T20:18:56.785Z"
   },
   {
    "duration": 16,
    "start_time": "2023-02-24T20:18:56.794Z"
   },
   {
    "duration": 34,
    "start_time": "2023-02-24T20:18:56.840Z"
   },
   {
    "duration": 285,
    "start_time": "2023-02-24T20:18:56.876Z"
   },
   {
    "duration": 9,
    "start_time": "2023-02-24T20:18:57.163Z"
   },
   {
    "duration": 7,
    "start_time": "2023-02-24T20:18:57.174Z"
   },
   {
    "duration": 12,
    "start_time": "2023-02-24T20:18:57.183Z"
   },
   {
    "duration": 11,
    "start_time": "2023-02-24T20:18:57.197Z"
   },
   {
    "duration": 16,
    "start_time": "2023-02-24T20:18:57.251Z"
   },
   {
    "duration": 11,
    "start_time": "2023-02-24T20:18:57.269Z"
   },
   {
    "duration": 141,
    "start_time": "2023-02-24T20:18:57.282Z"
   },
   {
    "duration": 29,
    "start_time": "2023-02-24T20:18:57.425Z"
   },
   {
    "duration": 7,
    "start_time": "2023-02-24T20:18:57.456Z"
   },
   {
    "duration": 14,
    "start_time": "2023-02-24T20:18:57.465Z"
   },
   {
    "duration": 128,
    "start_time": "2023-02-24T20:20:48.505Z"
   },
   {
    "duration": 9,
    "start_time": "2023-02-24T20:21:11.710Z"
   },
   {
    "duration": 516,
    "start_time": "2023-02-25T16:59:13.220Z"
   },
   {
    "duration": 13,
    "start_time": "2023-02-25T16:59:13.738Z"
   },
   {
    "duration": 2360,
    "start_time": "2023-02-25T16:59:13.752Z"
   },
   {
    "duration": 23,
    "start_time": "2023-02-25T16:59:16.114Z"
   },
   {
    "duration": 8,
    "start_time": "2023-02-25T16:59:16.139Z"
   },
   {
    "duration": 13,
    "start_time": "2023-02-25T16:59:16.148Z"
   },
   {
    "duration": 4,
    "start_time": "2023-02-25T16:59:16.163Z"
   },
   {
    "duration": 23,
    "start_time": "2023-02-25T16:59:16.168Z"
   },
   {
    "duration": 23,
    "start_time": "2023-02-25T16:59:16.192Z"
   },
   {
    "duration": 127,
    "start_time": "2023-02-25T16:59:16.217Z"
   },
   {
    "duration": 7,
    "start_time": "2023-02-25T16:59:16.346Z"
   },
   {
    "duration": 6,
    "start_time": "2023-02-25T16:59:16.354Z"
   },
   {
    "duration": 25,
    "start_time": "2023-02-25T16:59:16.361Z"
   },
   {
    "duration": 9,
    "start_time": "2023-02-25T16:59:16.388Z"
   },
   {
    "duration": 11,
    "start_time": "2023-02-25T16:59:16.399Z"
   },
   {
    "duration": 8,
    "start_time": "2023-02-25T16:59:16.411Z"
   },
   {
    "duration": 116,
    "start_time": "2023-02-25T16:59:16.421Z"
   },
   {
    "duration": 9,
    "start_time": "2023-02-25T16:59:16.539Z"
   },
   {
    "duration": 6,
    "start_time": "2023-02-25T16:59:16.550Z"
   },
   {
    "duration": 31,
    "start_time": "2023-02-25T16:59:16.557Z"
   },
   {
    "duration": 140,
    "start_time": "2023-02-25T16:59:16.589Z"
   },
   {
    "duration": 8,
    "start_time": "2023-02-25T16:59:16.731Z"
   },
   {
    "duration": 8,
    "start_time": "2023-02-25T16:59:16.740Z"
   },
   {
    "duration": 14,
    "start_time": "2023-02-25T16:59:16.749Z"
   },
   {
    "duration": 56,
    "start_time": "2023-02-25T17:02:54.763Z"
   },
   {
    "duration": 8,
    "start_time": "2023-02-25T17:02:57.533Z"
   },
   {
    "duration": 50,
    "start_time": "2023-02-25T17:02:58.587Z"
   },
   {
    "duration": 125,
    "start_time": "2023-02-25T17:03:17.122Z"
   },
   {
    "duration": 111,
    "start_time": "2023-02-25T17:03:35.223Z"
   },
   {
    "duration": 76,
    "start_time": "2023-02-25T17:04:41.958Z"
   },
   {
    "duration": 18,
    "start_time": "2023-02-25T17:04:51.435Z"
   },
   {
    "duration": 109,
    "start_time": "2023-02-25T17:05:00.870Z"
   },
   {
    "duration": 15,
    "start_time": "2023-02-25T17:05:00.987Z"
   },
   {
    "duration": 2198,
    "start_time": "2023-02-25T17:05:01.004Z"
   },
   {
    "duration": 29,
    "start_time": "2023-02-25T17:05:03.204Z"
   },
   {
    "duration": 21,
    "start_time": "2023-02-25T17:05:03.234Z"
   },
   {
    "duration": 10,
    "start_time": "2023-02-25T17:05:03.256Z"
   },
   {
    "duration": 22,
    "start_time": "2023-02-25T17:05:03.267Z"
   },
   {
    "duration": 28,
    "start_time": "2023-02-25T17:05:03.291Z"
   },
   {
    "duration": 25,
    "start_time": "2023-02-25T17:05:03.321Z"
   },
   {
    "duration": 122,
    "start_time": "2023-02-25T17:05:03.349Z"
   },
   {
    "duration": 13,
    "start_time": "2023-02-25T17:05:03.473Z"
   },
   {
    "duration": 9,
    "start_time": "2023-02-25T17:05:03.488Z"
   },
   {
    "duration": 41,
    "start_time": "2023-02-25T17:05:03.499Z"
   },
   {
    "duration": 13,
    "start_time": "2023-02-25T17:05:03.542Z"
   },
   {
    "duration": 14,
    "start_time": "2023-02-25T17:05:03.557Z"
   },
   {
    "duration": 18,
    "start_time": "2023-02-25T17:05:03.573Z"
   },
   {
    "duration": 110,
    "start_time": "2023-02-25T17:05:03.592Z"
   },
   {
    "duration": 10,
    "start_time": "2023-02-25T17:05:03.704Z"
   },
   {
    "duration": 19,
    "start_time": "2023-02-25T17:05:12.498Z"
   },
   {
    "duration": 18,
    "start_time": "2023-02-25T17:06:21.917Z"
   },
   {
    "duration": 12,
    "start_time": "2023-02-25T17:07:24.742Z"
   },
   {
    "duration": 18,
    "start_time": "2023-02-25T17:08:13.358Z"
   },
   {
    "duration": 10,
    "start_time": "2023-02-25T17:08:19.209Z"
   },
   {
    "duration": 17,
    "start_time": "2023-02-25T17:08:21.555Z"
   },
   {
    "duration": 99,
    "start_time": "2023-02-25T17:08:25.058Z"
   },
   {
    "duration": 15,
    "start_time": "2023-02-25T17:08:25.158Z"
   },
   {
    "duration": 2153,
    "start_time": "2023-02-25T17:08:25.175Z"
   },
   {
    "duration": 24,
    "start_time": "2023-02-25T17:08:27.330Z"
   },
   {
    "duration": 9,
    "start_time": "2023-02-25T17:08:27.356Z"
   },
   {
    "duration": 15,
    "start_time": "2023-02-25T17:08:27.386Z"
   },
   {
    "duration": 10,
    "start_time": "2023-02-25T17:08:27.403Z"
   },
   {
    "duration": 21,
    "start_time": "2023-02-25T17:08:27.423Z"
   },
   {
    "duration": 32,
    "start_time": "2023-02-25T17:08:27.445Z"
   },
   {
    "duration": 141,
    "start_time": "2023-02-25T17:08:27.485Z"
   },
   {
    "duration": 9,
    "start_time": "2023-02-25T17:08:27.628Z"
   },
   {
    "duration": 11,
    "start_time": "2023-02-25T17:08:27.638Z"
   },
   {
    "duration": 10,
    "start_time": "2023-02-25T17:08:27.650Z"
   },
   {
    "duration": 30,
    "start_time": "2023-02-25T17:08:27.664Z"
   },
   {
    "duration": 17,
    "start_time": "2023-02-25T17:08:27.696Z"
   },
   {
    "duration": 12,
    "start_time": "2023-02-25T17:08:27.715Z"
   },
   {
    "duration": 171,
    "start_time": "2023-02-25T17:08:27.729Z"
   },
   {
    "duration": 10,
    "start_time": "2023-02-25T17:08:27.903Z"
   },
   {
    "duration": 18,
    "start_time": "2023-02-25T17:08:30.586Z"
   },
   {
    "duration": 8,
    "start_time": "2023-02-25T17:10:59.067Z"
   },
   {
    "duration": 19,
    "start_time": "2023-02-25T17:11:01.695Z"
   },
   {
    "duration": 16,
    "start_time": "2023-02-25T17:11:52.959Z"
   },
   {
    "duration": 12,
    "start_time": "2023-02-25T17:14:19.067Z"
   },
   {
    "duration": 10,
    "start_time": "2023-02-25T17:14:29.818Z"
   },
   {
    "duration": 95,
    "start_time": "2023-02-25T17:14:32.656Z"
   },
   {
    "duration": 15,
    "start_time": "2023-02-25T17:14:38.924Z"
   },
   {
    "duration": 8,
    "start_time": "2023-02-25T17:14:41.067Z"
   },
   {
    "duration": 15,
    "start_time": "2023-02-25T17:14:42.104Z"
   },
   {
    "duration": 13,
    "start_time": "2023-02-25T17:14:47.575Z"
   },
   {
    "duration": 8,
    "start_time": "2023-02-25T17:15:57.436Z"
   },
   {
    "duration": 14,
    "start_time": "2023-02-25T17:16:51.116Z"
   },
   {
    "duration": 9,
    "start_time": "2023-02-25T17:16:54.521Z"
   },
   {
    "duration": 105,
    "start_time": "2023-02-25T17:17:01.337Z"
   },
   {
    "duration": 14,
    "start_time": "2023-02-25T17:17:01.444Z"
   },
   {
    "duration": 1829,
    "start_time": "2023-02-25T17:17:01.459Z"
   },
   {
    "duration": 20,
    "start_time": "2023-02-25T17:17:03.289Z"
   },
   {
    "duration": 8,
    "start_time": "2023-02-25T17:17:03.311Z"
   },
   {
    "duration": 15,
    "start_time": "2023-02-25T17:17:03.320Z"
   },
   {
    "duration": 14,
    "start_time": "2023-02-25T17:17:03.336Z"
   },
   {
    "duration": 17,
    "start_time": "2023-02-25T17:17:03.352Z"
   },
   {
    "duration": 36,
    "start_time": "2023-02-25T17:17:03.370Z"
   },
   {
    "duration": 129,
    "start_time": "2023-02-25T17:17:03.407Z"
   },
   {
    "duration": 8,
    "start_time": "2023-02-25T17:17:03.538Z"
   },
   {
    "duration": 15,
    "start_time": "2023-02-25T17:17:03.547Z"
   },
   {
    "duration": 9,
    "start_time": "2023-02-25T17:17:03.563Z"
   },
   {
    "duration": 22,
    "start_time": "2023-02-25T17:17:03.575Z"
   },
   {
    "duration": 11,
    "start_time": "2023-02-25T17:17:03.599Z"
   },
   {
    "duration": 11,
    "start_time": "2023-02-25T17:17:03.611Z"
   },
   {
    "duration": 182,
    "start_time": "2023-02-25T17:17:03.624Z"
   },
   {
    "duration": 8,
    "start_time": "2023-02-25T17:17:03.808Z"
   },
   {
    "duration": 53,
    "start_time": "2023-02-25T17:17:03.817Z"
   },
   {
    "duration": 10,
    "start_time": "2023-02-25T17:17:03.872Z"
   },
   {
    "duration": 133,
    "start_time": "2023-02-25T17:17:03.883Z"
   },
   {
    "duration": 8,
    "start_time": "2023-02-25T17:17:04.018Z"
   },
   {
    "duration": 42,
    "start_time": "2023-02-25T17:17:04.028Z"
   },
   {
    "duration": 13,
    "start_time": "2023-02-25T17:17:08.392Z"
   },
   {
    "duration": 8,
    "start_time": "2023-02-25T17:17:10.867Z"
   },
   {
    "duration": 14,
    "start_time": "2023-02-25T17:17:44.507Z"
   },
   {
    "duration": 10,
    "start_time": "2023-02-25T17:17:53.506Z"
   },
   {
    "duration": 17,
    "start_time": "2023-02-25T17:18:19.988Z"
   },
   {
    "duration": 19,
    "start_time": "2023-02-25T17:18:34.312Z"
   },
   {
    "duration": 15,
    "start_time": "2023-02-25T17:18:38.801Z"
   },
   {
    "duration": 17,
    "start_time": "2023-02-25T17:18:49.838Z"
   },
   {
    "duration": 14,
    "start_time": "2023-02-25T17:18:56.428Z"
   },
   {
    "duration": 98,
    "start_time": "2023-02-25T17:19:04.405Z"
   },
   {
    "duration": 14,
    "start_time": "2023-02-25T17:19:04.504Z"
   },
   {
    "duration": 1921,
    "start_time": "2023-02-25T17:19:04.519Z"
   },
   {
    "duration": 19,
    "start_time": "2023-02-25T17:19:06.442Z"
   },
   {
    "duration": 23,
    "start_time": "2023-02-25T17:19:06.463Z"
   },
   {
    "duration": 10,
    "start_time": "2023-02-25T17:19:06.488Z"
   },
   {
    "duration": 4,
    "start_time": "2023-02-25T17:19:06.499Z"
   },
   {
    "duration": 12,
    "start_time": "2023-02-25T17:19:06.505Z"
   },
   {
    "duration": 34,
    "start_time": "2023-02-25T17:19:06.518Z"
   },
   {
    "duration": 208,
    "start_time": "2023-02-25T17:19:06.553Z"
   },
   {
    "duration": 6,
    "start_time": "2023-02-25T17:19:06.763Z"
   },
   {
    "duration": 15,
    "start_time": "2023-02-25T17:19:06.771Z"
   },
   {
    "duration": 11,
    "start_time": "2023-02-25T17:19:06.787Z"
   },
   {
    "duration": 8,
    "start_time": "2023-02-25T17:19:06.800Z"
   },
   {
    "duration": 12,
    "start_time": "2023-02-25T17:19:06.809Z"
   },
   {
    "duration": 8,
    "start_time": "2023-02-25T17:19:06.822Z"
   },
   {
    "duration": 137,
    "start_time": "2023-02-25T17:19:06.831Z"
   },
   {
    "duration": 7,
    "start_time": "2023-02-25T17:19:06.970Z"
   },
   {
    "duration": 19,
    "start_time": "2023-02-25T17:19:06.985Z"
   },
   {
    "duration": 16,
    "start_time": "2023-02-25T17:19:07.005Z"
   },
   {
    "duration": 140,
    "start_time": "2023-02-25T17:19:07.023Z"
   },
   {
    "duration": 23,
    "start_time": "2023-02-25T17:19:07.164Z"
   },
   {
    "duration": 22,
    "start_time": "2023-02-25T17:19:07.188Z"
   },
   {
    "duration": 16,
    "start_time": "2023-02-25T17:19:07.211Z"
   },
   {
    "duration": 118,
    "start_time": "2023-02-25T17:21:47.260Z"
   },
   {
    "duration": 7,
    "start_time": "2023-02-25T17:22:37.865Z"
   },
   {
    "duration": 9,
    "start_time": "2023-02-25T17:23:05.634Z"
   },
   {
    "duration": 8,
    "start_time": "2023-02-25T17:23:07.900Z"
   },
   {
    "duration": 7,
    "start_time": "2023-02-25T17:23:56.005Z"
   },
   {
    "duration": 92,
    "start_time": "2023-02-25T17:24:19.735Z"
   },
   {
    "duration": 13,
    "start_time": "2023-02-25T17:24:19.829Z"
   },
   {
    "duration": 1823,
    "start_time": "2023-02-25T17:24:19.844Z"
   },
   {
    "duration": 26,
    "start_time": "2023-02-25T17:24:21.669Z"
   },
   {
    "duration": 9,
    "start_time": "2023-02-25T17:24:21.696Z"
   },
   {
    "duration": 11,
    "start_time": "2023-02-25T17:24:21.707Z"
   },
   {
    "duration": 4,
    "start_time": "2023-02-25T17:24:21.720Z"
   },
   {
    "duration": 14,
    "start_time": "2023-02-25T17:24:21.725Z"
   },
   {
    "duration": 55,
    "start_time": "2023-02-25T17:24:21.740Z"
   },
   {
    "duration": 122,
    "start_time": "2023-02-25T17:24:21.797Z"
   },
   {
    "duration": 7,
    "start_time": "2023-02-25T17:24:21.921Z"
   },
   {
    "duration": 5,
    "start_time": "2023-02-25T17:24:21.930Z"
   },
   {
    "duration": 10,
    "start_time": "2023-02-25T17:24:21.936Z"
   },
   {
    "duration": 9,
    "start_time": "2023-02-25T17:24:21.948Z"
   },
   {
    "duration": 33,
    "start_time": "2023-02-25T17:24:21.958Z"
   },
   {
    "duration": 9,
    "start_time": "2023-02-25T17:24:21.993Z"
   },
   {
    "duration": 112,
    "start_time": "2023-02-25T17:24:22.003Z"
   },
   {
    "duration": 8,
    "start_time": "2023-02-25T17:24:22.116Z"
   },
   {
    "duration": 15,
    "start_time": "2023-02-25T17:24:22.125Z"
   },
   {
    "duration": 10,
    "start_time": "2023-02-25T17:24:22.142Z"
   },
   {
    "duration": 153,
    "start_time": "2023-02-25T17:24:22.153Z"
   },
   {
    "duration": 6,
    "start_time": "2023-02-25T17:24:22.308Z"
   },
   {
    "duration": 8,
    "start_time": "2023-02-25T17:24:22.315Z"
   },
   {
    "duration": 15,
    "start_time": "2023-02-25T17:24:22.324Z"
   },
   {
    "duration": 12,
    "start_time": "2023-02-25T17:24:22.340Z"
   },
   {
    "duration": 34,
    "start_time": "2023-02-25T17:24:22.354Z"
   },
   {
    "duration": 127,
    "start_time": "2023-02-25T17:24:22.389Z"
   },
   {
    "duration": 15,
    "start_time": "2023-02-25T17:25:33.077Z"
   },
   {
    "duration": 8,
    "start_time": "2023-02-25T17:25:45.509Z"
   },
   {
    "duration": 6,
    "start_time": "2023-02-25T17:25:48.129Z"
   },
   {
    "duration": 17,
    "start_time": "2023-02-25T17:26:03.735Z"
   },
   {
    "duration": 11,
    "start_time": "2023-02-25T17:26:07.193Z"
   },
   {
    "duration": 23,
    "start_time": "2023-02-25T17:26:07.837Z"
   },
   {
    "duration": 13,
    "start_time": "2023-02-25T17:28:24.819Z"
   },
   {
    "duration": 10,
    "start_time": "2023-02-25T17:28:58.632Z"
   },
   {
    "duration": 13,
    "start_time": "2023-02-25T17:29:08.218Z"
   },
   {
    "duration": 7,
    "start_time": "2023-02-25T17:29:37.561Z"
   },
   {
    "duration": 95,
    "start_time": "2023-02-25T17:29:45.317Z"
   },
   {
    "duration": 12,
    "start_time": "2023-02-25T17:29:45.414Z"
   },
   {
    "duration": 2014,
    "start_time": "2023-02-25T17:29:45.428Z"
   },
   {
    "duration": 20,
    "start_time": "2023-02-25T17:29:47.446Z"
   },
   {
    "duration": 22,
    "start_time": "2023-02-25T17:29:47.467Z"
   },
   {
    "duration": 11,
    "start_time": "2023-02-25T17:29:47.490Z"
   },
   {
    "duration": 5,
    "start_time": "2023-02-25T17:29:47.502Z"
   },
   {
    "duration": 15,
    "start_time": "2023-02-25T17:29:47.508Z"
   },
   {
    "duration": 27,
    "start_time": "2023-02-25T17:29:47.525Z"
   },
   {
    "duration": 145,
    "start_time": "2023-02-25T17:29:47.554Z"
   },
   {
    "duration": 6,
    "start_time": "2023-02-25T17:29:47.700Z"
   },
   {
    "duration": 10,
    "start_time": "2023-02-25T17:29:47.708Z"
   },
   {
    "duration": 11,
    "start_time": "2023-02-25T17:29:47.720Z"
   },
   {
    "duration": 28,
    "start_time": "2023-02-25T17:29:47.732Z"
   },
   {
    "duration": 14,
    "start_time": "2023-02-25T17:29:47.762Z"
   },
   {
    "duration": 13,
    "start_time": "2023-02-25T17:29:47.778Z"
   },
   {
    "duration": 110,
    "start_time": "2023-02-25T17:29:47.792Z"
   },
   {
    "duration": 7,
    "start_time": "2023-02-25T17:29:47.903Z"
   },
   {
    "duration": 13,
    "start_time": "2023-02-25T17:32:49.726Z"
   },
   {
    "duration": 15,
    "start_time": "2023-02-25T17:33:06.944Z"
   },
   {
    "duration": 9,
    "start_time": "2023-02-25T17:33:33.399Z"
   },
   {
    "duration": 9,
    "start_time": "2023-02-25T17:33:36.162Z"
   },
   {
    "duration": 14,
    "start_time": "2023-02-25T17:33:53.147Z"
   },
   {
    "duration": 11,
    "start_time": "2023-02-25T17:37:36.268Z"
   },
   {
    "duration": 125,
    "start_time": "2023-02-25T17:44:12.477Z"
   },
   {
    "duration": 7,
    "start_time": "2023-02-25T17:44:37.535Z"
   },
   {
    "duration": 8,
    "start_time": "2023-02-25T17:45:04.318Z"
   },
   {
    "duration": 111,
    "start_time": "2023-02-25T17:45:19.455Z"
   },
   {
    "duration": 10,
    "start_time": "2023-02-25T17:45:25.424Z"
   },
   {
    "duration": 116,
    "start_time": "2023-02-25T17:46:05.600Z"
   },
   {
    "duration": 9,
    "start_time": "2023-02-25T17:46:46.674Z"
   },
   {
    "duration": 247,
    "start_time": "2023-02-25T17:49:05.074Z"
   },
   {
    "duration": 296,
    "start_time": "2023-02-25T17:49:10.007Z"
   },
   {
    "duration": 121,
    "start_time": "2023-02-25T17:49:23.099Z"
   },
   {
    "duration": 11,
    "start_time": "2023-02-25T17:51:37.757Z"
   },
   {
    "duration": 18,
    "start_time": "2023-02-25T17:58:27.800Z"
   },
   {
    "duration": 22,
    "start_time": "2023-02-25T17:59:59.439Z"
   },
   {
    "duration": 129,
    "start_time": "2023-02-25T18:02:48.564Z"
   },
   {
    "duration": 8,
    "start_time": "2023-02-25T18:05:56.297Z"
   },
   {
    "duration": 15,
    "start_time": "2023-02-25T18:06:35.804Z"
   },
   {
    "duration": 23,
    "start_time": "2023-02-25T18:24:50.177Z"
   },
   {
    "duration": 23,
    "start_time": "2023-02-25T18:25:11.561Z"
   },
   {
    "duration": 27,
    "start_time": "2023-02-25T18:25:24.883Z"
   },
   {
    "duration": 18,
    "start_time": "2023-02-25T18:26:40.538Z"
   },
   {
    "duration": 9,
    "start_time": "2023-02-25T18:28:57.089Z"
   },
   {
    "duration": 105,
    "start_time": "2023-02-25T18:29:08.413Z"
   },
   {
    "duration": 12,
    "start_time": "2023-02-25T18:29:08.520Z"
   },
   {
    "duration": 1932,
    "start_time": "2023-02-25T18:29:08.534Z"
   },
   {
    "duration": 30,
    "start_time": "2023-02-25T18:29:10.468Z"
   },
   {
    "duration": 8,
    "start_time": "2023-02-25T18:29:10.500Z"
   },
   {
    "duration": 12,
    "start_time": "2023-02-25T18:29:10.509Z"
   },
   {
    "duration": 5,
    "start_time": "2023-02-25T18:29:10.523Z"
   },
   {
    "duration": 14,
    "start_time": "2023-02-25T18:29:10.529Z"
   },
   {
    "duration": 50,
    "start_time": "2023-02-25T18:29:10.544Z"
   },
   {
    "duration": 131,
    "start_time": "2023-02-25T18:29:10.597Z"
   },
   {
    "duration": 7,
    "start_time": "2023-02-25T18:29:10.730Z"
   },
   {
    "duration": 10,
    "start_time": "2023-02-25T18:29:10.738Z"
   },
   {
    "duration": 9,
    "start_time": "2023-02-25T18:29:10.750Z"
   },
   {
    "duration": 26,
    "start_time": "2023-02-25T18:29:10.761Z"
   },
   {
    "duration": 13,
    "start_time": "2023-02-25T18:29:10.789Z"
   },
   {
    "duration": 8,
    "start_time": "2023-02-25T18:29:10.804Z"
   },
   {
    "duration": 129,
    "start_time": "2023-02-25T18:29:10.814Z"
   },
   {
    "duration": 7,
    "start_time": "2023-02-25T18:29:10.945Z"
   },
   {
    "duration": 10,
    "start_time": "2023-02-25T18:29:10.953Z"
   },
   {
    "duration": 55,
    "start_time": "2023-02-25T18:29:10.965Z"
   },
   {
    "duration": 22,
    "start_time": "2023-02-25T18:29:11.022Z"
   },
   {
    "duration": 144,
    "start_time": "2023-02-25T18:29:11.046Z"
   },
   {
    "duration": 14,
    "start_time": "2023-02-25T18:29:11.192Z"
   },
   {
    "duration": 52,
    "start_time": "2023-02-25T18:29:11.209Z"
   },
   {
    "duration": 17,
    "start_time": "2023-02-25T18:29:11.263Z"
   },
   {
    "duration": 8,
    "start_time": "2023-02-25T18:29:11.282Z"
   },
   {
    "duration": 138,
    "start_time": "2023-02-25T18:29:11.291Z"
   },
   {
    "duration": 12,
    "start_time": "2023-02-25T18:29:11.432Z"
   },
   {
    "duration": 11,
    "start_time": "2023-02-25T18:29:11.446Z"
   },
   {
    "duration": 41,
    "start_time": "2023-02-25T18:29:11.458Z"
   },
   {
    "duration": 12,
    "start_time": "2023-02-25T18:29:11.501Z"
   },
   {
    "duration": 8,
    "start_time": "2023-02-25T18:29:11.514Z"
   },
   {
    "duration": 16,
    "start_time": "2023-02-25T18:32:09.526Z"
   },
   {
    "duration": 34,
    "start_time": "2023-02-25T18:37:54.191Z"
   },
   {
    "duration": 72,
    "start_time": "2023-02-25T18:39:58.695Z"
   },
   {
    "duration": 12,
    "start_time": "2023-02-25T18:41:56.254Z"
   },
   {
    "duration": 15,
    "start_time": "2023-02-25T18:42:09.774Z"
   },
   {
    "duration": 40,
    "start_time": "2023-02-25T18:42:17.160Z"
   },
   {
    "duration": 19,
    "start_time": "2023-02-25T18:42:58.168Z"
   },
   {
    "duration": 17,
    "start_time": "2023-02-25T18:43:08.765Z"
   },
   {
    "duration": 36,
    "start_time": "2023-02-25T18:43:37.878Z"
   },
   {
    "duration": 34,
    "start_time": "2023-02-25T18:45:53.913Z"
   },
   {
    "duration": 104,
    "start_time": "2023-02-25T18:46:27.181Z"
   },
   {
    "duration": 15,
    "start_time": "2023-02-25T18:46:27.286Z"
   },
   {
    "duration": 2088,
    "start_time": "2023-02-25T18:46:27.303Z"
   },
   {
    "duration": 21,
    "start_time": "2023-02-25T18:46:29.394Z"
   },
   {
    "duration": 10,
    "start_time": "2023-02-25T18:46:29.416Z"
   },
   {
    "duration": 12,
    "start_time": "2023-02-25T18:46:29.428Z"
   },
   {
    "duration": 5,
    "start_time": "2023-02-25T18:46:29.441Z"
   },
   {
    "duration": 48,
    "start_time": "2023-02-25T18:46:29.447Z"
   },
   {
    "duration": 26,
    "start_time": "2023-02-25T18:46:29.497Z"
   },
   {
    "duration": 139,
    "start_time": "2023-02-25T18:46:29.525Z"
   },
   {
    "duration": 7,
    "start_time": "2023-02-25T18:46:29.666Z"
   },
   {
    "duration": 24,
    "start_time": "2023-02-25T18:46:29.674Z"
   },
   {
    "duration": 35,
    "start_time": "2023-02-25T18:46:29.700Z"
   },
   {
    "duration": 8,
    "start_time": "2023-02-25T18:46:29.737Z"
   },
   {
    "duration": 13,
    "start_time": "2023-02-25T18:46:29.746Z"
   },
   {
    "duration": 11,
    "start_time": "2023-02-25T18:46:29.760Z"
   },
   {
    "duration": 162,
    "start_time": "2023-02-25T18:46:29.773Z"
   },
   {
    "duration": 7,
    "start_time": "2023-02-25T18:46:29.937Z"
   },
   {
    "duration": 12,
    "start_time": "2023-02-25T18:46:29.946Z"
   },
   {
    "duration": 32,
    "start_time": "2023-02-25T18:46:29.960Z"
   },
   {
    "duration": 13,
    "start_time": "2023-02-25T18:46:29.994Z"
   },
   {
    "duration": 169,
    "start_time": "2023-02-25T18:46:30.008Z"
   },
   {
    "duration": 18,
    "start_time": "2023-02-25T18:46:30.178Z"
   },
   {
    "duration": 36,
    "start_time": "2023-02-25T18:46:30.197Z"
   },
   {
    "duration": 14,
    "start_time": "2023-02-25T18:46:30.235Z"
   },
   {
    "duration": 14,
    "start_time": "2023-02-25T18:46:30.250Z"
   },
   {
    "duration": 147,
    "start_time": "2023-02-25T18:46:30.265Z"
   },
   {
    "duration": 12,
    "start_time": "2023-02-25T18:46:30.414Z"
   },
   {
    "duration": 21,
    "start_time": "2023-02-25T18:46:30.428Z"
   },
   {
    "duration": 54,
    "start_time": "2023-02-25T18:46:30.450Z"
   },
   {
    "duration": 32,
    "start_time": "2023-02-25T18:46:30.506Z"
   },
   {
    "duration": 76,
    "start_time": "2023-02-25T18:46:30.540Z"
   },
   {
    "duration": 52,
    "start_time": "2023-02-25T18:46:30.618Z"
   },
   {
    "duration": 14,
    "start_time": "2023-02-25T18:46:30.672Z"
   },
   {
    "duration": 13,
    "start_time": "2023-02-25T18:47:54.213Z"
   },
   {
    "duration": 21,
    "start_time": "2023-02-25T18:50:23.428Z"
   },
   {
    "duration": 95,
    "start_time": "2023-02-25T18:55:09.217Z"
   },
   {
    "duration": 12,
    "start_time": "2023-02-25T18:55:09.313Z"
   },
   {
    "duration": 1871,
    "start_time": "2023-02-25T18:55:09.327Z"
   },
   {
    "duration": 22,
    "start_time": "2023-02-25T18:55:11.201Z"
   },
   {
    "duration": 7,
    "start_time": "2023-02-25T18:55:11.225Z"
   },
   {
    "duration": 10,
    "start_time": "2023-02-25T18:55:11.234Z"
   },
   {
    "duration": 40,
    "start_time": "2023-02-25T18:55:11.246Z"
   },
   {
    "duration": 35,
    "start_time": "2023-02-25T18:55:11.288Z"
   },
   {
    "duration": 14,
    "start_time": "2023-02-25T18:55:11.324Z"
   },
   {
    "duration": 14,
    "start_time": "2023-02-25T18:55:11.340Z"
   },
   {
    "duration": 30,
    "start_time": "2023-02-25T18:55:11.356Z"
   },
   {
    "duration": 13,
    "start_time": "2023-02-25T18:55:11.388Z"
   },
   {
    "duration": 26,
    "start_time": "2023-02-25T18:55:11.402Z"
   },
   {
    "duration": 130,
    "start_time": "2023-02-25T18:55:11.430Z"
   },
   {
    "duration": 8,
    "start_time": "2023-02-25T18:55:11.562Z"
   },
   {
    "duration": 18,
    "start_time": "2023-02-25T18:55:11.571Z"
   },
   {
    "duration": 15,
    "start_time": "2023-02-25T18:55:11.591Z"
   },
   {
    "duration": 16,
    "start_time": "2023-02-25T18:55:11.608Z"
   },
   {
    "duration": 11,
    "start_time": "2023-02-25T18:55:11.626Z"
   },
   {
    "duration": 10,
    "start_time": "2023-02-25T18:55:11.638Z"
   },
   {
    "duration": 113,
    "start_time": "2023-02-25T18:55:11.650Z"
   },
   {
    "duration": 6,
    "start_time": "2023-02-25T18:55:11.764Z"
   },
   {
    "duration": 15,
    "start_time": "2023-02-25T18:55:11.771Z"
   },
   {
    "duration": 16,
    "start_time": "2023-02-25T18:55:11.787Z"
   },
   {
    "duration": 10,
    "start_time": "2023-02-25T18:55:11.804Z"
   },
   {
    "duration": 232,
    "start_time": "2023-02-25T18:55:11.815Z"
   },
   {
    "duration": 12,
    "start_time": "2023-02-25T18:55:12.048Z"
   },
   {
    "duration": 30,
    "start_time": "2023-02-25T18:55:12.062Z"
   },
   {
    "duration": 12,
    "start_time": "2023-02-25T18:55:12.094Z"
   },
   {
    "duration": 9,
    "start_time": "2023-02-25T18:55:12.107Z"
   },
   {
    "duration": 137,
    "start_time": "2023-02-25T18:55:12.118Z"
   },
   {
    "duration": 12,
    "start_time": "2023-02-25T18:55:12.257Z"
   },
   {
    "duration": 20,
    "start_time": "2023-02-25T18:55:12.271Z"
   },
   {
    "duration": 15,
    "start_time": "2023-02-25T18:55:12.293Z"
   },
   {
    "duration": 11,
    "start_time": "2023-02-25T18:55:12.309Z"
   },
   {
    "duration": 16,
    "start_time": "2023-02-25T19:53:59.412Z"
   },
   {
    "duration": 24,
    "start_time": "2023-02-25T19:54:40.885Z"
   },
   {
    "duration": 4,
    "start_time": "2023-02-25T19:55:09.876Z"
   },
   {
    "duration": 16,
    "start_time": "2023-02-25T20:04:55.931Z"
   },
   {
    "duration": 35,
    "start_time": "2023-02-25T20:05:08.049Z"
   },
   {
    "duration": 97,
    "start_time": "2023-02-25T20:08:37.462Z"
   },
   {
    "duration": 20,
    "start_time": "2023-02-25T20:08:59.038Z"
   },
   {
    "duration": 92,
    "start_time": "2023-02-25T20:09:15.242Z"
   },
   {
    "duration": 2449,
    "start_time": "2023-02-25T20:09:20.016Z"
   },
   {
    "duration": 80,
    "start_time": "2023-02-25T20:09:56.950Z"
   },
   {
    "duration": 91,
    "start_time": "2023-02-25T20:14:05.858Z"
   },
   {
    "duration": 36,
    "start_time": "2023-02-25T20:14:17.376Z"
   },
   {
    "duration": 403,
    "start_time": "2023-02-25T20:14:57.165Z"
   },
   {
    "duration": 359,
    "start_time": "2023-02-25T20:16:21.671Z"
   },
   {
    "duration": 403,
    "start_time": "2023-02-25T20:17:42.381Z"
   },
   {
    "duration": 75,
    "start_time": "2023-02-25T20:18:06.792Z"
   },
   {
    "duration": 104,
    "start_time": "2023-02-25T20:18:39.350Z"
   },
   {
    "duration": 77,
    "start_time": "2023-02-25T20:19:35.364Z"
   },
   {
    "duration": 454,
    "start_time": "2023-02-25T20:21:52.679Z"
   },
   {
    "duration": 177,
    "start_time": "2023-02-25T20:33:36.299Z"
   },
   {
    "duration": 161,
    "start_time": "2023-02-25T20:33:44.227Z"
   },
   {
    "duration": 129,
    "start_time": "2023-02-25T20:33:54.544Z"
   },
   {
    "duration": 3,
    "start_time": "2023-02-25T20:36:10.159Z"
   },
   {
    "duration": 9,
    "start_time": "2023-02-25T20:36:14.531Z"
   },
   {
    "duration": 111,
    "start_time": "2023-02-25T20:40:39.979Z"
   },
   {
    "duration": 15,
    "start_time": "2023-02-25T20:40:40.091Z"
   },
   {
    "duration": 1912,
    "start_time": "2023-02-25T20:40:40.107Z"
   },
   {
    "duration": 19,
    "start_time": "2023-02-25T20:40:42.021Z"
   },
   {
    "duration": 8,
    "start_time": "2023-02-25T20:40:42.042Z"
   },
   {
    "duration": 13,
    "start_time": "2023-02-25T20:40:42.051Z"
   },
   {
    "duration": 34,
    "start_time": "2023-02-25T20:40:42.065Z"
   },
   {
    "duration": 38,
    "start_time": "2023-02-25T20:40:42.102Z"
   },
   {
    "duration": 15,
    "start_time": "2023-02-25T20:40:42.142Z"
   },
   {
    "duration": 46,
    "start_time": "2023-02-25T20:40:42.158Z"
   },
   {
    "duration": 7,
    "start_time": "2023-02-25T20:40:42.205Z"
   },
   {
    "duration": 23,
    "start_time": "2023-02-25T20:40:42.214Z"
   },
   {
    "duration": 34,
    "start_time": "2023-02-25T20:40:42.239Z"
   },
   {
    "duration": 127,
    "start_time": "2023-02-25T20:40:42.276Z"
   },
   {
    "duration": 7,
    "start_time": "2023-02-25T20:40:42.404Z"
   },
   {
    "duration": 14,
    "start_time": "2023-02-25T20:40:42.412Z"
   },
   {
    "duration": 38,
    "start_time": "2023-02-25T20:40:42.427Z"
   },
   {
    "duration": 20,
    "start_time": "2023-02-25T20:40:42.467Z"
   },
   {
    "duration": 13,
    "start_time": "2023-02-25T20:40:42.488Z"
   },
   {
    "duration": 14,
    "start_time": "2023-02-25T20:40:42.503Z"
   },
   {
    "duration": 112,
    "start_time": "2023-02-25T20:40:42.519Z"
   },
   {
    "duration": 6,
    "start_time": "2023-02-25T20:40:42.633Z"
   },
   {
    "duration": 17,
    "start_time": "2023-02-25T20:40:42.642Z"
   },
   {
    "duration": 26,
    "start_time": "2023-02-25T20:40:42.661Z"
   },
   {
    "duration": 23,
    "start_time": "2023-02-25T20:40:42.688Z"
   },
   {
    "duration": 153,
    "start_time": "2023-02-25T20:40:42.713Z"
   },
   {
    "duration": 20,
    "start_time": "2023-02-25T20:40:42.868Z"
   },
   {
    "duration": 21,
    "start_time": "2023-02-25T20:40:42.890Z"
   },
   {
    "duration": 17,
    "start_time": "2023-02-25T20:40:42.912Z"
   },
   {
    "duration": 26,
    "start_time": "2023-02-25T20:40:42.931Z"
   },
   {
    "duration": 171,
    "start_time": "2023-02-25T20:40:42.959Z"
   },
   {
    "duration": 12,
    "start_time": "2023-02-25T20:40:43.132Z"
   },
   {
    "duration": 22,
    "start_time": "2023-02-25T20:40:43.146Z"
   },
   {
    "duration": 24,
    "start_time": "2023-02-25T20:40:43.170Z"
   },
   {
    "duration": 15,
    "start_time": "2023-02-25T20:40:43.196Z"
   },
   {
    "duration": 512,
    "start_time": "2023-02-25T20:40:43.213Z"
   },
   {
    "duration": 140,
    "start_time": "2023-02-25T20:40:43.727Z"
   },
   {
    "duration": 17,
    "start_time": "2023-02-25T20:40:43.869Z"
   },
   {
    "duration": 148,
    "start_time": "2023-02-25T20:45:09.341Z"
   },
   {
    "duration": 135,
    "start_time": "2023-02-25T20:45:35.087Z"
   },
   {
    "duration": 144,
    "start_time": "2023-02-25T20:47:33.778Z"
   },
   {
    "duration": 9,
    "start_time": "2023-02-25T20:49:29.874Z"
   },
   {
    "duration": 162,
    "start_time": "2023-02-25T20:54:15.211Z"
   },
   {
    "duration": 9,
    "start_time": "2023-02-25T20:55:12.439Z"
   },
   {
    "duration": 138,
    "start_time": "2023-02-25T20:58:14.744Z"
   },
   {
    "duration": 9,
    "start_time": "2023-02-25T20:58:51.435Z"
   },
   {
    "duration": 144,
    "start_time": "2023-02-25T20:59:21.318Z"
   },
   {
    "duration": 143,
    "start_time": "2023-02-25T20:59:34.771Z"
   },
   {
    "duration": 157,
    "start_time": "2023-02-25T21:01:07.013Z"
   },
   {
    "duration": 249,
    "start_time": "2023-02-25T21:01:17.973Z"
   },
   {
    "duration": 162,
    "start_time": "2023-02-25T21:01:26.527Z"
   },
   {
    "duration": 162,
    "start_time": "2023-02-25T21:01:33.248Z"
   },
   {
    "duration": 159,
    "start_time": "2023-02-25T21:03:41.147Z"
   },
   {
    "duration": 157,
    "start_time": "2023-02-25T21:06:39.953Z"
   },
   {
    "duration": 159,
    "start_time": "2023-02-25T21:08:37.199Z"
   },
   {
    "duration": 144,
    "start_time": "2023-02-25T21:09:09.263Z"
   },
   {
    "duration": 140,
    "start_time": "2023-02-25T21:12:04.141Z"
   },
   {
    "duration": 188,
    "start_time": "2023-02-25T21:14:28.177Z"
   },
   {
    "duration": 173,
    "start_time": "2023-02-25T21:16:30.376Z"
   },
   {
    "duration": 219,
    "start_time": "2023-02-25T21:18:29.330Z"
   },
   {
    "duration": 256,
    "start_time": "2023-02-25T21:21:28.759Z"
   },
   {
    "duration": 298,
    "start_time": "2023-02-25T21:22:49.033Z"
   },
   {
    "duration": 306,
    "start_time": "2023-02-25T21:24:17.101Z"
   },
   {
    "duration": 313,
    "start_time": "2023-02-25T21:29:12.314Z"
   },
   {
    "duration": 337,
    "start_time": "2023-02-25T21:29:18.981Z"
   },
   {
    "duration": 176,
    "start_time": "2023-02-25T21:29:24.821Z"
   },
   {
    "duration": 178,
    "start_time": "2023-02-25T21:29:34.323Z"
   },
   {
    "duration": 266,
    "start_time": "2023-02-25T21:29:40.621Z"
   },
   {
    "duration": 190,
    "start_time": "2023-02-25T21:29:46.524Z"
   },
   {
    "duration": 168,
    "start_time": "2023-02-25T21:29:52.089Z"
   },
   {
    "duration": 196,
    "start_time": "2023-02-25T21:29:58.594Z"
   },
   {
    "duration": 171,
    "start_time": "2023-02-25T21:30:04.660Z"
   },
   {
    "duration": 186,
    "start_time": "2023-02-25T21:30:10.012Z"
   },
   {
    "duration": 183,
    "start_time": "2023-02-25T21:30:15.261Z"
   },
   {
    "duration": 164,
    "start_time": "2023-02-25T21:30:22.101Z"
   },
   {
    "duration": 173,
    "start_time": "2023-02-25T21:30:27.885Z"
   },
   {
    "duration": 157,
    "start_time": "2023-02-25T21:30:35.032Z"
   },
   {
    "duration": 214,
    "start_time": "2023-02-25T22:08:58.952Z"
   },
   {
    "duration": 98,
    "start_time": "2023-02-25T22:10:23.210Z"
   },
   {
    "duration": 78,
    "start_time": "2023-02-25T22:18:23.317Z"
   },
   {
    "duration": 409,
    "start_time": "2023-02-25T22:18:39.018Z"
   },
   {
    "duration": 168,
    "start_time": "2023-02-25T22:20:08.981Z"
   },
   {
    "duration": 350,
    "start_time": "2023-02-25T22:20:38.953Z"
   },
   {
    "duration": 477,
    "start_time": "2023-02-25T22:21:11.026Z"
   },
   {
    "duration": 142,
    "start_time": "2023-02-25T22:21:17.863Z"
   },
   {
    "duration": 13,
    "start_time": "2023-02-25T22:21:18.007Z"
   },
   {
    "duration": 2022,
    "start_time": "2023-02-25T22:21:18.021Z"
   },
   {
    "duration": 19,
    "start_time": "2023-02-25T22:21:20.045Z"
   },
   {
    "duration": 25,
    "start_time": "2023-02-25T22:21:20.066Z"
   },
   {
    "duration": 15,
    "start_time": "2023-02-25T22:21:20.092Z"
   },
   {
    "duration": 53,
    "start_time": "2023-02-25T22:21:20.109Z"
   },
   {
    "duration": 78,
    "start_time": "2023-02-25T22:21:20.163Z"
   },
   {
    "duration": 16,
    "start_time": "2023-02-25T22:21:20.242Z"
   },
   {
    "duration": 28,
    "start_time": "2023-02-25T22:21:20.261Z"
   },
   {
    "duration": 18,
    "start_time": "2023-02-25T22:21:20.297Z"
   },
   {
    "duration": 38,
    "start_time": "2023-02-25T22:21:20.317Z"
   },
   {
    "duration": 68,
    "start_time": "2023-02-25T22:21:20.356Z"
   },
   {
    "duration": 163,
    "start_time": "2023-02-25T22:21:20.426Z"
   },
   {
    "duration": 14,
    "start_time": "2023-02-25T22:21:20.591Z"
   },
   {
    "duration": 52,
    "start_time": "2023-02-25T22:21:20.606Z"
   },
   {
    "duration": 44,
    "start_time": "2023-02-25T22:21:20.659Z"
   },
   {
    "duration": 36,
    "start_time": "2023-02-25T22:21:20.705Z"
   },
   {
    "duration": 36,
    "start_time": "2023-02-25T22:21:20.743Z"
   },
   {
    "duration": 95,
    "start_time": "2023-02-25T22:21:20.781Z"
   },
   {
    "duration": 143,
    "start_time": "2023-02-25T22:21:20.877Z"
   },
   {
    "duration": 8,
    "start_time": "2023-02-25T22:21:21.021Z"
   },
   {
    "duration": 14,
    "start_time": "2023-02-25T22:21:21.030Z"
   },
   {
    "duration": 24,
    "start_time": "2023-02-25T22:21:21.046Z"
   },
   {
    "duration": 16,
    "start_time": "2023-02-25T22:21:21.072Z"
   },
   {
    "duration": 135,
    "start_time": "2023-02-25T22:21:21.095Z"
   },
   {
    "duration": 17,
    "start_time": "2023-02-25T22:21:21.232Z"
   },
   {
    "duration": 51,
    "start_time": "2023-02-25T22:21:21.253Z"
   },
   {
    "duration": 33,
    "start_time": "2023-02-25T22:21:21.306Z"
   },
   {
    "duration": 7,
    "start_time": "2023-02-25T22:21:21.341Z"
   },
   {
    "duration": 240,
    "start_time": "2023-02-25T22:21:21.349Z"
   },
   {
    "duration": 17,
    "start_time": "2023-02-25T22:21:21.590Z"
   },
   {
    "duration": 14,
    "start_time": "2023-02-25T22:21:21.608Z"
   },
   {
    "duration": 17,
    "start_time": "2023-02-25T22:21:21.623Z"
   },
   {
    "duration": 15,
    "start_time": "2023-02-25T22:21:21.641Z"
   },
   {
    "duration": 464,
    "start_time": "2023-02-25T22:21:21.657Z"
   },
   {
    "duration": 155,
    "start_time": "2023-02-25T22:21:22.123Z"
   },
   {
    "duration": 191,
    "start_time": "2023-02-25T22:21:22.280Z"
   },
   {
    "duration": 172,
    "start_time": "2023-02-25T22:21:22.472Z"
   },
   {
    "duration": 177,
    "start_time": "2023-02-25T22:21:22.646Z"
   },
   {
    "duration": 195,
    "start_time": "2023-02-25T22:21:22.824Z"
   },
   {
    "duration": 188,
    "start_time": "2023-02-25T22:21:23.021Z"
   },
   {
    "duration": 188,
    "start_time": "2023-02-25T22:21:23.212Z"
   },
   {
    "duration": 251,
    "start_time": "2023-02-25T22:21:23.403Z"
   },
   {
    "duration": 222,
    "start_time": "2023-02-25T22:21:23.656Z"
   },
   {
    "duration": 188,
    "start_time": "2023-02-25T22:21:23.886Z"
   },
   {
    "duration": 192,
    "start_time": "2023-02-25T22:21:24.076Z"
   },
   {
    "duration": 199,
    "start_time": "2023-02-25T22:21:24.269Z"
   },
   {
    "duration": 386,
    "start_time": "2023-02-25T22:21:24.470Z"
   },
   {
    "duration": 243,
    "start_time": "2023-02-25T22:21:24.858Z"
   },
   {
    "duration": 353,
    "start_time": "2023-02-25T22:21:25.102Z"
   },
   {
    "duration": 308,
    "start_time": "2023-02-25T22:21:25.457Z"
   },
   {
    "duration": 140,
    "start_time": "2023-02-25T22:23:08.538Z"
   },
   {
    "duration": 191,
    "start_time": "2023-02-25T22:23:16.973Z"
   },
   {
    "duration": 4,
    "start_time": "2023-02-25T22:27:02.270Z"
   },
   {
    "duration": 705,
    "start_time": "2023-02-26T07:36:36.011Z"
   },
   {
    "duration": 15,
    "start_time": "2023-02-26T07:36:36.717Z"
   },
   {
    "duration": 2661,
    "start_time": "2023-02-26T07:36:36.734Z"
   },
   {
    "duration": 25,
    "start_time": "2023-02-26T07:36:39.397Z"
   },
   {
    "duration": 9,
    "start_time": "2023-02-26T07:36:39.424Z"
   },
   {
    "duration": 24,
    "start_time": "2023-02-26T07:36:39.435Z"
   },
   {
    "duration": 19,
    "start_time": "2023-02-26T07:36:39.460Z"
   },
   {
    "duration": 54,
    "start_time": "2023-02-26T07:36:39.481Z"
   },
   {
    "duration": 17,
    "start_time": "2023-02-26T07:36:39.537Z"
   },
   {
    "duration": 31,
    "start_time": "2023-02-26T07:36:39.557Z"
   },
   {
    "duration": 5,
    "start_time": "2023-02-26T07:36:39.590Z"
   },
   {
    "duration": 22,
    "start_time": "2023-02-26T07:36:39.597Z"
   },
   {
    "duration": 32,
    "start_time": "2023-02-26T07:36:39.621Z"
   },
   {
    "duration": 149,
    "start_time": "2023-02-26T07:36:39.655Z"
   },
   {
    "duration": 8,
    "start_time": "2023-02-26T07:36:39.806Z"
   },
   {
    "duration": 16,
    "start_time": "2023-02-26T07:36:39.815Z"
   },
   {
    "duration": 25,
    "start_time": "2023-02-26T07:36:39.833Z"
   },
   {
    "duration": 10,
    "start_time": "2023-02-26T07:36:39.859Z"
   },
   {
    "duration": 14,
    "start_time": "2023-02-26T07:36:39.870Z"
   },
   {
    "duration": 24,
    "start_time": "2023-02-26T07:36:39.885Z"
   },
   {
    "duration": 128,
    "start_time": "2023-02-26T07:36:39.910Z"
   },
   {
    "duration": 7,
    "start_time": "2023-02-26T07:36:40.040Z"
   },
   {
    "duration": 17,
    "start_time": "2023-02-26T07:36:40.048Z"
   },
   {
    "duration": 20,
    "start_time": "2023-02-26T07:36:40.067Z"
   },
   {
    "duration": 17,
    "start_time": "2023-02-26T07:36:40.089Z"
   },
   {
    "duration": 182,
    "start_time": "2023-02-26T07:36:40.126Z"
   },
   {
    "duration": 25,
    "start_time": "2023-02-26T07:36:40.311Z"
   },
   {
    "duration": 53,
    "start_time": "2023-02-26T07:36:40.341Z"
   },
   {
    "duration": 15,
    "start_time": "2023-02-26T07:36:40.395Z"
   },
   {
    "duration": 8,
    "start_time": "2023-02-26T07:36:40.411Z"
   },
   {
    "duration": 142,
    "start_time": "2023-02-26T07:36:40.421Z"
   },
   {
    "duration": 15,
    "start_time": "2023-02-26T07:36:40.565Z"
   },
   {
    "duration": 10,
    "start_time": "2023-02-26T07:36:40.582Z"
   },
   {
    "duration": 49,
    "start_time": "2023-02-26T07:36:40.594Z"
   },
   {
    "duration": 38,
    "start_time": "2023-02-26T07:36:40.645Z"
   },
   {
    "duration": 544,
    "start_time": "2023-02-26T07:36:40.686Z"
   },
   {
    "duration": 171,
    "start_time": "2023-02-26T07:36:41.232Z"
   },
   {
    "duration": 205,
    "start_time": "2023-02-26T07:36:41.405Z"
   },
   {
    "duration": 191,
    "start_time": "2023-02-26T07:36:41.612Z"
   },
   {
    "duration": 195,
    "start_time": "2023-02-26T07:36:41.805Z"
   },
   {
    "duration": 213,
    "start_time": "2023-02-26T07:36:42.002Z"
   },
   {
    "duration": 189,
    "start_time": "2023-02-26T07:36:42.217Z"
   },
   {
    "duration": 185,
    "start_time": "2023-02-26T07:36:42.407Z"
   },
   {
    "duration": 203,
    "start_time": "2023-02-26T07:36:42.594Z"
   },
   {
    "duration": 209,
    "start_time": "2023-02-26T07:36:42.799Z"
   },
   {
    "duration": 282,
    "start_time": "2023-02-26T07:36:43.010Z"
   },
   {
    "duration": 203,
    "start_time": "2023-02-26T07:36:43.294Z"
   },
   {
    "duration": 189,
    "start_time": "2023-02-26T07:36:43.499Z"
   },
   {
    "duration": 339,
    "start_time": "2023-02-26T07:36:43.689Z"
   },
   {
    "duration": 215,
    "start_time": "2023-02-26T07:36:44.029Z"
   },
   {
    "duration": 302,
    "start_time": "2023-02-26T07:36:44.245Z"
   },
   {
    "duration": 157,
    "start_time": "2023-02-26T07:36:44.549Z"
   },
   {
    "duration": 3,
    "start_time": "2023-02-26T07:36:44.708Z"
   },
   {
    "duration": 19,
    "start_time": "2023-02-26T07:44:22.107Z"
   },
   {
    "duration": 16,
    "start_time": "2023-02-26T07:44:40.717Z"
   },
   {
    "duration": 152,
    "start_time": "2023-02-26T07:45:12.991Z"
   },
   {
    "duration": 232,
    "start_time": "2023-02-26T07:45:27.380Z"
   },
   {
    "duration": 16,
    "start_time": "2023-02-26T07:46:14.082Z"
   },
   {
    "duration": 114,
    "start_time": "2023-02-26T07:47:37.996Z"
   },
   {
    "duration": 182,
    "start_time": "2023-02-26T07:47:50.091Z"
   },
   {
    "duration": 29101,
    "start_time": "2023-02-26T07:49:51.219Z"
   },
   {
    "duration": 0,
    "start_time": "2023-02-26T07:50:20.322Z"
   },
   {
    "duration": 0,
    "start_time": "2023-02-26T07:51:07.085Z"
   },
   {
    "duration": 0,
    "start_time": "2023-02-26T07:51:07.085Z"
   },
   {
    "duration": 0,
    "start_time": "2023-02-26T07:51:07.087Z"
   },
   {
    "duration": 0,
    "start_time": "2023-02-26T07:51:07.088Z"
   },
   {
    "duration": 0,
    "start_time": "2023-02-26T07:51:07.089Z"
   },
   {
    "duration": 0,
    "start_time": "2023-02-26T07:51:07.090Z"
   },
   {
    "duration": 0,
    "start_time": "2023-02-26T07:51:07.091Z"
   },
   {
    "duration": 0,
    "start_time": "2023-02-26T07:51:07.092Z"
   },
   {
    "duration": 0,
    "start_time": "2023-02-26T07:51:07.093Z"
   },
   {
    "duration": 0,
    "start_time": "2023-02-26T07:51:07.094Z"
   },
   {
    "duration": 0,
    "start_time": "2023-02-26T07:51:07.095Z"
   },
   {
    "duration": 0,
    "start_time": "2023-02-26T07:51:07.096Z"
   },
   {
    "duration": 0,
    "start_time": "2023-02-26T07:51:07.097Z"
   },
   {
    "duration": 0,
    "start_time": "2023-02-26T07:51:07.098Z"
   },
   {
    "duration": 0,
    "start_time": "2023-02-26T07:51:07.099Z"
   },
   {
    "duration": 0,
    "start_time": "2023-02-26T07:51:07.100Z"
   },
   {
    "duration": 0,
    "start_time": "2023-02-26T07:51:07.101Z"
   },
   {
    "duration": 0,
    "start_time": "2023-02-26T07:51:07.102Z"
   },
   {
    "duration": 0,
    "start_time": "2023-02-26T07:51:07.103Z"
   },
   {
    "duration": 0,
    "start_time": "2023-02-26T07:51:07.104Z"
   },
   {
    "duration": 0,
    "start_time": "2023-02-26T07:51:07.106Z"
   },
   {
    "duration": 0,
    "start_time": "2023-02-26T07:51:07.106Z"
   },
   {
    "duration": 0,
    "start_time": "2023-02-26T07:51:07.108Z"
   },
   {
    "duration": 0,
    "start_time": "2023-02-26T07:51:07.127Z"
   },
   {
    "duration": 0,
    "start_time": "2023-02-26T07:51:07.129Z"
   },
   {
    "duration": 0,
    "start_time": "2023-02-26T07:51:07.130Z"
   },
   {
    "duration": 0,
    "start_time": "2023-02-26T07:51:07.131Z"
   },
   {
    "duration": 0,
    "start_time": "2023-02-26T07:51:07.132Z"
   },
   {
    "duration": 0,
    "start_time": "2023-02-26T07:51:07.133Z"
   },
   {
    "duration": 0,
    "start_time": "2023-02-26T07:51:07.134Z"
   },
   {
    "duration": 0,
    "start_time": "2023-02-26T07:51:07.135Z"
   },
   {
    "duration": 0,
    "start_time": "2023-02-26T07:51:07.136Z"
   },
   {
    "duration": 0,
    "start_time": "2023-02-26T07:51:07.137Z"
   },
   {
    "duration": 0,
    "start_time": "2023-02-26T07:51:07.139Z"
   },
   {
    "duration": 0,
    "start_time": "2023-02-26T07:51:07.140Z"
   },
   {
    "duration": 0,
    "start_time": "2023-02-26T07:51:07.141Z"
   },
   {
    "duration": 0,
    "start_time": "2023-02-26T07:51:07.142Z"
   },
   {
    "duration": 0,
    "start_time": "2023-02-26T07:51:07.143Z"
   },
   {
    "duration": 0,
    "start_time": "2023-02-26T07:51:07.144Z"
   },
   {
    "duration": 0,
    "start_time": "2023-02-26T07:51:07.145Z"
   },
   {
    "duration": 0,
    "start_time": "2023-02-26T07:51:07.146Z"
   },
   {
    "duration": 0,
    "start_time": "2023-02-26T07:51:07.147Z"
   },
   {
    "duration": 0,
    "start_time": "2023-02-26T07:51:07.148Z"
   },
   {
    "duration": 0,
    "start_time": "2023-02-26T07:51:07.149Z"
   },
   {
    "duration": 0,
    "start_time": "2023-02-26T07:51:07.150Z"
   },
   {
    "duration": 0,
    "start_time": "2023-02-26T07:51:07.151Z"
   },
   {
    "duration": 0,
    "start_time": "2023-02-26T07:51:07.151Z"
   },
   {
    "duration": 0,
    "start_time": "2023-02-26T07:51:07.152Z"
   },
   {
    "duration": 0,
    "start_time": "2023-02-26T07:51:07.154Z"
   },
   {
    "duration": 0,
    "start_time": "2023-02-26T07:51:07.154Z"
   },
   {
    "duration": 0,
    "start_time": "2023-02-26T07:51:07.156Z"
   },
   {
    "duration": 0,
    "start_time": "2023-02-26T07:51:07.157Z"
   },
   {
    "duration": 0,
    "start_time": "2023-02-26T07:51:07.158Z"
   },
   {
    "duration": 115,
    "start_time": "2023-02-26T07:51:20.147Z"
   },
   {
    "duration": 103,
    "start_time": "2023-02-26T07:51:28.836Z"
   },
   {
    "duration": 14,
    "start_time": "2023-02-26T07:51:28.941Z"
   },
   {
    "duration": 2074,
    "start_time": "2023-02-26T07:51:28.956Z"
   },
   {
    "duration": 22,
    "start_time": "2023-02-26T07:51:31.031Z"
   },
   {
    "duration": 12,
    "start_time": "2023-02-26T07:51:31.055Z"
   },
   {
    "duration": 26,
    "start_time": "2023-02-26T07:51:31.068Z"
   },
   {
    "duration": 42,
    "start_time": "2023-02-26T07:51:31.096Z"
   },
   {
    "duration": 51,
    "start_time": "2023-02-26T07:51:31.140Z"
   },
   {
    "duration": 16,
    "start_time": "2023-02-26T07:51:31.193Z"
   },
   {
    "duration": 26,
    "start_time": "2023-02-26T07:51:31.211Z"
   },
   {
    "duration": 10,
    "start_time": "2023-02-26T07:51:31.238Z"
   },
   {
    "duration": 19,
    "start_time": "2023-02-26T07:51:31.249Z"
   },
   {
    "duration": 30,
    "start_time": "2023-02-26T07:51:31.269Z"
   },
   {
    "duration": 137,
    "start_time": "2023-02-26T07:51:31.302Z"
   },
   {
    "duration": 7,
    "start_time": "2023-02-26T07:51:31.441Z"
   },
   {
    "duration": 12,
    "start_time": "2023-02-26T07:51:31.449Z"
   },
   {
    "duration": 9,
    "start_time": "2023-02-26T07:51:31.463Z"
   },
   {
    "duration": 18,
    "start_time": "2023-02-26T07:51:31.473Z"
   },
   {
    "duration": 13,
    "start_time": "2023-02-26T07:51:31.492Z"
   },
   {
    "duration": 10,
    "start_time": "2023-02-26T07:51:31.528Z"
   },
   {
    "duration": 121,
    "start_time": "2023-02-26T07:51:31.540Z"
   },
   {
    "duration": 7,
    "start_time": "2023-02-26T07:51:31.663Z"
   },
   {
    "duration": 8,
    "start_time": "2023-02-26T07:51:31.672Z"
   },
   {
    "duration": 18,
    "start_time": "2023-02-26T07:51:31.682Z"
   },
   {
    "duration": 35,
    "start_time": "2023-02-26T07:51:31.702Z"
   },
   {
    "duration": 169,
    "start_time": "2023-02-26T07:51:31.739Z"
   },
   {
    "duration": 22,
    "start_time": "2023-02-26T07:51:31.910Z"
   },
   {
    "duration": 20,
    "start_time": "2023-02-26T07:51:31.934Z"
   },
   {
    "duration": 22,
    "start_time": "2023-02-26T07:51:31.956Z"
   },
   {
    "duration": 9,
    "start_time": "2023-02-26T07:51:31.980Z"
   },
   {
    "duration": 161,
    "start_time": "2023-02-26T07:51:31.990Z"
   },
   {
    "duration": 12,
    "start_time": "2023-02-26T07:51:32.152Z"
   },
   {
    "duration": 9,
    "start_time": "2023-02-26T07:51:32.166Z"
   },
   {
    "duration": 29,
    "start_time": "2023-02-26T07:51:32.176Z"
   },
   {
    "duration": 30,
    "start_time": "2023-02-26T07:51:32.207Z"
   },
   {
    "duration": 437,
    "start_time": "2023-02-26T07:51:32.239Z"
   },
   {
    "duration": 166,
    "start_time": "2023-02-26T07:51:32.678Z"
   },
   {
    "duration": 189,
    "start_time": "2023-02-26T07:51:32.846Z"
   },
   {
    "duration": 180,
    "start_time": "2023-02-26T07:51:33.036Z"
   },
   {
    "duration": 193,
    "start_time": "2023-02-26T07:51:33.217Z"
   },
   {
    "duration": 197,
    "start_time": "2023-02-26T07:51:33.414Z"
   },
   {
    "duration": 183,
    "start_time": "2023-02-26T07:51:33.612Z"
   },
   {
    "duration": 174,
    "start_time": "2023-02-26T07:51:33.796Z"
   },
   {
    "duration": 164,
    "start_time": "2023-02-26T07:51:33.971Z"
   },
   {
    "duration": 208,
    "start_time": "2023-02-26T07:51:34.136Z"
   },
   {
    "duration": 186,
    "start_time": "2023-02-26T07:51:34.345Z"
   },
   {
    "duration": 189,
    "start_time": "2023-02-26T07:51:34.533Z"
   },
   {
    "duration": 186,
    "start_time": "2023-02-26T07:51:34.727Z"
   },
   {
    "duration": 347,
    "start_time": "2023-02-26T07:51:34.915Z"
   },
   {
    "duration": 204,
    "start_time": "2023-02-26T07:51:35.264Z"
   },
   {
    "duration": 1135,
    "start_time": "2023-02-26T07:51:35.470Z"
   },
   {
    "duration": 150,
    "start_time": "2023-02-26T07:51:36.607Z"
   },
   {
    "duration": 30339,
    "start_time": "2023-02-26T07:51:41.991Z"
   },
   {
    "duration": 154,
    "start_time": "2023-02-26T07:52:24.912Z"
   },
   {
    "duration": 697,
    "start_time": "2023-02-26T07:53:28.987Z"
   },
   {
    "duration": 119,
    "start_time": "2023-02-26T07:53:56.034Z"
   },
   {
    "duration": 150,
    "start_time": "2023-02-26T07:57:19.691Z"
   },
   {
    "duration": 162,
    "start_time": "2023-02-26T07:58:17.448Z"
   },
   {
    "duration": 203,
    "start_time": "2023-02-26T07:58:29.889Z"
   },
   {
    "duration": 205,
    "start_time": "2023-02-26T07:58:38.426Z"
   },
   {
    "duration": 177,
    "start_time": "2023-02-26T08:00:03.344Z"
   },
   {
    "duration": 195,
    "start_time": "2023-02-26T08:00:15.924Z"
   },
   {
    "duration": 197,
    "start_time": "2023-02-26T08:00:44.968Z"
   },
   {
    "duration": 221,
    "start_time": "2023-02-26T08:01:37.817Z"
   },
   {
    "duration": 23,
    "start_time": "2023-02-26T08:02:10.389Z"
   },
   {
    "duration": 115,
    "start_time": "2023-02-26T08:05:09.012Z"
   },
   {
    "duration": 40,
    "start_time": "2023-02-26T08:05:09.140Z"
   },
   {
    "duration": 2232,
    "start_time": "2023-02-26T08:05:09.201Z"
   },
   {
    "duration": 50,
    "start_time": "2023-02-26T08:05:11.447Z"
   },
   {
    "duration": 20,
    "start_time": "2023-02-26T08:05:11.520Z"
   },
   {
    "duration": 17,
    "start_time": "2023-02-26T08:05:11.565Z"
   },
   {
    "duration": 48,
    "start_time": "2023-02-26T08:05:11.598Z"
   },
   {
    "duration": 49,
    "start_time": "2023-02-26T08:05:11.817Z"
   },
   {
    "duration": 24,
    "start_time": "2023-02-26T08:05:11.876Z"
   },
   {
    "duration": 27,
    "start_time": "2023-02-26T08:05:11.931Z"
   },
   {
    "duration": 23,
    "start_time": "2023-02-26T08:05:11.990Z"
   },
   {
    "duration": 26,
    "start_time": "2023-02-26T08:05:12.061Z"
   },
   {
    "duration": 28,
    "start_time": "2023-02-26T08:05:12.266Z"
   },
   {
    "duration": 184,
    "start_time": "2023-02-26T08:05:12.310Z"
   },
   {
    "duration": 10,
    "start_time": "2023-02-26T08:05:12.529Z"
   },
   {
    "duration": 5,
    "start_time": "2023-02-26T08:05:12.574Z"
   },
   {
    "duration": 8,
    "start_time": "2023-02-26T08:05:12.595Z"
   },
   {
    "duration": 10,
    "start_time": "2023-02-26T08:05:12.778Z"
   },
   {
    "duration": 36,
    "start_time": "2023-02-26T08:05:12.803Z"
   },
   {
    "duration": 10,
    "start_time": "2023-02-26T08:05:12.852Z"
   },
   {
    "duration": 165,
    "start_time": "2023-02-26T08:05:12.887Z"
   },
   {
    "duration": 8,
    "start_time": "2023-02-26T08:05:13.073Z"
   },
   {
    "duration": 10,
    "start_time": "2023-02-26T08:05:13.595Z"
   },
   {
    "duration": 34,
    "start_time": "2023-02-26T08:05:13.805Z"
   },
   {
    "duration": 14,
    "start_time": "2023-02-26T08:05:14.053Z"
   },
   {
    "duration": 180,
    "start_time": "2023-02-26T08:05:14.281Z"
   },
   {
    "duration": 15,
    "start_time": "2023-02-26T08:05:14.678Z"
   },
   {
    "duration": 25,
    "start_time": "2023-02-26T08:05:14.932Z"
   },
   {
    "duration": 19,
    "start_time": "2023-02-26T08:05:16.026Z"
   },
   {
    "duration": 9,
    "start_time": "2023-02-26T08:05:16.246Z"
   },
   {
    "duration": 152,
    "start_time": "2023-02-26T08:05:16.470Z"
   },
   {
    "duration": 12,
    "start_time": "2023-02-26T08:05:16.852Z"
   },
   {
    "duration": 9,
    "start_time": "2023-02-26T08:05:17.075Z"
   },
   {
    "duration": 18,
    "start_time": "2023-02-26T08:05:17.293Z"
   },
   {
    "duration": 21,
    "start_time": "2023-02-26T08:05:17.526Z"
   },
   {
    "duration": 464,
    "start_time": "2023-02-26T08:05:17.914Z"
   },
   {
    "duration": 175,
    "start_time": "2023-02-26T08:05:18.587Z"
   },
   {
    "duration": 201,
    "start_time": "2023-02-26T08:05:19.077Z"
   },
   {
    "duration": 213,
    "start_time": "2023-02-26T08:05:19.472Z"
   },
   {
    "duration": 193,
    "start_time": "2023-02-26T08:05:19.795Z"
   },
   {
    "duration": 240,
    "start_time": "2023-02-26T08:05:20.005Z"
   },
   {
    "duration": 222,
    "start_time": "2023-02-26T08:05:20.363Z"
   },
   {
    "duration": 219,
    "start_time": "2023-02-26T08:05:20.603Z"
   },
   {
    "duration": 1176,
    "start_time": "2023-02-26T08:05:23.050Z"
   },
   {
    "duration": 0,
    "start_time": "2023-02-26T08:05:24.230Z"
   },
   {
    "duration": 0,
    "start_time": "2023-02-26T08:05:24.232Z"
   },
   {
    "duration": 0,
    "start_time": "2023-02-26T08:05:24.235Z"
   },
   {
    "duration": 0,
    "start_time": "2023-02-26T08:05:24.237Z"
   },
   {
    "duration": 0,
    "start_time": "2023-02-26T08:05:24.239Z"
   },
   {
    "duration": 0,
    "start_time": "2023-02-26T08:05:24.241Z"
   },
   {
    "duration": 0,
    "start_time": "2023-02-26T08:05:24.243Z"
   },
   {
    "duration": 0,
    "start_time": "2023-02-26T08:05:24.246Z"
   },
   {
    "duration": 0,
    "start_time": "2023-02-26T08:05:24.248Z"
   },
   {
    "duration": 1211,
    "start_time": "2023-02-26T08:07:54.521Z"
   },
   {
    "duration": 108,
    "start_time": "2023-02-26T08:08:02.913Z"
   },
   {
    "duration": 20,
    "start_time": "2023-02-26T08:08:03.028Z"
   },
   {
    "duration": 2198,
    "start_time": "2023-02-26T08:08:03.050Z"
   },
   {
    "duration": 22,
    "start_time": "2023-02-26T08:08:05.250Z"
   },
   {
    "duration": 10,
    "start_time": "2023-02-26T08:08:05.273Z"
   },
   {
    "duration": 20,
    "start_time": "2023-02-26T08:08:05.285Z"
   },
   {
    "duration": 39,
    "start_time": "2023-02-26T08:08:05.306Z"
   },
   {
    "duration": 40,
    "start_time": "2023-02-26T08:08:05.347Z"
   },
   {
    "duration": 17,
    "start_time": "2023-02-26T08:08:05.389Z"
   },
   {
    "duration": 23,
    "start_time": "2023-02-26T08:08:05.429Z"
   },
   {
    "duration": 6,
    "start_time": "2023-02-26T08:08:05.454Z"
   },
   {
    "duration": 22,
    "start_time": "2023-02-26T08:08:05.462Z"
   },
   {
    "duration": 49,
    "start_time": "2023-02-26T08:08:05.485Z"
   },
   {
    "duration": 150,
    "start_time": "2023-02-26T08:08:05.535Z"
   },
   {
    "duration": 8,
    "start_time": "2023-02-26T08:08:05.687Z"
   },
   {
    "duration": 24,
    "start_time": "2023-02-26T08:08:05.697Z"
   },
   {
    "duration": 14,
    "start_time": "2023-02-26T08:08:05.723Z"
   },
   {
    "duration": 19,
    "start_time": "2023-02-26T08:08:05.738Z"
   },
   {
    "duration": 13,
    "start_time": "2023-02-26T08:08:05.759Z"
   },
   {
    "duration": 11,
    "start_time": "2023-02-26T08:08:05.773Z"
   },
   {
    "duration": 144,
    "start_time": "2023-02-26T08:08:05.786Z"
   },
   {
    "duration": 10,
    "start_time": "2023-02-26T08:08:05.932Z"
   },
   {
    "duration": 14,
    "start_time": "2023-02-26T08:08:05.944Z"
   },
   {
    "duration": 21,
    "start_time": "2023-02-26T08:08:05.960Z"
   },
   {
    "duration": 12,
    "start_time": "2023-02-26T08:08:05.983Z"
   },
   {
    "duration": 188,
    "start_time": "2023-02-26T08:08:05.997Z"
   },
   {
    "duration": 12,
    "start_time": "2023-02-26T08:08:06.187Z"
   },
   {
    "duration": 40,
    "start_time": "2023-02-26T08:08:06.202Z"
   },
   {
    "duration": 14,
    "start_time": "2023-02-26T08:08:06.244Z"
   },
   {
    "duration": 8,
    "start_time": "2023-02-26T08:08:06.260Z"
   },
   {
    "duration": 193,
    "start_time": "2023-02-26T08:08:06.270Z"
   },
   {
    "duration": 13,
    "start_time": "2023-02-26T08:08:06.465Z"
   },
   {
    "duration": 12,
    "start_time": "2023-02-26T08:08:06.480Z"
   },
   {
    "duration": 62,
    "start_time": "2023-02-26T08:08:06.493Z"
   },
   {
    "duration": 24,
    "start_time": "2023-02-26T08:08:06.557Z"
   },
   {
    "duration": 500,
    "start_time": "2023-02-26T08:08:06.583Z"
   },
   {
    "duration": 178,
    "start_time": "2023-02-26T08:08:07.085Z"
   },
   {
    "duration": 202,
    "start_time": "2023-02-26T08:08:07.265Z"
   },
   {
    "duration": 201,
    "start_time": "2023-02-26T08:08:07.469Z"
   },
   {
    "duration": 197,
    "start_time": "2023-02-26T08:08:07.672Z"
   },
   {
    "duration": 209,
    "start_time": "2023-02-26T08:08:07.871Z"
   },
   {
    "duration": 200,
    "start_time": "2023-02-26T08:08:08.082Z"
   },
   {
    "duration": 188,
    "start_time": "2023-02-26T08:08:08.284Z"
   },
   {
    "duration": 178,
    "start_time": "2023-02-26T08:08:08.474Z"
   },
   {
    "duration": 194,
    "start_time": "2023-02-26T08:08:15.245Z"
   },
   {
    "duration": 211,
    "start_time": "2023-02-26T08:08:15.442Z"
   },
   {
    "duration": 186,
    "start_time": "2023-02-26T08:08:15.656Z"
   },
   {
    "duration": 187,
    "start_time": "2023-02-26T08:08:15.844Z"
   },
   {
    "duration": 197,
    "start_time": "2023-02-26T08:08:16.033Z"
   },
   {
    "duration": 367,
    "start_time": "2023-02-26T08:08:16.232Z"
   },
   {
    "duration": 244,
    "start_time": "2023-02-26T08:08:16.601Z"
   },
   {
    "duration": 313,
    "start_time": "2023-02-26T08:08:16.847Z"
   },
   {
    "duration": 162,
    "start_time": "2023-02-26T08:08:17.162Z"
   },
   {
    "duration": 214,
    "start_time": "2023-02-26T08:08:48.547Z"
   },
   {
    "duration": 30656,
    "start_time": "2023-02-26T08:09:02.747Z"
   },
   {
    "duration": 221,
    "start_time": "2023-02-26T08:10:31.872Z"
   },
   {
    "duration": 237,
    "start_time": "2023-02-26T08:10:40.967Z"
   },
   {
    "duration": 163,
    "start_time": "2023-02-26T08:10:46.040Z"
   },
   {
    "duration": 182,
    "start_time": "2023-02-26T08:13:43.297Z"
   },
   {
    "duration": 171,
    "start_time": "2023-02-26T08:14:55.875Z"
   },
   {
    "duration": 169,
    "start_time": "2023-02-26T08:15:11.240Z"
   },
   {
    "duration": 279,
    "start_time": "2023-02-26T08:15:24.325Z"
   },
   {
    "duration": 211,
    "start_time": "2023-02-26T08:22:30.583Z"
   },
   {
    "duration": 203,
    "start_time": "2023-02-26T08:29:31.271Z"
   },
   {
    "duration": 521,
    "start_time": "2023-02-26T08:32:55.759Z"
   },
   {
    "duration": 176,
    "start_time": "2023-02-26T08:34:12.624Z"
   },
   {
    "duration": 313,
    "start_time": "2023-02-26T08:37:24.897Z"
   },
   {
    "duration": 256,
    "start_time": "2023-02-26T08:37:43.026Z"
   },
   {
    "duration": 250,
    "start_time": "2023-02-26T08:37:51.426Z"
   },
   {
    "duration": 169,
    "start_time": "2023-02-26T08:42:09.420Z"
   },
   {
    "duration": 7,
    "start_time": "2023-02-26T08:45:37.843Z"
   },
   {
    "duration": 113,
    "start_time": "2023-02-26T08:46:53.563Z"
   },
   {
    "duration": 15,
    "start_time": "2023-02-26T08:46:53.678Z"
   },
   {
    "duration": 2167,
    "start_time": "2023-02-26T08:46:53.695Z"
   },
   {
    "duration": 25,
    "start_time": "2023-02-26T08:46:55.864Z"
   },
   {
    "duration": 11,
    "start_time": "2023-02-26T08:46:55.892Z"
   },
   {
    "duration": 14,
    "start_time": "2023-02-26T08:46:55.926Z"
   },
   {
    "duration": 23,
    "start_time": "2023-02-26T08:46:55.942Z"
   },
   {
    "duration": 64,
    "start_time": "2023-02-26T08:46:55.967Z"
   },
   {
    "duration": 19,
    "start_time": "2023-02-26T08:46:56.033Z"
   },
   {
    "duration": 21,
    "start_time": "2023-02-26T08:46:56.054Z"
   },
   {
    "duration": 7,
    "start_time": "2023-02-26T08:46:56.077Z"
   },
   {
    "duration": 42,
    "start_time": "2023-02-26T08:46:56.086Z"
   },
   {
    "duration": 40,
    "start_time": "2023-02-26T08:46:56.131Z"
   },
   {
    "duration": 177,
    "start_time": "2023-02-26T08:46:56.176Z"
   },
   {
    "duration": 8,
    "start_time": "2023-02-26T08:46:56.355Z"
   },
   {
    "duration": 14,
    "start_time": "2023-02-26T08:46:56.365Z"
   },
   {
    "duration": 14,
    "start_time": "2023-02-26T08:46:56.381Z"
   },
   {
    "duration": 31,
    "start_time": "2023-02-26T08:46:56.398Z"
   },
   {
    "duration": 16,
    "start_time": "2023-02-26T08:46:56.431Z"
   },
   {
    "duration": 12,
    "start_time": "2023-02-26T08:46:56.449Z"
   },
   {
    "duration": 159,
    "start_time": "2023-02-26T08:46:56.463Z"
   },
   {
    "duration": 8,
    "start_time": "2023-02-26T08:46:56.627Z"
   },
   {
    "duration": 10,
    "start_time": "2023-02-26T08:46:56.637Z"
   },
   {
    "duration": 22,
    "start_time": "2023-02-26T08:46:56.649Z"
   },
   {
    "duration": 13,
    "start_time": "2023-02-26T08:46:56.672Z"
   },
   {
    "duration": 195,
    "start_time": "2023-02-26T08:46:56.687Z"
   },
   {
    "duration": 15,
    "start_time": "2023-02-26T08:46:56.884Z"
   },
   {
    "duration": 42,
    "start_time": "2023-02-26T08:46:56.901Z"
   },
   {
    "duration": 14,
    "start_time": "2023-02-26T08:46:56.944Z"
   },
   {
    "duration": 11,
    "start_time": "2023-02-26T08:46:56.960Z"
   },
   {
    "duration": 163,
    "start_time": "2023-02-26T08:46:56.973Z"
   },
   {
    "duration": 13,
    "start_time": "2023-02-26T08:46:57.138Z"
   },
   {
    "duration": 10,
    "start_time": "2023-02-26T08:46:57.153Z"
   },
   {
    "duration": 19,
    "start_time": "2023-02-26T08:46:57.164Z"
   },
   {
    "duration": 50,
    "start_time": "2023-02-26T08:46:57.184Z"
   },
   {
    "duration": 464,
    "start_time": "2023-02-26T08:46:57.236Z"
   },
   {
    "duration": 167,
    "start_time": "2023-02-26T08:46:57.702Z"
   },
   {
    "duration": 199,
    "start_time": "2023-02-26T08:46:57.871Z"
   },
   {
    "duration": 186,
    "start_time": "2023-02-26T08:46:58.071Z"
   },
   {
    "duration": 204,
    "start_time": "2023-02-26T08:46:58.259Z"
   },
   {
    "duration": 224,
    "start_time": "2023-02-26T08:46:58.468Z"
   },
   {
    "duration": 213,
    "start_time": "2023-02-26T08:46:58.695Z"
   },
   {
    "duration": 189,
    "start_time": "2023-02-26T08:46:58.909Z"
   },
   {
    "duration": 176,
    "start_time": "2023-02-26T08:46:59.100Z"
   },
   {
    "duration": 204,
    "start_time": "2023-02-26T08:46:59.277Z"
   },
   {
    "duration": 196,
    "start_time": "2023-02-26T08:46:59.483Z"
   },
   {
    "duration": 203,
    "start_time": "2023-02-26T08:46:59.680Z"
   },
   {
    "duration": 204,
    "start_time": "2023-02-26T08:46:59.885Z"
   },
   {
    "duration": 391,
    "start_time": "2023-02-26T08:47:00.090Z"
   },
   {
    "duration": 241,
    "start_time": "2023-02-26T08:47:00.483Z"
   },
   {
    "duration": 308,
    "start_time": "2023-02-26T08:47:00.727Z"
   },
   {
    "duration": 151,
    "start_time": "2023-02-26T08:47:01.037Z"
   },
   {
    "duration": 184,
    "start_time": "2023-02-26T08:47:01.190Z"
   },
   {
    "duration": 187,
    "start_time": "2023-02-26T08:47:01.376Z"
   },
   {
    "duration": 171,
    "start_time": "2023-02-26T08:47:01.565Z"
   },
   {
    "duration": 182,
    "start_time": "2023-02-26T08:47:01.738Z"
   },
   {
    "duration": 7,
    "start_time": "2023-02-26T08:47:01.927Z"
   },
   {
    "duration": 43,
    "start_time": "2023-02-26T14:17:36.238Z"
   },
   {
    "duration": 816,
    "start_time": "2023-02-26T14:17:40.221Z"
   },
   {
    "duration": 18,
    "start_time": "2023-02-26T14:17:41.040Z"
   },
   {
    "duration": 2439,
    "start_time": "2023-02-26T14:17:41.060Z"
   },
   {
    "duration": 35,
    "start_time": "2023-02-26T14:17:43.502Z"
   },
   {
    "duration": 13,
    "start_time": "2023-02-26T14:17:43.539Z"
   },
   {
    "duration": 25,
    "start_time": "2023-02-26T14:17:43.553Z"
   },
   {
    "duration": 31,
    "start_time": "2023-02-26T14:17:43.581Z"
   },
   {
    "duration": 70,
    "start_time": "2023-02-26T14:17:43.614Z"
   },
   {
    "duration": 17,
    "start_time": "2023-02-26T14:17:43.686Z"
   },
   {
    "duration": 43,
    "start_time": "2023-02-26T14:17:43.706Z"
   },
   {
    "duration": 8,
    "start_time": "2023-02-26T14:17:43.751Z"
   },
   {
    "duration": 17,
    "start_time": "2023-02-26T14:17:43.761Z"
   },
   {
    "duration": 23,
    "start_time": "2023-02-26T14:17:43.779Z"
   },
   {
    "duration": 159,
    "start_time": "2023-02-26T14:17:43.804Z"
   },
   {
    "duration": 7,
    "start_time": "2023-02-26T14:17:43.965Z"
   },
   {
    "duration": 7,
    "start_time": "2023-02-26T14:17:43.973Z"
   },
   {
    "duration": 11,
    "start_time": "2023-02-26T14:17:43.981Z"
   },
   {
    "duration": 11,
    "start_time": "2023-02-26T14:17:43.993Z"
   },
   {
    "duration": 15,
    "start_time": "2023-02-26T14:17:44.006Z"
   },
   {
    "duration": 34,
    "start_time": "2023-02-26T14:17:44.022Z"
   },
   {
    "duration": 172,
    "start_time": "2023-02-26T14:17:44.058Z"
   },
   {
    "duration": 16,
    "start_time": "2023-02-26T14:17:44.232Z"
   },
   {
    "duration": 10,
    "start_time": "2023-02-26T14:17:44.249Z"
   },
   {
    "duration": 20,
    "start_time": "2023-02-26T14:17:44.261Z"
   },
   {
    "duration": 11,
    "start_time": "2023-02-26T14:17:44.282Z"
   },
   {
    "duration": 176,
    "start_time": "2023-02-26T14:17:44.295Z"
   },
   {
    "duration": 16,
    "start_time": "2023-02-26T14:17:44.472Z"
   },
   {
    "duration": 20,
    "start_time": "2023-02-26T14:17:44.493Z"
   },
   {
    "duration": 35,
    "start_time": "2023-02-26T14:17:44.515Z"
   },
   {
    "duration": 10,
    "start_time": "2023-02-26T14:17:44.552Z"
   },
   {
    "duration": 185,
    "start_time": "2023-02-26T14:17:44.563Z"
   },
   {
    "duration": 11,
    "start_time": "2023-02-26T14:17:44.750Z"
   },
   {
    "duration": 13,
    "start_time": "2023-02-26T14:17:44.762Z"
   },
   {
    "duration": 16,
    "start_time": "2023-02-26T14:17:44.776Z"
   },
   {
    "duration": 17,
    "start_time": "2023-02-26T14:17:44.794Z"
   },
   {
    "duration": 631,
    "start_time": "2023-02-26T14:17:44.812Z"
   },
   {
    "duration": 210,
    "start_time": "2023-02-26T14:17:45.447Z"
   },
   {
    "duration": 203,
    "start_time": "2023-02-26T14:17:45.658Z"
   },
   {
    "duration": 176,
    "start_time": "2023-02-26T14:17:45.862Z"
   },
   {
    "duration": 183,
    "start_time": "2023-02-26T14:17:46.049Z"
   },
   {
    "duration": 226,
    "start_time": "2023-02-26T14:17:46.235Z"
   },
   {
    "duration": 186,
    "start_time": "2023-02-26T14:17:46.463Z"
   },
   {
    "duration": 174,
    "start_time": "2023-02-26T14:17:46.650Z"
   },
   {
    "duration": 171,
    "start_time": "2023-02-26T14:17:46.825Z"
   },
   {
    "duration": 187,
    "start_time": "2023-02-26T14:17:46.997Z"
   },
   {
    "duration": 253,
    "start_time": "2023-02-26T14:17:47.186Z"
   },
   {
    "duration": 186,
    "start_time": "2023-02-26T14:17:47.448Z"
   },
   {
    "duration": 188,
    "start_time": "2023-02-26T14:17:47.635Z"
   },
   {
    "duration": 323,
    "start_time": "2023-02-26T14:17:47.825Z"
   },
   {
    "duration": 199,
    "start_time": "2023-02-26T14:17:48.150Z"
   },
   {
    "duration": 293,
    "start_time": "2023-02-26T14:17:48.350Z"
   },
   {
    "duration": 155,
    "start_time": "2023-02-26T14:17:48.645Z"
   },
   {
    "duration": 174,
    "start_time": "2023-02-26T14:17:48.801Z"
   },
   {
    "duration": 253,
    "start_time": "2023-02-26T14:17:48.976Z"
   },
   {
    "duration": 175,
    "start_time": "2023-02-26T14:17:49.231Z"
   },
   {
    "duration": 161,
    "start_time": "2023-02-26T14:17:49.408Z"
   },
   {
    "duration": 145,
    "start_time": "2023-02-26T14:17:49.570Z"
   },
   {
    "duration": 310,
    "start_time": "2023-02-26T14:17:49.717Z"
   },
   {
    "duration": 8,
    "start_time": "2023-02-26T14:17:50.028Z"
   },
   {
    "duration": 5,
    "start_time": "2023-02-26T14:22:00.106Z"
   },
   {
    "duration": 21,
    "start_time": "2023-02-26T14:22:18.533Z"
   },
   {
    "duration": 31,
    "start_time": "2023-02-26T14:23:08.338Z"
   },
   {
    "duration": 24,
    "start_time": "2023-02-26T14:23:14.267Z"
   },
   {
    "duration": 11,
    "start_time": "2023-02-26T14:24:02.926Z"
   },
   {
    "duration": 24,
    "start_time": "2023-02-26T14:24:10.434Z"
   },
   {
    "duration": 13,
    "start_time": "2023-02-26T14:24:27.667Z"
   },
   {
    "duration": 9,
    "start_time": "2023-02-26T14:25:50.688Z"
   },
   {
    "duration": 11,
    "start_time": "2023-02-26T14:25:52.374Z"
   },
   {
    "duration": 10,
    "start_time": "2023-02-26T14:26:10.940Z"
   },
   {
    "duration": 10,
    "start_time": "2023-02-26T14:26:18.242Z"
   },
   {
    "duration": 14,
    "start_time": "2023-02-26T14:26:36.542Z"
   },
   {
    "duration": 8,
    "start_time": "2023-02-26T14:27:01.018Z"
   },
   {
    "duration": 12,
    "start_time": "2023-02-26T14:27:02.287Z"
   },
   {
    "duration": 44,
    "start_time": "2023-02-26T14:27:28.955Z"
   },
   {
    "duration": 13,
    "start_time": "2023-02-26T14:27:36.061Z"
   },
   {
    "duration": 11,
    "start_time": "2023-02-26T14:27:49.220Z"
   },
   {
    "duration": 115,
    "start_time": "2023-02-26T14:28:02.055Z"
   },
   {
    "duration": 15,
    "start_time": "2023-02-26T14:28:02.173Z"
   },
   {
    "duration": 1971,
    "start_time": "2023-02-26T14:28:02.190Z"
   },
   {
    "duration": 24,
    "start_time": "2023-02-26T14:28:04.163Z"
   },
   {
    "duration": 13,
    "start_time": "2023-02-26T14:28:04.192Z"
   },
   {
    "duration": 14,
    "start_time": "2023-02-26T14:28:04.207Z"
   },
   {
    "duration": 30,
    "start_time": "2023-02-26T14:28:04.248Z"
   },
   {
    "duration": 70,
    "start_time": "2023-02-26T14:28:04.280Z"
   },
   {
    "duration": 27,
    "start_time": "2023-02-26T14:28:04.352Z"
   },
   {
    "duration": 38,
    "start_time": "2023-02-26T14:28:04.381Z"
   },
   {
    "duration": 19,
    "start_time": "2023-02-26T14:28:04.421Z"
   },
   {
    "duration": 31,
    "start_time": "2023-02-26T14:28:04.442Z"
   },
   {
    "duration": 36,
    "start_time": "2023-02-26T14:28:04.475Z"
   },
   {
    "duration": 152,
    "start_time": "2023-02-26T14:28:04.515Z"
   },
   {
    "duration": 8,
    "start_time": "2023-02-26T14:28:04.669Z"
   },
   {
    "duration": 8,
    "start_time": "2023-02-26T14:28:04.679Z"
   },
   {
    "duration": 12,
    "start_time": "2023-02-26T14:28:04.689Z"
   },
   {
    "duration": 13,
    "start_time": "2023-02-26T14:28:04.703Z"
   },
   {
    "duration": 43,
    "start_time": "2023-02-26T14:28:04.718Z"
   },
   {
    "duration": 11,
    "start_time": "2023-02-26T14:28:04.763Z"
   },
   {
    "duration": 155,
    "start_time": "2023-02-26T14:28:04.775Z"
   },
   {
    "duration": 17,
    "start_time": "2023-02-26T14:28:04.932Z"
   },
   {
    "duration": 10,
    "start_time": "2023-02-26T14:28:04.950Z"
   },
   {
    "duration": 17,
    "start_time": "2023-02-26T14:28:04.962Z"
   },
   {
    "duration": 13,
    "start_time": "2023-02-26T14:28:04.981Z"
   },
   {
    "duration": 164,
    "start_time": "2023-02-26T14:28:04.995Z"
   },
   {
    "duration": 12,
    "start_time": "2023-02-26T14:28:05.160Z"
   },
   {
    "duration": 17,
    "start_time": "2023-02-26T14:28:05.174Z"
   },
   {
    "duration": 15,
    "start_time": "2023-02-26T14:28:05.192Z"
   },
   {
    "duration": 38,
    "start_time": "2023-02-26T14:28:05.211Z"
   },
   {
    "duration": 166,
    "start_time": "2023-02-26T14:28:05.251Z"
   },
   {
    "duration": 15,
    "start_time": "2023-02-26T14:28:05.419Z"
   },
   {
    "duration": 9,
    "start_time": "2023-02-26T14:28:05.447Z"
   },
   {
    "duration": 15,
    "start_time": "2023-02-26T14:28:05.457Z"
   },
   {
    "duration": 36,
    "start_time": "2023-02-26T14:28:05.473Z"
   },
   {
    "duration": 509,
    "start_time": "2023-02-26T14:28:05.510Z"
   },
   {
    "duration": 151,
    "start_time": "2023-02-26T14:28:06.020Z"
   },
   {
    "duration": 167,
    "start_time": "2023-02-26T14:28:06.172Z"
   },
   {
    "duration": 158,
    "start_time": "2023-02-26T14:28:06.340Z"
   },
   {
    "duration": 190,
    "start_time": "2023-02-26T14:28:06.499Z"
   },
   {
    "duration": 177,
    "start_time": "2023-02-26T14:28:06.694Z"
   },
   {
    "duration": 169,
    "start_time": "2023-02-26T14:28:06.872Z"
   },
   {
    "duration": 177,
    "start_time": "2023-02-26T14:28:07.048Z"
   },
   {
    "duration": 176,
    "start_time": "2023-02-26T14:28:07.226Z"
   },
   {
    "duration": 186,
    "start_time": "2023-02-26T14:28:07.404Z"
   },
   {
    "duration": 167,
    "start_time": "2023-02-26T14:28:07.591Z"
   },
   {
    "duration": 245,
    "start_time": "2023-02-26T14:28:07.760Z"
   },
   {
    "duration": 167,
    "start_time": "2023-02-26T14:28:08.006Z"
   },
   {
    "duration": 288,
    "start_time": "2023-02-26T14:28:08.175Z"
   },
   {
    "duration": 170,
    "start_time": "2023-02-26T14:28:08.465Z"
   },
   {
    "duration": 269,
    "start_time": "2023-02-26T14:28:08.636Z"
   },
   {
    "duration": 144,
    "start_time": "2023-02-26T14:28:08.907Z"
   },
   {
    "duration": 163,
    "start_time": "2023-02-26T14:28:09.054Z"
   },
   {
    "duration": 170,
    "start_time": "2023-02-26T14:28:09.219Z"
   },
   {
    "duration": 214,
    "start_time": "2023-02-26T14:28:09.391Z"
   },
   {
    "duration": 157,
    "start_time": "2023-02-26T14:28:09.606Z"
   },
   {
    "duration": 138,
    "start_time": "2023-02-26T14:28:09.765Z"
   },
   {
    "duration": 217,
    "start_time": "2023-02-26T14:28:09.905Z"
   },
   {
    "duration": 8,
    "start_time": "2023-02-26T14:28:10.124Z"
   },
   {
    "duration": 8,
    "start_time": "2023-02-26T14:28:51.835Z"
   },
   {
    "duration": 9,
    "start_time": "2023-02-26T14:28:54.855Z"
   },
   {
    "duration": 6,
    "start_time": "2023-02-26T14:29:12.471Z"
   },
   {
    "duration": 7,
    "start_time": "2023-02-26T14:29:18.378Z"
   },
   {
    "duration": 9,
    "start_time": "2023-02-26T14:30:07.555Z"
   },
   {
    "duration": 6,
    "start_time": "2023-02-26T14:30:36.566Z"
   },
   {
    "duration": 9,
    "start_time": "2023-02-26T14:30:46.919Z"
   },
   {
    "duration": 23,
    "start_time": "2023-02-26T14:33:21.988Z"
   },
   {
    "duration": 23,
    "start_time": "2023-02-26T14:33:40.739Z"
   },
   {
    "duration": 27,
    "start_time": "2023-02-26T14:34:34.167Z"
   },
   {
    "duration": 24,
    "start_time": "2023-02-26T14:35:24.054Z"
   },
   {
    "duration": 23,
    "start_time": "2023-02-26T14:35:59.664Z"
   },
   {
    "duration": 23,
    "start_time": "2023-02-26T14:40:59.212Z"
   },
   {
    "duration": 13,
    "start_time": "2023-02-26T14:42:27.734Z"
   },
   {
    "duration": 9,
    "start_time": "2023-02-26T14:43:47.811Z"
   },
   {
    "duration": 9,
    "start_time": "2023-02-26T14:44:01.473Z"
   },
   {
    "duration": 8,
    "start_time": "2023-02-26T14:44:19.416Z"
   },
   {
    "duration": 9,
    "start_time": "2023-02-26T14:44:31.168Z"
   },
   {
    "duration": 3,
    "start_time": "2023-02-26T15:05:47.962Z"
   },
   {
    "duration": 5,
    "start_time": "2023-02-26T15:05:55.494Z"
   },
   {
    "duration": 33,
    "start_time": "2023-02-26T15:06:28.118Z"
   },
   {
    "duration": 38,
    "start_time": "2023-02-26T15:08:15.396Z"
   },
   {
    "duration": 12,
    "start_time": "2023-02-26T15:08:24.353Z"
   },
   {
    "duration": 167,
    "start_time": "2023-02-26T15:09:17.104Z"
   },
   {
    "duration": 13,
    "start_time": "2023-02-26T15:09:17.273Z"
   },
   {
    "duration": 2191,
    "start_time": "2023-02-26T15:09:17.288Z"
   },
   {
    "duration": 31,
    "start_time": "2023-02-26T15:09:19.482Z"
   },
   {
    "duration": 10,
    "start_time": "2023-02-26T15:09:19.515Z"
   },
   {
    "duration": 30,
    "start_time": "2023-02-26T15:09:19.526Z"
   },
   {
    "duration": 19,
    "start_time": "2023-02-26T15:09:19.558Z"
   },
   {
    "duration": 46,
    "start_time": "2023-02-26T15:09:19.579Z"
   },
   {
    "duration": 47,
    "start_time": "2023-02-26T15:09:19.626Z"
   },
   {
    "duration": 37,
    "start_time": "2023-02-26T15:09:24.663Z"
   },
   {
    "duration": 16,
    "start_time": "2023-02-26T15:09:33.857Z"
   },
   {
    "duration": 215,
    "start_time": "2023-02-26T15:10:00.159Z"
   },
   {
    "duration": 17,
    "start_time": "2023-02-26T15:10:00.377Z"
   },
   {
    "duration": 2581,
    "start_time": "2023-02-26T15:10:00.396Z"
   },
   {
    "duration": 25,
    "start_time": "2023-02-26T15:10:02.979Z"
   },
   {
    "duration": 15,
    "start_time": "2023-02-26T15:10:03.007Z"
   },
   {
    "duration": 19,
    "start_time": "2023-02-26T15:10:03.048Z"
   },
   {
    "duration": 29,
    "start_time": "2023-02-26T15:10:03.069Z"
   },
   {
    "duration": 82,
    "start_time": "2023-02-26T15:10:03.100Z"
   },
   {
    "duration": 31,
    "start_time": "2023-02-26T15:10:03.195Z"
   },
   {
    "duration": 41,
    "start_time": "2023-02-26T15:10:03.228Z"
   },
   {
    "duration": 8,
    "start_time": "2023-02-26T15:10:03.272Z"
   },
   {
    "duration": 26,
    "start_time": "2023-02-26T15:10:03.282Z"
   },
   {
    "duration": 61,
    "start_time": "2023-02-26T15:10:03.309Z"
   },
   {
    "duration": 173,
    "start_time": "2023-02-26T15:10:03.375Z"
   },
   {
    "duration": 8,
    "start_time": "2023-02-26T15:10:03.549Z"
   },
   {
    "duration": 9,
    "start_time": "2023-02-26T15:10:03.559Z"
   },
   {
    "duration": 14,
    "start_time": "2023-02-26T15:10:03.569Z"
   },
   {
    "duration": 10,
    "start_time": "2023-02-26T15:10:03.585Z"
   },
   {
    "duration": 52,
    "start_time": "2023-02-26T15:10:03.598Z"
   },
   {
    "duration": 12,
    "start_time": "2023-02-26T15:10:03.652Z"
   },
   {
    "duration": 135,
    "start_time": "2023-02-26T15:10:03.666Z"
   },
   {
    "duration": 8,
    "start_time": "2023-02-26T15:10:03.802Z"
   },
   {
    "duration": 9,
    "start_time": "2023-02-26T15:10:03.812Z"
   },
   {
    "duration": 49,
    "start_time": "2023-02-26T15:10:03.824Z"
   },
   {
    "duration": 17,
    "start_time": "2023-02-26T15:10:03.875Z"
   },
   {
    "duration": 188,
    "start_time": "2023-02-26T15:10:03.894Z"
   },
   {
    "duration": 15,
    "start_time": "2023-02-26T15:10:04.084Z"
   },
   {
    "duration": 27,
    "start_time": "2023-02-26T15:10:04.101Z"
   },
   {
    "duration": 17,
    "start_time": "2023-02-26T15:10:04.147Z"
   },
   {
    "duration": 33,
    "start_time": "2023-02-26T15:10:04.166Z"
   },
   {
    "duration": 144,
    "start_time": "2023-02-26T15:10:04.201Z"
   },
   {
    "duration": 20,
    "start_time": "2023-02-26T15:10:04.347Z"
   },
   {
    "duration": 11,
    "start_time": "2023-02-26T15:10:04.369Z"
   },
   {
    "duration": 20,
    "start_time": "2023-02-26T15:10:04.383Z"
   },
   {
    "duration": 57,
    "start_time": "2023-02-26T15:10:04.405Z"
   },
   {
    "duration": 466,
    "start_time": "2023-02-26T15:10:04.464Z"
   },
   {
    "duration": 173,
    "start_time": "2023-02-26T15:10:04.932Z"
   },
   {
    "duration": 256,
    "start_time": "2023-02-26T15:10:05.106Z"
   },
   {
    "duration": 374,
    "start_time": "2023-02-26T15:10:05.364Z"
   },
   {
    "duration": 209,
    "start_time": "2023-02-26T15:10:05.740Z"
   },
   {
    "duration": 213,
    "start_time": "2023-02-26T15:10:05.955Z"
   },
   {
    "duration": 197,
    "start_time": "2023-02-26T15:10:06.169Z"
   },
   {
    "duration": 187,
    "start_time": "2023-02-26T15:10:06.368Z"
   },
   {
    "duration": 180,
    "start_time": "2023-02-26T15:10:06.557Z"
   },
   {
    "duration": 205,
    "start_time": "2023-02-26T15:10:06.739Z"
   },
   {
    "duration": 185,
    "start_time": "2023-02-26T15:10:06.948Z"
   },
   {
    "duration": 197,
    "start_time": "2023-02-26T15:10:07.135Z"
   },
   {
    "duration": 219,
    "start_time": "2023-02-26T15:10:07.335Z"
   },
   {
    "duration": 447,
    "start_time": "2023-02-26T15:10:07.556Z"
   },
   {
    "duration": 201,
    "start_time": "2023-02-26T15:10:08.005Z"
   },
   {
    "duration": 318,
    "start_time": "2023-02-26T15:10:08.208Z"
   },
   {
    "duration": 182,
    "start_time": "2023-02-26T15:10:08.529Z"
   },
   {
    "duration": 182,
    "start_time": "2023-02-26T15:10:08.713Z"
   },
   {
    "duration": 205,
    "start_time": "2023-02-26T15:10:08.898Z"
   },
   {
    "duration": 172,
    "start_time": "2023-02-26T15:10:09.105Z"
   },
   {
    "duration": 158,
    "start_time": "2023-02-26T15:10:09.278Z"
   },
   {
    "duration": 148,
    "start_time": "2023-02-26T15:10:09.438Z"
   },
   {
    "duration": 312,
    "start_time": "2023-02-26T15:10:09.587Z"
   },
   {
    "duration": 13,
    "start_time": "2023-02-26T15:10:09.901Z"
   },
   {
    "duration": 41,
    "start_time": "2023-02-26T15:10:09.916Z"
   },
   {
    "duration": 4,
    "start_time": "2023-02-26T15:10:38.322Z"
   },
   {
    "duration": 6,
    "start_time": "2023-02-26T15:10:45.948Z"
   },
   {
    "duration": 10,
    "start_time": "2023-02-26T15:12:12.572Z"
   },
   {
    "duration": 50,
    "start_time": "2023-02-26T15:14:59.056Z"
   },
   {
    "duration": 55,
    "start_time": "2023-02-26T15:16:20.421Z"
   },
   {
    "duration": 49,
    "start_time": "2023-02-26T15:16:29.763Z"
   },
   {
    "duration": 91,
    "start_time": "2023-02-26T15:16:41.499Z"
   },
   {
    "duration": 22,
    "start_time": "2023-02-26T15:17:26.790Z"
   },
   {
    "duration": 20,
    "start_time": "2023-02-26T15:17:52.531Z"
   },
   {
    "duration": 11,
    "start_time": "2023-02-26T15:18:30.183Z"
   },
   {
    "duration": 25,
    "start_time": "2023-02-26T15:18:52.395Z"
   },
   {
    "duration": 39,
    "start_time": "2023-02-26T15:19:29.644Z"
   },
   {
    "duration": 47,
    "start_time": "2023-02-26T15:19:38.333Z"
   },
   {
    "duration": 23,
    "start_time": "2023-02-26T15:20:02.120Z"
   },
   {
    "duration": 120,
    "start_time": "2023-02-26T15:20:42.105Z"
   },
   {
    "duration": 22,
    "start_time": "2023-02-26T15:21:51.833Z"
   },
   {
    "duration": 17,
    "start_time": "2023-02-26T15:22:08.744Z"
   },
   {
    "duration": 50,
    "start_time": "2023-02-26T15:22:59.695Z"
   },
   {
    "duration": 13,
    "start_time": "2023-02-26T15:24:35.500Z"
   },
   {
    "duration": 14,
    "start_time": "2023-02-26T15:25:59.564Z"
   },
   {
    "duration": 12,
    "start_time": "2023-02-26T15:26:14.434Z"
   },
   {
    "duration": 14,
    "start_time": "2023-02-26T15:26:23.394Z"
   },
   {
    "duration": 21,
    "start_time": "2023-02-26T15:26:37.798Z"
   },
   {
    "duration": 21,
    "start_time": "2023-02-26T15:27:16.065Z"
   },
   {
    "duration": 20,
    "start_time": "2023-02-26T15:28:45.049Z"
   },
   {
    "duration": 13,
    "start_time": "2023-02-26T15:28:56.902Z"
   },
   {
    "duration": 12,
    "start_time": "2023-02-26T15:29:11.172Z"
   },
   {
    "duration": 34,
    "start_time": "2023-02-26T15:30:39.131Z"
   },
   {
    "duration": 26,
    "start_time": "2023-02-26T15:30:55.279Z"
   },
   {
    "duration": 20,
    "start_time": "2023-02-26T15:31:14.052Z"
   },
   {
    "duration": 167,
    "start_time": "2023-02-26T15:32:08.018Z"
   },
   {
    "duration": 13,
    "start_time": "2023-02-26T15:32:24.964Z"
   },
   {
    "duration": 11,
    "start_time": "2023-02-26T15:32:52.312Z"
   },
   {
    "duration": 15,
    "start_time": "2023-02-26T15:33:53.810Z"
   },
   {
    "duration": 15,
    "start_time": "2023-02-26T15:34:09.819Z"
   },
   {
    "duration": 14,
    "start_time": "2023-02-26T15:35:16.893Z"
   },
   {
    "duration": 162,
    "start_time": "2023-02-26T15:36:27.009Z"
   },
   {
    "duration": 324,
    "start_time": "2023-02-26T16:07:30.231Z"
   },
   {
    "duration": 12,
    "start_time": "2023-02-26T16:07:30.557Z"
   },
   {
    "duration": 1947,
    "start_time": "2023-02-26T16:07:30.571Z"
   },
   {
    "duration": 30,
    "start_time": "2023-02-26T16:07:32.520Z"
   },
   {
    "duration": 8,
    "start_time": "2023-02-26T16:07:32.552Z"
   },
   {
    "duration": 12,
    "start_time": "2023-02-26T16:07:32.561Z"
   },
   {
    "duration": 17,
    "start_time": "2023-02-26T16:07:32.574Z"
   },
   {
    "duration": 60,
    "start_time": "2023-02-26T16:07:32.592Z"
   },
   {
    "duration": 14,
    "start_time": "2023-02-26T16:07:32.654Z"
   },
   {
    "duration": 20,
    "start_time": "2023-02-26T16:07:32.670Z"
   },
   {
    "duration": 5,
    "start_time": "2023-02-26T16:07:32.691Z"
   },
   {
    "duration": 15,
    "start_time": "2023-02-26T16:07:32.698Z"
   },
   {
    "duration": 144,
    "start_time": "2023-02-26T16:07:32.715Z"
   },
   {
    "duration": 145,
    "start_time": "2023-02-26T16:07:32.863Z"
   },
   {
    "duration": 8,
    "start_time": "2023-02-26T16:07:33.010Z"
   },
   {
    "duration": 6,
    "start_time": "2023-02-26T16:07:33.020Z"
   },
   {
    "duration": 27,
    "start_time": "2023-02-26T16:07:33.028Z"
   },
   {
    "duration": 12,
    "start_time": "2023-02-26T16:07:33.056Z"
   },
   {
    "duration": 13,
    "start_time": "2023-02-26T16:07:33.070Z"
   },
   {
    "duration": 10,
    "start_time": "2023-02-26T16:07:33.084Z"
   },
   {
    "duration": 127,
    "start_time": "2023-02-26T16:07:33.095Z"
   },
   {
    "duration": 6,
    "start_time": "2023-02-26T16:07:33.224Z"
   },
   {
    "duration": 20,
    "start_time": "2023-02-26T16:07:33.231Z"
   },
   {
    "duration": 15,
    "start_time": "2023-02-26T16:07:33.253Z"
   },
   {
    "duration": 9,
    "start_time": "2023-02-26T16:07:33.270Z"
   },
   {
    "duration": 154,
    "start_time": "2023-02-26T16:07:33.281Z"
   },
   {
    "duration": 23,
    "start_time": "2023-02-26T16:07:33.437Z"
   },
   {
    "duration": 17,
    "start_time": "2023-02-26T16:07:33.462Z"
   },
   {
    "duration": 12,
    "start_time": "2023-02-26T16:07:33.481Z"
   },
   {
    "duration": 7,
    "start_time": "2023-02-26T16:07:33.494Z"
   },
   {
    "duration": 170,
    "start_time": "2023-02-26T16:07:33.502Z"
   },
   {
    "duration": 12,
    "start_time": "2023-02-26T16:07:33.673Z"
   },
   {
    "duration": 10,
    "start_time": "2023-02-26T16:07:33.686Z"
   },
   {
    "duration": 15,
    "start_time": "2023-02-26T16:07:33.697Z"
   },
   {
    "duration": 47,
    "start_time": "2023-02-26T16:07:33.714Z"
   },
   {
    "duration": 453,
    "start_time": "2023-02-26T16:07:33.763Z"
   },
   {
    "duration": 157,
    "start_time": "2023-02-26T16:07:34.217Z"
   },
   {
    "duration": 176,
    "start_time": "2023-02-26T16:07:34.376Z"
   },
   {
    "duration": 220,
    "start_time": "2023-02-26T16:07:34.554Z"
   },
   {
    "duration": 164,
    "start_time": "2023-02-26T16:07:34.775Z"
   },
   {
    "duration": 261,
    "start_time": "2023-02-26T16:07:34.948Z"
   },
   {
    "duration": 212,
    "start_time": "2023-02-26T16:07:35.214Z"
   },
   {
    "duration": 172,
    "start_time": "2023-02-26T16:07:35.428Z"
   },
   {
    "duration": 155,
    "start_time": "2023-02-26T16:07:35.602Z"
   },
   {
    "duration": 190,
    "start_time": "2023-02-26T16:07:35.759Z"
   },
   {
    "duration": 175,
    "start_time": "2023-02-26T16:07:35.950Z"
   },
   {
    "duration": 169,
    "start_time": "2023-02-26T16:07:36.127Z"
   },
   {
    "duration": 206,
    "start_time": "2023-02-26T16:07:36.297Z"
   },
   {
    "duration": 309,
    "start_time": "2023-02-26T16:07:36.504Z"
   },
   {
    "duration": 201,
    "start_time": "2023-02-26T16:07:36.814Z"
   },
   {
    "duration": 369,
    "start_time": "2023-02-26T16:07:37.017Z"
   },
   {
    "duration": 138,
    "start_time": "2023-02-26T16:07:37.388Z"
   },
   {
    "duration": 163,
    "start_time": "2023-02-26T16:07:37.528Z"
   },
   {
    "duration": 169,
    "start_time": "2023-02-26T16:07:37.693Z"
   },
   {
    "duration": 170,
    "start_time": "2023-02-26T16:07:37.864Z"
   },
   {
    "duration": 169,
    "start_time": "2023-02-26T16:07:38.035Z"
   },
   {
    "duration": 151,
    "start_time": "2023-02-26T16:07:38.206Z"
   },
   {
    "duration": 227,
    "start_time": "2023-02-26T16:07:38.358Z"
   },
   {
    "duration": 8,
    "start_time": "2023-02-26T16:07:38.586Z"
   },
   {
    "duration": 21,
    "start_time": "2023-02-26T16:07:38.595Z"
   },
   {
    "duration": 40,
    "start_time": "2023-02-26T16:07:38.617Z"
   },
   {
    "duration": 166,
    "start_time": "2023-02-26T16:07:38.658Z"
   },
   {
    "duration": 82,
    "start_time": "2023-02-27T07:01:25.793Z"
   },
   {
    "duration": 45,
    "start_time": "2023-02-27T07:07:28.744Z"
   },
   {
    "duration": 592,
    "start_time": "2023-02-27T07:07:34.240Z"
   },
   {
    "duration": 16,
    "start_time": "2023-02-27T07:07:34.834Z"
   },
   {
    "duration": 2747,
    "start_time": "2023-02-27T07:07:34.852Z"
   },
   {
    "duration": 30,
    "start_time": "2023-02-27T07:07:37.602Z"
   },
   {
    "duration": 11,
    "start_time": "2023-02-27T07:07:37.637Z"
   },
   {
    "duration": 17,
    "start_time": "2023-02-27T07:07:37.650Z"
   },
   {
    "duration": 29,
    "start_time": "2023-02-27T07:07:37.669Z"
   },
   {
    "duration": 61,
    "start_time": "2023-02-27T07:07:37.699Z"
   },
   {
    "duration": 19,
    "start_time": "2023-02-27T07:07:37.761Z"
   },
   {
    "duration": 17,
    "start_time": "2023-02-27T07:07:37.782Z"
   },
   {
    "duration": 28,
    "start_time": "2023-02-27T07:07:37.800Z"
   },
   {
    "duration": 22,
    "start_time": "2023-02-27T07:07:37.831Z"
   },
   {
    "duration": 25,
    "start_time": "2023-02-27T07:07:37.855Z"
   },
   {
    "duration": 156,
    "start_time": "2023-02-27T07:07:37.883Z"
   },
   {
    "duration": 9,
    "start_time": "2023-02-27T07:07:38.040Z"
   },
   {
    "duration": 7,
    "start_time": "2023-02-27T07:07:38.051Z"
   },
   {
    "duration": 12,
    "start_time": "2023-02-27T07:07:38.060Z"
   },
   {
    "duration": 10,
    "start_time": "2023-02-27T07:07:38.074Z"
   },
   {
    "duration": 55,
    "start_time": "2023-02-27T07:07:38.086Z"
   },
   {
    "duration": 13,
    "start_time": "2023-02-27T07:07:38.143Z"
   },
   {
    "duration": 134,
    "start_time": "2023-02-27T07:07:38.158Z"
   },
   {
    "duration": 7,
    "start_time": "2023-02-27T07:07:38.294Z"
   },
   {
    "duration": 26,
    "start_time": "2023-02-27T07:07:38.303Z"
   },
   {
    "duration": 24,
    "start_time": "2023-02-27T07:07:38.330Z"
   },
   {
    "duration": 13,
    "start_time": "2023-02-27T07:07:38.357Z"
   },
   {
    "duration": 179,
    "start_time": "2023-02-27T07:07:38.371Z"
   },
   {
    "duration": 13,
    "start_time": "2023-02-27T07:07:38.552Z"
   },
   {
    "duration": 21,
    "start_time": "2023-02-27T07:07:38.567Z"
   },
   {
    "duration": 39,
    "start_time": "2023-02-27T07:07:38.590Z"
   },
   {
    "duration": 18,
    "start_time": "2023-02-27T07:07:38.630Z"
   },
   {
    "duration": 154,
    "start_time": "2023-02-27T07:07:38.650Z"
   },
   {
    "duration": 12,
    "start_time": "2023-02-27T07:07:38.806Z"
   },
   {
    "duration": 21,
    "start_time": "2023-02-27T07:07:38.820Z"
   },
   {
    "duration": 49,
    "start_time": "2023-02-27T07:07:38.843Z"
   },
   {
    "duration": 16,
    "start_time": "2023-02-27T07:07:38.894Z"
   },
   {
    "duration": 571,
    "start_time": "2023-02-27T07:07:38.912Z"
   },
   {
    "duration": 16,
    "start_time": "2023-02-27T07:07:39.485Z"
   },
   {
    "duration": 182,
    "start_time": "2023-02-27T07:07:39.503Z"
   },
   {
    "duration": 201,
    "start_time": "2023-02-27T07:07:39.687Z"
   },
   {
    "duration": 190,
    "start_time": "2023-02-27T07:07:39.889Z"
   },
   {
    "duration": 206,
    "start_time": "2023-02-27T07:07:40.083Z"
   },
   {
    "duration": 278,
    "start_time": "2023-02-27T07:07:40.291Z"
   },
   {
    "duration": 199,
    "start_time": "2023-02-27T07:07:40.570Z"
   },
   {
    "duration": 191,
    "start_time": "2023-02-27T07:07:40.771Z"
   },
   {
    "duration": 182,
    "start_time": "2023-02-27T07:07:40.964Z"
   },
   {
    "duration": 212,
    "start_time": "2023-02-27T07:07:41.147Z"
   },
   {
    "duration": 281,
    "start_time": "2023-02-27T07:07:41.360Z"
   },
   {
    "duration": 199,
    "start_time": "2023-02-27T07:07:41.643Z"
   },
   {
    "duration": 187,
    "start_time": "2023-02-27T07:07:41.844Z"
   },
   {
    "duration": 340,
    "start_time": "2023-02-27T07:07:42.038Z"
   },
   {
    "duration": 213,
    "start_time": "2023-02-27T07:07:42.379Z"
   },
   {
    "duration": 328,
    "start_time": "2023-02-27T07:07:42.594Z"
   },
   {
    "duration": 147,
    "start_time": "2023-02-27T07:07:42.934Z"
   },
   {
    "duration": 178,
    "start_time": "2023-02-27T07:07:43.083Z"
   },
   {
    "duration": 251,
    "start_time": "2023-02-27T07:07:43.262Z"
   },
   {
    "duration": 180,
    "start_time": "2023-02-27T07:07:43.515Z"
   },
   {
    "duration": 168,
    "start_time": "2023-02-27T07:07:43.697Z"
   },
   {
    "duration": 170,
    "start_time": "2023-02-27T07:07:43.867Z"
   },
   {
    "duration": 314,
    "start_time": "2023-02-27T07:07:44.039Z"
   },
   {
    "duration": 11,
    "start_time": "2023-02-27T07:07:44.355Z"
   },
   {
    "duration": 26,
    "start_time": "2023-02-27T07:07:44.368Z"
   },
   {
    "duration": 38,
    "start_time": "2023-02-27T07:07:44.396Z"
   },
   {
    "duration": 188,
    "start_time": "2023-02-27T07:07:44.437Z"
   },
   {
    "duration": 51,
    "start_time": "2023-02-27T08:40:44.723Z"
   },
   {
    "duration": 652,
    "start_time": "2023-02-27T08:40:51.424Z"
   },
   {
    "duration": 16,
    "start_time": "2023-02-27T08:40:52.077Z"
   },
   {
    "duration": 2770,
    "start_time": "2023-02-27T08:40:52.095Z"
   },
   {
    "duration": 27,
    "start_time": "2023-02-27T08:40:54.867Z"
   },
   {
    "duration": 9,
    "start_time": "2023-02-27T08:40:54.896Z"
   },
   {
    "duration": 16,
    "start_time": "2023-02-27T08:40:54.906Z"
   },
   {
    "duration": 30,
    "start_time": "2023-02-27T08:40:54.923Z"
   },
   {
    "duration": 58,
    "start_time": "2023-02-27T08:40:54.955Z"
   },
   {
    "duration": 19,
    "start_time": "2023-02-27T08:40:55.015Z"
   },
   {
    "duration": 27,
    "start_time": "2023-02-27T08:40:55.041Z"
   },
   {
    "duration": 7,
    "start_time": "2023-02-27T08:40:55.070Z"
   },
   {
    "duration": 15,
    "start_time": "2023-02-27T08:40:55.079Z"
   },
   {
    "duration": 50,
    "start_time": "2023-02-27T08:40:55.096Z"
   },
   {
    "duration": 154,
    "start_time": "2023-02-27T08:40:55.148Z"
   },
   {
    "duration": 11,
    "start_time": "2023-02-27T08:40:55.305Z"
   },
   {
    "duration": 24,
    "start_time": "2023-02-27T08:40:55.318Z"
   },
   {
    "duration": 14,
    "start_time": "2023-02-27T08:40:55.345Z"
   },
   {
    "duration": 11,
    "start_time": "2023-02-27T08:40:55.362Z"
   },
   {
    "duration": 22,
    "start_time": "2023-02-27T08:40:55.374Z"
   },
   {
    "duration": 13,
    "start_time": "2023-02-27T08:40:55.397Z"
   },
   {
    "duration": 181,
    "start_time": "2023-02-27T08:40:55.411Z"
   },
   {
    "duration": 11,
    "start_time": "2023-02-27T08:40:55.594Z"
   },
   {
    "duration": 11,
    "start_time": "2023-02-27T08:40:55.607Z"
   },
   {
    "duration": 37,
    "start_time": "2023-02-27T08:40:55.620Z"
   },
   {
    "duration": 12,
    "start_time": "2023-02-27T08:40:55.659Z"
   },
   {
    "duration": 179,
    "start_time": "2023-02-27T08:40:55.673Z"
   },
   {
    "duration": 13,
    "start_time": "2023-02-27T08:40:55.853Z"
   },
   {
    "duration": 21,
    "start_time": "2023-02-27T08:40:55.869Z"
   },
   {
    "duration": 22,
    "start_time": "2023-02-27T08:41:05.059Z"
   },
   {
    "duration": 14,
    "start_time": "2023-02-27T08:41:09.463Z"
   },
   {
    "duration": 16,
    "start_time": "2023-02-27T08:43:39.565Z"
   },
   {
    "duration": 10,
    "start_time": "2023-02-27T08:43:41.134Z"
   },
   {
    "duration": 153,
    "start_time": "2023-02-27T08:44:28.725Z"
   },
   {
    "duration": 21,
    "start_time": "2023-02-27T08:44:28.881Z"
   },
   {
    "duration": 2308,
    "start_time": "2023-02-27T08:44:28.904Z"
   },
   {
    "duration": 30,
    "start_time": "2023-02-27T08:44:31.214Z"
   },
   {
    "duration": 10,
    "start_time": "2023-02-27T08:44:31.246Z"
   },
   {
    "duration": 36,
    "start_time": "2023-02-27T08:44:31.257Z"
   },
   {
    "duration": 47,
    "start_time": "2023-02-27T08:44:31.295Z"
   },
   {
    "duration": 92,
    "start_time": "2023-02-27T08:44:31.345Z"
   },
   {
    "duration": 54,
    "start_time": "2023-02-27T08:44:31.439Z"
   },
   {
    "duration": 46,
    "start_time": "2023-02-27T08:44:31.497Z"
   },
   {
    "duration": 24,
    "start_time": "2023-02-27T08:44:31.545Z"
   },
   {
    "duration": 52,
    "start_time": "2023-02-27T08:44:31.571Z"
   },
   {
    "duration": 38,
    "start_time": "2023-02-27T08:44:31.625Z"
   },
   {
    "duration": 147,
    "start_time": "2023-02-27T08:44:31.665Z"
   },
   {
    "duration": 7,
    "start_time": "2023-02-27T08:44:31.814Z"
   },
   {
    "duration": 44,
    "start_time": "2023-02-27T08:44:31.823Z"
   },
   {
    "duration": 28,
    "start_time": "2023-02-27T08:44:31.869Z"
   },
   {
    "duration": 15,
    "start_time": "2023-02-27T08:44:31.899Z"
   },
   {
    "duration": 24,
    "start_time": "2023-02-27T08:44:31.916Z"
   },
   {
    "duration": 14,
    "start_time": "2023-02-27T08:44:31.941Z"
   },
   {
    "duration": 144,
    "start_time": "2023-02-27T08:44:31.957Z"
   },
   {
    "duration": 9,
    "start_time": "2023-02-27T08:44:32.103Z"
   },
   {
    "duration": 27,
    "start_time": "2023-02-27T08:44:32.114Z"
   },
   {
    "duration": 22,
    "start_time": "2023-02-27T08:44:32.143Z"
   },
   {
    "duration": 16,
    "start_time": "2023-02-27T08:44:32.167Z"
   },
   {
    "duration": 175,
    "start_time": "2023-02-27T08:44:37.537Z"
   },
   {
    "duration": 271,
    "start_time": "2023-02-27T08:44:53.092Z"
   },
   {
    "duration": 110,
    "start_time": "2023-02-27T08:44:59.190Z"
   },
   {
    "duration": 17,
    "start_time": "2023-02-27T08:44:59.302Z"
   },
   {
    "duration": 2101,
    "start_time": "2023-02-27T08:44:59.340Z"
   },
   {
    "duration": 33,
    "start_time": "2023-02-27T08:45:01.444Z"
   },
   {
    "duration": 37,
    "start_time": "2023-02-27T08:45:01.479Z"
   },
   {
    "duration": 70,
    "start_time": "2023-02-27T08:45:01.518Z"
   },
   {
    "duration": 73,
    "start_time": "2023-02-27T08:45:01.590Z"
   },
   {
    "duration": 78,
    "start_time": "2023-02-27T08:45:01.665Z"
   },
   {
    "duration": 19,
    "start_time": "2023-02-27T08:45:01.745Z"
   },
   {
    "duration": 58,
    "start_time": "2023-02-27T08:45:01.766Z"
   },
   {
    "duration": 55,
    "start_time": "2023-02-27T08:45:01.826Z"
   },
   {
    "duration": 51,
    "start_time": "2023-02-27T08:45:01.884Z"
   },
   {
    "duration": 133,
    "start_time": "2023-02-27T08:45:01.937Z"
   },
   {
    "duration": 173,
    "start_time": "2023-02-27T08:45:02.072Z"
   },
   {
    "duration": 8,
    "start_time": "2023-02-27T08:45:02.248Z"
   },
   {
    "duration": 18,
    "start_time": "2023-02-27T08:45:02.258Z"
   },
   {
    "duration": 28,
    "start_time": "2023-02-27T08:45:02.278Z"
   },
   {
    "duration": 12,
    "start_time": "2023-02-27T08:45:02.308Z"
   },
   {
    "duration": 34,
    "start_time": "2023-02-27T08:45:02.322Z"
   },
   {
    "duration": 12,
    "start_time": "2023-02-27T08:45:02.358Z"
   },
   {
    "duration": 141,
    "start_time": "2023-02-27T08:45:02.372Z"
   },
   {
    "duration": 8,
    "start_time": "2023-02-27T08:45:02.515Z"
   },
   {
    "duration": 22,
    "start_time": "2023-02-27T08:45:02.525Z"
   },
   {
    "duration": 25,
    "start_time": "2023-02-27T08:45:02.549Z"
   },
   {
    "duration": 15,
    "start_time": "2023-02-27T08:45:02.576Z"
   },
   {
    "duration": 161,
    "start_time": "2023-02-27T08:45:06.176Z"
   },
   {
    "duration": 170,
    "start_time": "2023-02-27T08:45:15.267Z"
   },
   {
    "duration": 15,
    "start_time": "2023-02-27T08:45:22.084Z"
   },
   {
    "duration": 21,
    "start_time": "2023-02-27T08:45:24.993Z"
   },
   {
    "duration": 14,
    "start_time": "2023-02-27T08:45:52.570Z"
   },
   {
    "duration": 10,
    "start_time": "2023-02-27T08:45:55.093Z"
   },
   {
    "duration": 14,
    "start_time": "2023-02-27T08:47:31.187Z"
   },
   {
    "duration": 165,
    "start_time": "2023-02-27T08:47:35.882Z"
   },
   {
    "duration": 14,
    "start_time": "2023-02-27T08:47:36.050Z"
   },
   {
    "duration": 19,
    "start_time": "2023-02-27T08:48:25.786Z"
   },
   {
    "duration": 11,
    "start_time": "2023-02-27T08:48:59.471Z"
   },
   {
    "duration": 7,
    "start_time": "2023-02-27T08:50:27.412Z"
   },
   {
    "duration": 12,
    "start_time": "2023-02-27T08:51:37.437Z"
   },
   {
    "duration": 7,
    "start_time": "2023-02-27T08:51:40.769Z"
   },
   {
    "duration": 127,
    "start_time": "2023-02-27T08:52:18.417Z"
   },
   {
    "duration": 15,
    "start_time": "2023-02-27T08:52:18.546Z"
   },
   {
    "duration": 2331,
    "start_time": "2023-02-27T08:52:18.563Z"
   },
   {
    "duration": 22,
    "start_time": "2023-02-27T08:52:20.897Z"
   },
   {
    "duration": 27,
    "start_time": "2023-02-27T08:52:20.921Z"
   },
   {
    "duration": 12,
    "start_time": "2023-02-27T08:52:20.950Z"
   },
   {
    "duration": 20,
    "start_time": "2023-02-27T08:52:20.964Z"
   },
   {
    "duration": 67,
    "start_time": "2023-02-27T08:52:20.986Z"
   },
   {
    "duration": 19,
    "start_time": "2023-02-27T08:52:21.055Z"
   },
   {
    "duration": 31,
    "start_time": "2023-02-27T08:52:21.077Z"
   },
   {
    "duration": 11,
    "start_time": "2023-02-27T08:52:21.110Z"
   },
   {
    "duration": 27,
    "start_time": "2023-02-27T08:52:21.123Z"
   },
   {
    "duration": 27,
    "start_time": "2023-02-27T08:52:21.152Z"
   },
   {
    "duration": 162,
    "start_time": "2023-02-27T08:52:21.181Z"
   },
   {
    "duration": 8,
    "start_time": "2023-02-27T08:52:21.344Z"
   },
   {
    "duration": 38,
    "start_time": "2023-02-27T08:52:21.355Z"
   },
   {
    "duration": 29,
    "start_time": "2023-02-27T08:52:21.395Z"
   },
   {
    "duration": 11,
    "start_time": "2023-02-27T08:52:21.426Z"
   },
   {
    "duration": 28,
    "start_time": "2023-02-27T08:52:21.439Z"
   },
   {
    "duration": 14,
    "start_time": "2023-02-27T08:52:21.469Z"
   },
   {
    "duration": 129,
    "start_time": "2023-02-27T08:52:21.485Z"
   },
   {
    "duration": 8,
    "start_time": "2023-02-27T08:52:21.616Z"
   },
   {
    "duration": 22,
    "start_time": "2023-02-27T08:52:21.625Z"
   },
   {
    "duration": 21,
    "start_time": "2023-02-27T08:52:21.649Z"
   },
   {
    "duration": 13,
    "start_time": "2023-02-27T08:52:21.671Z"
   },
   {
    "duration": 184,
    "start_time": "2023-02-27T08:52:21.686Z"
   },
   {
    "duration": 16,
    "start_time": "2023-02-27T08:52:21.872Z"
   },
   {
    "duration": 43,
    "start_time": "2023-02-27T08:52:21.892Z"
   },
   {
    "duration": 17,
    "start_time": "2023-02-27T08:52:21.945Z"
   },
   {
    "duration": 165,
    "start_time": "2023-02-27T08:52:21.964Z"
   },
   {
    "duration": 17,
    "start_time": "2023-02-27T08:52:22.131Z"
   },
   {
    "duration": 12,
    "start_time": "2023-02-27T08:52:22.150Z"
   },
   {
    "duration": 18,
    "start_time": "2023-02-27T08:52:22.164Z"
   },
   {
    "duration": 12,
    "start_time": "2023-02-27T08:52:22.184Z"
   },
   {
    "duration": 7,
    "start_time": "2023-02-27T08:52:27.701Z"
   },
   {
    "duration": 6,
    "start_time": "2023-02-27T08:53:33.456Z"
   },
   {
    "duration": 7,
    "start_time": "2023-02-27T08:53:40.533Z"
   },
   {
    "duration": 22,
    "start_time": "2023-02-27T08:54:59.974Z"
   },
   {
    "duration": 44,
    "start_time": "2023-02-27T08:55:07.279Z"
   },
   {
    "duration": 116,
    "start_time": "2023-02-27T08:55:46.579Z"
   },
   {
    "duration": 17,
    "start_time": "2023-02-27T08:55:46.698Z"
   },
   {
    "duration": 2379,
    "start_time": "2023-02-27T08:55:46.741Z"
   },
   {
    "duration": 34,
    "start_time": "2023-02-27T08:55:49.123Z"
   },
   {
    "duration": 10,
    "start_time": "2023-02-27T08:55:49.159Z"
   },
   {
    "duration": 14,
    "start_time": "2023-02-27T08:55:49.171Z"
   },
   {
    "duration": 22,
    "start_time": "2023-02-27T08:55:49.186Z"
   },
   {
    "duration": 43,
    "start_time": "2023-02-27T08:55:49.241Z"
   },
   {
    "duration": 16,
    "start_time": "2023-02-27T08:55:49.286Z"
   },
   {
    "duration": 42,
    "start_time": "2023-02-27T08:55:49.305Z"
   },
   {
    "duration": 6,
    "start_time": "2023-02-27T08:55:49.349Z"
   },
   {
    "duration": 36,
    "start_time": "2023-02-27T08:55:49.356Z"
   },
   {
    "duration": 35,
    "start_time": "2023-02-27T08:55:49.394Z"
   },
   {
    "duration": 149,
    "start_time": "2023-02-27T08:55:49.431Z"
   },
   {
    "duration": 7,
    "start_time": "2023-02-27T08:55:49.582Z"
   },
   {
    "duration": 7,
    "start_time": "2023-02-27T08:55:49.591Z"
   },
   {
    "duration": 11,
    "start_time": "2023-02-27T08:55:49.600Z"
   },
   {
    "duration": 36,
    "start_time": "2023-02-27T08:55:49.613Z"
   },
   {
    "duration": 17,
    "start_time": "2023-02-27T08:55:49.650Z"
   },
   {
    "duration": 14,
    "start_time": "2023-02-27T08:55:49.669Z"
   },
   {
    "duration": 142,
    "start_time": "2023-02-27T08:55:49.684Z"
   },
   {
    "duration": 13,
    "start_time": "2023-02-27T08:55:49.828Z"
   },
   {
    "duration": 9,
    "start_time": "2023-02-27T08:55:49.843Z"
   },
   {
    "duration": 20,
    "start_time": "2023-02-27T08:55:49.854Z"
   },
   {
    "duration": 13,
    "start_time": "2023-02-27T08:55:49.876Z"
   },
   {
    "duration": 203,
    "start_time": "2023-02-27T08:55:49.891Z"
   },
   {
    "duration": 14,
    "start_time": "2023-02-27T08:55:50.096Z"
   },
   {
    "duration": 38,
    "start_time": "2023-02-27T08:55:50.114Z"
   },
   {
    "duration": 19,
    "start_time": "2023-02-27T08:55:50.154Z"
   },
   {
    "duration": 149,
    "start_time": "2023-02-27T08:55:50.174Z"
   },
   {
    "duration": 122,
    "start_time": "2023-02-27T08:55:50.325Z"
   },
   {
    "duration": 17,
    "start_time": "2023-02-27T08:55:50.449Z"
   },
   {
    "duration": 28,
    "start_time": "2023-02-27T08:55:50.467Z"
   },
   {
    "duration": 30,
    "start_time": "2023-02-27T08:55:50.496Z"
   },
   {
    "duration": 43,
    "start_time": "2023-02-27T08:56:02.286Z"
   },
   {
    "duration": 158,
    "start_time": "2023-02-27T08:56:21.355Z"
   },
   {
    "duration": 37,
    "start_time": "2023-02-27T08:56:21.516Z"
   },
   {
    "duration": 2501,
    "start_time": "2023-02-27T08:56:21.555Z"
   },
   {
    "duration": 23,
    "start_time": "2023-02-27T08:56:24.058Z"
   },
   {
    "duration": 10,
    "start_time": "2023-02-27T08:56:24.084Z"
   },
   {
    "duration": 27,
    "start_time": "2023-02-27T08:56:24.096Z"
   },
   {
    "duration": 35,
    "start_time": "2023-02-27T08:56:24.141Z"
   },
   {
    "duration": 70,
    "start_time": "2023-02-27T08:56:24.178Z"
   },
   {
    "duration": 19,
    "start_time": "2023-02-27T08:56:24.250Z"
   },
   {
    "duration": 22,
    "start_time": "2023-02-27T08:56:24.271Z"
   },
   {
    "duration": 10,
    "start_time": "2023-02-27T08:56:24.295Z"
   },
   {
    "duration": 39,
    "start_time": "2023-02-27T08:56:24.306Z"
   },
   {
    "duration": 41,
    "start_time": "2023-02-27T08:56:24.348Z"
   },
   {
    "duration": 165,
    "start_time": "2023-02-27T08:56:24.393Z"
   },
   {
    "duration": 10,
    "start_time": "2023-02-27T08:56:24.560Z"
   },
   {
    "duration": 7,
    "start_time": "2023-02-27T08:56:24.573Z"
   },
   {
    "duration": 13,
    "start_time": "2023-02-27T08:56:24.581Z"
   },
   {
    "duration": 11,
    "start_time": "2023-02-27T08:56:24.595Z"
   },
   {
    "duration": 20,
    "start_time": "2023-02-27T08:56:24.641Z"
   },
   {
    "duration": 12,
    "start_time": "2023-02-27T08:56:24.664Z"
   },
   {
    "duration": 288,
    "start_time": "2023-02-27T08:56:24.678Z"
   },
   {
    "duration": 7,
    "start_time": "2023-02-27T08:56:24.969Z"
   },
   {
    "duration": 9,
    "start_time": "2023-02-27T08:56:24.978Z"
   },
   {
    "duration": 20,
    "start_time": "2023-02-27T08:56:24.988Z"
   },
   {
    "duration": 43,
    "start_time": "2023-02-27T08:56:25.009Z"
   },
   {
    "duration": 202,
    "start_time": "2023-02-27T08:56:25.054Z"
   },
   {
    "duration": 17,
    "start_time": "2023-02-27T08:56:25.258Z"
   },
   {
    "duration": 21,
    "start_time": "2023-02-27T08:56:25.276Z"
   },
   {
    "duration": 43,
    "start_time": "2023-02-27T08:56:25.298Z"
   },
   {
    "duration": 151,
    "start_time": "2023-02-27T08:56:25.343Z"
   },
   {
    "duration": 15,
    "start_time": "2023-02-27T08:56:25.496Z"
   },
   {
    "duration": 29,
    "start_time": "2023-02-27T08:56:25.512Z"
   },
   {
    "duration": 20,
    "start_time": "2023-02-27T08:56:25.543Z"
   },
   {
    "duration": 31,
    "start_time": "2023-02-27T08:56:25.566Z"
   },
   {
    "duration": 552,
    "start_time": "2023-02-27T08:56:25.598Z"
   },
   {
    "duration": 186,
    "start_time": "2023-02-27T08:56:26.153Z"
   },
   {
    "duration": 197,
    "start_time": "2023-02-27T08:56:26.341Z"
   },
   {
    "duration": 180,
    "start_time": "2023-02-27T08:56:26.541Z"
   },
   {
    "duration": 206,
    "start_time": "2023-02-27T08:56:26.723Z"
   },
   {
    "duration": 214,
    "start_time": "2023-02-27T08:56:26.939Z"
   },
   {
    "duration": 285,
    "start_time": "2023-02-27T08:56:27.158Z"
   },
   {
    "duration": 200,
    "start_time": "2023-02-27T08:56:27.446Z"
   },
   {
    "duration": 214,
    "start_time": "2023-02-27T08:56:27.648Z"
   },
   {
    "duration": 223,
    "start_time": "2023-02-27T08:56:27.865Z"
   },
   {
    "duration": 193,
    "start_time": "2023-02-27T08:56:28.090Z"
   },
   {
    "duration": 188,
    "start_time": "2023-02-27T08:56:28.285Z"
   },
   {
    "duration": 221,
    "start_time": "2023-02-27T08:56:28.475Z"
   },
   {
    "duration": 427,
    "start_time": "2023-02-27T08:56:28.698Z"
   },
   {
    "duration": 217,
    "start_time": "2023-02-27T08:56:29.139Z"
   },
   {
    "duration": 428,
    "start_time": "2023-02-27T08:56:29.358Z"
   },
   {
    "duration": 176,
    "start_time": "2023-02-27T08:56:29.788Z"
   },
   {
    "duration": 199,
    "start_time": "2023-02-27T08:56:29.966Z"
   },
   {
    "duration": 192,
    "start_time": "2023-02-27T08:56:30.167Z"
   },
   {
    "duration": 183,
    "start_time": "2023-02-27T08:56:30.360Z"
   },
   {
    "duration": 173,
    "start_time": "2023-02-27T08:56:30.544Z"
   },
   {
    "duration": 165,
    "start_time": "2023-02-27T08:56:30.718Z"
   },
   {
    "duration": 349,
    "start_time": "2023-02-27T08:56:30.885Z"
   },
   {
    "duration": 10,
    "start_time": "2023-02-27T08:56:31.240Z"
   },
   {
    "duration": 76,
    "start_time": "2023-02-27T08:56:31.252Z"
   },
   {
    "duration": 23,
    "start_time": "2023-02-27T08:56:31.330Z"
   },
   {
    "duration": 214,
    "start_time": "2023-02-27T08:56:31.355Z"
   },
   {
    "duration": 11,
    "start_time": "2023-02-27T08:59:50.211Z"
   },
   {
    "duration": 261,
    "start_time": "2023-02-27T09:01:12.356Z"
   },
   {
    "duration": 183,
    "start_time": "2023-02-27T09:01:51.696Z"
   },
   {
    "duration": 184,
    "start_time": "2023-02-27T09:02:02.689Z"
   },
   {
    "duration": 162,
    "start_time": "2023-02-27T09:06:52.988Z"
   },
   {
    "duration": 1063,
    "start_time": "2023-03-14T16:45:13.243Z"
   },
   {
    "duration": 18,
    "start_time": "2023-03-14T16:45:14.308Z"
   },
   {
    "duration": 2710,
    "start_time": "2023-03-14T16:45:14.329Z"
   },
   {
    "duration": 42,
    "start_time": "2023-03-14T16:45:17.043Z"
   },
   {
    "duration": 17,
    "start_time": "2023-03-14T16:45:17.090Z"
   },
   {
    "duration": 13,
    "start_time": "2023-03-14T16:45:17.108Z"
   },
   {
    "duration": 22,
    "start_time": "2023-03-14T16:45:17.123Z"
   },
   {
    "duration": 80,
    "start_time": "2023-03-14T16:45:17.147Z"
   },
   {
    "duration": 18,
    "start_time": "2023-03-14T16:45:17.229Z"
   },
   {
    "duration": 47,
    "start_time": "2023-03-14T16:45:17.250Z"
   },
   {
    "duration": 7,
    "start_time": "2023-03-14T16:45:17.299Z"
   },
   {
    "duration": 17,
    "start_time": "2023-03-14T16:45:17.308Z"
   },
   {
    "duration": 62,
    "start_time": "2023-03-14T16:45:17.327Z"
   },
   {
    "duration": 173,
    "start_time": "2023-03-14T16:45:17.392Z"
   },
   {
    "duration": 19,
    "start_time": "2023-03-14T16:45:17.566Z"
   },
   {
    "duration": 18,
    "start_time": "2023-03-14T16:45:17.588Z"
   },
   {
    "duration": 13,
    "start_time": "2023-03-14T16:45:17.608Z"
   },
   {
    "duration": 10,
    "start_time": "2023-03-14T16:45:17.623Z"
   },
   {
    "duration": 13,
    "start_time": "2023-03-14T16:45:17.635Z"
   },
   {
    "duration": 38,
    "start_time": "2023-03-14T16:45:17.650Z"
   },
   {
    "duration": 134,
    "start_time": "2023-03-14T16:45:17.692Z"
   },
   {
    "duration": 7,
    "start_time": "2023-03-14T16:45:17.829Z"
   },
   {
    "duration": 15,
    "start_time": "2023-03-14T16:45:17.838Z"
   },
   {
    "duration": 49,
    "start_time": "2023-03-14T16:45:17.855Z"
   },
   {
    "duration": 16,
    "start_time": "2023-03-14T16:45:17.906Z"
   },
   {
    "duration": 189,
    "start_time": "2023-03-14T16:45:17.924Z"
   },
   {
    "duration": 24,
    "start_time": "2023-03-14T16:45:18.115Z"
   },
   {
    "duration": 42,
    "start_time": "2023-03-14T16:45:18.144Z"
   },
   {
    "duration": 16,
    "start_time": "2023-03-14T16:45:18.190Z"
   },
   {
    "duration": 155,
    "start_time": "2023-03-14T16:45:18.207Z"
   },
   {
    "duration": 33,
    "start_time": "2023-03-14T16:45:18.364Z"
   },
   {
    "duration": 10,
    "start_time": "2023-03-14T16:45:18.399Z"
   },
   {
    "duration": 20,
    "start_time": "2023-03-14T16:45:18.411Z"
   },
   {
    "duration": 12,
    "start_time": "2023-03-14T16:45:18.433Z"
   },
   {
    "duration": 649,
    "start_time": "2023-03-14T16:45:18.446Z"
   },
   {
    "duration": 189,
    "start_time": "2023-03-14T16:45:19.097Z"
   },
   {
    "duration": 215,
    "start_time": "2023-03-14T16:45:19.292Z"
   },
   {
    "duration": 214,
    "start_time": "2023-03-14T16:45:19.511Z"
   },
   {
    "duration": 217,
    "start_time": "2023-03-14T16:45:19.727Z"
   },
   {
    "duration": 242,
    "start_time": "2023-03-14T16:45:19.946Z"
   },
   {
    "duration": 213,
    "start_time": "2023-03-14T16:45:20.195Z"
   },
   {
    "duration": 221,
    "start_time": "2023-03-14T16:45:20.410Z"
   },
   {
    "duration": 195,
    "start_time": "2023-03-14T16:45:20.633Z"
   },
   {
    "duration": 239,
    "start_time": "2023-03-14T16:45:20.830Z"
   },
   {
    "duration": 221,
    "start_time": "2023-03-14T16:45:21.071Z"
   },
   {
    "duration": 296,
    "start_time": "2023-03-14T16:45:21.295Z"
   },
   {
    "duration": 212,
    "start_time": "2023-03-14T16:45:21.593Z"
   },
   {
    "duration": 391,
    "start_time": "2023-03-14T16:45:21.806Z"
   },
   {
    "duration": 253,
    "start_time": "2023-03-14T16:45:22.200Z"
   },
   {
    "duration": 391,
    "start_time": "2023-03-14T16:45:22.456Z"
   },
   {
    "duration": 187,
    "start_time": "2023-03-14T16:45:22.849Z"
   },
   {
    "duration": 200,
    "start_time": "2023-03-14T16:45:23.038Z"
   },
   {
    "duration": 212,
    "start_time": "2023-03-14T16:45:23.240Z"
   },
   {
    "duration": 278,
    "start_time": "2023-03-14T16:45:23.455Z"
   },
   {
    "duration": 188,
    "start_time": "2023-03-14T16:45:23.735Z"
   },
   {
    "duration": 176,
    "start_time": "2023-03-14T16:45:23.925Z"
   },
   {
    "duration": 349,
    "start_time": "2023-03-14T16:45:24.103Z"
   },
   {
    "duration": 9,
    "start_time": "2023-03-14T16:45:24.454Z"
   },
   {
    "duration": 54,
    "start_time": "2023-03-14T16:45:24.464Z"
   },
   {
    "duration": 17,
    "start_time": "2023-03-14T16:45:24.519Z"
   },
   {
    "duration": 189,
    "start_time": "2023-03-14T16:45:24.538Z"
   },
   {
    "duration": 198,
    "start_time": "2023-03-14T16:46:41.638Z"
   },
   {
    "duration": 158,
    "start_time": "2023-03-14T16:46:58.160Z"
   },
   {
    "duration": 18,
    "start_time": "2023-03-14T16:46:58.321Z"
   },
   {
    "duration": 2356,
    "start_time": "2023-03-14T16:46:58.341Z"
   },
   {
    "duration": 24,
    "start_time": "2023-03-14T16:47:00.700Z"
   },
   {
    "duration": 35,
    "start_time": "2023-03-14T16:47:00.725Z"
   },
   {
    "duration": 59,
    "start_time": "2023-03-14T16:47:00.762Z"
   },
   {
    "duration": 41,
    "start_time": "2023-03-14T16:47:00.824Z"
   },
   {
    "duration": 134,
    "start_time": "2023-03-14T16:47:00.868Z"
   },
   {
    "duration": 34,
    "start_time": "2023-03-14T16:47:01.004Z"
   },
   {
    "duration": 55,
    "start_time": "2023-03-14T16:47:01.041Z"
   },
   {
    "duration": 31,
    "start_time": "2023-03-14T16:47:01.098Z"
   },
   {
    "duration": 77,
    "start_time": "2023-03-14T16:47:01.131Z"
   },
   {
    "duration": 43,
    "start_time": "2023-03-14T16:47:01.210Z"
   },
   {
    "duration": 224,
    "start_time": "2023-03-14T16:47:01.255Z"
   },
   {
    "duration": 16,
    "start_time": "2023-03-14T16:47:01.486Z"
   },
   {
    "duration": 61,
    "start_time": "2023-03-14T16:47:01.504Z"
   },
   {
    "duration": 20,
    "start_time": "2023-03-14T16:47:01.567Z"
   },
   {
    "duration": 26,
    "start_time": "2023-03-14T16:47:01.589Z"
   },
   {
    "duration": 22,
    "start_time": "2023-03-14T16:47:01.616Z"
   },
   {
    "duration": 12,
    "start_time": "2023-03-14T16:47:01.640Z"
   },
   {
    "duration": 140,
    "start_time": "2023-03-14T16:47:01.654Z"
   },
   {
    "duration": 8,
    "start_time": "2023-03-14T16:47:01.796Z"
   },
   {
    "duration": 14,
    "start_time": "2023-03-14T16:47:01.806Z"
   },
   {
    "duration": 24,
    "start_time": "2023-03-14T16:47:01.822Z"
   },
   {
    "duration": 46,
    "start_time": "2023-03-14T16:47:01.848Z"
   },
   {
    "duration": 172,
    "start_time": "2023-03-14T16:47:01.895Z"
   },
   {
    "duration": 27,
    "start_time": "2023-03-14T16:47:02.070Z"
   },
   {
    "duration": 69,
    "start_time": "2023-03-14T16:47:02.101Z"
   },
   {
    "duration": 60,
    "start_time": "2023-03-14T16:47:02.172Z"
   },
   {
    "duration": 203,
    "start_time": "2023-03-14T16:47:02.234Z"
   },
   {
    "duration": 14,
    "start_time": "2023-03-14T16:47:02.440Z"
   },
   {
    "duration": 44,
    "start_time": "2023-03-14T16:47:02.456Z"
   },
   {
    "duration": 29,
    "start_time": "2023-03-14T16:47:02.502Z"
   },
   {
    "duration": 22,
    "start_time": "2023-03-14T16:47:02.534Z"
   },
   {
    "duration": 708,
    "start_time": "2023-03-14T16:47:02.558Z"
   },
   {
    "duration": 180,
    "start_time": "2023-03-14T16:47:03.268Z"
   },
   {
    "duration": 211,
    "start_time": "2023-03-14T16:47:03.450Z"
   },
   {
    "duration": 187,
    "start_time": "2023-03-14T16:47:03.663Z"
   },
   {
    "duration": 209,
    "start_time": "2023-03-14T16:47:03.851Z"
   },
   {
    "duration": 246,
    "start_time": "2023-03-14T16:47:04.062Z"
   },
   {
    "duration": 217,
    "start_time": "2023-03-14T16:47:04.310Z"
   },
   {
    "duration": 203,
    "start_time": "2023-03-14T16:47:04.529Z"
   },
   {
    "duration": 202,
    "start_time": "2023-03-14T16:47:04.734Z"
   },
   {
    "duration": 216,
    "start_time": "2023-03-14T16:47:04.938Z"
   },
   {
    "duration": 333,
    "start_time": "2023-03-14T16:47:05.156Z"
   },
   {
    "duration": 209,
    "start_time": "2023-03-14T16:47:05.494Z"
   },
   {
    "duration": 218,
    "start_time": "2023-03-14T16:47:05.705Z"
   },
   {
    "duration": 429,
    "start_time": "2023-03-14T16:47:05.924Z"
   },
   {
    "duration": 293,
    "start_time": "2023-03-14T16:47:06.355Z"
   },
   {
    "duration": 652,
    "start_time": "2023-03-14T16:47:06.650Z"
   },
   {
    "duration": 202,
    "start_time": "2023-03-14T16:47:07.304Z"
   },
   {
    "duration": 195,
    "start_time": "2023-03-14T16:47:07.508Z"
   },
   {
    "duration": 286,
    "start_time": "2023-03-14T16:47:07.705Z"
   },
   {
    "duration": 195,
    "start_time": "2023-03-14T16:47:11.750Z"
   }
  ],
  "kernelspec": {
   "display_name": "Python 3 (ipykernel)",
   "language": "python",
   "name": "python3"
  },
  "language_info": {
   "codemirror_mode": {
    "name": "ipython",
    "version": 3
   },
   "file_extension": ".py",
   "mimetype": "text/x-python",
   "name": "python",
   "nbconvert_exporter": "python",
   "pygments_lexer": "ipython3",
   "version": "3.9.5"
  },
  "toc": {
   "base_numbering": 1,
   "nav_menu": {},
   "number_sections": true,
   "sideBar": true,
   "skip_h1_title": true,
   "title_cell": "Table of Contents",
   "title_sidebar": "Contents",
   "toc_cell": false,
   "toc_position": {},
   "toc_section_display": true,
   "toc_window_display": false
  }
 },
 "nbformat": 4,
 "nbformat_minor": 2
}
