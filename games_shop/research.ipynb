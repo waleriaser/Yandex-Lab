{
 "cells": [
 {
   "cell_type": "markdown",
   "metadata": {},
   "source": [
    "**СБОРНЫЙ ПРОЕКТ - 1**"
   ]
  },
  {
   "cell_type": "markdown",
   "metadata": {},
   "source": [
    "# Планирование рекламной кампании"
   ]
  },
  {
   "cell_type": "markdown",
   "metadata": {},
   "source": [
    "Цель работы: изучить данные, чтобы выявить определяющие успешность игры закономерности, что позволит сделать ставку на потенциально популярный продукт и спланировать рекламные кампании\n",
    "\n",
    "План работы:\n",
    "\n",
    "- Открываем файл с данными и изучаем общую информацию\n",
    "- Подготавливаем данные\n",
    "- Проводим исследовательский анализ данных\n",
    "- Составляем портрет пользователя каждого региона\n",
    "- Проверяем гипотезы:\n",
    "1) средние пользовательские рейтинги платформ Xbox One и PC одинаковые;\n",
    "2) средние пользовательские рейтинги жанров Action и Sports разные.\n",
    "- Пишем общий вывод по проделланой работе/\n",
    "\n",
    "Описание данных:\n",
    "\n",
    "1. Name — название игры\n",
    "2. Platform — платформа\n",
    "3. Year_of_Release — год выпуска\n",
    "4. Genre — жанр игры\n",
    "5. NA_sales — продажи в Северной Америке (миллионы проданных копий)\n",
    "6. EU_sales — продажи в Европе (миллионы проданных копий)\n",
    "7. JP_sales — продажи в Японии (миллионы проданных копий)\n",
    "8. Other_sales — продажи в других странах (миллионы проданных копий)\n",
    "9. Critic_Score — оценка критиков (максимум 100)\n",
    "10. User_Score — оценка пользователей (максимум 10)\n",
    "11. ORating — рейтинг от организации ESRB (англ. Entertainment Software Rating Board). Эта ассоциация определяет рейтинг компьютерных игр и присваивает им подходящую возрастную категорию\n"
   ]
  },
  {
   "cell_type": "markdown",
   "metadata": {},
   "source": [
    "### Открываем файл с данными и изучаем общую информацию"
   ]
  },
  {
   "cell_type": "code",
   "execution_count": 1,
   "metadata": {},
   "outputs": [
    {
     "data": {
      "text/html": [
       "<div>\n",
       "<style scoped>\n",
       "    .dataframe tbody tr th:only-of-type {\n",
       "        vertical-align: middle;\n",
       "    }\n",
       "\n",
       "    .dataframe tbody tr th {\n",
       "        vertical-align: top;\n",
       "    }\n",
       "\n",
       "    .dataframe thead th {\n",
       "        text-align: right;\n",
       "    }\n",
       "</style>\n",
       "<table border=\"1\" class=\"dataframe\">\n",
       "  <thead>\n",
       "    <tr style=\"text-align: right;\">\n",
       "      <th></th>\n",
       "      <th>Name</th>\n",
       "      <th>Platform</th>\n",
       "      <th>Year_of_Release</th>\n",
       "      <th>Genre</th>\n",
       "      <th>NA_sales</th>\n",
       "      <th>EU_sales</th>\n",
       "      <th>JP_sales</th>\n",
       "      <th>Other_sales</th>\n",
       "      <th>Critic_Score</th>\n",
       "      <th>User_Score</th>\n",
       "      <th>Rating</th>\n",
       "    </tr>\n",
       "  </thead>\n",
       "  <tbody>\n",
       "    <tr>\n",
       "      <th>0</th>\n",
       "      <td>Wii Sports</td>\n",
       "      <td>Wii</td>\n",
       "      <td>2006.0</td>\n",
       "      <td>Sports</td>\n",
       "      <td>41.36</td>\n",
       "      <td>28.96</td>\n",
       "      <td>3.77</td>\n",
       "      <td>8.45</td>\n",
       "      <td>76.0</td>\n",
       "      <td>8</td>\n",
       "      <td>E</td>\n",
       "    </tr>\n",
       "    <tr>\n",
       "      <th>1</th>\n",
       "      <td>Super Mario Bros.</td>\n",
       "      <td>NES</td>\n",
       "      <td>1985.0</td>\n",
       "      <td>Platform</td>\n",
       "      <td>29.08</td>\n",
       "      <td>3.58</td>\n",
       "      <td>6.81</td>\n",
       "      <td>0.77</td>\n",
       "      <td>NaN</td>\n",
       "      <td>NaN</td>\n",
       "      <td>NaN</td>\n",
       "    </tr>\n",
       "    <tr>\n",
       "      <th>2</th>\n",
       "      <td>Mario Kart Wii</td>\n",
       "      <td>Wii</td>\n",
       "      <td>2008.0</td>\n",
       "      <td>Racing</td>\n",
       "      <td>15.68</td>\n",
       "      <td>12.76</td>\n",
       "      <td>3.79</td>\n",
       "      <td>3.29</td>\n",
       "      <td>82.0</td>\n",
       "      <td>8.3</td>\n",
       "      <td>E</td>\n",
       "    </tr>\n",
       "    <tr>\n",
       "      <th>3</th>\n",
       "      <td>Wii Sports Resort</td>\n",
       "      <td>Wii</td>\n",
       "      <td>2009.0</td>\n",
       "      <td>Sports</td>\n",
       "      <td>15.61</td>\n",
       "      <td>10.93</td>\n",
       "      <td>3.28</td>\n",
       "      <td>2.95</td>\n",
       "      <td>80.0</td>\n",
       "      <td>8</td>\n",
       "      <td>E</td>\n",
       "    </tr>\n",
       "    <tr>\n",
       "      <th>4</th>\n",
       "      <td>Pokemon Red/Pokemon Blue</td>\n",
       "      <td>GB</td>\n",
       "      <td>1996.0</td>\n",
       "      <td>Role-Playing</td>\n",
       "      <td>11.27</td>\n",
       "      <td>8.89</td>\n",
       "      <td>10.22</td>\n",
       "      <td>1.00</td>\n",
       "      <td>NaN</td>\n",
       "      <td>NaN</td>\n",
       "      <td>NaN</td>\n",
       "    </tr>\n",
       "  </tbody>\n",
       "</table>\n",
       "</div>"
      ],
      "text/plain": [
       "                       Name Platform  Year_of_Release         Genre  NA_sales  \\\n",
       "0                Wii Sports      Wii           2006.0        Sports     41.36   \n",
       "1         Super Mario Bros.      NES           1985.0      Platform     29.08   \n",
       "2            Mario Kart Wii      Wii           2008.0        Racing     15.68   \n",
       "3         Wii Sports Resort      Wii           2009.0        Sports     15.61   \n",
       "4  Pokemon Red/Pokemon Blue       GB           1996.0  Role-Playing     11.27   \n",
       "\n",
       "   EU_sales  JP_sales  Other_sales  Critic_Score User_Score Rating  \n",
       "0     28.96      3.77         8.45          76.0          8      E  \n",
       "1      3.58      6.81         0.77           NaN        NaN    NaN  \n",
       "2     12.76      3.79         3.29          82.0        8.3      E  \n",
       "3     10.93      3.28         2.95          80.0          8      E  \n",
       "4      8.89     10.22         1.00           NaN        NaN    NaN  "
      ]
     },
     "execution_count": 1,
     "metadata": {},
     "output_type": "execute_result"
    }
   ],
   "source": [
    "import pandas as pd\n",
    "from scipy import stats as st\n",
    "import numpy as np\n",
    "import matplotlib.pyplot as plt\n",
    "data = pd.read_csv('/datasets/games.csv')\n",
    "#выводим и просмариваем первые строки датафрейма\n",
    "data.head()"
   ]
  },
  {
   "cell_type": "code",
   "execution_count": 2,
   "metadata": {},
   "outputs": [
    {
     "name": "stdout",
     "output_type": "stream",
     "text": [
      "<class 'pandas.core.frame.DataFrame'>\n",
      "RangeIndex: 16715 entries, 0 to 16714\n",
      "Data columns (total 11 columns):\n",
      " #   Column           Non-Null Count  Dtype  \n",
      "---  ------           --------------  -----  \n",
      " 0   Name             16713 non-null  object \n",
      " 1   Platform         16715 non-null  object \n",
      " 2   Year_of_Release  16446 non-null  float64\n",
      " 3   Genre            16713 non-null  object \n",
      " 4   NA_sales         16715 non-null  float64\n",
      " 5   EU_sales         16715 non-null  float64\n",
      " 6   JP_sales         16715 non-null  float64\n",
      " 7   Other_sales      16715 non-null  float64\n",
      " 8   Critic_Score     8137 non-null   float64\n",
      " 9   User_Score       10014 non-null  object \n",
      " 10  Rating           9949 non-null   object \n",
      "dtypes: float64(6), object(5)\n",
      "memory usage: 1.4+ MB\n"
     ]
    }
   ],
   "source": [
    "#просматриваем информацию о файле, какой у каждого столбца тип данных\n",
    "data.info()"
   ]
  },
  {
   "cell_type": "markdown",
   "metadata": {},
   "source": [
    "Замечаем, что year_of_release типа float64 - нужно заменить на int64, так как год выпуска не может быть вещественным. Также нужно заменить на float64 user_score."
   ]
  },
  {
   "cell_type": "code",
   "execution_count": 3,
   "metadata": {},
   "outputs": [
    {
     "data": {
      "text/html": [
       "<div>\n",
       "<style scoped>\n",
       "    .dataframe tbody tr th:only-of-type {\n",
       "        vertical-align: middle;\n",
       "    }\n",
       "\n",
       "    .dataframe tbody tr th {\n",
       "        vertical-align: top;\n",
       "    }\n",
       "\n",
       "    .dataframe thead th {\n",
       "        text-align: right;\n",
       "    }\n",
       "</style>\n",
       "<table border=\"1\" class=\"dataframe\">\n",
       "  <thead>\n",
       "    <tr style=\"text-align: right;\">\n",
       "      <th></th>\n",
       "      <th>Year_of_Release</th>\n",
       "      <th>NA_sales</th>\n",
       "      <th>EU_sales</th>\n",
       "      <th>JP_sales</th>\n",
       "      <th>Other_sales</th>\n",
       "      <th>Critic_Score</th>\n",
       "    </tr>\n",
       "  </thead>\n",
       "  <tbody>\n",
       "    <tr>\n",
       "      <th>count</th>\n",
       "      <td>16446.000000</td>\n",
       "      <td>16715.000000</td>\n",
       "      <td>16715.000000</td>\n",
       "      <td>16715.000000</td>\n",
       "      <td>16715.000000</td>\n",
       "      <td>8137.000000</td>\n",
       "    </tr>\n",
       "    <tr>\n",
       "      <th>mean</th>\n",
       "      <td>2006.484616</td>\n",
       "      <td>0.263377</td>\n",
       "      <td>0.145060</td>\n",
       "      <td>0.077617</td>\n",
       "      <td>0.047342</td>\n",
       "      <td>68.967679</td>\n",
       "    </tr>\n",
       "    <tr>\n",
       "      <th>std</th>\n",
       "      <td>5.877050</td>\n",
       "      <td>0.813604</td>\n",
       "      <td>0.503339</td>\n",
       "      <td>0.308853</td>\n",
       "      <td>0.186731</td>\n",
       "      <td>13.938165</td>\n",
       "    </tr>\n",
       "    <tr>\n",
       "      <th>min</th>\n",
       "      <td>1980.000000</td>\n",
       "      <td>0.000000</td>\n",
       "      <td>0.000000</td>\n",
       "      <td>0.000000</td>\n",
       "      <td>0.000000</td>\n",
       "      <td>13.000000</td>\n",
       "    </tr>\n",
       "    <tr>\n",
       "      <th>25%</th>\n",
       "      <td>2003.000000</td>\n",
       "      <td>0.000000</td>\n",
       "      <td>0.000000</td>\n",
       "      <td>0.000000</td>\n",
       "      <td>0.000000</td>\n",
       "      <td>60.000000</td>\n",
       "    </tr>\n",
       "    <tr>\n",
       "      <th>50%</th>\n",
       "      <td>2007.000000</td>\n",
       "      <td>0.080000</td>\n",
       "      <td>0.020000</td>\n",
       "      <td>0.000000</td>\n",
       "      <td>0.010000</td>\n",
       "      <td>71.000000</td>\n",
       "    </tr>\n",
       "    <tr>\n",
       "      <th>75%</th>\n",
       "      <td>2010.000000</td>\n",
       "      <td>0.240000</td>\n",
       "      <td>0.110000</td>\n",
       "      <td>0.040000</td>\n",
       "      <td>0.030000</td>\n",
       "      <td>79.000000</td>\n",
       "    </tr>\n",
       "    <tr>\n",
       "      <th>max</th>\n",
       "      <td>2016.000000</td>\n",
       "      <td>41.360000</td>\n",
       "      <td>28.960000</td>\n",
       "      <td>10.220000</td>\n",
       "      <td>10.570000</td>\n",
       "      <td>98.000000</td>\n",
       "    </tr>\n",
       "  </tbody>\n",
       "</table>\n",
       "</div>"
      ],
      "text/plain": [
       "       Year_of_Release      NA_sales      EU_sales      JP_sales  \\\n",
       "count     16446.000000  16715.000000  16715.000000  16715.000000   \n",
       "mean       2006.484616      0.263377      0.145060      0.077617   \n",
       "std           5.877050      0.813604      0.503339      0.308853   \n",
       "min        1980.000000      0.000000      0.000000      0.000000   \n",
       "25%        2003.000000      0.000000      0.000000      0.000000   \n",
       "50%        2007.000000      0.080000      0.020000      0.000000   \n",
       "75%        2010.000000      0.240000      0.110000      0.040000   \n",
       "max        2016.000000     41.360000     28.960000     10.220000   \n",
       "\n",
       "        Other_sales  Critic_Score  \n",
       "count  16715.000000   8137.000000  \n",
       "mean       0.047342     68.967679  \n",
       "std        0.186731     13.938165  \n",
       "min        0.000000     13.000000  \n",
       "25%        0.000000     60.000000  \n",
       "50%        0.010000     71.000000  \n",
       "75%        0.030000     79.000000  \n",
       "max       10.570000     98.000000  "
      ]
     },
     "execution_count": 3,
     "metadata": {},
     "output_type": "execute_result"
    }
   ],
   "source": [
    "#вычислим и отобразим сводную статистику датафрейма\n",
    "data.describe()"
   ]
  },
  {
   "cell_type": "code",
   "execution_count": 4,
   "metadata": {},
   "outputs": [
    {
     "data": {
      "text/plain": [
       "Index(['Name', 'Platform', 'Year_of_Release', 'Genre', 'NA_sales', 'EU_sales',\n",
       "       'JP_sales', 'Other_sales', 'Critic_Score', 'User_Score', 'Rating'],\n",
       "      dtype='object')"
      ]
     },
     "execution_count": 4,
     "metadata": {},
     "output_type": "execute_result"
    }
   ],
   "source": [
    "#gосмотрим какие столбцы у нас есть и все ли с ними впорядке\n",
    "data.columns"
   ]
  },
  {
   "cell_type": "code",
   "execution_count": 5,
   "metadata": {},
   "outputs": [
    {
     "data": {
      "text/plain": [
       "Name                  2\n",
       "Platform              0\n",
       "Year_of_Release     269\n",
       "Genre                 2\n",
       "NA_sales              0\n",
       "EU_sales              0\n",
       "JP_sales              0\n",
       "Other_sales           0\n",
       "Critic_Score       8578\n",
       "User_Score         6701\n",
       "Rating             6766\n",
       "dtype: int64"
      ]
     },
     "execution_count": 5,
     "metadata": {},
     "output_type": "execute_result"
    }
   ],
   "source": [
    "#посчитаем количество пустых значений\n",
    "data.isna().sum()"
   ]
  },
  {
   "cell_type": "code",
   "execution_count": 6,
   "metadata": {},
   "outputs": [
    {
     "data": {
      "image/png": "[encoded data removed]",
      "text/plain": [
       "<Figure size 1440x1440 with 6 Axes>"
      ]
     },
     "metadata": {
      "needs_background": "light"
     },
     "output_type": "display_data"
    }
   ],
   "source": [
    "#построим гистограммы размером 20*20 по каждому столбцу датафрейма\n",
    "data.hist(figsize = (20, 20))\n",
    "plt.show()"
   ]
  },
  {
   "cell_type": "markdown",
   "metadata": {},
   "source": [
    "**Вывод:** \n",
    "1) Year_of_Release - имеет формат float64, а должен быть int64, также User_Score - имеет тип object, а должен быть float64. \n",
    "\n",
    "2) Также в датафрейме имеется много пропусков: Name - 2;  Year_of_Release - 269; Critic_Score - 8578; User_Score - 6701; Rating - 6766\n",
    "\n",
    "3) Заголовки столбцов можно привести к нижнему регистру, для удобства. \n",
    "\n",
    "4) Никаких отрицательных значений в датафрейме не оказалось. \n",
    "\n",
    "5) Аномалий не выявлено."
   ]
  },
  {
   "cell_type": "markdown",
   "metadata": {},
   "source": [
    "### Подготавливаем данные"
   ]
  },
  {
   "cell_type": "code",
   "execution_count": 7,
   "metadata": {},
   "outputs": [
    {
     "data": {
      "text/plain": [
       "0"
      ]
     },
     "execution_count": 7,
     "metadata": {},
     "output_type": "execute_result"
    }
   ],
   "source": [
    "#проверяем наличие явных дубликатов \n",
    "data.duplicated().sum()"
   ]
  },
  {
   "cell_type": "code",
   "execution_count": 8,
   "metadata": {},
   "outputs": [
    {
     "data": {
      "text/plain": [
       "Index(['name', 'platform', 'year_of_release', 'genre', 'na_sales', 'eu_sales',\n",
       "       'jp_sales', 'other_sales', 'critic_score', 'user_score', 'rating'],\n",
       "      dtype='object')"
      ]
     },
     "execution_count": 8,
     "metadata": {},
     "output_type": "execute_result"
    }
   ],
   "source": [
    "#заменяем названия столбцов (приведим к нижнему регистру)\n",
    "data.columns = data.columns.str.lower()\n",
    "data.columns"
   ]
  },
  {
   "cell_type": "code",
   "execution_count": 9,
   "metadata": {},
   "outputs": [
    {
     "name": "stdout",
     "output_type": "stream",
     "text": [
      "[2006. 1985. 2008. 2009. 1996. 1989. 1984. 2005. 1999. 2007. 2010. 2013.\n",
      " 2004. 1990. 1988. 2002. 2001. 2011. 1998. 2015. 2012. 2014. 1992. 1997.\n",
      " 1993. 1994. 1982. 2016. 2003. 1986. 2000.   nan 1995. 1991. 1981. 1987.\n",
      " 1980. 1983.]\n"
     ]
    },
    {
     "data": {
      "text/plain": [
       "array(['8', nan, '8.3', '8.5', '6.6', '8.4', '8.6', '7.7', '6.3', '7.4',\n",
       "       '8.2', '9', '7.9', '8.1', '8.7', '7.1', '3.4', '5.3', '4.8', '3.2',\n",
       "       '8.9', '6.4', '7.8', '7.5', '2.6', '7.2', '9.2', '7', '7.3', '4.3',\n",
       "       '7.6', '5.7', '5', '9.1', '6.5', 'tbd', '8.8', '6.9', '9.4', '6.8',\n",
       "       '6.1', '6.7', '5.4', '4', '4.9', '4.5', '9.3', '6.2', '4.2', '6',\n",
       "       '3.7', '4.1', '5.8', '5.6', '5.5', '4.4', '4.6', '5.9', '3.9',\n",
       "       '3.1', '2.9', '5.2', '3.3', '4.7', '5.1', '3.5', '2.5', '1.9', '3',\n",
       "       '2.7', '2.2', '2', '9.5', '2.1', '3.6', '2.8', '1.8', '3.8', '0',\n",
       "       '1.6', '9.6', '2.4', '1.7', '1.1', '0.3', '1.5', '0.7', '1.2',\n",
       "       '2.3', '0.5', '1.3', '0.2', '0.6', '1.4', '0.9', '1', '9.7'],\n",
       "      dtype=object)"
      ]
     },
     "execution_count": 9,
     "metadata": {},
     "output_type": "execute_result"
    }
   ],
   "source": [
    "#просматриваем уникальные значения столбцов, где хотим заменить тип\n",
    "print(data['year_of_release'].unique())\n",
    "data['user_score'].unique()"
   ]
  },
  {
   "cell_type": "markdown",
   "metadata": {},
   "source": [
    "Замечаем аббревиатуру 'tbd' в столбце с оценкой пользователей, \"to be determined\" означает, что значение только предстоит определить, следовательно, это неизвестное значение и можно заменить его на NaN"
   ]
  },
  {
   "cell_type": "code",
   "execution_count": 10,
   "metadata": {},
   "outputs": [
    {
     "data": {
      "text/plain": [
       "array(['8', nan, '8.3', '8.5', '6.6', '8.4', '8.6', '7.7', '6.3', '7.4',\n",
       "       '8.2', '9', '7.9', '8.1', '8.7', '7.1', '3.4', '5.3', '4.8', '3.2',\n",
       "       '8.9', '6.4', '7.8', '7.5', '2.6', '7.2', '9.2', '7', '7.3', '4.3',\n",
       "       '7.6', '5.7', '5', '9.1', '6.5', '8.8', '6.9', '9.4', '6.8', '6.1',\n",
       "       '6.7', '5.4', '4', '4.9', '4.5', '9.3', '6.2', '4.2', '6', '3.7',\n",
       "       '4.1', '5.8', '5.6', '5.5', '4.4', '4.6', '5.9', '3.9', '3.1',\n",
       "       '2.9', '5.2', '3.3', '4.7', '5.1', '3.5', '2.5', '1.9', '3', '2.7',\n",
       "       '2.2', '2', '9.5', '2.1', '3.6', '2.8', '1.8', '3.8', '0', '1.6',\n",
       "       '9.6', '2.4', '1.7', '1.1', '0.3', '1.5', '0.7', '1.2', '2.3',\n",
       "       '0.5', '1.3', '0.2', '0.6', '1.4', '0.9', '1', '9.7'], dtype=object)"
      ]
     },
     "execution_count": 10,
     "metadata": {},
     "output_type": "execute_result"
    }
   ],
   "source": [
    "#заменим значение \"tbd\" на NaN и перепроверим вновь\n",
    "data['user_score'] = data['user_score'].replace('tbd', np.NaN)\n",
    "data['user_score'].unique()"
   ]
  },
  {
   "cell_type": "code",
   "execution_count": 11,
   "metadata": {},
   "outputs": [
    {
     "name": "stdout",
     "output_type": "stream",
     "text": [
      "<class 'pandas.core.frame.DataFrame'>\n",
      "RangeIndex: 16715 entries, 0 to 16714\n",
      "Data columns (total 11 columns):\n",
      " #   Column           Non-Null Count  Dtype  \n",
      "---  ------           --------------  -----  \n",
      " 0   name             16713 non-null  object \n",
      " 1   platform         16715 non-null  object \n",
      " 2   year_of_release  16446 non-null  Int64  \n",
      " 3   genre            16713 non-null  object \n",
      " 4   na_sales         16715 non-null  float64\n",
      " 5   eu_sales         16715 non-null  float64\n",
      " 6   jp_sales         16715 non-null  float64\n",
      " 7   other_sales      16715 non-null  float64\n",
      " 8   critic_score     8137 non-null   float64\n",
      " 9   user_score       7590 non-null   float64\n",
      " 10  rating           9949 non-null   object \n",
      "dtypes: Int64(1), float64(6), object(4)\n",
      "memory usage: 1.4+ MB\n"
     ]
    }
   ],
   "source": [
    "#преобразовываем данные в нужные типы\n",
    "data['year_of_release'] = data['year_of_release'].astype('Int64')\n",
    "data['user_score'] = data['user_score'].astype('float64')\n",
    "#перепроверяем\n",
    "data.info()"
   ]
  },
  {
   "cell_type": "code",
   "execution_count": 12,
   "metadata": {},
   "outputs": [
    {
     "data": {
      "text/plain": [
       "0"
      ]
     },
     "execution_count": 12,
     "metadata": {},
     "output_type": "execute_result"
    }
   ],
   "source": [
    "#проверим наличие явных дубликатов в data\n",
    "data.duplicated().sum()"
   ]
  },
  {
   "cell_type": "code",
   "execution_count": 13,
   "metadata": {},
   "outputs": [
    {
     "data": {
      "text/plain": [
       "name                  2\n",
       "platform              0\n",
       "year_of_release     269\n",
       "genre                 2\n",
       "na_sales              0\n",
       "eu_sales              0\n",
       "jp_sales              0\n",
       "other_sales           0\n",
       "critic_score       8578\n",
       "user_score         9125\n",
       "rating             6766\n",
       "dtype: int64"
      ]
     },
     "execution_count": 13,
     "metadata": {},
     "output_type": "execute_result"
    }
   ],
   "source": [
    "#почтитаем сумму пропущенных значений по кажому столбцу датафрейма еще раз\n",
    "data.isna().sum()"
   ]
  },
  {
   "cell_type": "code",
   "execution_count": 14,
   "metadata": {},
   "outputs": [
    {
     "data": {
      "text/html": [
       "<div>\n",
       "<style scoped>\n",
       "    .dataframe tbody tr th:only-of-type {\n",
       "        vertical-align: middle;\n",
       "    }\n",
       "\n",
       "    .dataframe tbody tr th {\n",
       "        vertical-align: top;\n",
       "    }\n",
       "\n",
       "    .dataframe thead th {\n",
       "        text-align: right;\n",
       "    }\n",
       "</style>\n",
       "<table border=\"1\" class=\"dataframe\">\n",
       "  <thead>\n",
       "    <tr style=\"text-align: right;\">\n",
       "      <th></th>\n",
       "      <th>name</th>\n",
       "      <th>platform</th>\n",
       "      <th>year_of_release</th>\n",
       "      <th>genre</th>\n",
       "      <th>na_sales</th>\n",
       "      <th>eu_sales</th>\n",
       "      <th>jp_sales</th>\n",
       "      <th>other_sales</th>\n",
       "      <th>critic_score</th>\n",
       "      <th>user_score</th>\n",
       "      <th>rating</th>\n",
       "    </tr>\n",
       "  </thead>\n",
       "  <tbody>\n",
       "    <tr>\n",
       "      <th>659</th>\n",
       "      <td>NaN</td>\n",
       "      <td>GEN</td>\n",
       "      <td>1993</td>\n",
       "      <td>NaN</td>\n",
       "      <td>1.78</td>\n",
       "      <td>0.53</td>\n",
       "      <td>0.00</td>\n",
       "      <td>0.08</td>\n",
       "      <td>NaN</td>\n",
       "      <td>NaN</td>\n",
       "      <td>NaN</td>\n",
       "    </tr>\n",
       "    <tr>\n",
       "      <th>14244</th>\n",
       "      <td>NaN</td>\n",
       "      <td>GEN</td>\n",
       "      <td>1993</td>\n",
       "      <td>NaN</td>\n",
       "      <td>0.00</td>\n",
       "      <td>0.00</td>\n",
       "      <td>0.03</td>\n",
       "      <td>0.00</td>\n",
       "      <td>NaN</td>\n",
       "      <td>NaN</td>\n",
       "      <td>NaN</td>\n",
       "    </tr>\n",
       "  </tbody>\n",
       "</table>\n",
       "</div>"
      ],
      "text/plain": [
       "      name platform  year_of_release genre  na_sales  eu_sales  jp_sales  \\\n",
       "659    NaN      GEN             1993   NaN      1.78      0.53      0.00   \n",
       "14244  NaN      GEN             1993   NaN      0.00      0.00      0.03   \n",
       "\n",
       "       other_sales  critic_score  user_score rating  \n",
       "659           0.08           NaN         NaN    NaN  \n",
       "14244         0.00           NaN         NaN    NaN  "
      ]
     },
     "execution_count": 14,
     "metadata": {},
     "output_type": "execute_result"
    }
   ],
   "source": [
    "#просмотрим строки датафрейма, где встречались пропуски столбца name\n",
    "data[data['name'].isnull()]"
   ]
  },
  {
   "cell_type": "markdown",
   "metadata": {},
   "source": [
    "Замечаем, что в этих строках также имеются пропуски в столбцах genre, critic_score, user_score, rating. 5 пропусков из 11 много, поэтому удаляем эти строки. Их всего 2 и сильного влияния на результат они не окажут - лучше будем работать с более качественными данными.\n",
    "После удаления пропуски и в name и в genre пропадут."
   ]
  },
  {
   "cell_type": "code",
   "execution_count": 15,
   "metadata": {},
   "outputs": [
    {
     "data": {
      "text/plain": [
       "name                  0\n",
       "platform              0\n",
       "year_of_release     269\n",
       "genre                 0\n",
       "na_sales              0\n",
       "eu_sales              0\n",
       "jp_sales              0\n",
       "other_sales           0\n",
       "critic_score       8576\n",
       "user_score         9123\n",
       "rating             6764\n",
       "dtype: int64"
      ]
     },
     "execution_count": 15,
     "metadata": {},
     "output_type": "execute_result"
    }
   ],
   "source": [
    "#удаляем и перепроверяем\n",
    "data = data.dropna(subset = ['name']).reset_index(drop = True)\n",
    "data.isna().sum()"
   ]
  },
  {
   "cell_type": "code",
   "execution_count": 16,
   "metadata": {},
   "outputs": [
    {
     "data": {
      "text/html": [
       "<div>\n",
       "<style scoped>\n",
       "    .dataframe tbody tr th:only-of-type {\n",
       "        vertical-align: middle;\n",
       "    }\n",
       "\n",
       "    .dataframe tbody tr th {\n",
       "        vertical-align: top;\n",
       "    }\n",
       "\n",
       "    .dataframe thead th {\n",
       "        text-align: right;\n",
       "    }\n",
       "</style>\n",
       "<table border=\"1\" class=\"dataframe\">\n",
       "  <thead>\n",
       "    <tr style=\"text-align: right;\">\n",
       "      <th></th>\n",
       "      <th>name</th>\n",
       "      <th>platform</th>\n",
       "      <th>year_of_release</th>\n",
       "      <th>genre</th>\n",
       "      <th>na_sales</th>\n",
       "      <th>eu_sales</th>\n",
       "      <th>jp_sales</th>\n",
       "      <th>other_sales</th>\n",
       "      <th>critic_score</th>\n",
       "      <th>user_score</th>\n",
       "      <th>rating</th>\n",
       "    </tr>\n",
       "  </thead>\n",
       "  <tbody>\n",
       "    <tr>\n",
       "      <th>183</th>\n",
       "      <td>Madden NFL 2004</td>\n",
       "      <td>PS2</td>\n",
       "      <td>&lt;NA&gt;</td>\n",
       "      <td>Sports</td>\n",
       "      <td>4.26</td>\n",
       "      <td>0.26</td>\n",
       "      <td>0.01</td>\n",
       "      <td>0.71</td>\n",
       "      <td>94.0</td>\n",
       "      <td>8.5</td>\n",
       "      <td>E</td>\n",
       "    </tr>\n",
       "    <tr>\n",
       "      <th>377</th>\n",
       "      <td>FIFA Soccer 2004</td>\n",
       "      <td>PS2</td>\n",
       "      <td>&lt;NA&gt;</td>\n",
       "      <td>Sports</td>\n",
       "      <td>0.59</td>\n",
       "      <td>2.36</td>\n",
       "      <td>0.04</td>\n",
       "      <td>0.51</td>\n",
       "      <td>84.0</td>\n",
       "      <td>6.4</td>\n",
       "      <td>E</td>\n",
       "    </tr>\n",
       "    <tr>\n",
       "      <th>456</th>\n",
       "      <td>LEGO Batman: The Videogame</td>\n",
       "      <td>Wii</td>\n",
       "      <td>&lt;NA&gt;</td>\n",
       "      <td>Action</td>\n",
       "      <td>1.80</td>\n",
       "      <td>0.97</td>\n",
       "      <td>0.00</td>\n",
       "      <td>0.29</td>\n",
       "      <td>74.0</td>\n",
       "      <td>7.9</td>\n",
       "      <td>E10+</td>\n",
       "    </tr>\n",
       "    <tr>\n",
       "      <th>475</th>\n",
       "      <td>wwe Smackdown vs. Raw 2006</td>\n",
       "      <td>PS2</td>\n",
       "      <td>&lt;NA&gt;</td>\n",
       "      <td>Fighting</td>\n",
       "      <td>1.57</td>\n",
       "      <td>1.02</td>\n",
       "      <td>0.00</td>\n",
       "      <td>0.41</td>\n",
       "      <td>NaN</td>\n",
       "      <td>NaN</td>\n",
       "      <td>NaN</td>\n",
       "    </tr>\n",
       "    <tr>\n",
       "      <th>609</th>\n",
       "      <td>Space Invaders</td>\n",
       "      <td>2600</td>\n",
       "      <td>&lt;NA&gt;</td>\n",
       "      <td>Shooter</td>\n",
       "      <td>2.36</td>\n",
       "      <td>0.14</td>\n",
       "      <td>0.00</td>\n",
       "      <td>0.03</td>\n",
       "      <td>NaN</td>\n",
       "      <td>NaN</td>\n",
       "      <td>NaN</td>\n",
       "    </tr>\n",
       "    <tr>\n",
       "      <th>...</th>\n",
       "      <td>...</td>\n",
       "      <td>...</td>\n",
       "      <td>...</td>\n",
       "      <td>...</td>\n",
       "      <td>...</td>\n",
       "      <td>...</td>\n",
       "      <td>...</td>\n",
       "      <td>...</td>\n",
       "      <td>...</td>\n",
       "      <td>...</td>\n",
       "      <td>...</td>\n",
       "    </tr>\n",
       "    <tr>\n",
       "      <th>16371</th>\n",
       "      <td>PDC World Championship Darts 2008</td>\n",
       "      <td>PSP</td>\n",
       "      <td>&lt;NA&gt;</td>\n",
       "      <td>Sports</td>\n",
       "      <td>0.01</td>\n",
       "      <td>0.00</td>\n",
       "      <td>0.00</td>\n",
       "      <td>0.00</td>\n",
       "      <td>43.0</td>\n",
       "      <td>NaN</td>\n",
       "      <td>E10+</td>\n",
       "    </tr>\n",
       "    <tr>\n",
       "      <th>16403</th>\n",
       "      <td>Freaky Flyers</td>\n",
       "      <td>GC</td>\n",
       "      <td>&lt;NA&gt;</td>\n",
       "      <td>Racing</td>\n",
       "      <td>0.01</td>\n",
       "      <td>0.00</td>\n",
       "      <td>0.00</td>\n",
       "      <td>0.00</td>\n",
       "      <td>69.0</td>\n",
       "      <td>6.5</td>\n",
       "      <td>T</td>\n",
       "    </tr>\n",
       "    <tr>\n",
       "      <th>16446</th>\n",
       "      <td>Inversion</td>\n",
       "      <td>PC</td>\n",
       "      <td>&lt;NA&gt;</td>\n",
       "      <td>Shooter</td>\n",
       "      <td>0.01</td>\n",
       "      <td>0.00</td>\n",
       "      <td>0.00</td>\n",
       "      <td>0.00</td>\n",
       "      <td>59.0</td>\n",
       "      <td>6.7</td>\n",
       "      <td>M</td>\n",
       "    </tr>\n",
       "    <tr>\n",
       "      <th>16456</th>\n",
       "      <td>Hakuouki: Shinsengumi Kitan</td>\n",
       "      <td>PS3</td>\n",
       "      <td>&lt;NA&gt;</td>\n",
       "      <td>Adventure</td>\n",
       "      <td>0.01</td>\n",
       "      <td>0.00</td>\n",
       "      <td>0.00</td>\n",
       "      <td>0.00</td>\n",
       "      <td>NaN</td>\n",
       "      <td>NaN</td>\n",
       "      <td>NaN</td>\n",
       "    </tr>\n",
       "    <tr>\n",
       "      <th>16520</th>\n",
       "      <td>Virtua Quest</td>\n",
       "      <td>GC</td>\n",
       "      <td>&lt;NA&gt;</td>\n",
       "      <td>Role-Playing</td>\n",
       "      <td>0.01</td>\n",
       "      <td>0.00</td>\n",
       "      <td>0.00</td>\n",
       "      <td>0.00</td>\n",
       "      <td>55.0</td>\n",
       "      <td>5.5</td>\n",
       "      <td>T</td>\n",
       "    </tr>\n",
       "  </tbody>\n",
       "</table>\n",
       "<p>269 rows × 11 columns</p>\n",
       "</div>"
      ],
      "text/plain": [
       "                                    name platform  year_of_release  \\\n",
       "183                      Madden NFL 2004      PS2             <NA>   \n",
       "377                     FIFA Soccer 2004      PS2             <NA>   \n",
       "456           LEGO Batman: The Videogame      Wii             <NA>   \n",
       "475           wwe Smackdown vs. Raw 2006      PS2             <NA>   \n",
       "609                       Space Invaders     2600             <NA>   \n",
       "...                                  ...      ...              ...   \n",
       "16371  PDC World Championship Darts 2008      PSP             <NA>   \n",
       "16403                      Freaky Flyers       GC             <NA>   \n",
       "16446                          Inversion       PC             <NA>   \n",
       "16456        Hakuouki: Shinsengumi Kitan      PS3             <NA>   \n",
       "16520                       Virtua Quest       GC             <NA>   \n",
       "\n",
       "              genre  na_sales  eu_sales  jp_sales  other_sales  critic_score  \\\n",
       "183          Sports      4.26      0.26      0.01         0.71          94.0   \n",
       "377          Sports      0.59      2.36      0.04         0.51          84.0   \n",
       "456          Action      1.80      0.97      0.00         0.29          74.0   \n",
       "475        Fighting      1.57      1.02      0.00         0.41           NaN   \n",
       "609         Shooter      2.36      0.14      0.00         0.03           NaN   \n",
       "...             ...       ...       ...       ...          ...           ...   \n",
       "16371        Sports      0.01      0.00      0.00         0.00          43.0   \n",
       "16403        Racing      0.01      0.00      0.00         0.00          69.0   \n",
       "16446       Shooter      0.01      0.00      0.00         0.00          59.0   \n",
       "16456     Adventure      0.01      0.00      0.00         0.00           NaN   \n",
       "16520  Role-Playing      0.01      0.00      0.00         0.00          55.0   \n",
       "\n",
       "       user_score rating  \n",
       "183           8.5      E  \n",
       "377           6.4      E  \n",
       "456           7.9   E10+  \n",
       "475           NaN    NaN  \n",
       "609           NaN    NaN  \n",
       "...           ...    ...  \n",
       "16371         NaN   E10+  \n",
       "16403         6.5      T  \n",
       "16446         6.7      M  \n",
       "16456         NaN    NaN  \n",
       "16520         5.5      T  \n",
       "\n",
       "[269 rows x 11 columns]"
      ]
     },
     "execution_count": 16,
     "metadata": {},
     "output_type": "execute_result"
    }
   ],
   "source": [
    "#просмотрим строки датафрейма, где встречались пропуски столбца year_of_release\n",
    "data[data['year_of_release'].isnull()]"
   ]
  },
  {
   "cell_type": "markdown",
   "metadata": {},
   "source": [
    "Так как их тоже не сильно много, а восстановить их корректно нельзя, то тоже принимаем решения удалить пропуски в столбце year_of_release"
   ]
  },
  {
   "cell_type": "code",
   "execution_count": 17,
   "metadata": {},
   "outputs": [
    {
     "data": {
      "text/plain": [
       "name                  0\n",
       "platform              0\n",
       "year_of_release       0\n",
       "genre                 0\n",
       "na_sales              0\n",
       "eu_sales              0\n",
       "jp_sales              0\n",
       "other_sales           0\n",
       "critic_score       8461\n",
       "user_score         8981\n",
       "rating             6676\n",
       "dtype: int64"
      ]
     },
     "execution_count": 17,
     "metadata": {},
     "output_type": "execute_result"
    }
   ],
   "source": [
    "#удаляем и перепроверяем\n",
    "data = data.dropna(subset = ['year_of_release']).reset_index(drop = True)\n",
    "data.isna().sum()"
   ]
  },
  {
   "cell_type": "code",
   "execution_count": 18,
   "metadata": {},
   "outputs": [
    {
     "data": {
      "text/plain": [
       "array(['E', nan, 'M', 'T', 'E10+', 'K-A', 'AO', 'EC', 'RP'], dtype=object)"
      ]
     },
     "execution_count": 18,
     "metadata": {},
     "output_type": "execute_result"
    }
   ],
   "source": [
    "#посмотрим уникальные значения столбца rating\n",
    "data['rating'].unique()"
   ]
  },
  {
   "cell_type": "markdown",
   "metadata": {},
   "source": [
    "Заметим, что среди уникальных значений есть RP - «Рейтинг ожидается», именно на него можно заменить значения nan"
   ]
  },
  {
   "cell_type": "code",
   "execution_count": 19,
   "metadata": {},
   "outputs": [
    {
     "data": {
      "text/plain": [
       "name                  0\n",
       "platform              0\n",
       "year_of_release       0\n",
       "genre                 0\n",
       "na_sales              0\n",
       "eu_sales              0\n",
       "jp_sales              0\n",
       "other_sales           0\n",
       "critic_score       8461\n",
       "user_score         8981\n",
       "rating                0\n",
       "dtype: int64"
      ]
     },
     "execution_count": 19,
     "metadata": {},
     "output_type": "execute_result"
    }
   ],
   "source": [
    "#заменяем и перепроверяем\n",
    "data['rating'] = data['rating'].fillna('RP')\n",
    "data.isna().sum()"
   ]
  },
  {
   "cell_type": "code",
   "execution_count": 20,
   "metadata": {},
   "outputs": [
    {
     "data": {
      "text/html": [
       "<div>\n",
       "<style scoped>\n",
       "    .dataframe tbody tr th:only-of-type {\n",
       "        vertical-align: middle;\n",
       "    }\n",
       "\n",
       "    .dataframe tbody tr th {\n",
       "        vertical-align: top;\n",
       "    }\n",
       "\n",
       "    .dataframe thead th {\n",
       "        text-align: right;\n",
       "    }\n",
       "</style>\n",
       "<table border=\"1\" class=\"dataframe\">\n",
       "  <thead>\n",
       "    <tr style=\"text-align: right;\">\n",
       "      <th></th>\n",
       "      <th>name</th>\n",
       "      <th>platform</th>\n",
       "      <th>year_of_release</th>\n",
       "      <th>genre</th>\n",
       "      <th>na_sales</th>\n",
       "      <th>eu_sales</th>\n",
       "      <th>jp_sales</th>\n",
       "      <th>other_sales</th>\n",
       "      <th>critic_score</th>\n",
       "      <th>user_score</th>\n",
       "      <th>rating</th>\n",
       "      <th>total_sales</th>\n",
       "    </tr>\n",
       "  </thead>\n",
       "  <tbody>\n",
       "    <tr>\n",
       "      <th>0</th>\n",
       "      <td>Wii Sports</td>\n",
       "      <td>Wii</td>\n",
       "      <td>2006</td>\n",
       "      <td>Sports</td>\n",
       "      <td>41.36</td>\n",
       "      <td>28.96</td>\n",
       "      <td>3.77</td>\n",
       "      <td>8.45</td>\n",
       "      <td>76.0</td>\n",
       "      <td>8.0</td>\n",
       "      <td>E</td>\n",
       "      <td>82.54</td>\n",
       "    </tr>\n",
       "    <tr>\n",
       "      <th>1</th>\n",
       "      <td>Super Mario Bros.</td>\n",
       "      <td>NES</td>\n",
       "      <td>1985</td>\n",
       "      <td>Platform</td>\n",
       "      <td>29.08</td>\n",
       "      <td>3.58</td>\n",
       "      <td>6.81</td>\n",
       "      <td>0.77</td>\n",
       "      <td>NaN</td>\n",
       "      <td>NaN</td>\n",
       "      <td>RP</td>\n",
       "      <td>40.24</td>\n",
       "    </tr>\n",
       "    <tr>\n",
       "      <th>2</th>\n",
       "      <td>Mario Kart Wii</td>\n",
       "      <td>Wii</td>\n",
       "      <td>2008</td>\n",
       "      <td>Racing</td>\n",
       "      <td>15.68</td>\n",
       "      <td>12.76</td>\n",
       "      <td>3.79</td>\n",
       "      <td>3.29</td>\n",
       "      <td>82.0</td>\n",
       "      <td>8.3</td>\n",
       "      <td>E</td>\n",
       "      <td>35.52</td>\n",
       "    </tr>\n",
       "    <tr>\n",
       "      <th>3</th>\n",
       "      <td>Wii Sports Resort</td>\n",
       "      <td>Wii</td>\n",
       "      <td>2009</td>\n",
       "      <td>Sports</td>\n",
       "      <td>15.61</td>\n",
       "      <td>10.93</td>\n",
       "      <td>3.28</td>\n",
       "      <td>2.95</td>\n",
       "      <td>80.0</td>\n",
       "      <td>8.0</td>\n",
       "      <td>E</td>\n",
       "      <td>32.77</td>\n",
       "    </tr>\n",
       "    <tr>\n",
       "      <th>4</th>\n",
       "      <td>Pokemon Red/Pokemon Blue</td>\n",
       "      <td>GB</td>\n",
       "      <td>1996</td>\n",
       "      <td>Role-Playing</td>\n",
       "      <td>11.27</td>\n",
       "      <td>8.89</td>\n",
       "      <td>10.22</td>\n",
       "      <td>1.00</td>\n",
       "      <td>NaN</td>\n",
       "      <td>NaN</td>\n",
       "      <td>RP</td>\n",
       "      <td>31.38</td>\n",
       "    </tr>\n",
       "  </tbody>\n",
       "</table>\n",
       "</div>"
      ],
      "text/plain": [
       "                       name platform  year_of_release         genre  na_sales  \\\n",
       "0                Wii Sports      Wii             2006        Sports     41.36   \n",
       "1         Super Mario Bros.      NES             1985      Platform     29.08   \n",
       "2            Mario Kart Wii      Wii             2008        Racing     15.68   \n",
       "3         Wii Sports Resort      Wii             2009        Sports     15.61   \n",
       "4  Pokemon Red/Pokemon Blue       GB             1996  Role-Playing     11.27   \n",
       "\n",
       "   eu_sales  jp_sales  other_sales  critic_score  user_score rating  \\\n",
       "0     28.96      3.77         8.45          76.0         8.0      E   \n",
       "1      3.58      6.81         0.77           NaN         NaN     RP   \n",
       "2     12.76      3.79         3.29          82.0         8.3      E   \n",
       "3     10.93      3.28         2.95          80.0         8.0      E   \n",
       "4      8.89     10.22         1.00           NaN         NaN     RP   \n",
       "\n",
       "   total_sales  \n",
       "0        82.54  \n",
       "1        40.24  \n",
       "2        35.52  \n",
       "3        32.77  \n",
       "4        31.38  "
      ]
     },
     "execution_count": 20,
     "metadata": {},
     "output_type": "execute_result"
    }
   ],
   "source": [
    "#посчитаем суммарные продажи во всех регионах и запишим их в отдельный столбец\n",
    "data['total_sales'] = data['na_sales'] + data['eu_sales'] + data['jp_sales'] + data['other_sales']\n",
    "data.head()"
   ]
  },
  {
   "cell_type": "markdown",
   "metadata": {},
   "source": [
    "**Вывод:** поменяли тип данных там, где это было необходимо, избавились от пропусков в name и genre. Остальные столбцы оставили пока без изменений ввиду того, что возможно в какой-то период критики не оценивали игры, также как и пользователи, либо они новые и их еще просто не успели оценить. В любом случае отбрасывать их пока не будем, они пригодятся для дальнейшего анализа."
   ]
  },
  {
   "cell_type": "markdown",
   "metadata": {},
   "source": [
    "### Проведение исследовательского анализа данных"
   ]
  },
  {
   "cell_type": "code",
   "execution_count": 44,
   "metadata": {},
   "outputs": [
    {
     "data": {
      "text/plain": [
       "<AxesSubplot:>"
      ]
     },
     "execution_count": 44,
     "metadata": {},
     "output_type": "execute_result"
    },
    {
     "data": {
      "image/png": "[encoded data removed]",
      "text/plain": [
       "<Figure size 432x288 with 1 Axes>"
      ]
     },
     "metadata": {
      "needs_background": "light"
     },
     "output_type": "display_data"
    }
   ],
   "source": [
    "data['year_of_release'].hist(bins = 37)"
   ]
  },
  {
   "cell_type": "markdown",
   "metadata": {},
   "source": [
    "По графику видно, что игры начали выпускаться с 1980 года и примерно с 1998 года начался сильный прирост."
   ]
  },
  {
   "cell_type": "code",
   "execution_count": 23,
   "metadata": {},
   "outputs": [
    {
     "data": {
      "text/plain": [
       "<AxesSubplot:>"
      ]
     },
     "execution_count": 23,
     "metadata": {},
     "output_type": "execute_result"
    },
    {
     "data": {
      "image/png": "[encoded data removed]",
      "text/plain": [
       "<Figure size 432x288 with 1 Axes>"
      ]
     },
     "metadata": {
      "needs_background": "light"
     },
     "output_type": "display_data"
    }
   ],
   "source": [
    "#посмотрим детальнее 2004-2012 года\n",
    "data['year_of_release'].hist(bins = 15, range=(2004, 2012))"
   ]
  },
  {
   "cell_type": "markdown",
   "metadata": {},
   "source": [
    "Пик выпуска игр приходится на 2008 и 2009 года.\n",
    "Далее анализируем изменений продаж по платформам."
   ]
  },
  {
   "cell_type": "code",
   "execution_count": 24,
   "metadata": {},
   "outputs": [
    {
     "data": {
      "text/html": [
       "<div>\n",
       "<style scoped>\n",
       "    .dataframe tbody tr th:only-of-type {\n",
       "        vertical-align: middle;\n",
       "    }\n",
       "\n",
       "    .dataframe tbody tr th {\n",
       "        vertical-align: top;\n",
       "    }\n",
       "\n",
       "    .dataframe thead th {\n",
       "        text-align: right;\n",
       "    }\n",
       "</style>\n",
       "<table border=\"1\" class=\"dataframe\">\n",
       "  <thead>\n",
       "    <tr style=\"text-align: right;\">\n",
       "      <th></th>\n",
       "      <th>total_sales</th>\n",
       "    </tr>\n",
       "    <tr>\n",
       "      <th>platform</th>\n",
       "      <th></th>\n",
       "    </tr>\n",
       "  </thead>\n",
       "  <tbody>\n",
       "    <tr>\n",
       "      <th>PS2</th>\n",
       "      <td>1233.56</td>\n",
       "    </tr>\n",
       "    <tr>\n",
       "      <th>X360</th>\n",
       "      <td>961.24</td>\n",
       "    </tr>\n",
       "    <tr>\n",
       "      <th>PS3</th>\n",
       "      <td>931.34</td>\n",
       "    </tr>\n",
       "    <tr>\n",
       "      <th>Wii</th>\n",
       "      <td>891.18</td>\n",
       "    </tr>\n",
       "    <tr>\n",
       "      <th>DS</th>\n",
       "      <td>802.78</td>\n",
       "    </tr>\n",
       "    <tr>\n",
       "      <th>PS</th>\n",
       "      <td>727.58</td>\n",
       "    </tr>\n",
       "    <tr>\n",
       "      <th>PS4</th>\n",
       "      <td>314.14</td>\n",
       "    </tr>\n",
       "    <tr>\n",
       "      <th>GBA</th>\n",
       "      <td>312.88</td>\n",
       "    </tr>\n",
       "    <tr>\n",
       "      <th>PSP</th>\n",
       "      <td>289.53</td>\n",
       "    </tr>\n",
       "    <tr>\n",
       "      <th>3DS</th>\n",
       "      <td>257.81</td>\n",
       "    </tr>\n",
       "    <tr>\n",
       "      <th>PC</th>\n",
       "      <td>255.76</td>\n",
       "    </tr>\n",
       "    <tr>\n",
       "      <th>GB</th>\n",
       "      <td>254.43</td>\n",
       "    </tr>\n",
       "    <tr>\n",
       "      <th>XB</th>\n",
       "      <td>251.57</td>\n",
       "    </tr>\n",
       "    <tr>\n",
       "      <th>NES</th>\n",
       "      <td>251.05</td>\n",
       "    </tr>\n",
       "    <tr>\n",
       "      <th>N64</th>\n",
       "      <td>218.01</td>\n",
       "    </tr>\n",
       "    <tr>\n",
       "      <th>SNES</th>\n",
       "      <td>200.04</td>\n",
       "    </tr>\n",
       "    <tr>\n",
       "      <th>GC</th>\n",
       "      <td>196.73</td>\n",
       "    </tr>\n",
       "    <tr>\n",
       "      <th>XOne</th>\n",
       "      <td>159.32</td>\n",
       "    </tr>\n",
       "    <tr>\n",
       "      <th>2600</th>\n",
       "      <td>86.48</td>\n",
       "    </tr>\n",
       "    <tr>\n",
       "      <th>WiiU</th>\n",
       "      <td>82.19</td>\n",
       "    </tr>\n",
       "    <tr>\n",
       "      <th>PSV</th>\n",
       "      <td>53.81</td>\n",
       "    </tr>\n",
       "    <tr>\n",
       "      <th>SAT</th>\n",
       "      <td>33.59</td>\n",
       "    </tr>\n",
       "    <tr>\n",
       "      <th>GEN</th>\n",
       "      <td>28.35</td>\n",
       "    </tr>\n",
       "    <tr>\n",
       "      <th>DC</th>\n",
       "      <td>15.95</td>\n",
       "    </tr>\n",
       "    <tr>\n",
       "      <th>SCD</th>\n",
       "      <td>1.86</td>\n",
       "    </tr>\n",
       "    <tr>\n",
       "      <th>NG</th>\n",
       "      <td>1.44</td>\n",
       "    </tr>\n",
       "    <tr>\n",
       "      <th>WS</th>\n",
       "      <td>1.42</td>\n",
       "    </tr>\n",
       "    <tr>\n",
       "      <th>TG16</th>\n",
       "      <td>0.16</td>\n",
       "    </tr>\n",
       "    <tr>\n",
       "      <th>3DO</th>\n",
       "      <td>0.10</td>\n",
       "    </tr>\n",
       "    <tr>\n",
       "      <th>GG</th>\n",
       "      <td>0.04</td>\n",
       "    </tr>\n",
       "    <tr>\n",
       "      <th>PCFX</th>\n",
       "      <td>0.03</td>\n",
       "    </tr>\n",
       "  </tbody>\n",
       "</table>\n",
       "</div>"
      ],
      "text/plain": [
       "          total_sales\n",
       "platform             \n",
       "PS2           1233.56\n",
       "X360           961.24\n",
       "PS3            931.34\n",
       "Wii            891.18\n",
       "DS             802.78\n",
       "PS             727.58\n",
       "PS4            314.14\n",
       "GBA            312.88\n",
       "PSP            289.53\n",
       "3DS            257.81\n",
       "PC             255.76\n",
       "GB             254.43\n",
       "XB             251.57\n",
       "NES            251.05\n",
       "N64            218.01\n",
       "SNES           200.04\n",
       "GC             196.73\n",
       "XOne           159.32\n",
       "2600            86.48\n",
       "WiiU            82.19\n",
       "PSV             53.81\n",
       "SAT             33.59\n",
       "GEN             28.35\n",
       "DC              15.95\n",
       "SCD              1.86\n",
       "NG               1.44\n",
       "WS               1.42\n",
       "TG16             0.16\n",
       "3DO              0.10\n",
       "GG               0.04\n",
       "PCFX             0.03"
      ]
     },
     "execution_count": 24,
     "metadata": {},
     "output_type": "execute_result"
    }
   ],
   "source": [
    "#просмотрим наиболее прибыльные платформы\n",
    "top_platform = data.pivot_table(index = 'platform', values = 'total_sales', aggfunc = 'sum').sort_values(by = 'total_sales', ascending = False)\n",
    "top_platform"
   ]
  },
  {
   "cell_type": "code",
   "execution_count": 25,
   "metadata": {},
   "outputs": [
    {
     "data": {
      "text/plain": [
       "array(['PS2', 'X360', 'PS3', 'Wii', 'DS', 'PS', 'PS4', 'GBA', 'PSP',\n",
       "       '3DS'], dtype=object)"
      ]
     },
     "execution_count": 25,
     "metadata": {},
     "output_type": "execute_result"
    }
   ],
   "source": [
    "#теперь выведем список топ-10 платформ от наиболее к наименее прибыльным\n",
    "top_platform = top_platform.reset_index()\n",
    "top_platform_list = top_platform['platform'].unique()\n",
    "top_10_platform = top_platform_list[:10]\n",
    "top_10_platform"
   ]
  },
  {
   "cell_type": "markdown",
   "metadata": {},
   "source": [
    "Самые прибыльные платформы за весь период: PS2, X360, PS3, Wii, DS, PS, GBA, PS4, PSP и PC"
   ]
  },
  {
   "cell_type": "code",
   "execution_count": 26,
   "metadata": {},
   "outputs": [
    {
     "data": {
      "image/png": "[encoded data removed]",
      "text/plain": [
       "<Figure size 1080x360 with 1 Axes>"
      ]
     },
     "metadata": {
      "needs_background": "light"
     },
     "output_type": "display_data"
    },
    {
     "data": {
      "image/png": "[encoded data removed]",
      "text/plain": [
       "<Figure size 1080x360 with 1 Axes>"
      ]
     },
     "metadata": {
      "needs_background": "light"
     },
     "output_type": "display_data"
    },
    {
     "data": {
      "image/png": "[encoded data removed]",
      "text/plain": [
       "<Figure size 1080x360 with 1 Axes>"
      ]
     },
     "metadata": {
      "needs_background": "light"
     },
     "output_type": "display_data"
    },
    {
     "data": {
      "image/png": "[encoded data removed]",
      "text/plain": [
       "<Figure size 1080x360 with 1 Axes>"
      ]
     },
     "metadata": {
      "needs_background": "light"
     },
     "output_type": "display_data"
    },
    {
     "data": {
      "image/png": "[encoded data removed]",
      "text/plain": [
       "<Figure size 1080x360 with 1 Axes>"
      ]
     },
     "metadata": {
      "needs_background": "light"
     },
     "output_type": "display_data"
    },
    {
     "data": {
      "image/png": "[encoded data removed]",
      "text/plain": [
       "<Figure size 1080x360 with 1 Axes>"
      ]
     },
     "metadata": {
      "needs_background": "light"
     },
     "output_type": "display_data"
    },
    {
     "data": {
      "image/png": "[encoded data removed]",
      "text/plain": [
       "<Figure size 1080x360 with 1 Axes>"
      ]
     },
     "metadata": {
      "needs_background": "light"
     },
     "output_type": "display_data"
    },
    {
     "data": {
      "image/png": "[encoded data removed]",
      "text/plain": [
       "<Figure size 1080x360 with 1 Axes>"
      ]
     },
     "metadata": {
      "needs_background": "light"
     },
     "output_type": "display_data"
    },
    {
     "data": {
      "image/png": "[encoded data removed]",
      "text/plain": [
       "<Figure size 1080x360 with 1 Axes>"
      ]
     },
     "metadata": {
      "needs_background": "light"
     },
     "output_type": "display_data"
    },
    {
     "data": {
      "image/png": "[encoded data removed]",
      "text/plain": [
       "<Figure size 1080x360 with 1 Axes>"
      ]
     },
     "metadata": {
      "needs_background": "light"
     },
     "output_type": "display_data"
    }
   ],
   "source": [
    "#Построим графики распределения по годам для каждой платформы\n",
    "for platform in top_10_platform:\n",
    "    data[data['platform'] == platform].pivot_table(index = 'year_of_release', values = 'total_sales', aggfunc = 'sum').plot(kind = 'bar', figsize = (15,5))\n",
    "    plt.title(platform)"
   ]
  },
  {
   "cell_type": "markdown",
   "metadata": {},
   "source": [
    "В среднем платформа существует по 10 лет:\n",
    "- PS2:2000-2011 гг\n",
    "- X360: 2005-2016 гг\n",
    "- PS3: 2006-2016 гг\n",
    "- Wii: 2006-2016 гг\n",
    "- DS: 1985-2013 гг\n",
    "- PS: 1994-2003 гг\n",
    "- GBA: 2000-2007 гг\n",
    "- PS4: 2013-2016 гг\n",
    "- PSP: 2004-2015 гг\n",
    "- PC: 1985-2016 гг\n",
    "\n",
    "Рассмотрим данные за 2011-2016 года - эти данные помогут построить прогноз на 2017 год.\n",
    "Больше брать не будем, так как чем дальше мы отклоняемся, тем сильнее прогноз может быть искажен."
   ]
  },
  {
   "cell_type": "code",
   "execution_count": 27,
   "metadata": {},
   "outputs": [
    {
     "data": {
      "text/html": [
       "<div>\n",
       "<style scoped>\n",
       "    .dataframe tbody tr th:only-of-type {\n",
       "        vertical-align: middle;\n",
       "    }\n",
       "\n",
       "    .dataframe tbody tr th {\n",
       "        vertical-align: top;\n",
       "    }\n",
       "\n",
       "    .dataframe thead th {\n",
       "        text-align: right;\n",
       "    }\n",
       "</style>\n",
       "<table border=\"1\" class=\"dataframe\">\n",
       "  <thead>\n",
       "    <tr style=\"text-align: right;\">\n",
       "      <th></th>\n",
       "      <th>total_sales</th>\n",
       "    </tr>\n",
       "    <tr>\n",
       "      <th>platform</th>\n",
       "      <th></th>\n",
       "    </tr>\n",
       "  </thead>\n",
       "  <tbody>\n",
       "    <tr>\n",
       "      <th>PS3</th>\n",
       "      <td>445.57</td>\n",
       "    </tr>\n",
       "    <tr>\n",
       "      <th>X360</th>\n",
       "      <td>380.38</td>\n",
       "    </tr>\n",
       "    <tr>\n",
       "      <th>PS4</th>\n",
       "      <td>314.14</td>\n",
       "    </tr>\n",
       "    <tr>\n",
       "      <th>3DS</th>\n",
       "      <td>257.81</td>\n",
       "    </tr>\n",
       "    <tr>\n",
       "      <th>XOne</th>\n",
       "      <td>159.32</td>\n",
       "    </tr>\n",
       "    <tr>\n",
       "      <th>PC</th>\n",
       "      <td>97.68</td>\n",
       "    </tr>\n",
       "    <tr>\n",
       "      <th>Wii</th>\n",
       "      <td>95.02</td>\n",
       "    </tr>\n",
       "    <tr>\n",
       "      <th>WiiU</th>\n",
       "      <td>82.19</td>\n",
       "    </tr>\n",
       "    <tr>\n",
       "      <th>PSV</th>\n",
       "      <td>53.81</td>\n",
       "    </tr>\n",
       "    <tr>\n",
       "      <th>DS</th>\n",
       "      <td>38.73</td>\n",
       "    </tr>\n",
       "    <tr>\n",
       "      <th>PSP</th>\n",
       "      <td>29.01</td>\n",
       "    </tr>\n",
       "    <tr>\n",
       "      <th>PS2</th>\n",
       "      <td>0.45</td>\n",
       "    </tr>\n",
       "  </tbody>\n",
       "</table>\n",
       "</div>"
      ],
      "text/plain": [
       "          total_sales\n",
       "platform             \n",
       "PS3            445.57\n",
       "X360           380.38\n",
       "PS4            314.14\n",
       "3DS            257.81\n",
       "XOne           159.32\n",
       "PC              97.68\n",
       "Wii             95.02\n",
       "WiiU            82.19\n",
       "PSV             53.81\n",
       "DS              38.73\n",
       "PSP             29.01\n",
       "PS2              0.45"
      ]
     },
     "execution_count": 27,
     "metadata": {},
     "output_type": "execute_result"
    }
   ],
   "source": [
    "#посмотрим детальнее 2011-2016 года\n",
    "data_actual = data.query('2011 <= year_of_release <= 2016')\n",
    "data_actual.pivot_table(index = 'platform', values = 'total_sales', aggfunc = 'sum').sort_values(by = 'total_sales', ascending = False)"
   ]
  },
  {
   "cell_type": "markdown",
   "metadata": {},
   "source": [
    "Лидирующими платформами по продажам в период 2011-2016 года стали PS3, X360, Wii, PS4, 3DS, XOne, PC, Wii"
   ]
  },
  {
   "cell_type": "code",
   "execution_count": 28,
   "metadata": {},
   "outputs": [
    {
     "data": {
      "text/plain": [
       "<AxesSubplot:xlabel='year_of_release'>"
      ]
     },
     "execution_count": 28,
     "metadata": {},
     "output_type": "execute_result"
    },
    {
     "data": {
      "image/png": "[encoded data removed]",
      "text/plain": [
       "<Figure size 1080x360 with 1 Axes>"
      ]
     },
     "metadata": {
      "needs_background": "light"
     },
     "output_type": "display_data"
    }
   ],
   "source": [
    "#посмотри как менялись продажи на платформах в течении времени\n",
    "data_actual.pivot_table(index = 'year_of_release', columns = 'platform', values = 'total_sales', aggfunc = 'sum').plot(figsize = (15, 5))"
   ]
  },
  {
   "cell_type": "markdown",
   "metadata": {},
   "source": [
    "Замечаем, что многие платформы к 2016 года начинают терять интерес пользователей, однако самая молодая из них и остающаяся на плаву платформа PS4 показывает хорошие результаты - запоминаем ее, 3DS и X0ne.\n",
    "\n",
    "А вот DC, PSP, Wii вовсе теряют свои позиции - их выбирать не стоит вовсе. "
   ]
  },
  {
   "cell_type": "code",
   "execution_count": 29,
   "metadata": {},
   "outputs": [
    {
     "data": {
      "text/plain": [
       "<AxesSubplot:>"
      ]
     },
     "execution_count": 29,
     "metadata": {},
     "output_type": "execute_result"
    },
    {
     "data": {
      "image/png": "[encoded data removed]",
      "text/plain": [
       "<Figure size 432x288 with 1 Axes>"
      ]
     },
     "metadata": {
      "needs_background": "light"
     },
     "output_type": "display_data"
    }
   ],
   "source": [
    "#построим график «ящик с усами» по глобальным продажам игр в разбивке по платформам\n",
    "data_actual.pivot_table(index = 'name', columns = 'platform', values = 'total_sales', aggfunc = 'sum').plot(kind = 'box', ylim = (0,1.9))"
   ]
  },
  {
   "cell_type": "markdown",
   "metadata": {},
   "source": [
    "Больше всех прибыли у X360, затем X0ne и WiiU, PS4 и PS3. Поэтому пополняем список приоритетных платформ - WiiU и X360.\n",
    "\n",
    "Далее будем смотреть как влияют на продажи внутри одной популярной платформы отзывы пользователей и критиков на примере PS4 как наиболее потенциально прибыльную платформу."
   ]
  },
  {
   "cell_type": "code",
   "execution_count": 30,
   "metadata": {},
   "outputs": [
    {
     "name": "stdout",
     "output_type": "stream",
     "text": [
      "0.40656790206178095\n"
     ]
    },
    {
     "data": {
      "text/plain": [
       "-0.031957110204556376"
      ]
     },
     "execution_count": 30,
     "metadata": {},
     "output_type": "execute_result"
    },
    {
     "data": {
      "image/png": "[encoded data removed]",
      "text/plain": [
       "<Figure size 720x720 with 9 Axes>"
      ]
     },
     "metadata": {
      "needs_background": "light"
     },
     "output_type": "display_data"
    }
   ],
   "source": [
    "#выводим только те записи датафрейма, где значение столбца platform = PS4\n",
    "data_PS4 = data.query('platform == \"PS4\"')\n",
    "#оставляем только необходимые для анализа столбцы\n",
    "data_PS4_need_colums = data_PS4[['critic_score', 'user_score', 'total_sales']]\n",
    "#строим диаграмму рассеяния\n",
    "pd.plotting.scatter_matrix(data_PS4_need_colums, figsize = (10,10))\n",
    "#рассчитываем коэффициент корреляции между отзывами и продажами\n",
    "print(data_PS4['critic_score'].corr(data_PS4['total_sales']))\n",
    "data_PS4['user_score'].corr(data_PS4['total_sales'])"
   ]
  },
  {
   "cell_type": "markdown",
   "metadata": {},
   "source": [
    "По проведенному анализу можно заметить, что между отзывами критиков и продажами слабая прямая связь. А между отзывами пользователей и продажами очень слабая обратная связь.\n",
    "\n",
    "Можно сделать вывод, что покупатели больше прислушиваются к критикам и их оценкам, нежели к другим пользователям. Однако для точного ответа проведем подобный анализ для оставшихся приоритетных платформ 3DS, X0ne, WiiU и X360."
   ]
  },
  {
   "cell_type": "code",
   "execution_count": 31,
   "metadata": {},
   "outputs": [
    {
     "name": "stdout",
     "output_type": "stream",
     "text": [
      "0.3487397305984834\n"
     ]
    },
    {
     "data": {
      "text/plain": [
       "0.22207843643390882"
      ]
     },
     "execution_count": 31,
     "metadata": {},
     "output_type": "execute_result"
    },
    {
     "data": {
      "image/png": "[encoded data removed]",
      "text/plain": [
       "<Figure size 720x720 with 9 Axes>"
      ]
     },
     "metadata": {
      "needs_background": "light"
     },
     "output_type": "display_data"
    }
   ],
   "source": [
    "#выводим только те записи датафрейма, где значение столбца platform = 3DS\n",
    "data_3DS = data.query('platform == \"3DS\"')\n",
    "#оставляем только необходимые для анализа столбцы\n",
    "data_3DS_need_colums = data_3DS[['critic_score', 'user_score', 'total_sales']]\n",
    "#строим диаграмму рассеяния\n",
    "pd.plotting.scatter_matrix(data_3DS_need_colums, figsize = (10,10))\n",
    "#рассчитываем коэффициент корреляции между отзывами и продажами\n",
    "print(data_3DS['critic_score'].corr(data_3DS['total_sales']))\n",
    "data_3DS['user_score'].corr(data_3DS['total_sales'])"
   ]
  },
  {
   "cell_type": "code",
   "execution_count": 32,
   "metadata": {},
   "outputs": [
    {
     "name": "stdout",
     "output_type": "stream",
     "text": [
      "0.4169983280084017\n"
     ]
    },
    {
     "data": {
      "text/plain": [
       "-0.06892505328279414"
      ]
     },
     "execution_count": 32,
     "metadata": {},
     "output_type": "execute_result"
    },
    {
     "data": {
      "image/png": "[encoded data removed]",
      "text/plain": [
       "<Figure size 720x720 with 9 Axes>"
      ]
     },
     "metadata": {
      "needs_background": "light"
     },
     "output_type": "display_data"
    }
   ],
   "source": [
    "#выводим только те записи датафрейма, где значение столбца platform = XOne\n",
    "data_XOne = data.query('platform == \"XOne\"')\n",
    "#оставляем только необходимые для анализа столбцы\n",
    "data_XOne_need_colums = data_XOne[['critic_score', 'user_score', 'total_sales']]\n",
    "#строим диаграмму рассеяния\n",
    "pd.plotting.scatter_matrix(data_XOne_need_colums, figsize = (10,10))\n",
    "#рассчитываем коэффициент корреляции между отзывами и продажами\n",
    "print(data_XOne['critic_score'].corr(data_XOne['total_sales']))\n",
    "data_XOne['user_score'].corr(data_XOne['total_sales'])"
   ]
  },
  {
   "cell_type": "code",
   "execution_count": 33,
   "metadata": {},
   "outputs": [
    {
     "name": "stdout",
     "output_type": "stream",
     "text": [
      "0.34837976012017485\n"
     ]
    },
    {
     "data": {
      "text/plain": [
       "0.4002190202148617"
      ]
     },
     "execution_count": 33,
     "metadata": {},
     "output_type": "execute_result"
    },
    {
     "data": {
      "image/png": "[encoded data removed]",
      "text/plain": [
       "<Figure size 720x720 with 9 Axes>"
      ]
     },
     "metadata": {
      "needs_background": "light"
     },
     "output_type": "display_data"
    }
   ],
   "source": [
    "#выводим только те записи датафрейма, где значение столбца platform = WiiU\n",
    "data_WiiU = data.query('platform == \"WiiU\"')\n",
    "#оставляем только необходимые для анализа столбцы\n",
    "data_WiiU_need_colums = data_WiiU[['critic_score', 'user_score', 'total_sales']]\n",
    "#строим диаграмму рассеяния\n",
    "pd.plotting.scatter_matrix(data_WiiU_need_colums, figsize = (10,10))\n",
    "#рассчитываем коэффициент корреляции между отзывами и продажами\n",
    "print(data_WiiU['critic_score'].corr(data_WiiU['total_sales']))\n",
    "data_WiiU['user_score'].corr(data_WiiU['total_sales'])"
   ]
  },
  {
   "cell_type": "code",
   "execution_count": 34,
   "metadata": {},
   "outputs": [
    {
     "name": "stdout",
     "output_type": "stream",
     "text": [
      "0.39286589254006954\n"
     ]
    },
    {
     "data": {
      "text/plain": [
       "0.11418661214018049"
      ]
     },
     "execution_count": 34,
     "metadata": {},
     "output_type": "execute_result"
    },
    {
     "data": {
      "image/png": "[encoded data removed]",
      "text/plain": [
       "<Figure size 720x720 with 9 Axes>"
      ]
     },
     "metadata": {
      "needs_background": "light"
     },
     "output_type": "display_data"
    }
   ],
   "source": [
    "#выводим только те записи датафрейма, где значение столбца platform = X360\n",
    "data_X360 = data.query('platform == \"X360\"')\n",
    "#оставляем только необходимые для анализа столбцы\n",
    "data_X360_need_colums = data_X360[['critic_score', 'user_score', 'total_sales']]\n",
    "#строим диаграмму рассеяния\n",
    "pd.plotting.scatter_matrix(data_X360_need_colums, figsize = (10,10))\n",
    "#рассчитываем коэффициент корреляции между отзывами и продажами\n",
    "print(data_X360['critic_score'].corr(data_X360['total_sales']))\n",
    "data_X360['user_score'].corr(data_X360['total_sales'])"
   ]
  },
  {
   "cell_type": "markdown",
   "metadata": {},
   "source": [
    "В итоге имеем следующие коэффициенты корреляции:\n",
    "- PS4: 0.406 (м/у продажами и отзывами пользователей) и -0.032 (м/у продажами и отзывами критиков)\n",
    "- 3DS: 0.35 (м/у продажами и отзывами пользователей) и 0.222 (м/у продажами и отзывами критиков)\n",
    "- X0ne: 0.417 (м/у продажами и отзывами пользователей) и -0.069 (м/у продажами и отзывами критиков)\n",
    "- WiiU: 0.35 (м/у продажами и отзывами пользователей) и 0.4 (м/у продажами и отзывами критиков)\n",
    "- X360: 0.39 (м/у продажами и отзывами пользователей) и 0.114 (м/у продажами и отзывами критиков)\n",
    "    \n",
    "**Теперь однозначно можно сделать вывод**, что покупатели больше прислушиваются к критикам и их оценкам, нежели к другим пользователям.\n",
    "\n",
    "Далее переходим к анализу жанров: найдем наиболее и наименее приыбльные жанры."
   ]
  },
  {
   "cell_type": "code",
   "execution_count": 35,
   "metadata": {},
   "outputs": [
    {
     "data": {
      "text/html": [
       "<div>\n",
       "<style scoped>\n",
       "    .dataframe tbody tr th:only-of-type {\n",
       "        vertical-align: middle;\n",
       "    }\n",
       "\n",
       "    .dataframe tbody tr th {\n",
       "        vertical-align: top;\n",
       "    }\n",
       "\n",
       "    .dataframe thead th {\n",
       "        text-align: right;\n",
       "    }\n",
       "</style>\n",
       "<table border=\"1\" class=\"dataframe\">\n",
       "  <thead>\n",
       "    <tr style=\"text-align: right;\">\n",
       "      <th></th>\n",
       "      <th>total_sales</th>\n",
       "    </tr>\n",
       "    <tr>\n",
       "      <th>genre</th>\n",
       "      <th></th>\n",
       "    </tr>\n",
       "  </thead>\n",
       "  <tbody>\n",
       "    <tr>\n",
       "      <th>Shooter</th>\n",
       "      <td>0.410</td>\n",
       "    </tr>\n",
       "    <tr>\n",
       "      <th>Sports</th>\n",
       "      <td>0.200</td>\n",
       "    </tr>\n",
       "    <tr>\n",
       "      <th>Platform</th>\n",
       "      <td>0.185</td>\n",
       "    </tr>\n",
       "    <tr>\n",
       "      <th>Fighting</th>\n",
       "      <td>0.180</td>\n",
       "    </tr>\n",
       "    <tr>\n",
       "      <th>Racing</th>\n",
       "      <td>0.160</td>\n",
       "    </tr>\n",
       "    <tr>\n",
       "      <th>Role-Playing</th>\n",
       "      <td>0.150</td>\n",
       "    </tr>\n",
       "    <tr>\n",
       "      <th>Action</th>\n",
       "      <td>0.130</td>\n",
       "    </tr>\n",
       "    <tr>\n",
       "      <th>Misc</th>\n",
       "      <td>0.130</td>\n",
       "    </tr>\n",
       "    <tr>\n",
       "      <th>Simulation</th>\n",
       "      <td>0.110</td>\n",
       "    </tr>\n",
       "    <tr>\n",
       "      <th>Strategy</th>\n",
       "      <td>0.080</td>\n",
       "    </tr>\n",
       "    <tr>\n",
       "      <th>Puzzle</th>\n",
       "      <td>0.050</td>\n",
       "    </tr>\n",
       "    <tr>\n",
       "      <th>Adventure</th>\n",
       "      <td>0.030</td>\n",
       "    </tr>\n",
       "  </tbody>\n",
       "</table>\n",
       "</div>"
      ],
      "text/plain": [
       "              total_sales\n",
       "genre                    \n",
       "Shooter             0.410\n",
       "Sports              0.200\n",
       "Platform            0.185\n",
       "Fighting            0.180\n",
       "Racing              0.160\n",
       "Role-Playing        0.150\n",
       "Action              0.130\n",
       "Misc                0.130\n",
       "Simulation          0.110\n",
       "Strategy            0.080\n",
       "Puzzle              0.050\n",
       "Adventure           0.030"
      ]
     },
     "execution_count": 35,
     "metadata": {},
     "output_type": "execute_result"
    }
   ],
   "source": [
    "#просмотрим наиболее прибыльные жанры\n",
    "top_genre = data_actual.pivot_table(index = 'genre', values = 'total_sales', aggfunc = 'median').sort_values(by = 'total_sales', ascending = False)\n",
    "top_genre"
   ]
  },
  {
   "cell_type": "markdown",
   "metadata": {},
   "source": [
    "Наиболее прибыльные жанры - это Shooter, Sports и Platform\n",
    "\n",
    "Наименее - Adventure, Puzzle и Strategy"
   ]
  },
  {
   "cell_type": "markdown",
   "metadata": {},
   "source": [
    "### Составим портрет пользователя каждого региона"
   ]
  },
  {
   "cell_type": "markdown",
   "metadata": {},
   "source": [
    "Портрет начнем составлять с определения самых популярных платформ в каждом регионе."
   ]
  },
  {
   "cell_type": "code",
   "execution_count": 36,
   "metadata": {},
   "outputs": [
    {
     "data": {
      "image/png": "[encoded data removed]",
      "text/plain": [
       "<Figure size 720x360 with 1 Axes>"
      ]
     },
     "metadata": {
      "needs_background": "light"
     },
     "output_type": "display_data"
    },
    {
     "data": {
      "image/png": "[encoded data removed]",
      "text/plain": [
       "<Figure size 720x360 with 1 Axes>"
      ]
     },
     "metadata": {
      "needs_background": "light"
     },
     "output_type": "display_data"
    },
    {
     "data": {
      "image/png": "[encoded data removed]",
      "text/plain": [
       "<Figure size 720x360 with 1 Axes>"
      ]
     },
     "metadata": {
      "needs_background": "light"
     },
     "output_type": "display_data"
    }
   ],
   "source": [
    "#определим для пользователей Северной Америки самые популярные платформы (топ-5)\n",
    "top_na_platform = data_actual.pivot_table(index = 'platform', values = 'na_sales', aggfunc = 'sum').sort_values(by = 'na_sales', ascending = False).plot(kind = 'bar', figsize = (10,5))\n",
    "#для Европы\n",
    "top_eu_platform = data_actual.pivot_table(index = 'platform', values = 'eu_sales', aggfunc = 'sum').sort_values(by = 'eu_sales', ascending = False).plot(kind = 'bar', figsize = (10,5))\n",
    "#для Японии\n",
    "top_na_platform = data_actual.pivot_table(index = 'platform', values = 'jp_sales', aggfunc = 'sum').sort_values(by = 'jp_sales', ascending = False).plot(kind = 'bar', figsize = (10,5))"
   ]
  },
  {
   "cell_type": "markdown",
   "metadata": {},
   "source": [
    "Как итог имеем следущие показатели:\n",
    "- Для Северной Америки топ-5 платформ: X360, PS3, PS4, XOne и 3DS\n",
    "- Для Европы: PS3, PS4, X360, 3DS и PC\n",
    "- Для Японии: 3DS, PS3, PSP, PSV и PS4\n",
    "\n",
    "Далее переходим к определению самых популярных жанров."
   ]
  },
  {
   "cell_type": "code",
   "execution_count": 37,
   "metadata": {},
   "outputs": [
    {
     "data": {
      "image/png": "[encoded data removed]",
      "text/plain": [
       "<Figure size 720x360 with 1 Axes>"
      ]
     },
     "metadata": {
      "needs_background": "light"
     },
     "output_type": "display_data"
    },
    {
     "data": {
      "image/png": "[encoded data removed]",
      "text/plain": [
       "<Figure size 720x360 with 1 Axes>"
      ]
     },
     "metadata": {
      "needs_background": "light"
     },
     "output_type": "display_data"
    },
    {
     "data": {
      "image/png": "[encoded data removed]",
      "text/plain": [
       "<Figure size 720x360 with 1 Axes>"
      ]
     },
     "metadata": {
      "needs_background": "light"
     },
     "output_type": "display_data"
    }
   ],
   "source": [
    "#определим для пользователей Северной Америки самые популярные жанры (топ-5)\n",
    "top_na_genre = data_actual.pivot_table(index = 'genre', values = 'na_sales', aggfunc = 'sum').sort_values(by = 'na_sales', ascending = False).plot(kind = 'bar', figsize = (10,5))\n",
    "#для Европы\n",
    "top_eu_genre = data_actual.pivot_table(index = 'genre', values = 'eu_sales', aggfunc = 'sum').sort_values(by = 'eu_sales', ascending = False).plot(kind = 'bar', figsize = (10,5))\n",
    "#для Японии\n",
    "top_na_genre = data_actual.pivot_table(index = 'genre', values = 'jp_sales', aggfunc = 'sum').sort_values(by = 'jp_sales', ascending = False).plot(kind = 'bar', figsize = (10,5))"
   ]
  },
  {
   "cell_type": "markdown",
   "metadata": {},
   "source": [
    "Как итог имеем следущие показатели:\n",
    "- Для Северной Америки топ-5 жанров: Action, Shooter, Sports, Role-Playing и Misc\n",
    "- Для Европы: Action, Shooter, Sports, Role-Playing и Racing\n",
    "- Для Японии: Role-Playing, Action, Misc, Fighting и Platform\n",
    "\n",
    "Можно заметить, что в Северной Америке и Европе пользователи имеют сильно схожий вкус в жанрах. \n",
    "\n",
    "Далее переходим к влиянию рейтинга ESRB на продажи в регионах."
   ]
  },
  {
   "cell_type": "code",
   "execution_count": 38,
   "metadata": {},
   "outputs": [
    {
     "data": {
      "text/plain": [
       "array(['E', 'RP', 'M', 'T', 'E10+', 'K-A', 'AO', 'EC'], dtype=object)"
      ]
     },
     "execution_count": 38,
     "metadata": {},
     "output_type": "execute_result"
    }
   ],
   "source": [
    "#выведем уникальные значения столбца rating\n",
    "data['rating'].unique()"
   ]
  },
  {
   "cell_type": "markdown",
   "metadata": {},
   "source": [
    "Рейтинг ESRB:\n",
    "- E - «Для всех»\n",
    "- M - «От 17 лет»\n",
    "- T - «Подросткам 13—19 лет»\n",
    "- E10+ - «Для всех старше 10 лет»\n",
    "- K-A - «От 6 лет и старше»\n",
    "- AO - «Только для взрослых»\n",
    "- EC - «Для детей младшего возраста»\n",
    "- RP - «Рейтинг ожидается»"
   ]
  },
  {
   "cell_type": "code",
   "execution_count": 39,
   "metadata": {},
   "outputs": [
    {
     "data": {
      "image/png": "[encoded data removed]",
      "text/plain": [
       "<Figure size 720x360 with 1 Axes>"
      ]
     },
     "metadata": {
      "needs_background": "light"
     },
     "output_type": "display_data"
    },
    {
     "data": {
      "image/png": "[encoded data removed]",
      "text/plain": [
       "<Figure size 720x360 with 1 Axes>"
      ]
     },
     "metadata": {
      "needs_background": "light"
     },
     "output_type": "display_data"
    },
    {
     "data": {
      "image/png": "[encoded data removed]",
      "text/plain": [
       "<Figure size 720x360 with 1 Axes>"
      ]
     },
     "metadata": {
      "needs_background": "light"
     },
     "output_type": "display_data"
    }
   ],
   "source": [
    "#определим влияние рейтинга ESRB на продажи в Северной Америке\n",
    "top_na_ESRB = data_actual.pivot_table(index = 'rating', values = 'na_sales', aggfunc = 'sum').sort_values(by = 'na_sales', ascending = False).plot(kind = 'bar', figsize = (10,5))\n",
    "#для Европы\n",
    "top_eu_ESRB = data_actual.pivot_table(index = 'rating', values = 'eu_sales', aggfunc = 'sum').sort_values(by = 'eu_sales', ascending = False).plot(kind = 'bar', figsize = (10,5))\n",
    "#для Японии\n",
    "top_na_ESRB = data_actual.pivot_table(index = 'rating', values = 'jp_sales', aggfunc = 'sum').sort_values(by = 'jp_sales', ascending = False).plot(kind = 'bar', figsize = (10,5))"
   ]
  },
  {
   "cell_type": "markdown",
   "metadata": {},
   "source": [
    "Исходя из полученных данных можно сделать вывод, что рейтинг ESRB влияет на продажи в регионах. Так рейтинг игр EC («Для детей младшего возраста») не популярны вовсе в Европе и Японии."
   ]
  },
  {
   "cell_type": "markdown",
   "metadata": {},
   "source": [
    "**Вывод:**\n",
    "\n",
    "\n",
    "Портрет пользователя Северной Америки: \n",
    "- топ платформ - X360, PS3, PS4, XOne и 3DS\n",
    "- топ жанров - Action, Shooter, Sports, Role-Playing и Misc\n",
    "- топ-рейтинг - M - «От 17 лет»\n",
    "\n",
    "Портрет пользователя Европы: \n",
    "- топ платформ - PS3, PS4, X360, 3DS и PC\n",
    "- топ жанров - Action, Shooter, Sports, Role-Playing и Racing\n",
    "- топ-рейтинг - M - «От 17 лет»\n",
    "\n",
    "Портрет пользователя Европы: \n",
    "- топ платформ - 3DS, PS3, PSP, PSV и PS4\n",
    "- топ жанров - Role-Playing, Action, Misc, Fighting и Platform\n",
    "- топ-рейтинг - RP - «Рейтинг ожидается»"
   ]
  },
  {
   "cell_type": "markdown",
   "metadata": {},
   "source": [
    "### Проверяем гипотезы"
   ]
  },
  {
   "cell_type": "markdown",
   "metadata": {},
   "source": [
    "**Гипотеза 1:** Средние пользовательские рейтинги платформ Xbox One и PC одинаковые (гипотеза о равенстве средних двух генеральных совокупностей)\n",
    "\n",
    "H0 - средний пользовательский рейтинг платформы Xbox One = средний пользовательский рейтинг платформы PC\n",
    "\n",
    "H1 - средний пользовательский рейтинг платформы Xbox One ≠ средний пользовательский рейтинг платформы PC\n",
    "\n",
    "Пороговое значение alpha возьмем 5% - 0.05"
   ]
  },
  {
   "cell_type": "code",
   "execution_count": 40,
   "metadata": {},
   "outputs": [
    {
     "name": "stdout",
     "output_type": "stream",
     "text": [
      "p-значение 0.6267602271422398\n",
      "H0 не отвергается\n"
     ]
    }
   ],
   "source": [
    "#у массивов с выборками удаляем дополнительно пустые значения, иначе results.pvalue не будет считаться\n",
    "sample_1 = data_actual[data_actual['platform'] == \"XOne\"]['user_score'].dropna()\n",
    "sample_2 = data_actual[data_actual['platform'] == \"PC\"]['user_score'].dropna()\n",
    "alpha = 0.05\n",
    "results = st.ttest_ind(sample_1, sample_2)\n",
    "print('p-значение', results.pvalue)\n",
    "if results.pvalue < alpha:\n",
    "    print('H0 отвергается')\n",
    "else:\n",
    "    print('H0 не отвергается')"
   ]
  },
  {
   "cell_type": "markdown",
   "metadata": {},
   "source": [
    "**Первая гипотеза не опровергнута**, средние пользовательские рейтинги платформ Xbox One и PC равны."
   ]
  },
  {
   "cell_type": "markdown",
   "metadata": {},
   "source": [
    "**Гипотеза 2:** Средние пользовательские рейтинги жанров Action и Sports разные (гипотеза о равенстве средних двух генеральных совокупностей)\n",
    "\n",
    "H0 - средний пользовательский рейтинг жанров Action = средний пользовательский рейтинг жанров Sports\n",
    "\n",
    "H1 - средний пользовательский рейтинг жанров Action ≠ средний пользовательский рейтинг жанров Sports"
   ]
  },
  {
   "cell_type": "code",
   "execution_count": 41,
   "metadata": {},
   "outputs": [
    {
     "name": "stdout",
     "output_type": "stream",
     "text": [
      "p-значение 5.1974550252152054e-24\n",
      "H0 отвергается\n"
     ]
    }
   ],
   "source": [
    "#у массивов с выборками удаляем дополнительно пустые значения, иначе results.pvalue не будет считаться\n",
    "sample_3 = data_actual[data_actual['genre'] == \"Action\"]['user_score'].dropna()\n",
    "sample_4 = data_actual[data_actual['genre'] == \"Sports\"]['user_score'].dropna()\n",
    "alpha = 0.05\n",
    "results = st.ttest_ind(sample_3, sample_4)\n",
    "print('p-значение', results.pvalue)\n",
    "if results.pvalue < alpha:\n",
    "    print('H0 отвергается')\n",
    "else:\n",
    "    print('H0 не отвергается')"
   ]
  },
  {
   "cell_type": "markdown",
   "metadata": {},
   "source": [
    "**Вторая гипотеза опровергнута**, средние пользовательские рейтинги жанров Action и Sports разные."
   ]
  },
  {
   "cell_type": "markdown",
   "metadata": {},
   "source": [
    "### Общий вывод"
   ]
  },
  {
   "cell_type": "markdown",
   "metadata": {},
   "source": [
    "- В ходе проведенной работы с данными были определены пропущенные значения, избавились от них, там где это возможно без каких-либо последствий, изменили типы данных для более удобной работы. \n",
    "\n",
    "- В датафрейм был добавлен новый столбец total_sales с суммарными продажами во всех регионах. \n",
    "\n",
    "- Узнали , что игры начали выпускаться с 1980 года и примерно с 1998 года начался сильный прирост. Пик выпуска игр пришелся на 2008 и 2009 года. \n",
    "\n",
    "- Самые прибыльные платформы за весь период: PS2, X360, PS3, Wii, DS, PS, GBA, PS4, PSP и PC. \n",
    "\n",
    "- В среднем платформа существует по 10 лет.\n",
    "\n",
    "- Для прогноза на 2017 год были взяты данные за 2011-2016 года.\n",
    "\n",
    "- Лидирующими платформами по продажам в период 2011-2016 года стали PS3, X360, Wii, PS4, 3DS, XOne, PC, Wii. Однако, многие платформы к 2016 году начали терять интерес пользователей, но самая молодая из них и остающаяся на плаву платформа PS4 показала хорошие результаты, как и 3DS с X0ne. А вот Wii, PSP, DS  вовсе потеряли свои позиции. \n",
    "\n",
    "- Больше всех прибыли у X360, затем X0ne и WiiU, PS4 и PS3. \n",
    "\n",
    "- Покупатели больше прислушиваются к критикам и их оценкам, нежели к другим пользователям. \n",
    "\n",
    "- Рейтинг ESRB влияет на продажи в регионах, так, например, рейтинг EC («Для детей младшего возраста») не популярны вовсе в Европе и Японии. \n",
    "\n",
    "- Составлены портреты пользователей регионов:\n",
    "\n",
    "Портрет пользователя Северной Америки:\n",
    "\n",
    "топ платформ - X360, PS3, PS4, XOne и 3DS\n",
    "топ жанров - Action, Shooter, Sports, Role-Playing и Misc\n",
    "топ-рейтинг - M - «От 17 лет»\n",
    "Портрет пользователя Европы:\n",
    "\n",
    "топ платформ - PS3, PS4, X360, 3DS и PC\n",
    "топ жанров - Action, Shooter, Sports, Role-Playing и Racing\n",
    "топ-рейтинг - M - «От 17 лет»\n",
    "Портрет пользователя Европы:\n",
    "\n",
    "топ платформ - 3DS, PS3, PSP, PSV и PS4\n",
    "топ жанров - Role-Playing, Action, Misc, Fighting и Platform\n",
    "топ-рейтинг - RP - «Рейтинг ожидается»\n",
    "\n",
    "- В ходе проверок гипотез мы пришли к тому, что первая гипотеза не опровергнута, средние пользовательские рейтинги платформ Xbox One и PC одинаковые, а вот вторая гипотеза опровергнута, средние пользовательские рейтинги жанров Action и Sports действительно разные."
   ]
  },
  {
   "cell_type": "code",
   "execution_count": null,
   "metadata": {},
   "outputs": [],
   "source": []
  }
 ],
 "metadata": {
  "ExecuteTimeLog": [
   {
    "duration": 459,
    "start_time": "2023-03-13T14:25:14.094Z"
   },
   {
    "duration": 120,
    "start_time": "2023-03-13T14:25:39.972Z"
   },
   {
    "duration": 936,
    "start_time": "2023-03-13T14:27:01.866Z"
   },
   {
    "duration": 64,
    "start_time": "2023-03-13T14:27:24.660Z"
   },
   {
    "duration": 15,
    "start_time": "2023-03-13T14:29:33.718Z"
   },
   {
    "duration": 5,
    "start_time": "2023-03-13T14:30:52.191Z"
   },
   {
    "duration": 17,
    "start_time": "2023-03-13T14:34:43.596Z"
   },
   {
    "duration": 15,
    "start_time": "2023-03-13T14:35:14.867Z"
   },
   {
    "duration": 3,
    "start_time": "2023-03-13T14:35:53.516Z"
   },
   {
    "duration": 13,
    "start_time": "2023-03-13T14:36:04.897Z"
   },
   {
    "duration": 3,
    "start_time": "2023-03-13T14:52:41.446Z"
   },
   {
    "duration": 16,
    "start_time": "2023-03-13T14:53:18.551Z"
   },
   {
    "duration": 878,
    "start_time": "2023-03-13T14:57:15.808Z"
   },
   {
    "duration": 19,
    "start_time": "2023-03-13T14:57:26.776Z"
   },
   {
    "duration": 17,
    "start_time": "2023-03-13T15:03:27.011Z"
   },
   {
    "duration": 7,
    "start_time": "2023-03-13T15:04:03.792Z"
   },
   {
    "duration": 7,
    "start_time": "2023-03-13T15:04:16.579Z"
   },
   {
    "duration": 8,
    "start_time": "2023-03-13T15:05:41.259Z"
   },
   {
    "duration": 8,
    "start_time": "2023-03-13T15:10:11.286Z"
   },
   {
    "duration": 6,
    "start_time": "2023-03-13T15:10:23.710Z"
   },
   {
    "duration": 27,
    "start_time": "2023-03-13T15:11:01.116Z"
   },
   {
    "duration": 16,
    "start_time": "2023-03-13T15:11:08.896Z"
   },
   {
    "duration": 25,
    "start_time": "2023-03-13T15:11:17.964Z"
   },
   {
    "duration": 10,
    "start_time": "2023-03-13T15:45:22.509Z"
   },
   {
    "duration": 16,
    "start_time": "2023-03-13T15:46:49.251Z"
   },
   {
    "duration": 19,
    "start_time": "2023-03-13T15:48:57.137Z"
   },
   {
    "duration": 10,
    "start_time": "2023-03-13T15:49:08.357Z"
   },
   {
    "duration": 9,
    "start_time": "2023-03-13T15:50:49.485Z"
   },
   {
    "duration": 4,
    "start_time": "2023-03-13T15:50:59.762Z"
   },
   {
    "duration": 14,
    "start_time": "2023-03-13T15:52:28.394Z"
   },
   {
    "duration": 12,
    "start_time": "2023-03-13T15:56:24.439Z"
   },
   {
    "duration": 26,
    "start_time": "2023-03-13T16:00:49.540Z"
   },
   {
    "duration": 15,
    "start_time": "2023-03-13T16:00:59.888Z"
   },
   {
    "duration": 14,
    "start_time": "2023-03-13T16:01:13.289Z"
   },
   {
    "duration": 6,
    "start_time": "2023-03-13T16:02:17.412Z"
   },
   {
    "duration": 5,
    "start_time": "2023-03-13T16:02:47.356Z"
   },
   {
    "duration": 812,
    "start_time": "2023-03-13T16:03:15.140Z"
   },
   {
    "duration": 729,
    "start_time": "2023-03-13T16:04:46.031Z"
   },
   {
    "duration": 11,
    "start_time": "2023-03-13T16:05:42.003Z"
   },
   {
    "duration": 19,
    "start_time": "2023-03-13T16:10:22.396Z"
   },
   {
    "duration": 156,
    "start_time": "2023-03-13T16:19:32.426Z"
   },
   {
    "duration": 258,
    "start_time": "2023-03-13T16:20:46.127Z"
   },
   {
    "duration": 184,
    "start_time": "2023-03-13T16:20:55.072Z"
   },
   {
    "duration": 161,
    "start_time": "2023-03-13T16:21:02.365Z"
   },
   {
    "duration": 176,
    "start_time": "2023-03-13T16:22:22.144Z"
   },
   {
    "duration": 249,
    "start_time": "2023-03-13T16:23:52.324Z"
   },
   {
    "duration": 189,
    "start_time": "2023-03-13T16:24:15.748Z"
   },
   {
    "duration": 10,
    "start_time": "2023-03-13T16:25:39.286Z"
   },
   {
    "duration": 762,
    "start_time": "2023-03-13T16:25:47.432Z"
   },
   {
    "duration": 164,
    "start_time": "2023-03-13T16:26:01.053Z"
   },
   {
    "duration": 171,
    "start_time": "2023-03-13T16:26:18.229Z"
   },
   {
    "duration": 134,
    "start_time": "2023-03-13T16:26:31.457Z"
   },
   {
    "duration": 132,
    "start_time": "2023-03-13T16:26:49.458Z"
   },
   {
    "duration": 174,
    "start_time": "2023-03-13T16:26:56.713Z"
   },
   {
    "duration": 140,
    "start_time": "2023-03-13T16:27:23.298Z"
   },
   {
    "duration": 49,
    "start_time": "2023-03-13T16:29:26.194Z"
   },
   {
    "duration": 232,
    "start_time": "2023-03-13T16:30:16.935Z"
   },
   {
    "duration": 407,
    "start_time": "2023-03-13T16:30:27.099Z"
   },
   {
    "duration": 16,
    "start_time": "2023-03-13T16:31:56.460Z"
   },
   {
    "duration": 158,
    "start_time": "2023-03-13T16:32:01.321Z"
   },
   {
    "duration": 147,
    "start_time": "2023-03-13T16:32:02.542Z"
   },
   {
    "duration": 9,
    "start_time": "2023-03-13T16:32:11.370Z"
   },
   {
    "duration": 16,
    "start_time": "2023-03-13T16:32:42.910Z"
   },
   {
    "duration": 19,
    "start_time": "2023-03-13T16:33:31.225Z"
   },
   {
    "duration": 16,
    "start_time": "2023-03-13T16:36:05.215Z"
   },
   {
    "duration": 198,
    "start_time": "2023-03-13T16:36:53.775Z"
   },
   {
    "duration": 185,
    "start_time": "2023-03-13T16:36:59.598Z"
   },
   {
    "duration": 102,
    "start_time": "2023-03-13T16:38:14.905Z"
   },
   {
    "duration": 135,
    "start_time": "2023-03-13T16:38:20.666Z"
   },
   {
    "duration": 970,
    "start_time": "2023-03-13T16:38:56.124Z"
   },
   {
    "duration": 815,
    "start_time": "2023-03-13T16:39:27.778Z"
   },
   {
    "duration": 1194,
    "start_time": "2023-03-13T16:44:22.205Z"
   },
   {
    "duration": 15,
    "start_time": "2023-03-13T16:44:23.401Z"
   },
   {
    "duration": 4,
    "start_time": "2023-03-13T16:44:23.418Z"
   },
   {
    "duration": 18,
    "start_time": "2023-03-13T16:44:23.424Z"
   },
   {
    "duration": 7,
    "start_time": "2023-03-13T16:44:23.444Z"
   },
   {
    "duration": 17,
    "start_time": "2023-03-13T16:44:23.452Z"
   },
   {
    "duration": 17,
    "start_time": "2023-03-13T16:44:23.471Z"
   },
   {
    "duration": 15,
    "start_time": "2023-03-13T16:44:23.489Z"
   },
   {
    "duration": 26,
    "start_time": "2023-03-13T16:44:23.505Z"
   },
   {
    "duration": 14,
    "start_time": "2023-03-13T16:44:23.533Z"
   },
   {
    "duration": 15,
    "start_time": "2023-03-13T16:44:23.548Z"
   },
   {
    "duration": 15,
    "start_time": "2023-03-13T16:44:23.564Z"
   },
   {
    "duration": 191,
    "start_time": "2023-03-13T16:44:23.580Z"
   },
   {
    "duration": 161,
    "start_time": "2023-03-13T16:44:23.772Z"
   },
   {
    "duration": 16,
    "start_time": "2023-03-13T16:44:23.935Z"
   },
   {
    "duration": 203416,
    "start_time": "2023-03-13T16:47:46.772Z"
   },
   {
    "duration": 16,
    "start_time": "2023-03-13T16:51:10.190Z"
   },
   {
    "duration": 121,
    "start_time": "2023-03-13T17:07:46.274Z"
   },
   {
    "duration": 16,
    "start_time": "2023-03-13T17:07:55.471Z"
   },
   {
    "duration": 18,
    "start_time": "2023-03-13T17:08:18.318Z"
   },
   {
    "duration": 135,
    "start_time": "2023-03-13T17:08:25.672Z"
   },
   {
    "duration": 741,
    "start_time": "2023-03-13T17:08:38.615Z"
   },
   {
    "duration": 714,
    "start_time": "2023-03-13T17:09:18.067Z"
   },
   {
    "duration": 8,
    "start_time": "2023-03-13T17:09:37.309Z"
   },
   {
    "duration": 1007,
    "start_time": "2023-03-13T17:10:35.839Z"
   },
   {
    "duration": 715,
    "start_time": "2023-03-13T17:11:03.327Z"
   },
   {
    "duration": 23,
    "start_time": "2023-03-13T17:13:12.124Z"
   },
   {
    "duration": 33,
    "start_time": "2023-03-13T17:13:27.128Z"
   },
   {
    "duration": 21,
    "start_time": "2023-03-13T17:14:40.476Z"
   },
   {
    "duration": 23,
    "start_time": "2023-03-13T17:14:48.729Z"
   },
   {
    "duration": 63,
    "start_time": "2023-03-13T17:15:36.174Z"
   },
   {
    "duration": 20,
    "start_time": "2023-03-13T17:15:36.239Z"
   },
   {
    "duration": 12,
    "start_time": "2023-03-13T17:15:36.261Z"
   },
   {
    "duration": 56,
    "start_time": "2023-03-13T17:15:36.275Z"
   },
   {
    "duration": 23,
    "start_time": "2023-03-13T17:15:36.339Z"
   },
   {
    "duration": 33,
    "start_time": "2023-03-13T17:15:36.363Z"
   },
   {
    "duration": 56,
    "start_time": "2023-03-13T17:15:36.399Z"
   },
   {
    "duration": 36,
    "start_time": "2023-03-13T17:15:36.457Z"
   },
   {
    "duration": 60,
    "start_time": "2023-03-13T17:15:36.495Z"
   },
   {
    "duration": 52,
    "start_time": "2023-03-13T17:15:36.558Z"
   },
   {
    "duration": 46,
    "start_time": "2023-03-13T17:15:36.612Z"
   },
   {
    "duration": 51,
    "start_time": "2023-03-13T17:15:36.660Z"
   },
   {
    "duration": 201,
    "start_time": "2023-03-13T17:15:36.713Z"
   },
   {
    "duration": 172,
    "start_time": "2023-03-13T17:15:36.916Z"
   },
   {
    "duration": 16,
    "start_time": "2023-03-13T17:15:37.089Z"
   },
   {
    "duration": 54,
    "start_time": "2023-03-13T17:15:37.106Z"
   },
   {
    "duration": 37,
    "start_time": "2023-03-13T17:18:15.669Z"
   },
   {
    "duration": 21,
    "start_time": "2023-03-13T17:18:23.393Z"
   },
   {
    "duration": 4,
    "start_time": "2023-03-13T17:22:29.425Z"
   },
   {
    "duration": 6,
    "start_time": "2023-03-13T17:22:49.867Z"
   },
   {
    "duration": 6,
    "start_time": "2023-03-13T17:23:15.119Z"
   },
   {
    "duration": 6,
    "start_time": "2023-03-13T17:23:25.093Z"
   },
   {
    "duration": 8,
    "start_time": "2023-03-13T17:24:11.192Z"
   },
   {
    "duration": 5048,
    "start_time": "2023-03-13T17:26:09.195Z"
   },
   {
    "duration": 5333,
    "start_time": "2023-03-13T17:27:20.219Z"
   },
   {
    "duration": 11,
    "start_time": "2023-03-13T17:28:27.136Z"
   },
   {
    "duration": 12,
    "start_time": "2023-03-13T17:28:53.984Z"
   },
   {
    "duration": 11,
    "start_time": "2023-03-13T17:29:05.155Z"
   },
   {
    "duration": 13,
    "start_time": "2023-03-13T17:29:07.785Z"
   },
   {
    "duration": 62,
    "start_time": "2023-03-13T17:29:14.609Z"
   },
   {
    "duration": 15,
    "start_time": "2023-03-13T17:29:14.673Z"
   },
   {
    "duration": 5,
    "start_time": "2023-03-13T17:29:14.690Z"
   },
   {
    "duration": 15,
    "start_time": "2023-03-13T17:29:14.696Z"
   },
   {
    "duration": 9,
    "start_time": "2023-03-13T17:29:14.730Z"
   },
   {
    "duration": 9,
    "start_time": "2023-03-13T17:29:14.740Z"
   },
   {
    "duration": 18,
    "start_time": "2023-03-13T17:29:14.750Z"
   },
   {
    "duration": 13,
    "start_time": "2023-03-13T17:29:14.770Z"
   },
   {
    "duration": 9,
    "start_time": "2023-03-13T17:29:14.784Z"
   },
   {
    "duration": 43,
    "start_time": "2023-03-13T17:29:14.794Z"
   },
   {
    "duration": 14,
    "start_time": "2023-03-13T17:29:14.839Z"
   },
   {
    "duration": 25,
    "start_time": "2023-03-13T17:29:14.855Z"
   },
   {
    "duration": 184,
    "start_time": "2023-03-13T17:29:14.882Z"
   },
   {
    "duration": 159,
    "start_time": "2023-03-13T17:29:15.068Z"
   },
   {
    "duration": 15,
    "start_time": "2023-03-13T17:29:15.229Z"
   },
   {
    "duration": 6,
    "start_time": "2023-03-13T17:29:18.172Z"
   },
   {
    "duration": 4,
    "start_time": "2023-03-13T17:29:45.971Z"
   },
   {
    "duration": 6,
    "start_time": "2023-03-13T17:29:52.071Z"
   },
   {
    "duration": 12,
    "start_time": "2023-03-13T17:29:57.615Z"
   },
   {
    "duration": 12,
    "start_time": "2023-03-13T17:30:03.390Z"
   },
   {
    "duration": 13,
    "start_time": "2023-03-13T17:30:07.947Z"
   },
   {
    "duration": 13,
    "start_time": "2023-03-13T17:30:12.123Z"
   },
   {
    "duration": 62,
    "start_time": "2023-03-13T17:30:14.849Z"
   },
   {
    "duration": 15,
    "start_time": "2023-03-13T17:30:14.913Z"
   },
   {
    "duration": 5,
    "start_time": "2023-03-13T17:30:14.930Z"
   },
   {
    "duration": 17,
    "start_time": "2023-03-13T17:30:14.936Z"
   },
   {
    "duration": 8,
    "start_time": "2023-03-13T17:30:14.954Z"
   },
   {
    "duration": 7,
    "start_time": "2023-03-13T17:30:14.964Z"
   },
   {
    "duration": 19,
    "start_time": "2023-03-13T17:30:14.973Z"
   },
   {
    "duration": 42,
    "start_time": "2023-03-13T17:30:14.994Z"
   },
   {
    "duration": 12,
    "start_time": "2023-03-13T17:30:15.037Z"
   },
   {
    "duration": 27,
    "start_time": "2023-03-13T17:30:15.051Z"
   },
   {
    "duration": 38,
    "start_time": "2023-03-13T17:30:15.079Z"
   },
   {
    "duration": 15,
    "start_time": "2023-03-13T17:30:15.119Z"
   },
   {
    "duration": 164,
    "start_time": "2023-03-13T17:30:15.136Z"
   },
   {
    "duration": 158,
    "start_time": "2023-03-13T17:30:15.301Z"
   },
   {
    "duration": 16,
    "start_time": "2023-03-13T17:30:15.461Z"
   },
   {
    "duration": 9,
    "start_time": "2023-03-13T17:30:15.478Z"
   },
   {
    "duration": 6,
    "start_time": "2023-03-13T17:30:20.490Z"
   },
   {
    "duration": 6,
    "start_time": "2023-03-13T17:30:59.551Z"
   },
   {
    "duration": 1953,
    "start_time": "2023-03-13T17:31:17.027Z"
   },
   {
    "duration": 131,
    "start_time": "2023-03-13T17:54:29.233Z"
   },
   {
    "duration": 143,
    "start_time": "2023-03-13T17:55:06.110Z"
   },
   {
    "duration": 4,
    "start_time": "2023-03-13T17:56:16.605Z"
   },
   {
    "duration": 10,
    "start_time": "2023-03-13T17:56:21.293Z"
   },
   {
    "duration": 26,
    "start_time": "2023-03-13T17:56:33.034Z"
   },
   {
    "duration": 65,
    "start_time": "2023-03-13T17:56:53.596Z"
   },
   {
    "duration": 16,
    "start_time": "2023-03-13T17:56:53.663Z"
   },
   {
    "duration": 4,
    "start_time": "2023-03-13T17:56:53.680Z"
   },
   {
    "duration": 21,
    "start_time": "2023-03-13T17:56:53.686Z"
   },
   {
    "duration": 21,
    "start_time": "2023-03-13T17:56:53.709Z"
   },
   {
    "duration": 6,
    "start_time": "2023-03-13T17:56:53.732Z"
   },
   {
    "duration": 18,
    "start_time": "2023-03-13T17:56:53.740Z"
   },
   {
    "duration": 13,
    "start_time": "2023-03-13T17:56:53.759Z"
   },
   {
    "duration": 8,
    "start_time": "2023-03-13T17:56:53.774Z"
   },
   {
    "duration": 20,
    "start_time": "2023-03-13T17:56:53.783Z"
   },
   {
    "duration": 39,
    "start_time": "2023-03-13T17:56:53.804Z"
   },
   {
    "duration": 16,
    "start_time": "2023-03-13T17:56:53.845Z"
   },
   {
    "duration": 191,
    "start_time": "2023-03-13T17:56:53.863Z"
   },
   {
    "duration": 172,
    "start_time": "2023-03-13T17:56:54.058Z"
   },
   {
    "duration": 17,
    "start_time": "2023-03-13T17:56:54.232Z"
   },
   {
    "duration": 17,
    "start_time": "2023-03-13T17:56:56.136Z"
   },
   {
    "duration": 728,
    "start_time": "2023-03-13T17:57:00.218Z"
   },
   {
    "duration": 8,
    "start_time": "2023-03-13T17:57:06.600Z"
   },
   {
    "duration": 1951,
    "start_time": "2023-03-13T17:57:11.935Z"
   },
   {
    "duration": 31,
    "start_time": "2023-03-13T17:58:24.241Z"
   },
   {
    "duration": 26,
    "start_time": "2023-03-13T17:58:40.214Z"
   },
   {
    "duration": 67,
    "start_time": "2023-03-13T17:59:18.439Z"
   },
   {
    "duration": 62,
    "start_time": "2023-03-13T17:59:26.400Z"
   },
   {
    "duration": 29,
    "start_time": "2023-03-13T18:01:20.485Z"
   },
   {
    "duration": 29,
    "start_time": "2023-03-13T18:01:35.496Z"
   },
   {
    "duration": 63,
    "start_time": "2023-03-13T18:01:50.439Z"
   },
   {
    "duration": 15,
    "start_time": "2023-03-13T18:01:50.503Z"
   },
   {
    "duration": 5,
    "start_time": "2023-03-13T18:01:50.519Z"
   },
   {
    "duration": 14,
    "start_time": "2023-03-13T18:01:50.526Z"
   },
   {
    "duration": 7,
    "start_time": "2023-03-13T18:01:50.542Z"
   },
   {
    "duration": 7,
    "start_time": "2023-03-13T18:01:50.550Z"
   },
   {
    "duration": 16,
    "start_time": "2023-03-13T18:01:50.558Z"
   },
   {
    "duration": 12,
    "start_time": "2023-03-13T18:01:50.576Z"
   },
   {
    "duration": 8,
    "start_time": "2023-03-13T18:01:50.589Z"
   },
   {
    "duration": 14,
    "start_time": "2023-03-13T18:01:50.631Z"
   },
   {
    "duration": 18,
    "start_time": "2023-03-13T18:01:50.647Z"
   },
   {
    "duration": 17,
    "start_time": "2023-03-13T18:01:50.667Z"
   },
   {
    "duration": 182,
    "start_time": "2023-03-13T18:01:50.686Z"
   },
   {
    "duration": 181,
    "start_time": "2023-03-13T18:01:50.870Z"
   },
   {
    "duration": 17,
    "start_time": "2023-03-13T18:01:51.053Z"
   },
   {
    "duration": 6,
    "start_time": "2023-03-13T18:01:51.071Z"
   },
   {
    "duration": 2007,
    "start_time": "2023-03-13T18:01:51.079Z"
   },
   {
    "duration": 26,
    "start_time": "2023-03-13T18:01:55.525Z"
   },
   {
    "duration": 13,
    "start_time": "2023-03-13T18:02:02.152Z"
   },
   {
    "duration": 13,
    "start_time": "2023-03-13T18:02:34.289Z"
   },
   {
    "duration": 16,
    "start_time": "2023-03-13T18:02:43.787Z"
   },
   {
    "duration": 18,
    "start_time": "2023-03-13T18:03:23.715Z"
   },
   {
    "duration": 17,
    "start_time": "2023-03-13T18:03:33.432Z"
   },
   {
    "duration": 17,
    "start_time": "2023-03-13T18:12:45.377Z"
   },
   {
    "duration": 22,
    "start_time": "2023-03-13T18:14:13.950Z"
   },
   {
    "duration": 21,
    "start_time": "2023-03-13T18:16:01.977Z"
   },
   {
    "duration": 189,
    "start_time": "2023-03-13T18:17:38.946Z"
   },
   {
    "duration": 49,
    "start_time": "2023-03-13T18:18:11.503Z"
   },
   {
    "duration": 1575,
    "start_time": "2023-03-13T18:18:26.038Z"
   },
   {
    "duration": 199,
    "start_time": "2023-03-13T18:20:42.092Z"
   },
   {
    "duration": 291,
    "start_time": "2023-03-13T18:57:09.996Z"
   },
   {
    "duration": 25,
    "start_time": "2023-03-13T18:57:46.193Z"
   },
   {
    "duration": 304,
    "start_time": "2023-03-13T18:57:50.131Z"
   },
   {
    "duration": 301,
    "start_time": "2023-03-13T18:58:07.696Z"
   },
   {
    "duration": 284,
    "start_time": "2023-03-13T18:58:20.644Z"
   },
   {
    "duration": 110,
    "start_time": "2023-03-13T18:59:14.293Z"
   },
   {
    "duration": 293,
    "start_time": "2023-03-13T19:01:51.094Z"
   },
   {
    "duration": 19,
    "start_time": "2023-03-13T19:07:08.806Z"
   },
   {
    "duration": 318,
    "start_time": "2023-03-13T19:07:36.697Z"
   },
   {
    "duration": 290,
    "start_time": "2023-03-13T19:08:33.193Z"
   },
   {
    "duration": 288,
    "start_time": "2023-03-13T19:08:43.676Z"
   },
   {
    "duration": 297,
    "start_time": "2023-03-13T19:08:49.922Z"
   },
   {
    "duration": 280,
    "start_time": "2023-03-13T19:30:51.440Z"
   },
   {
    "duration": 291,
    "start_time": "2023-03-13T19:34:07.797Z"
   },
   {
    "duration": 235,
    "start_time": "2023-03-13T19:34:59.018Z"
   },
   {
    "duration": 298,
    "start_time": "2023-03-13T19:35:07.020Z"
   },
   {
    "duration": 1567,
    "start_time": "2023-03-14T05:53:15.407Z"
   },
   {
    "duration": 18,
    "start_time": "2023-03-14T05:53:16.977Z"
   },
   {
    "duration": 5,
    "start_time": "2023-03-14T05:53:16.997Z"
   },
   {
    "duration": 18,
    "start_time": "2023-03-14T05:53:17.004Z"
   },
   {
    "duration": 9,
    "start_time": "2023-03-14T05:53:17.025Z"
   },
   {
    "duration": 41,
    "start_time": "2023-03-14T05:53:17.037Z"
   },
   {
    "duration": 21,
    "start_time": "2023-03-14T05:53:17.080Z"
   },
   {
    "duration": 17,
    "start_time": "2023-03-14T05:53:17.103Z"
   },
   {
    "duration": 9,
    "start_time": "2023-03-14T05:53:17.122Z"
   },
   {
    "duration": 57,
    "start_time": "2023-03-14T05:53:17.133Z"
   },
   {
    "duration": 19,
    "start_time": "2023-03-14T05:53:17.192Z"
   },
   {
    "duration": 21,
    "start_time": "2023-03-14T05:53:17.212Z"
   },
   {
    "duration": 232,
    "start_time": "2023-03-14T05:53:17.235Z"
   },
   {
    "duration": 229,
    "start_time": "2023-03-14T05:53:17.472Z"
   },
   {
    "duration": 18,
    "start_time": "2023-03-14T05:53:17.703Z"
   },
   {
    "duration": 8,
    "start_time": "2023-03-14T05:53:17.723Z"
   },
   {
    "duration": 2265,
    "start_time": "2023-03-14T05:53:17.734Z"
   },
   {
    "duration": 20,
    "start_time": "2023-03-14T05:53:20.002Z"
   },
   {
    "duration": 125,
    "start_time": "2023-03-14T05:53:24.223Z"
   },
   {
    "duration": 426,
    "start_time": "2023-03-14T05:53:42.614Z"
   },
   {
    "duration": 11,
    "start_time": "2023-03-14T05:56:52.179Z"
   },
   {
    "duration": 27,
    "start_time": "2023-03-14T05:57:06.121Z"
   },
   {
    "duration": 8,
    "start_time": "2023-03-14T05:57:09.103Z"
   },
   {
    "duration": 67,
    "start_time": "2023-03-14T05:57:13.069Z"
   },
   {
    "duration": 18,
    "start_time": "2023-03-14T05:57:13.138Z"
   },
   {
    "duration": 5,
    "start_time": "2023-03-14T05:57:13.158Z"
   },
   {
    "duration": 25,
    "start_time": "2023-03-14T05:57:13.165Z"
   },
   {
    "duration": 9,
    "start_time": "2023-03-14T05:57:13.192Z"
   },
   {
    "duration": 20,
    "start_time": "2023-03-14T05:57:13.203Z"
   },
   {
    "duration": 50,
    "start_time": "2023-03-14T05:57:13.225Z"
   },
   {
    "duration": 16,
    "start_time": "2023-03-14T05:57:13.277Z"
   },
   {
    "duration": 12,
    "start_time": "2023-03-14T05:57:13.295Z"
   },
   {
    "duration": 17,
    "start_time": "2023-03-14T05:57:13.309Z"
   },
   {
    "duration": 58,
    "start_time": "2023-03-14T05:57:13.328Z"
   },
   {
    "duration": 22,
    "start_time": "2023-03-14T05:57:13.388Z"
   },
   {
    "duration": 216,
    "start_time": "2023-03-14T05:57:13.412Z"
   },
   {
    "duration": 190,
    "start_time": "2023-03-14T05:57:13.631Z"
   },
   {
    "duration": 19,
    "start_time": "2023-03-14T05:57:13.823Z"
   },
   {
    "duration": 9,
    "start_time": "2023-03-14T05:57:13.844Z"
   },
   {
    "duration": 2330,
    "start_time": "2023-03-14T05:57:13.855Z"
   },
   {
    "duration": 21,
    "start_time": "2023-03-14T05:57:16.188Z"
   },
   {
    "duration": 8,
    "start_time": "2023-03-14T05:57:20.253Z"
   },
   {
    "duration": 30,
    "start_time": "2023-03-14T05:58:53.771Z"
   },
   {
    "duration": 16,
    "start_time": "2023-03-14T05:59:01.817Z"
   },
   {
    "duration": 14,
    "start_time": "2023-03-14T05:59:11.342Z"
   },
   {
    "duration": 13,
    "start_time": "2023-03-14T05:59:27.765Z"
   },
   {
    "duration": 20,
    "start_time": "2023-03-14T05:59:32.309Z"
   },
   {
    "duration": 8,
    "start_time": "2023-03-14T05:59:36.346Z"
   },
   {
    "duration": 15,
    "start_time": "2023-03-14T06:00:28.003Z"
   },
   {
    "duration": 7,
    "start_time": "2023-03-14T06:00:38.341Z"
   },
   {
    "duration": 26,
    "start_time": "2023-03-14T06:00:51.369Z"
   },
   {
    "duration": 19,
    "start_time": "2023-03-14T06:06:20.315Z"
   },
   {
    "duration": 8,
    "start_time": "2023-03-14T06:06:34.259Z"
   },
   {
    "duration": 8,
    "start_time": "2023-03-14T06:07:29.161Z"
   },
   {
    "duration": 20,
    "start_time": "2023-03-14T06:08:30.533Z"
   },
   {
    "duration": 29,
    "start_time": "2023-03-14T06:09:48.211Z"
   },
   {
    "duration": 7,
    "start_time": "2023-03-14T06:09:58.774Z"
   },
   {
    "duration": 364,
    "start_time": "2023-03-14T06:10:01.019Z"
   },
   {
    "duration": 226,
    "start_time": "2023-03-14T06:10:29.372Z"
   },
   {
    "duration": 894,
    "start_time": "2023-03-14T06:11:05.778Z"
   },
   {
    "duration": 52,
    "start_time": "2023-03-14T06:12:12.151Z"
   },
   {
    "duration": 375,
    "start_time": "2023-03-14T06:12:31.499Z"
   },
   {
    "duration": 13,
    "start_time": "2023-03-14T06:16:52.063Z"
   },
   {
    "duration": 27,
    "start_time": "2023-03-14T06:17:30.928Z"
   },
   {
    "duration": 3,
    "start_time": "2023-03-14T06:17:34.506Z"
   },
   {
    "duration": 11,
    "start_time": "2023-03-14T06:17:35.799Z"
   },
   {
    "duration": 11,
    "start_time": "2023-03-14T06:17:43.579Z"
   },
   {
    "duration": 48,
    "start_time": "2023-03-14T06:17:48.379Z"
   },
   {
    "duration": 14,
    "start_time": "2023-03-14T06:18:03.664Z"
   },
   {
    "duration": 238,
    "start_time": "2023-03-14T06:18:06.700Z"
   },
   {
    "duration": 25,
    "start_time": "2023-03-14T06:19:00.555Z"
   },
   {
    "duration": 14,
    "start_time": "2023-03-14T06:19:05.996Z"
   },
   {
    "duration": 253,
    "start_time": "2023-03-14T06:19:07.454Z"
   },
   {
    "duration": 15,
    "start_time": "2023-03-14T06:19:49.727Z"
   },
   {
    "duration": 302,
    "start_time": "2023-03-14T06:19:50.397Z"
   },
   {
    "duration": 256,
    "start_time": "2023-03-14T06:21:36.164Z"
   },
   {
    "duration": 242,
    "start_time": "2023-03-14T06:23:29.511Z"
   },
   {
    "duration": 243,
    "start_time": "2023-03-14T06:23:39.424Z"
   },
   {
    "duration": 20,
    "start_time": "2023-03-14T06:23:43.798Z"
   },
   {
    "duration": 357,
    "start_time": "2023-03-14T06:23:45.300Z"
   },
   {
    "duration": 382,
    "start_time": "2023-03-14T06:24:15.805Z"
   },
   {
    "duration": 222,
    "start_time": "2023-03-14T06:25:47.529Z"
   },
   {
    "duration": 242,
    "start_time": "2023-03-14T06:28:24.416Z"
   },
   {
    "duration": 22,
    "start_time": "2023-03-14T06:28:28.937Z"
   },
   {
    "duration": 339,
    "start_time": "2023-03-14T06:28:32.523Z"
   },
   {
    "duration": 348,
    "start_time": "2023-03-14T06:30:39.817Z"
   },
   {
    "duration": 315,
    "start_time": "2023-03-14T06:30:43.268Z"
   },
   {
    "duration": 58,
    "start_time": "2023-03-14T06:38:14.222Z"
   },
   {
    "duration": 10,
    "start_time": "2023-03-14T07:45:04.126Z"
   },
   {
    "duration": 10,
    "start_time": "2023-03-14T07:45:14.099Z"
   },
   {
    "duration": 5266,
    "start_time": "2023-03-14T07:45:23.844Z"
   },
   {
    "duration": 5103,
    "start_time": "2023-03-14T07:45:52.840Z"
   },
   {
    "duration": 53,
    "start_time": "2023-03-14T16:16:43.892Z"
   },
   {
    "duration": 1699,
    "start_time": "2023-03-14T16:16:54.539Z"
   },
   {
    "duration": 20,
    "start_time": "2023-03-14T16:16:56.241Z"
   },
   {
    "duration": 26,
    "start_time": "2023-03-14T16:16:56.263Z"
   },
   {
    "duration": 49,
    "start_time": "2023-03-14T16:16:56.304Z"
   },
   {
    "duration": 13,
    "start_time": "2023-03-14T16:16:56.355Z"
   },
   {
    "duration": 51,
    "start_time": "2023-03-14T16:16:56.371Z"
   },
   {
    "duration": 33,
    "start_time": "2023-03-14T16:16:56.424Z"
   },
   {
    "duration": 19,
    "start_time": "2023-03-14T16:16:56.459Z"
   },
   {
    "duration": 41,
    "start_time": "2023-03-14T16:16:56.479Z"
   },
   {
    "duration": 18,
    "start_time": "2023-03-14T16:16:56.523Z"
   },
   {
    "duration": 20,
    "start_time": "2023-03-14T16:16:56.543Z"
   },
   {
    "duration": 61,
    "start_time": "2023-03-14T16:16:56.564Z"
   },
   {
    "duration": 240,
    "start_time": "2023-03-14T16:16:56.627Z"
   },
   {
    "duration": 200,
    "start_time": "2023-03-14T16:16:56.869Z"
   },
   {
    "duration": 26,
    "start_time": "2023-03-14T16:16:57.083Z"
   },
   {
    "duration": 21,
    "start_time": "2023-03-14T16:16:57.111Z"
   },
   {
    "duration": 2654,
    "start_time": "2023-03-14T16:16:57.134Z"
   },
   {
    "duration": 32,
    "start_time": "2023-03-14T16:16:59.790Z"
   },
   {
    "duration": 451,
    "start_time": "2023-03-14T16:16:59.824Z"
   },
   {
    "duration": 382,
    "start_time": "2023-03-14T16:17:00.277Z"
   },
   {
    "duration": 50,
    "start_time": "2023-03-14T16:17:00.661Z"
   },
   {
    "duration": 4,
    "start_time": "2023-03-14T16:17:16.925Z"
   },
   {
    "duration": 3298,
    "start_time": "2023-03-14T16:17:21.539Z"
   },
   {
    "duration": 99,
    "start_time": "2023-03-14T16:18:18.798Z"
   },
   {
    "duration": 945,
    "start_time": "2023-03-14T16:18:43.691Z"
   },
   {
    "duration": 31,
    "start_time": "2023-03-14T16:19:52.843Z"
   },
   {
    "duration": 840,
    "start_time": "2023-03-14T16:20:19.496Z"
   },
   {
    "duration": 37,
    "start_time": "2023-03-14T16:20:28.584Z"
   },
   {
    "duration": 974,
    "start_time": "2023-03-14T16:20:49.957Z"
   },
   {
    "duration": 15,
    "start_time": "2023-03-14T16:22:10.905Z"
   },
   {
    "duration": 10,
    "start_time": "2023-03-14T16:26:09.219Z"
   },
   {
    "duration": 26,
    "start_time": "2023-03-14T16:26:09.363Z"
   },
   {
    "duration": 11,
    "start_time": "2023-03-14T16:26:15.748Z"
   },
   {
    "duration": 10,
    "start_time": "2023-03-14T16:26:23.359Z"
   },
   {
    "duration": 8,
    "start_time": "2023-03-14T16:26:29.923Z"
   },
   {
    "duration": 502,
    "start_time": "2023-03-14T16:27:12.248Z"
   },
   {
    "duration": 427,
    "start_time": "2023-03-14T16:27:40.976Z"
   },
   {
    "duration": 427,
    "start_time": "2023-03-14T16:29:29.638Z"
   },
   {
    "duration": 1516,
    "start_time": "2023-03-14T16:30:27.723Z"
   },
   {
    "duration": 456,
    "start_time": "2023-03-14T16:30:50.965Z"
   },
   {
    "duration": 795,
    "start_time": "2023-03-14T16:32:19.088Z"
   },
   {
    "duration": 671,
    "start_time": "2023-03-14T16:32:49.156Z"
   },
   {
    "duration": 440,
    "start_time": "2023-03-14T16:41:40.026Z"
   },
   {
    "duration": 639,
    "start_time": "2023-03-14T16:41:46.433Z"
   },
   {
    "duration": 77,
    "start_time": "2023-03-14T16:48:25.214Z"
   },
   {
    "duration": 24,
    "start_time": "2023-03-14T16:48:25.293Z"
   },
   {
    "duration": 6,
    "start_time": "2023-03-14T16:48:25.319Z"
   },
   {
    "duration": 22,
    "start_time": "2023-03-14T16:48:25.327Z"
   },
   {
    "duration": 11,
    "start_time": "2023-03-14T16:48:25.350Z"
   },
   {
    "duration": 21,
    "start_time": "2023-03-14T16:48:25.363Z"
   },
   {
    "duration": 24,
    "start_time": "2023-03-14T16:48:25.389Z"
   },
   {
    "duration": 15,
    "start_time": "2023-03-14T16:48:25.415Z"
   },
   {
    "duration": 10,
    "start_time": "2023-03-14T16:48:25.432Z"
   },
   {
    "duration": 33,
    "start_time": "2023-03-14T16:48:25.445Z"
   },
   {
    "duration": 20,
    "start_time": "2023-03-14T16:48:25.480Z"
   },
   {
    "duration": 22,
    "start_time": "2023-03-14T16:48:25.502Z"
   },
   {
    "duration": 207,
    "start_time": "2023-03-14T16:48:25.526Z"
   },
   {
    "duration": 187,
    "start_time": "2023-03-14T16:48:25.735Z"
   },
   {
    "duration": 17,
    "start_time": "2023-03-14T16:48:25.923Z"
   },
   {
    "duration": 6,
    "start_time": "2023-03-14T16:48:25.942Z"
   },
   {
    "duration": 2395,
    "start_time": "2023-03-14T16:48:25.950Z"
   },
   {
    "duration": 44,
    "start_time": "2023-03-14T16:48:28.347Z"
   },
   {
    "duration": 353,
    "start_time": "2023-03-14T16:48:28.394Z"
   },
   {
    "duration": 362,
    "start_time": "2023-03-14T16:48:28.749Z"
   },
   {
    "duration": 448,
    "start_time": "2023-03-14T16:48:29.113Z"
   },
   {
    "duration": 12,
    "start_time": "2023-03-14T16:48:49.548Z"
   },
   {
    "duration": 22,
    "start_time": "2023-03-14T16:48:57.599Z"
   },
   {
    "duration": 502,
    "start_time": "2023-03-14T16:49:12.149Z"
   },
   {
    "duration": 441,
    "start_time": "2023-03-14T16:49:31.146Z"
   },
   {
    "duration": 957,
    "start_time": "2023-03-14T16:50:33.644Z"
   },
   {
    "duration": 671,
    "start_time": "2023-03-14T17:18:13.849Z"
   },
   {
    "duration": 842,
    "start_time": "2023-03-14T17:19:21.218Z"
   },
   {
    "duration": 718,
    "start_time": "2023-03-14T17:21:11.242Z"
   },
   {
    "duration": 724,
    "start_time": "2023-03-14T17:22:07.994Z"
   },
   {
    "duration": 968,
    "start_time": "2023-03-14T17:37:42.621Z"
   },
   {
    "duration": 27,
    "start_time": "2023-03-14T17:53:41.067Z"
   },
   {
    "duration": 17,
    "start_time": "2023-03-14T17:54:37.926Z"
   },
   {
    "duration": 15,
    "start_time": "2023-03-14T17:54:41.495Z"
   },
   {
    "duration": 20,
    "start_time": "2023-03-14T17:54:49.507Z"
   },
   {
    "duration": 16,
    "start_time": "2023-03-14T17:54:56.417Z"
   },
   {
    "duration": 12,
    "start_time": "2023-03-14T18:03:11.595Z"
   },
   {
    "duration": 20,
    "start_time": "2023-03-14T18:03:26.355Z"
   },
   {
    "duration": 19,
    "start_time": "2023-03-14T18:21:31.752Z"
   },
   {
    "duration": 16,
    "start_time": "2023-03-14T18:22:18.948Z"
   },
   {
    "duration": 18,
    "start_time": "2023-03-14T18:22:52.200Z"
   },
   {
    "duration": 65,
    "start_time": "2023-03-14T18:29:43.369Z"
   },
   {
    "duration": 49,
    "start_time": "2023-03-14T18:33:25.313Z"
   },
   {
    "duration": 18,
    "start_time": "2023-03-14T18:33:31.338Z"
   },
   {
    "duration": 16,
    "start_time": "2023-03-14T18:34:10.801Z"
   },
   {
    "duration": 17,
    "start_time": "2023-03-14T18:34:54.834Z"
   },
   {
    "duration": 20,
    "start_time": "2023-03-14T18:35:13.777Z"
   },
   {
    "duration": 20,
    "start_time": "2023-03-14T18:41:59.063Z"
   },
   {
    "duration": 6,
    "start_time": "2023-03-14T18:42:36.763Z"
   },
   {
    "duration": 18,
    "start_time": "2023-03-14T18:49:05.732Z"
   },
   {
    "duration": 23,
    "start_time": "2023-03-14T18:50:04.388Z"
   },
   {
    "duration": 21,
    "start_time": "2023-03-14T18:50:36.072Z"
   },
   {
    "duration": 16,
    "start_time": "2023-03-14T18:59:33.890Z"
   },
   {
    "duration": 13,
    "start_time": "2023-03-14T19:40:55.077Z"
   },
   {
    "duration": 5,
    "start_time": "2023-03-14T19:41:03.918Z"
   },
   {
    "duration": 15,
    "start_time": "2023-03-14T19:44:31.458Z"
   },
   {
    "duration": 60,
    "start_time": "2023-03-14T19:45:06.482Z"
   },
   {
    "duration": 10,
    "start_time": "2023-03-14T19:45:10.500Z"
   },
   {
    "duration": 14,
    "start_time": "2023-03-14T19:45:47.493Z"
   },
   {
    "duration": 10,
    "start_time": "2023-03-14T19:46:09.259Z"
   },
   {
    "duration": 11,
    "start_time": "2023-03-14T19:47:28.414Z"
   },
   {
    "duration": 12,
    "start_time": "2023-03-14T19:47:56.282Z"
   },
   {
    "duration": 12,
    "start_time": "2023-03-14T19:48:01.761Z"
   },
   {
    "duration": 10,
    "start_time": "2023-03-14T19:49:38.640Z"
   },
   {
    "duration": 12,
    "start_time": "2023-03-14T19:54:44.899Z"
   },
   {
    "duration": 10,
    "start_time": "2023-03-14T19:55:19.071Z"
   },
   {
    "duration": 2,
    "start_time": "2023-03-14T19:57:28.087Z"
   },
   {
    "duration": 1167,
    "start_time": "2023-03-15T15:25:16.778Z"
   },
   {
    "duration": 14,
    "start_time": "2023-03-15T15:25:17.947Z"
   },
   {
    "duration": 4,
    "start_time": "2023-03-15T15:25:17.963Z"
   },
   {
    "duration": 13,
    "start_time": "2023-03-15T15:25:17.969Z"
   },
   {
    "duration": 5,
    "start_time": "2023-03-15T15:25:17.984Z"
   },
   {
    "duration": 6,
    "start_time": "2023-03-15T15:25:17.991Z"
   },
   {
    "duration": 49,
    "start_time": "2023-03-15T15:25:17.999Z"
   },
   {
    "duration": 12,
    "start_time": "2023-03-15T15:25:18.050Z"
   },
   {
    "duration": 7,
    "start_time": "2023-03-15T15:25:18.063Z"
   },
   {
    "duration": 12,
    "start_time": "2023-03-15T15:25:18.072Z"
   },
   {
    "duration": 17,
    "start_time": "2023-03-15T15:25:18.085Z"
   },
   {
    "duration": 52,
    "start_time": "2023-03-15T15:25:18.104Z"
   },
   {
    "duration": 173,
    "start_time": "2023-03-15T15:25:18.158Z"
   },
   {
    "duration": 150,
    "start_time": "2023-03-15T15:25:18.334Z"
   },
   {
    "duration": 15,
    "start_time": "2023-03-15T15:25:18.485Z"
   },
   {
    "duration": 4,
    "start_time": "2023-03-15T15:25:18.501Z"
   },
   {
    "duration": 1734,
    "start_time": "2023-03-15T15:25:18.506Z"
   },
   {
    "duration": 17,
    "start_time": "2023-03-15T15:25:20.242Z"
   },
   {
    "duration": 319,
    "start_time": "2023-03-15T15:25:20.260Z"
   },
   {
    "duration": 333,
    "start_time": "2023-03-15T15:25:20.580Z"
   },
   {
    "duration": 532,
    "start_time": "2023-03-15T15:25:20.914Z"
   },
   {
    "duration": 503,
    "start_time": "2023-03-15T15:25:21.448Z"
   },
   {
    "duration": 716,
    "start_time": "2023-03-15T15:25:21.953Z"
   },
   {
    "duration": 565,
    "start_time": "2023-03-15T15:25:22.671Z"
   },
   {
    "duration": 571,
    "start_time": "2023-03-15T15:25:23.238Z"
   },
   {
    "duration": 13,
    "start_time": "2023-03-15T15:25:23.811Z"
   },
   {
    "duration": 24,
    "start_time": "2023-03-15T15:25:23.826Z"
   },
   {
    "duration": 12,
    "start_time": "2023-03-15T15:25:23.851Z"
   },
   {
    "duration": 12,
    "start_time": "2023-03-15T15:25:23.864Z"
   },
   {
    "duration": 12,
    "start_time": "2023-03-15T15:25:23.878Z"
   },
   {
    "duration": 12,
    "start_time": "2023-03-15T15:25:23.892Z"
   },
   {
    "duration": 135,
    "start_time": "2023-03-15T15:25:23.905Z"
   },
   {
    "duration": 7,
    "start_time": "2023-03-15T15:25:24.041Z"
   },
   {
    "duration": 14,
    "start_time": "2023-03-15T15:25:24.050Z"
   },
   {
    "duration": 12,
    "start_time": "2023-03-15T15:25:24.065Z"
   },
   {
    "duration": 15,
    "start_time": "2023-03-15T15:25:24.078Z"
   },
   {
    "duration": 11,
    "start_time": "2023-03-15T15:25:24.095Z"
   },
   {
    "duration": 9,
    "start_time": "2023-03-15T15:25:24.108Z"
   },
   {
    "duration": 55,
    "start_time": "2023-03-15T16:56:57.663Z"
   },
   {
    "duration": 1485,
    "start_time": "2023-03-15T16:57:02.896Z"
   },
   {
    "duration": 17,
    "start_time": "2023-03-15T16:57:04.384Z"
   },
   {
    "duration": 5,
    "start_time": "2023-03-15T16:57:04.403Z"
   },
   {
    "duration": 23,
    "start_time": "2023-03-15T16:57:04.410Z"
   },
   {
    "duration": 11,
    "start_time": "2023-03-15T16:57:04.435Z"
   },
   {
    "duration": 8,
    "start_time": "2023-03-15T16:57:04.447Z"
   },
   {
    "duration": 16,
    "start_time": "2023-03-15T16:57:04.457Z"
   },
   {
    "duration": 14,
    "start_time": "2023-03-15T16:57:04.475Z"
   },
   {
    "duration": 8,
    "start_time": "2023-03-15T16:57:04.491Z"
   },
   {
    "duration": 48,
    "start_time": "2023-03-15T16:57:04.501Z"
   },
   {
    "duration": 15,
    "start_time": "2023-03-15T16:57:04.551Z"
   },
   {
    "duration": 16,
    "start_time": "2023-03-15T16:57:04.568Z"
   },
   {
    "duration": 234,
    "start_time": "2023-03-15T16:57:04.586Z"
   },
   {
    "duration": 13,
    "start_time": "2023-03-15T17:13:56.584Z"
   },
   {
    "duration": 43,
    "start_time": "2023-03-15T17:15:46.463Z"
   },
   {
    "duration": 5,
    "start_time": "2023-03-15T17:17:17.849Z"
   },
   {
    "duration": 67,
    "start_time": "2023-03-15T17:17:31.001Z"
   },
   {
    "duration": 14,
    "start_time": "2023-03-15T17:17:31.070Z"
   },
   {
    "duration": 58,
    "start_time": "2023-03-15T17:17:31.086Z"
   },
   {
    "duration": 15,
    "start_time": "2023-03-15T17:17:31.145Z"
   },
   {
    "duration": 9,
    "start_time": "2023-03-15T17:20:57.596Z"
   },
   {
    "duration": 517,
    "start_time": "2023-03-15T17:21:14.462Z"
   },
   {
    "duration": 671,
    "start_time": "2023-03-15T17:23:08.183Z"
   },
   {
    "duration": 165,
    "start_time": "2023-03-15T17:29:33.872Z"
   },
   {
    "duration": 466,
    "start_time": "2023-03-15T17:32:55.502Z"
   },
   {
    "duration": 405,
    "start_time": "2023-03-15T17:33:52.455Z"
   },
   {
    "duration": 170,
    "start_time": "2023-03-15T17:37:52.066Z"
   },
   {
    "duration": 223,
    "start_time": "2023-03-15T17:37:56.571Z"
   },
   {
    "duration": 173,
    "start_time": "2023-03-15T17:38:13.310Z"
   },
   {
    "duration": 153,
    "start_time": "2023-03-15T17:38:26.170Z"
   },
   {
    "duration": 149,
    "start_time": "2023-03-15T17:38:32.370Z"
   },
   {
    "duration": 268,
    "start_time": "2023-03-15T17:38:39.970Z"
   },
   {
    "duration": 140,
    "start_time": "2023-03-15T17:38:45.845Z"
   },
   {
    "duration": 160,
    "start_time": "2023-03-15T17:39:05.470Z"
   },
   {
    "duration": 143,
    "start_time": "2023-03-15T17:39:09.850Z"
   },
   {
    "duration": 140,
    "start_time": "2023-03-15T17:39:13.947Z"
   },
   {
    "duration": 1218,
    "start_time": "2023-03-15T17:40:21.026Z"
   },
   {
    "duration": 71,
    "start_time": "2023-03-15T17:40:29.455Z"
   },
   {
    "duration": 18,
    "start_time": "2023-03-15T17:40:29.528Z"
   },
   {
    "duration": 32,
    "start_time": "2023-03-15T17:40:29.548Z"
   },
   {
    "duration": 4,
    "start_time": "2023-03-15T17:40:29.582Z"
   },
   {
    "duration": 20,
    "start_time": "2023-03-15T17:40:29.588Z"
   },
   {
    "duration": 194,
    "start_time": "2023-03-15T17:40:29.610Z"
   },
   {
    "duration": 150,
    "start_time": "2023-03-15T17:40:29.806Z"
   },
   {
    "duration": 150,
    "start_time": "2023-03-15T17:40:29.957Z"
   },
   {
    "duration": 17,
    "start_time": "2023-03-15T17:40:30.109Z"
   },
   {
    "duration": 18,
    "start_time": "2023-03-15T17:40:30.128Z"
   },
   {
    "duration": 17,
    "start_time": "2023-03-15T17:40:30.148Z"
   },
   {
    "duration": 15,
    "start_time": "2023-03-15T17:40:30.167Z"
   },
   {
    "duration": 30,
    "start_time": "2023-03-15T17:40:30.184Z"
   },
   {
    "duration": 25,
    "start_time": "2023-03-15T17:40:30.217Z"
   },
   {
    "duration": 11,
    "start_time": "2023-03-15T17:40:30.244Z"
   },
   {
    "duration": 40,
    "start_time": "2023-03-15T17:40:30.257Z"
   },
   {
    "duration": 20,
    "start_time": "2023-03-15T17:40:30.299Z"
   },
   {
    "duration": 16,
    "start_time": "2023-03-15T17:40:32.346Z"
   },
   {
    "duration": 24,
    "start_time": "2023-03-15T17:40:33.010Z"
   },
   {
    "duration": 13,
    "start_time": "2023-03-15T17:42:25.343Z"
   },
   {
    "duration": 5,
    "start_time": "2023-03-15T17:46:34.631Z"
   },
   {
    "duration": 7,
    "start_time": "2023-03-15T17:50:10.135Z"
   },
   {
    "duration": 16,
    "start_time": "2023-03-15T17:50:38.984Z"
   },
   {
    "duration": 7,
    "start_time": "2023-03-15T17:50:46.445Z"
   },
   {
    "duration": 19,
    "start_time": "2023-03-15T17:50:47.643Z"
   },
   {
    "duration": 11,
    "start_time": "2023-03-15T17:51:50.652Z"
   },
   {
    "duration": 18,
    "start_time": "2023-03-15T17:51:53.329Z"
   },
   {
    "duration": 11,
    "start_time": "2023-03-15T17:52:01.860Z"
   },
   {
    "duration": 10,
    "start_time": "2023-03-15T17:52:42.365Z"
   },
   {
    "duration": 11,
    "start_time": "2023-03-15T17:53:25.270Z"
   },
   {
    "duration": 11,
    "start_time": "2023-03-15T17:53:32.143Z"
   },
   {
    "duration": 211,
    "start_time": "2023-03-15T17:54:32.108Z"
   },
   {
    "duration": 194,
    "start_time": "2023-03-15T17:54:38.147Z"
   },
   {
    "duration": 187,
    "start_time": "2023-03-15T17:55:38.706Z"
   },
   {
    "duration": 17,
    "start_time": "2023-03-15T17:59:16.769Z"
   },
   {
    "duration": 73,
    "start_time": "2023-03-15T17:59:23.404Z"
   },
   {
    "duration": 15,
    "start_time": "2023-03-15T17:59:23.479Z"
   },
   {
    "duration": 57,
    "start_time": "2023-03-15T17:59:23.496Z"
   },
   {
    "duration": 5,
    "start_time": "2023-03-15T17:59:23.556Z"
   },
   {
    "duration": 23,
    "start_time": "2023-03-15T17:59:23.563Z"
   },
   {
    "duration": 206,
    "start_time": "2023-03-15T17:59:23.588Z"
   },
   {
    "duration": 289,
    "start_time": "2023-03-15T17:59:23.796Z"
   },
   {
    "duration": 157,
    "start_time": "2023-03-15T17:59:24.087Z"
   },
   {
    "duration": 18,
    "start_time": "2023-03-15T17:59:24.246Z"
   },
   {
    "duration": 11,
    "start_time": "2023-03-15T17:59:24.267Z"
   },
   {
    "duration": 30,
    "start_time": "2023-03-15T17:59:24.279Z"
   },
   {
    "duration": 24,
    "start_time": "2023-03-15T17:59:24.311Z"
   },
   {
    "duration": 32,
    "start_time": "2023-03-15T17:59:24.337Z"
   },
   {
    "duration": 22,
    "start_time": "2023-03-15T17:59:24.371Z"
   },
   {
    "duration": 17,
    "start_time": "2023-03-15T17:59:24.395Z"
   },
   {
    "duration": 35,
    "start_time": "2023-03-15T17:59:24.414Z"
   },
   {
    "duration": 24,
    "start_time": "2023-03-15T17:59:24.452Z"
   },
   {
    "duration": 23,
    "start_time": "2023-03-15T17:59:24.478Z"
   },
   {
    "duration": 38,
    "start_time": "2023-03-15T17:59:24.504Z"
   },
   {
    "duration": 5,
    "start_time": "2023-03-15T17:59:24.544Z"
   },
   {
    "duration": 13,
    "start_time": "2023-03-15T17:59:24.551Z"
   },
   {
    "duration": 19,
    "start_time": "2023-03-15T17:59:24.566Z"
   },
   {
    "duration": 225,
    "start_time": "2023-03-15T17:59:24.586Z"
   },
   {
    "duration": 180,
    "start_time": "2023-03-15T17:59:24.812Z"
   },
   {
    "duration": 18,
    "start_time": "2023-03-15T17:59:24.994Z"
   },
   {
    "duration": 8,
    "start_time": "2023-03-15T17:59:25.014Z"
   },
   {
    "duration": 1950,
    "start_time": "2023-03-15T17:59:25.042Z"
   },
   {
    "duration": 18,
    "start_time": "2023-03-15T17:59:28.388Z"
   },
   {
    "duration": 346,
    "start_time": "2023-03-15T18:12:53.104Z"
   },
   {
    "duration": 399,
    "start_time": "2023-03-15T18:15:23.808Z"
   },
   {
    "duration": 264,
    "start_time": "2023-03-15T18:15:36.536Z"
   },
   {
    "duration": 247,
    "start_time": "2023-03-15T18:15:42.608Z"
   },
   {
    "duration": 634,
    "start_time": "2023-03-15T18:17:39.915Z"
   },
   {
    "duration": 596,
    "start_time": "2023-03-15T18:18:01.239Z"
   },
   {
    "duration": 823,
    "start_time": "2023-03-15T18:18:06.632Z"
   },
   {
    "duration": 733,
    "start_time": "2023-03-15T18:18:07.538Z"
   },
   {
    "duration": 623,
    "start_time": "2023-03-15T18:18:08.627Z"
   },
   {
    "duration": 19,
    "start_time": "2023-03-15T18:29:10.728Z"
   },
   {
    "duration": 879,
    "start_time": "2023-03-15T18:30:41.427Z"
   },
   {
    "duration": 662,
    "start_time": "2023-03-15T18:32:22.365Z"
   },
   {
    "duration": 15,
    "start_time": "2023-03-15T18:34:10.591Z"
   },
   {
    "duration": 15,
    "start_time": "2023-03-15T18:34:25.951Z"
   },
   {
    "duration": 19,
    "start_time": "2023-03-15T18:34:37.430Z"
   },
   {
    "duration": 16,
    "start_time": "2023-03-15T18:34:44.457Z"
   },
   {
    "duration": 17,
    "start_time": "2023-03-15T18:34:57.076Z"
   },
   {
    "duration": 14,
    "start_time": "2023-03-15T18:35:20.298Z"
   },
   {
    "duration": 17,
    "start_time": "2023-03-15T18:38:41.007Z"
   },
   {
    "duration": 67,
    "start_time": "2023-03-15T18:38:46.422Z"
   },
   {
    "duration": 13,
    "start_time": "2023-03-15T18:38:46.491Z"
   },
   {
    "duration": 47,
    "start_time": "2023-03-15T18:38:46.506Z"
   },
   {
    "duration": 4,
    "start_time": "2023-03-15T18:38:46.555Z"
   },
   {
    "duration": 9,
    "start_time": "2023-03-15T18:38:46.562Z"
   },
   {
    "duration": 197,
    "start_time": "2023-03-15T18:38:46.572Z"
   },
   {
    "duration": 156,
    "start_time": "2023-03-15T18:38:46.771Z"
   },
   {
    "duration": 154,
    "start_time": "2023-03-15T18:38:46.929Z"
   },
   {
    "duration": 16,
    "start_time": "2023-03-15T18:38:47.085Z"
   },
   {
    "duration": 5,
    "start_time": "2023-03-15T18:38:47.103Z"
   },
   {
    "duration": 7,
    "start_time": "2023-03-15T18:38:47.110Z"
   },
   {
    "duration": 39,
    "start_time": "2023-03-15T18:38:47.118Z"
   },
   {
    "duration": 18,
    "start_time": "2023-03-15T18:38:47.159Z"
   },
   {
    "duration": 14,
    "start_time": "2023-03-15T18:38:47.180Z"
   },
   {
    "duration": 8,
    "start_time": "2023-03-15T18:38:47.196Z"
   },
   {
    "duration": 46,
    "start_time": "2023-03-15T18:38:47.206Z"
   },
   {
    "duration": 14,
    "start_time": "2023-03-15T18:38:47.254Z"
   },
   {
    "duration": 22,
    "start_time": "2023-03-15T18:38:47.270Z"
   },
   {
    "duration": 14,
    "start_time": "2023-03-15T18:38:47.294Z"
   },
   {
    "duration": 40,
    "start_time": "2023-03-15T18:38:47.310Z"
   },
   {
    "duration": 41,
    "start_time": "2023-03-15T18:38:47.351Z"
   },
   {
    "duration": 22,
    "start_time": "2023-03-15T18:38:47.394Z"
   },
   {
    "duration": 196,
    "start_time": "2023-03-15T18:38:47.418Z"
   },
   {
    "duration": 181,
    "start_time": "2023-03-15T18:38:47.616Z"
   },
   {
    "duration": 19,
    "start_time": "2023-03-15T18:38:47.799Z"
   },
   {
    "duration": 30,
    "start_time": "2023-03-15T18:38:47.819Z"
   },
   {
    "duration": 1972,
    "start_time": "2023-03-15T18:38:47.855Z"
   },
   {
    "duration": 26,
    "start_time": "2023-03-15T18:38:49.829Z"
   },
   {
    "duration": 515,
    "start_time": "2023-03-15T18:38:49.857Z"
   },
   {
    "duration": 278,
    "start_time": "2023-03-15T18:38:50.374Z"
   },
   {
    "duration": 646,
    "start_time": "2023-03-15T18:38:50.654Z"
   },
   {
    "duration": 619,
    "start_time": "2023-03-15T18:38:51.302Z"
   },
   {
    "duration": 627,
    "start_time": "2023-03-15T18:38:51.924Z"
   },
   {
    "duration": 768,
    "start_time": "2023-03-15T18:38:52.553Z"
   },
   {
    "duration": 613,
    "start_time": "2023-03-15T18:38:53.323Z"
   },
   {
    "duration": 16,
    "start_time": "2023-03-15T18:38:53.943Z"
   },
   {
    "duration": 17,
    "start_time": "2023-03-15T18:38:56.181Z"
   },
   {
    "duration": 332,
    "start_time": "2023-03-15T18:41:42.663Z"
   },
   {
    "duration": 18,
    "start_time": "2023-03-15T18:41:51.265Z"
   },
   {
    "duration": 430,
    "start_time": "2023-03-15T18:41:55.463Z"
   },
   {
    "duration": 72,
    "start_time": "2023-03-15T18:44:07.091Z"
   },
   {
    "duration": 17,
    "start_time": "2023-03-15T18:44:07.166Z"
   },
   {
    "duration": 67,
    "start_time": "2023-03-15T18:44:07.185Z"
   },
   {
    "duration": 5,
    "start_time": "2023-03-15T18:44:07.254Z"
   },
   {
    "duration": 13,
    "start_time": "2023-03-15T18:44:07.261Z"
   },
   {
    "duration": 203,
    "start_time": "2023-03-15T18:44:07.276Z"
   },
   {
    "duration": 154,
    "start_time": "2023-03-15T18:44:07.481Z"
   },
   {
    "duration": 167,
    "start_time": "2023-03-15T18:44:07.644Z"
   },
   {
    "duration": 36,
    "start_time": "2023-03-15T18:44:07.813Z"
   },
   {
    "duration": 7,
    "start_time": "2023-03-15T18:44:07.853Z"
   },
   {
    "duration": 14,
    "start_time": "2023-03-15T18:44:07.861Z"
   },
   {
    "duration": 8,
    "start_time": "2023-03-15T18:44:07.877Z"
   },
   {
    "duration": 21,
    "start_time": "2023-03-15T18:44:07.887Z"
   },
   {
    "duration": 52,
    "start_time": "2023-03-15T18:44:07.912Z"
   },
   {
    "duration": 12,
    "start_time": "2023-03-15T18:44:07.965Z"
   },
   {
    "duration": 20,
    "start_time": "2023-03-15T18:44:07.979Z"
   },
   {
    "duration": 49,
    "start_time": "2023-03-15T18:44:08.001Z"
   },
   {
    "duration": 27,
    "start_time": "2023-03-15T18:44:08.052Z"
   },
   {
    "duration": 14,
    "start_time": "2023-03-15T18:44:08.081Z"
   },
   {
    "duration": 5,
    "start_time": "2023-03-15T18:44:08.097Z"
   },
   {
    "duration": 13,
    "start_time": "2023-03-15T18:44:08.104Z"
   },
   {
    "duration": 26,
    "start_time": "2023-03-15T18:44:08.146Z"
   },
   {
    "duration": 290,
    "start_time": "2023-03-15T18:44:08.174Z"
   },
   {
    "duration": 200,
    "start_time": "2023-03-15T18:44:08.467Z"
   },
   {
    "duration": 21,
    "start_time": "2023-03-15T18:44:08.670Z"
   },
   {
    "duration": 7,
    "start_time": "2023-03-15T18:44:08.694Z"
   },
   {
    "duration": 2296,
    "start_time": "2023-03-15T18:44:08.703Z"
   },
   {
    "duration": 19,
    "start_time": "2023-03-15T18:44:11.001Z"
   },
   {
    "duration": 341,
    "start_time": "2023-03-15T18:44:11.022Z"
   },
   {
    "duration": 261,
    "start_time": "2023-03-15T18:44:11.364Z"
   },
   {
    "duration": 710,
    "start_time": "2023-03-15T18:44:11.626Z"
   },
   {
    "duration": 650,
    "start_time": "2023-03-15T18:44:12.338Z"
   },
   {
    "duration": 903,
    "start_time": "2023-03-15T18:44:12.990Z"
   },
   {
    "duration": 618,
    "start_time": "2023-03-15T18:44:13.895Z"
   },
   {
    "duration": 646,
    "start_time": "2023-03-15T18:44:14.515Z"
   },
   {
    "duration": 13,
    "start_time": "2023-03-15T18:44:15.163Z"
   },
   {
    "duration": 308,
    "start_time": "2023-03-15T18:44:15.178Z"
   },
   {
    "duration": 13,
    "start_time": "2023-03-15T18:44:15.488Z"
   },
   {
    "duration": 12,
    "start_time": "2023-03-15T18:44:15.503Z"
   },
   {
    "duration": 39,
    "start_time": "2023-03-15T18:44:15.516Z"
   },
   {
    "duration": 13,
    "start_time": "2023-03-15T18:44:15.559Z"
   },
   {
    "duration": 12,
    "start_time": "2023-03-15T18:44:15.574Z"
   },
   {
    "duration": 5,
    "start_time": "2023-03-15T18:44:15.588Z"
   },
   {
    "duration": 13,
    "start_time": "2023-03-15T18:44:15.595Z"
   },
   {
    "duration": 47,
    "start_time": "2023-03-15T18:44:15.609Z"
   },
   {
    "duration": 13,
    "start_time": "2023-03-15T18:44:15.658Z"
   },
   {
    "duration": 9,
    "start_time": "2023-03-15T18:44:31.368Z"
   },
   {
    "duration": 10,
    "start_time": "2023-03-15T18:45:10.374Z"
   },
   {
    "duration": 9,
    "start_time": "2023-03-15T18:45:50.374Z"
   },
   {
    "duration": 74,
    "start_time": "2023-03-15T19:00:05.281Z"
   },
   {
    "duration": 73,
    "start_time": "2023-03-15T19:00:12.040Z"
   },
   {
    "duration": 72,
    "start_time": "2023-03-15T19:00:22.963Z"
   },
   {
    "duration": 18,
    "start_time": "2023-03-15T19:00:36.116Z"
   },
   {
    "duration": 18,
    "start_time": "2023-03-15T19:01:42.212Z"
   },
   {
    "duration": 17,
    "start_time": "2023-03-15T19:02:15.256Z"
   },
   {
    "duration": 176,
    "start_time": "2023-03-15T19:06:40.070Z"
   },
   {
    "duration": 185,
    "start_time": "2023-03-15T19:06:49.173Z"
   },
   {
    "duration": 21,
    "start_time": "2023-03-15T19:08:18.569Z"
   },
   {
    "duration": 22,
    "start_time": "2023-03-15T19:08:47.006Z"
   },
   {
    "duration": 17,
    "start_time": "2023-03-15T19:08:55.553Z"
   },
   {
    "duration": 62,
    "start_time": "2023-03-15T19:09:04.354Z"
   },
   {
    "duration": 19,
    "start_time": "2023-03-15T19:09:04.418Z"
   },
   {
    "duration": 35,
    "start_time": "2023-03-15T19:09:04.439Z"
   },
   {
    "duration": 5,
    "start_time": "2023-03-15T19:09:04.476Z"
   },
   {
    "duration": 11,
    "start_time": "2023-03-15T19:09:04.483Z"
   },
   {
    "duration": 219,
    "start_time": "2023-03-15T19:09:04.496Z"
   },
   {
    "duration": 160,
    "start_time": "2023-03-15T19:09:04.717Z"
   },
   {
    "duration": 163,
    "start_time": "2023-03-15T19:09:04.880Z"
   },
   {
    "duration": 23,
    "start_time": "2023-03-15T19:09:05.045Z"
   },
   {
    "duration": 7,
    "start_time": "2023-03-15T19:09:05.071Z"
   },
   {
    "duration": 15,
    "start_time": "2023-03-15T19:09:05.080Z"
   },
   {
    "duration": 9,
    "start_time": "2023-03-15T19:09:05.097Z"
   },
   {
    "duration": 53,
    "start_time": "2023-03-15T19:09:05.108Z"
   },
   {
    "duration": 21,
    "start_time": "2023-03-15T19:09:05.166Z"
   },
   {
    "duration": 10,
    "start_time": "2023-03-15T19:09:05.190Z"
   },
   {
    "duration": 40,
    "start_time": "2023-03-15T19:09:05.202Z"
   },
   {
    "duration": 15,
    "start_time": "2023-03-15T19:09:05.244Z"
   },
   {
    "duration": 29,
    "start_time": "2023-03-15T19:09:05.261Z"
   },
   {
    "duration": 26,
    "start_time": "2023-03-15T19:09:05.291Z"
   },
   {
    "duration": 6,
    "start_time": "2023-03-15T19:09:05.318Z"
   },
   {
    "duration": 32,
    "start_time": "2023-03-15T19:09:05.326Z"
   },
   {
    "duration": 18,
    "start_time": "2023-03-15T19:09:05.360Z"
   },
   {
    "duration": 207,
    "start_time": "2023-03-15T19:09:05.380Z"
   },
   {
    "duration": 171,
    "start_time": "2023-03-15T19:09:05.589Z"
   },
   {
    "duration": 24,
    "start_time": "2023-03-15T19:09:05.762Z"
   },
   {
    "duration": 7,
    "start_time": "2023-03-15T19:09:05.790Z"
   },
   {
    "duration": 2350,
    "start_time": "2023-03-15T19:09:05.799Z"
   },
   {
    "duration": 21,
    "start_time": "2023-03-15T19:09:08.151Z"
   },
   {
    "duration": 357,
    "start_time": "2023-03-15T19:09:08.174Z"
   },
   {
    "duration": 273,
    "start_time": "2023-03-15T19:09:08.533Z"
   },
   {
    "duration": 648,
    "start_time": "2023-03-15T19:09:08.808Z"
   },
   {
    "duration": 620,
    "start_time": "2023-03-15T19:09:09.458Z"
   },
   {
    "duration": 888,
    "start_time": "2023-03-15T19:09:10.080Z"
   },
   {
    "duration": 621,
    "start_time": "2023-03-15T19:09:10.970Z"
   },
   {
    "duration": 723,
    "start_time": "2023-03-15T19:09:11.593Z"
   },
   {
    "duration": 24,
    "start_time": "2023-03-15T19:09:12.318Z"
   },
   {
    "duration": 18,
    "start_time": "2023-03-15T19:09:12.345Z"
   },
   {
    "duration": 21,
    "start_time": "2023-03-15T19:09:14.416Z"
   },
   {
    "duration": 19,
    "start_time": "2023-03-15T19:09:15.784Z"
   },
   {
    "duration": 219,
    "start_time": "2023-03-15T19:09:28.959Z"
   },
   {
    "duration": 408,
    "start_time": "2023-03-15T19:09:35.423Z"
   },
   {
    "duration": 556,
    "start_time": "2023-03-15T19:09:48.706Z"
   },
   {
    "duration": 550,
    "start_time": "2023-03-15T19:10:19.753Z"
   },
   {
    "duration": 587,
    "start_time": "2023-03-15T19:13:27.954Z"
   },
   {
    "duration": 429,
    "start_time": "2023-03-15T19:16:01.354Z"
   },
   {
    "duration": 1281,
    "start_time": "2023-03-15T19:30:05.622Z"
   },
   {
    "duration": 1022,
    "start_time": "2023-03-15T19:30:33.319Z"
   },
   {
    "duration": 1437,
    "start_time": "2023-03-17T04:21:43.676Z"
   },
   {
    "duration": 14,
    "start_time": "2023-03-17T04:21:45.115Z"
   },
   {
    "duration": 33,
    "start_time": "2023-03-17T04:21:45.131Z"
   },
   {
    "duration": 5,
    "start_time": "2023-03-17T04:21:45.166Z"
   },
   {
    "duration": 18,
    "start_time": "2023-03-17T04:21:45.173Z"
   },
   {
    "duration": 860,
    "start_time": "2023-03-17T04:21:45.193Z"
   },
   {
    "duration": 29,
    "start_time": "2023-03-17T04:21:46.055Z"
   },
   {
    "duration": 5,
    "start_time": "2023-03-17T04:21:46.086Z"
   },
   {
    "duration": 12,
    "start_time": "2023-03-17T04:21:46.093Z"
   },
   {
    "duration": 8,
    "start_time": "2023-03-17T04:21:46.106Z"
   },
   {
    "duration": 26,
    "start_time": "2023-03-17T04:21:46.115Z"
   },
   {
    "duration": 15,
    "start_time": "2023-03-17T04:21:46.142Z"
   },
   {
    "duration": 28,
    "start_time": "2023-03-17T04:21:46.158Z"
   },
   {
    "duration": 20,
    "start_time": "2023-03-17T04:21:46.189Z"
   },
   {
    "duration": 15,
    "start_time": "2023-03-17T04:21:46.210Z"
   },
   {
    "duration": 21,
    "start_time": "2023-03-17T04:21:46.227Z"
   },
   {
    "duration": 37,
    "start_time": "2023-03-17T04:21:46.249Z"
   },
   {
    "duration": 9,
    "start_time": "2023-03-17T04:21:46.287Z"
   },
   {
    "duration": 12,
    "start_time": "2023-03-17T04:21:46.298Z"
   },
   {
    "duration": 17,
    "start_time": "2023-03-17T04:21:46.313Z"
   },
   {
    "duration": 225,
    "start_time": "2023-03-17T04:21:46.333Z"
   },
   {
    "duration": 212,
    "start_time": "2023-03-17T04:21:46.560Z"
   },
   {
    "duration": 171,
    "start_time": "2023-03-17T04:21:46.774Z"
   },
   {
    "duration": 18,
    "start_time": "2023-03-17T04:21:46.947Z"
   },
   {
    "duration": 6,
    "start_time": "2023-03-17T04:21:46.980Z"
   },
   {
    "duration": 1893,
    "start_time": "2023-03-17T04:21:46.988Z"
   },
   {
    "duration": 18,
    "start_time": "2023-03-17T04:21:48.882Z"
   },
   {
    "duration": 321,
    "start_time": "2023-03-17T04:21:48.902Z"
   },
   {
    "duration": 232,
    "start_time": "2023-03-17T04:21:49.225Z"
   },
   {
    "duration": 599,
    "start_time": "2023-03-17T04:21:49.459Z"
   },
   {
    "duration": 729,
    "start_time": "2023-03-17T04:21:50.060Z"
   },
   {
    "duration": 602,
    "start_time": "2023-03-17T04:21:50.791Z"
   },
   {
    "duration": 706,
    "start_time": "2023-03-17T04:21:51.395Z"
   },
   {
    "duration": 696,
    "start_time": "2023-03-17T04:21:52.103Z"
   },
   {
    "duration": 15,
    "start_time": "2023-03-17T04:21:52.800Z"
   },
   {
    "duration": 551,
    "start_time": "2023-03-17T04:21:52.817Z"
   },
   {
    "duration": 600,
    "start_time": "2023-03-17T04:21:53.369Z"
   },
   {
    "duration": 12,
    "start_time": "2023-03-17T04:21:53.971Z"
   },
   {
    "duration": 455,
    "start_time": "2023-03-17T04:21:53.985Z"
   },
   {
    "duration": 9,
    "start_time": "2023-03-17T04:21:54.442Z"
   },
   {
    "duration": 28,
    "start_time": "2023-03-17T04:21:54.456Z"
   },
   {
    "duration": 312,
    "start_time": "2023-03-17T04:21:56.641Z"
   },
   {
    "duration": 185,
    "start_time": "2023-03-17T04:22:00.725Z"
   },
   {
    "duration": 210,
    "start_time": "2023-03-17T04:22:04.743Z"
   }
  ],
  "kernelspec": {
   "display_name": "Python 3 (ipykernel)",
   "language": "python",
   "name": "python3"
  },
  "language_info": {
   "codemirror_mode": {
    "name": "ipython",
    "version": 3
   },
   "file_extension": ".py",
   "mimetype": "text/x-python",
   "name": "python",
   "nbconvert_exporter": "python",
   "pygments_lexer": "ipython3",
   "version": "3.9.5"
  },
  "toc": {
   "base_numbering": 1,
   "nav_menu": {},
   "number_sections": true,
   "sideBar": true,
   "skip_h1_title": true,
   "title_cell": "Table of Contents",
   "title_sidebar": "Contents",
   "toc_cell": false,
   "toc_position": {},
   "toc_section_display": true,
   "toc_window_display": false
  }
 },
 "nbformat": 4,
 "nbformat_minor": 2
}
